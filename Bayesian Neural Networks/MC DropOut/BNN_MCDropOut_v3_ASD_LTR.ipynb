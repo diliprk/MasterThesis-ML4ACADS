{
 "cells": [
  {
   "cell_type": "markdown",
   "metadata": {},
   "source": [
    "## Version Description:\n",
    " * In this version - we predict just the __MTR Hole Diameter__ (`R600_HD`)in TZ6 using [Bayesian Neural Network with MC DropOut](https://github.com/valyome/Neural-Networks-with-MC-Dropout/). \n",
    " * Artificial data points synthesised from FDDN are used to train the ML model. \n",
    " * The input features are `TZ6_Flow`,`MIXP`,`AMBP`,`AMBT` and the TZ6 CLR Restrictors."
   ]
  },
  {
   "cell_type": "code",
   "execution_count": 1,
   "metadata": {},
   "outputs": [
    {
     "data": {
      "text/html": [
       "<style>.container { width:95% !important; }</style>"
      ],
      "text/plain": [
       "<IPython.core.display.HTML object>"
      ]
     },
     "metadata": {},
     "output_type": "display_data"
    }
   ],
   "source": [
    "from IPython.core.display import display, HTML\n",
    "display(HTML(\"<style>.container { width:95% !important; }</style>\"))"
   ]
  },
  {
   "cell_type": "code",
   "execution_count": 2,
   "metadata": {},
   "outputs": [],
   "source": [
    "import pandas as pd\n",
    "import numpy as np\n",
    "\n",
    "#Set some numpy print options for displaying numpy arrays to fit maximum width of cell\n",
    "np.set_printoptions(precision=3, edgeitems=30, linewidth=1000,formatter=dict(float=lambda x: \"%.6g\" % x)) \n",
    "from functools import reduce\n",
    "\n",
    "from sklearn.preprocessing import MinMaxScaler\n",
    "from sklearn.metrics import mean_squared_error, r2_score"
   ]
  },
  {
   "cell_type": "code",
   "execution_count": 3,
   "metadata": {},
   "outputs": [],
   "source": [
    "import matplotlib.pyplot as plt\n",
    "%matplotlib inline\n",
    "%config InlineBackend.figure_format = 'svg' \n",
    "plt.style.use('seaborn-whitegrid')"
   ]
  },
  {
   "cell_type": "markdown",
   "metadata": {},
   "source": [
    "### Loading Data"
   ]
  },
  {
   "cell_type": "code",
   "execution_count": 4,
   "metadata": {},
   "outputs": [],
   "source": [
    "input_features = ['TZ_Flow','MIXP','AMBP','AMBT','R610_HS1','R611_HS1','R612_HS1','R613_HS1']\n",
    "usecols = ['HoV']+input_features+['R600_HD']"
   ]
  },
  {
   "cell_type": "code",
   "execution_count": 5,
   "metadata": {},
   "outputs": [
    {
     "data": {
      "text/html": [
       "<div>\n",
       "<style scoped>\n",
       "    .dataframe tbody tr th:only-of-type {\n",
       "        vertical-align: middle;\n",
       "    }\n",
       "\n",
       "    .dataframe tbody tr th {\n",
       "        vertical-align: top;\n",
       "    }\n",
       "\n",
       "    .dataframe thead th {\n",
       "        text-align: right;\n",
       "    }\n",
       "</style>\n",
       "<table border=\"1\" class=\"dataframe\">\n",
       "  <thead>\n",
       "    <tr style=\"text-align: right;\">\n",
       "      <th></th>\n",
       "      <th>HoV</th>\n",
       "      <th>TZ_Flow</th>\n",
       "      <th>MIXP</th>\n",
       "      <th>AMBP</th>\n",
       "      <th>AMBT</th>\n",
       "      <th>R610_HS1</th>\n",
       "      <th>R611_HS1</th>\n",
       "      <th>R612_HS1</th>\n",
       "      <th>R613_HS1</th>\n",
       "      <th>R600_HD</th>\n",
       "    </tr>\n",
       "  </thead>\n",
       "  <tbody>\n",
       "    <tr>\n",
       "      <th>0</th>\n",
       "      <td>A1</td>\n",
       "      <td>887.134249</td>\n",
       "      <td>2600.0000</td>\n",
       "      <td>101401.6000</td>\n",
       "      <td>299.386667</td>\n",
       "      <td>131</td>\n",
       "      <td>136</td>\n",
       "      <td>120</td>\n",
       "      <td>120</td>\n",
       "      <td>148</td>\n",
       "    </tr>\n",
       "    <tr>\n",
       "      <th>1</th>\n",
       "      <td>A2</td>\n",
       "      <td>886.764050</td>\n",
       "      <td>2600.0000</td>\n",
       "      <td>101576.3000</td>\n",
       "      <td>298.448667</td>\n",
       "      <td>131</td>\n",
       "      <td>136</td>\n",
       "      <td>120</td>\n",
       "      <td>120</td>\n",
       "      <td>149</td>\n",
       "    </tr>\n",
       "    <tr>\n",
       "      <th>2</th>\n",
       "      <td>A3</td>\n",
       "      <td>926.224856</td>\n",
       "      <td>2606.1928</td>\n",
       "      <td>102136.6035</td>\n",
       "      <td>297.109024</td>\n",
       "      <td>131</td>\n",
       "      <td>136</td>\n",
       "      <td>114</td>\n",
       "      <td>120</td>\n",
       "      <td>152</td>\n",
       "    </tr>\n",
       "    <tr>\n",
       "      <th>3</th>\n",
       "      <td>A4</td>\n",
       "      <td>915.139474</td>\n",
       "      <td>2599.8998</td>\n",
       "      <td>103195.6642</td>\n",
       "      <td>295.060027</td>\n",
       "      <td>131</td>\n",
       "      <td>136</td>\n",
       "      <td>120</td>\n",
       "      <td>120</td>\n",
       "      <td>154</td>\n",
       "    </tr>\n",
       "    <tr>\n",
       "      <th>4</th>\n",
       "      <td>A5</td>\n",
       "      <td>891.635528</td>\n",
       "      <td>2600.0000</td>\n",
       "      <td>102856.2000</td>\n",
       "      <td>294.755833</td>\n",
       "      <td>145</td>\n",
       "      <td>153</td>\n",
       "      <td>130</td>\n",
       "      <td>130</td>\n",
       "      <td>148</td>\n",
       "    </tr>\n",
       "  </tbody>\n",
       "</table>\n",
       "</div>"
      ],
      "text/plain": [
       "  HoV     TZ_Flow       MIXP         AMBP        AMBT  R610_HS1  R611_HS1  \\\n",
       "0  A1  887.134249  2600.0000  101401.6000  299.386667       131       136   \n",
       "1  A2  886.764050  2600.0000  101576.3000  298.448667       131       136   \n",
       "2  A3  926.224856  2606.1928  102136.6035  297.109024       131       136   \n",
       "3  A4  915.139474  2599.8998  103195.6642  295.060027       131       136   \n",
       "4  A5  891.635528  2600.0000  102856.2000  294.755833       145       153   \n",
       "\n",
       "   R612_HS1  R613_HS1  R600_HD  \n",
       "0       120       120      148  \n",
       "1       120       120      149  \n",
       "2       114       120      152  \n",
       "3       120       120      154  \n",
       "4       130       130      148  "
      ]
     },
     "execution_count": 5,
     "metadata": {},
     "output_type": "execute_result"
    }
   ],
   "source": [
    "LTR_df = pd.read_csv('../../data/LTR_dataset.csv', usecols = usecols)[usecols]\n",
    "LTR_df.head()"
   ]
  },
  {
   "cell_type": "code",
   "execution_count": 6,
   "metadata": {},
   "outputs": [
    {
     "data": {
      "text/html": [
       "<div>\n",
       "<style scoped>\n",
       "    .dataframe tbody tr th:only-of-type {\n",
       "        vertical-align: middle;\n",
       "    }\n",
       "\n",
       "    .dataframe tbody tr th {\n",
       "        vertical-align: top;\n",
       "    }\n",
       "\n",
       "    .dataframe thead th {\n",
       "        text-align: right;\n",
       "    }\n",
       "</style>\n",
       "<table border=\"1\" class=\"dataframe\">\n",
       "  <thead>\n",
       "    <tr style=\"text-align: right;\">\n",
       "      <th></th>\n",
       "      <th>HoV</th>\n",
       "      <th>TZ_Flow</th>\n",
       "      <th>MIXP</th>\n",
       "      <th>AMBP</th>\n",
       "      <th>AMBT</th>\n",
       "      <th>R610_HS1</th>\n",
       "      <th>R611_HS1</th>\n",
       "      <th>R612_HS1</th>\n",
       "      <th>R613_HS1</th>\n",
       "      <th>R600_HD</th>\n",
       "    </tr>\n",
       "  </thead>\n",
       "  <tbody>\n",
       "    <tr>\n",
       "      <th>0</th>\n",
       "      <td>ASD0</td>\n",
       "      <td>887.843325</td>\n",
       "      <td>2696.2864</td>\n",
       "      <td>101444.530</td>\n",
       "      <td>299.057324</td>\n",
       "      <td>131</td>\n",
       "      <td>136</td>\n",
       "      <td>120</td>\n",
       "      <td>120</td>\n",
       "      <td>148</td>\n",
       "    </tr>\n",
       "    <tr>\n",
       "      <th>1</th>\n",
       "      <td>ASD1</td>\n",
       "      <td>887.477250</td>\n",
       "      <td>2615.7850</td>\n",
       "      <td>101391.560</td>\n",
       "      <td>298.509995</td>\n",
       "      <td>131</td>\n",
       "      <td>136</td>\n",
       "      <td>120</td>\n",
       "      <td>120</td>\n",
       "      <td>148</td>\n",
       "    </tr>\n",
       "    <tr>\n",
       "      <th>2</th>\n",
       "      <td>ASD2</td>\n",
       "      <td>887.476875</td>\n",
       "      <td>2648.8844</td>\n",
       "      <td>101513.720</td>\n",
       "      <td>298.961758</td>\n",
       "      <td>131</td>\n",
       "      <td>136</td>\n",
       "      <td>120</td>\n",
       "      <td>120</td>\n",
       "      <td>148</td>\n",
       "    </tr>\n",
       "    <tr>\n",
       "      <th>3</th>\n",
       "      <td>ASD3</td>\n",
       "      <td>886.590375</td>\n",
       "      <td>2592.1955</td>\n",
       "      <td>101393.790</td>\n",
       "      <td>298.661206</td>\n",
       "      <td>131</td>\n",
       "      <td>136</td>\n",
       "      <td>120</td>\n",
       "      <td>120</td>\n",
       "      <td>148</td>\n",
       "    </tr>\n",
       "    <tr>\n",
       "      <th>4</th>\n",
       "      <td>ASD4</td>\n",
       "      <td>888.331625</td>\n",
       "      <td>2654.4529</td>\n",
       "      <td>101460.547</td>\n",
       "      <td>299.539189</td>\n",
       "      <td>131</td>\n",
       "      <td>136</td>\n",
       "      <td>120</td>\n",
       "      <td>120</td>\n",
       "      <td>148</td>\n",
       "    </tr>\n",
       "  </tbody>\n",
       "</table>\n",
       "</div>"
      ],
      "text/plain": [
       "    HoV     TZ_Flow       MIXP        AMBP        AMBT  R610_HS1  R611_HS1  \\\n",
       "0  ASD0  887.843325  2696.2864  101444.530  299.057324       131       136   \n",
       "1  ASD1  887.477250  2615.7850  101391.560  298.509995       131       136   \n",
       "2  ASD2  887.476875  2648.8844  101513.720  298.961758       131       136   \n",
       "3  ASD3  886.590375  2592.1955  101393.790  298.661206       131       136   \n",
       "4  ASD4  888.331625  2654.4529  101460.547  299.539189       131       136   \n",
       "\n",
       "   R612_HS1  R613_HS1  R600_HD  \n",
       "0       120       120      148  \n",
       "1       120       120      148  \n",
       "2       120       120      148  \n",
       "3       120       120      148  \n",
       "4       120       120      148  "
      ]
     },
     "execution_count": 6,
     "metadata": {},
     "output_type": "execute_result"
    }
   ],
   "source": [
    "ASD_df = pd.read_csv('../../data/ASD_dataset.csv', usecols = usecols)[usecols]\n",
    "ASD_df.head()"
   ]
  },
  {
   "cell_type": "code",
   "execution_count": 7,
   "metadata": {},
   "outputs": [
    {
     "data": {
      "text/plain": [
       "154    250\n",
       "160    200\n",
       "155    200\n",
       "153    200\n",
       "152    200\n",
       "151    200\n",
       "149    200\n",
       "146    200\n",
       "148    195\n",
       "150    150\n",
       "Name: R600_HD, dtype: int64"
      ]
     },
     "execution_count": 7,
     "metadata": {},
     "output_type": "execute_result"
    }
   ],
   "source": [
    "ASD_df['R600_HD'].value_counts()"
   ]
  },
  {
   "cell_type": "markdown",
   "metadata": {},
   "source": [
    "### Train BNN with FDDN (Simulation) data:"
   ]
  },
  {
   "cell_type": "code",
   "execution_count": 8,
   "metadata": {},
   "outputs": [
    {
     "name": "stdout",
     "output_type": "stream",
     "text": [
      "Number of training samples: 1995\n",
      "\n",
      "Number of testing samples: 34\n"
     ]
    }
   ],
   "source": [
    "# Extract pandas dataframe values to numpy array\n",
    "train_data = ASD_df[input_features+['R600_HD']].astype(np.float).values\n",
    "test_data  = LTR_df[input_features+['R600_HD']].astype(np.float).values\n",
    "print(\"Number of training samples:\", len(train_data))\n",
    "print(\"\\nNumber of testing samples:\", len(test_data))\n",
    "\n",
    "# Separate arrays into input and output components (predictors and response variables)\n",
    "x_train, y_train  = train_data[:,:-1] ,train_data[:,-1:]\n",
    "x_test, y_test = test_data[:,:-1] ,test_data[:,-1:]"
   ]
  },
  {
   "cell_type": "code",
   "execution_count": 9,
   "metadata": {},
   "outputs": [
    {
     "name": "stdout",
     "output_type": "stream",
     "text": [
      "X_train Shape: (1995, 8) Y_Train Shape: (1995, 1)\n",
      "X_test Shape: (34, 8) Y_Test Shape: (34, 1)\n"
     ]
    }
   ],
   "source": [
    "print('X_train Shape:',x_train.shape,'Y_Train Shape:', y_train.shape)\n",
    "print('X_test Shape:',x_test.shape,'Y_Test Shape:', y_test.shape)"
   ]
  },
  {
   "cell_type": "markdown",
   "metadata": {},
   "source": [
    "### Bayesian Neural Network using MC DropOut"
   ]
  },
  {
   "cell_type": "code",
   "execution_count": 10,
   "metadata": {},
   "outputs": [
    {
     "name": "stderr",
     "output_type": "stream",
     "text": [
      "Using TensorFlow backend.\n"
     ]
    }
   ],
   "source": [
    "import BNN_MonteCarlo_Dropout"
   ]
  },
  {
   "cell_type": "code",
   "execution_count": 11,
   "metadata": {},
   "outputs": [],
   "source": [
    "# Train the BNN\n",
    "bnn = BNN_MonteCarlo_Dropout.net(x_train, y_train, n_epochs=2000, n_hidden=[24,12], normalize=True)"
   ]
  },
  {
   "cell_type": "code",
   "execution_count": 12,
   "metadata": {},
   "outputs": [
    {
     "name": "stdout",
     "output_type": "stream",
     "text": [
      "34/34 [==============================] - 0s 2ms/step\n",
      "Standard rmse 0.506013\n",
      "MC rmse 0.478072\n",
      "test_ll -5.090436\n"
     ]
    }
   ],
   "source": [
    "# Test on ~25% of the data.\n",
    "rmse, Yt_hat, MC_pred, predictive_variance = bnn.predict(x_test, y_test)"
   ]
  },
  {
   "cell_type": "code",
   "execution_count": 13,
   "metadata": {},
   "outputs": [
    {
     "name": "stdout",
     "output_type": "stream",
     "text": [
      "Shape of Predictions: (1000, 1, 34, 1)\n"
     ]
    }
   ],
   "source": [
    "print('Shape of Predictions:',Yt_hat.shape)"
   ]
  },
  {
   "cell_type": "code",
   "execution_count": 14,
   "metadata": {},
   "outputs": [
    {
     "data": {
      "text/plain": [
       "34"
      ]
     },
     "execution_count": 14,
     "metadata": {},
     "output_type": "execute_result"
    }
   ],
   "source": [
    "Yt_hat.shape[2]"
   ]
  },
  {
   "cell_type": "code",
   "execution_count": 15,
   "metadata": {},
   "outputs": [],
   "source": [
    "y_preds = np.zeros((Yt_hat.shape[2], Yt_hat.shape[0])) # empty array to be populated\n",
    "y_means = [] # save mean for each predicted point\n",
    "y_std=[] # save standard dev for each predicted\n",
    "y_mins = [] \n",
    "y_maxes = []\n",
    "\n",
    "for j in range(Yt_hat.shape[2]):\n",
    "    for i in range(Yt_hat.shape[0]):\n",
    "        y_preds[j][i] = Yt_hat[i][0][j] # convert the predictions into a more readable format\n",
    "    y_means.append(y_preds[j].mean()) # get the mean for each prediction\n",
    "    y_std.append(y_preds[j].std()) # get the standard deviation\n",
    "    y_mins.append(np.amin(y_preds[j],axis = 0)) # get the min value in the array\n",
    "    y_maxes.append(np.amax(y_preds[j],axis = 0)) # get the min value in the array"
   ]
  },
  {
   "cell_type": "code",
   "execution_count": 16,
   "metadata": {},
   "outputs": [
    {
     "name": "stdout",
     "output_type": "stream",
     "text": [
      "Length of Y_Predictions: 34\n",
      "Nr. of Predictions per test point: 1000\n"
     ]
    }
   ],
   "source": [
    "print('Length of Y_Predictions:',len(y_preds))\n",
    "print('Nr. of Predictions per test point:',len(y_preds[0]))"
   ]
  },
  {
   "cell_type": "code",
   "execution_count": 17,
   "metadata": {},
   "outputs": [
    {
     "name": "stdout",
     "output_type": "stream",
     "text": [
      "[149.23004804992675, 149.09350512695312, 152.1688890838623, 153.6499408416748, 148.24150540161133, 148.2430943145752, 148.08336320495604, 153.01090971374512, 151.89107052612306, 149.85686563110352, 152.08136329650878, 154.01409465026856, 150.932640045166, 148.20467858886718, 148.39430781555177, 149.81582566833495, 146.60367706298828, 146.50265354919435, 148.2318542327881, 148.1554504852295, 151.98182176208496, 147.90414630126952, 154.01278147888183, 153.99906304931642, 153.90566247558593, 148.07642868041992, 148.6097225036621, 154.873043258667, 148.51768920898436, 149.94517868041993, 150.54869783020018, 159.5772512359619, 147.94968563842772, 148.7583466491699]\n"
     ]
    }
   ],
   "source": [
    "print(y_means)"
   ]
  },
  {
   "cell_type": "code",
   "execution_count": 18,
   "metadata": {},
   "outputs": [
    {
     "name": "stdout",
     "output_type": "stream",
     "text": [
      "[0.44914875685280814, 0.4822706925066123, 0.5328621518973174, 0.8836198023399523, 0.9051068992355373, 0.5128119423613232, 0.5800700648263027, 0.3866983523277241, 0.3908040263620649, 0.5536025184794289, 0.5824875331810033, 0.58187641950024, 0.2530882248666172, 0.5405822733973605, 0.6156731027726908, 0.3290464677002368, 1.017719649620656, 0.8468253319716377, 0.8241719980328694, 0.7758366142989814, 0.4910791097204911, 0.6272456829610338, 0.9436377197566176, 0.5490041289189431, 0.8372305639476607, 0.827615165116841, 0.6140885231927045, 0.5274896903100172, 0.55167428390906, 0.27917322381755855, 0.37565735007510054, 1.134259479194392, 0.6523904208236193, 0.5266164304855632]\n"
     ]
    }
   ],
   "source": [
    "print(y_std)"
   ]
  },
  {
   "cell_type": "code",
   "execution_count": 19,
   "metadata": {},
   "outputs": [
    {
     "name": "stdout",
     "output_type": "stream",
     "text": [
      "[148.2691650390625, 148.33828735351562, 150.627685546875, 149.77906799316406, 144.8108367919922, 147.3519744873047, 147.1937255859375, 150.72604370117188, 149.7591552734375, 148.1608428955078, 150.3035888671875, 151.28282165527344, 149.79978942871094, 147.13076782226562, 147.9992218017578, 149.20358276367188, 145.59512329101562, 145.70050048828125, 146.694091796875, 145.01834106445312, 149.9029541015625, 147.34893798828125, 149.59783935546875, 151.17259216308594, 149.75918579101562, 143.92713928222656, 147.708984375, 152.39598083496094, 147.58583068847656, 149.37184143066406, 150.00550842285156, 154.00987243652344, 146.54168701171875, 148.20840454101562]\n"
     ]
    }
   ],
   "source": [
    "print(y_mins)"
   ]
  },
  {
   "cell_type": "code",
   "execution_count": 20,
   "metadata": {},
   "outputs": [
    {
     "name": "stdout",
     "output_type": "stream",
     "text": [
      "[151.2535858154297, 151.78639221191406, 154.92453002929688, 157.62440490722656, 163.1629638671875, 151.57510375976562, 150.8743896484375, 154.3837432861328, 153.4854736328125, 152.5812530517578, 154.88372802734375, 158.3508758544922, 152.058349609375, 151.90171813964844, 151.4329833984375, 151.37258911132812, 151.73114013671875, 151.06863403320312, 156.46629333496094, 156.00363159179688, 153.92471313476562, 153.59664916992188, 156.61248779296875, 158.6342010498047, 154.93325805664062, 155.0478057861328, 151.4087677001953, 155.522705078125, 152.00094604492188, 151.1836700439453, 152.96119689941406, 160.9927978515625, 151.5968780517578, 151.58773803710938]\n"
     ]
    }
   ],
   "source": [
    "print(y_maxes)"
   ]
  },
  {
   "cell_type": "code",
   "execution_count": 21,
   "metadata": {},
   "outputs": [],
   "source": [
    "y_true = LTR_df['R600_HD'].values\n",
    "HoV_test_data = LTR_df['HoV'].values"
   ]
  },
  {
   "cell_type": "code",
   "execution_count": 22,
   "metadata": {},
   "outputs": [
    {
     "name": "stdout",
     "output_type": "stream",
     "text": [
      "No. of Test HoVs: 34 \n",
      "HoVs of Test Points: ['A1' 'A2' 'A3' 'A4' 'A5' 'A6' 'C1' 'C2' 'C3' 'C4' 'C5' 'C6' 'D1' 'D2' 'E1' 'E2' 'F1' 'F2' 'F3' 'H1' 'I1' 'J1' 'M1' 'M2' 'P1' 'Q1' 'Q2' 'S1' 'S2' 'S3' 'S4' 'S5' 'T1' 'T2']\n",
      "Test Points-Org Y: [148 149 152 154 148 148 148 153 152 150 152 154 151 148 148 148 146 146 148 148 152 148 154 154 154 148 148 155 148 150 150 160 148 148]\n"
     ]
    }
   ],
   "source": [
    "print('No. of Test HoVs:',len(HoV_test_data),'\\nHoVs of Test Points:',HoV_test_data)\n",
    "print('Test Points-Org Y:', y_true)"
   ]
  },
  {
   "cell_type": "markdown",
   "metadata": {},
   "source": [
    "### Plot BNN Predictions with Mean and Error Bars"
   ]
  },
  {
   "cell_type": "code",
   "execution_count": 23,
   "metadata": {},
   "outputs": [
    {
     "data": {
      "text/html": [
       "\n",
       "    <div class=\"bk-root\">\n",
       "        <a href=\"https://bokeh.pydata.org\" target=\"_blank\" class=\"bk-logo bk-logo-small bk-logo-notebook\"></a>\n",
       "        <span id=\"77fed722-a3ea-4bc3-b0aa-cfdc7c176d3d\">Loading BokehJS ...</span>\n",
       "    </div>"
      ]
     },
     "metadata": {},
     "output_type": "display_data"
    },
    {
     "data": {
      "application/javascript": [
       "\n",
       "(function(root) {\n",
       "  function now() {\n",
       "    return new Date();\n",
       "  }\n",
       "\n",
       "  var force = true;\n",
       "\n",
       "  if (typeof (root._bokeh_onload_callbacks) === \"undefined\" || force === true) {\n",
       "    root._bokeh_onload_callbacks = [];\n",
       "    root._bokeh_is_loading = undefined;\n",
       "  }\n",
       "\n",
       "  var JS_MIME_TYPE = 'application/javascript';\n",
       "  var HTML_MIME_TYPE = 'text/html';\n",
       "  var EXEC_MIME_TYPE = 'application/vnd.bokehjs_exec.v0+json';\n",
       "  var CLASS_NAME = 'output_bokeh rendered_html';\n",
       "\n",
       "  /**\n",
       "   * Render data to the DOM node\n",
       "   */\n",
       "  function render(props, node) {\n",
       "    var script = document.createElement(\"script\");\n",
       "    node.appendChild(script);\n",
       "  }\n",
       "\n",
       "  /**\n",
       "   * Handle when an output is cleared or removed\n",
       "   */\n",
       "  function handleClearOutput(event, handle) {\n",
       "    var cell = handle.cell;\n",
       "\n",
       "    var id = cell.output_area._bokeh_element_id;\n",
       "    var server_id = cell.output_area._bokeh_server_id;\n",
       "    // Clean up Bokeh references\n",
       "    if (id != null && id in Bokeh.index) {\n",
       "      Bokeh.index[id].model.document.clear();\n",
       "      delete Bokeh.index[id];\n",
       "    }\n",
       "\n",
       "    if (server_id !== undefined) {\n",
       "      // Clean up Bokeh references\n",
       "      var cmd = \"from bokeh.io.state import curstate; print(curstate().uuid_to_server['\" + server_id + \"'].get_sessions()[0].document.roots[0]._id)\";\n",
       "      cell.notebook.kernel.execute(cmd, {\n",
       "        iopub: {\n",
       "          output: function(msg) {\n",
       "            var id = msg.content.text.trim();\n",
       "            if (id in Bokeh.index) {\n",
       "              Bokeh.index[id].model.document.clear();\n",
       "              delete Bokeh.index[id];\n",
       "            }\n",
       "          }\n",
       "        }\n",
       "      });\n",
       "      // Destroy server and session\n",
       "      var cmd = \"import bokeh.io.notebook as ion; ion.destroy_server('\" + server_id + \"')\";\n",
       "      cell.notebook.kernel.execute(cmd);\n",
       "    }\n",
       "  }\n",
       "\n",
       "  /**\n",
       "   * Handle when a new output is added\n",
       "   */\n",
       "  function handleAddOutput(event, handle) {\n",
       "    var output_area = handle.output_area;\n",
       "    var output = handle.output;\n",
       "\n",
       "    // limit handleAddOutput to display_data with EXEC_MIME_TYPE content only\n",
       "    if ((output.output_type != \"display_data\") || (!output.data.hasOwnProperty(EXEC_MIME_TYPE))) {\n",
       "      return\n",
       "    }\n",
       "\n",
       "    var toinsert = output_area.element.find(\".\" + CLASS_NAME.split(' ')[0]);\n",
       "\n",
       "    if (output.metadata[EXEC_MIME_TYPE][\"id\"] !== undefined) {\n",
       "      toinsert[toinsert.length - 1].firstChild.textContent = output.data[JS_MIME_TYPE];\n",
       "      // store reference to embed id on output_area\n",
       "      output_area._bokeh_element_id = output.metadata[EXEC_MIME_TYPE][\"id\"];\n",
       "    }\n",
       "    if (output.metadata[EXEC_MIME_TYPE][\"server_id\"] !== undefined) {\n",
       "      var bk_div = document.createElement(\"div\");\n",
       "      bk_div.innerHTML = output.data[HTML_MIME_TYPE];\n",
       "      var script_attrs = bk_div.children[0].attributes;\n",
       "      for (var i = 0; i < script_attrs.length; i++) {\n",
       "        toinsert[toinsert.length - 1].firstChild.setAttribute(script_attrs[i].name, script_attrs[i].value);\n",
       "      }\n",
       "      // store reference to server id on output_area\n",
       "      output_area._bokeh_server_id = output.metadata[EXEC_MIME_TYPE][\"server_id\"];\n",
       "    }\n",
       "  }\n",
       "\n",
       "  function register_renderer(events, OutputArea) {\n",
       "\n",
       "    function append_mime(data, metadata, element) {\n",
       "      // create a DOM node to render to\n",
       "      var toinsert = this.create_output_subarea(\n",
       "        metadata,\n",
       "        CLASS_NAME,\n",
       "        EXEC_MIME_TYPE\n",
       "      );\n",
       "      this.keyboard_manager.register_events(toinsert);\n",
       "      // Render to node\n",
       "      var props = {data: data, metadata: metadata[EXEC_MIME_TYPE]};\n",
       "      render(props, toinsert[toinsert.length - 1]);\n",
       "      element.append(toinsert);\n",
       "      return toinsert\n",
       "    }\n",
       "\n",
       "    /* Handle when an output is cleared or removed */\n",
       "    events.on('clear_output.CodeCell', handleClearOutput);\n",
       "    events.on('delete.Cell', handleClearOutput);\n",
       "\n",
       "    /* Handle when a new output is added */\n",
       "    events.on('output_added.OutputArea', handleAddOutput);\n",
       "\n",
       "    /**\n",
       "     * Register the mime type and append_mime function with output_area\n",
       "     */\n",
       "    OutputArea.prototype.register_mime_type(EXEC_MIME_TYPE, append_mime, {\n",
       "      /* Is output safe? */\n",
       "      safe: true,\n",
       "      /* Index of renderer in `output_area.display_order` */\n",
       "      index: 0\n",
       "    });\n",
       "  }\n",
       "\n",
       "  // register the mime type if in Jupyter Notebook environment and previously unregistered\n",
       "  if (root.Jupyter !== undefined) {\n",
       "    var events = require('base/js/events');\n",
       "    var OutputArea = require('notebook/js/outputarea').OutputArea;\n",
       "\n",
       "    if (OutputArea.prototype.mime_types().indexOf(EXEC_MIME_TYPE) == -1) {\n",
       "      register_renderer(events, OutputArea);\n",
       "    }\n",
       "  }\n",
       "\n",
       "  \n",
       "  if (typeof (root._bokeh_timeout) === \"undefined\" || force === true) {\n",
       "    root._bokeh_timeout = Date.now() + 5000;\n",
       "    root._bokeh_failed_load = false;\n",
       "  }\n",
       "\n",
       "  var NB_LOAD_WARNING = {'data': {'text/html':\n",
       "     \"<div style='background-color: #fdd'>\\n\"+\n",
       "     \"<p>\\n\"+\n",
       "     \"BokehJS does not appear to have successfully loaded. If loading BokehJS from CDN, this \\n\"+\n",
       "     \"may be due to a slow or bad network connection. Possible fixes:\\n\"+\n",
       "     \"</p>\\n\"+\n",
       "     \"<ul>\\n\"+\n",
       "     \"<li>re-rerun `output_notebook()` to attempt to load from CDN again, or</li>\\n\"+\n",
       "     \"<li>use INLINE resources instead, as so:</li>\\n\"+\n",
       "     \"</ul>\\n\"+\n",
       "     \"<code>\\n\"+\n",
       "     \"from bokeh.resources import INLINE\\n\"+\n",
       "     \"output_notebook(resources=INLINE)\\n\"+\n",
       "     \"</code>\\n\"+\n",
       "     \"</div>\"}};\n",
       "\n",
       "  function display_loaded() {\n",
       "    var el = document.getElementById(\"77fed722-a3ea-4bc3-b0aa-cfdc7c176d3d\");\n",
       "    if (el != null) {\n",
       "      el.textContent = \"BokehJS is loading...\";\n",
       "    }\n",
       "    if (root.Bokeh !== undefined) {\n",
       "      if (el != null) {\n",
       "        el.textContent = \"BokehJS \" + root.Bokeh.version + \" successfully loaded.\";\n",
       "      }\n",
       "    } else if (Date.now() < root._bokeh_timeout) {\n",
       "      setTimeout(display_loaded, 100)\n",
       "    }\n",
       "  }\n",
       "\n",
       "\n",
       "  function run_callbacks() {\n",
       "    try {\n",
       "      root._bokeh_onload_callbacks.forEach(function(callback) { callback() });\n",
       "    }\n",
       "    finally {\n",
       "      delete root._bokeh_onload_callbacks\n",
       "    }\n",
       "    console.info(\"Bokeh: all callbacks have finished\");\n",
       "  }\n",
       "\n",
       "  function load_libs(js_urls, callback) {\n",
       "    root._bokeh_onload_callbacks.push(callback);\n",
       "    if (root._bokeh_is_loading > 0) {\n",
       "      console.log(\"Bokeh: BokehJS is being loaded, scheduling callback at\", now());\n",
       "      return null;\n",
       "    }\n",
       "    if (js_urls == null || js_urls.length === 0) {\n",
       "      run_callbacks();\n",
       "      return null;\n",
       "    }\n",
       "    console.log(\"Bokeh: BokehJS not loaded, scheduling load and callback at\", now());\n",
       "    root._bokeh_is_loading = js_urls.length;\n",
       "    for (var i = 0; i < js_urls.length; i++) {\n",
       "      var url = js_urls[i];\n",
       "      var s = document.createElement('script');\n",
       "      s.src = url;\n",
       "      s.async = false;\n",
       "      s.onreadystatechange = s.onload = function() {\n",
       "        root._bokeh_is_loading--;\n",
       "        if (root._bokeh_is_loading === 0) {\n",
       "          console.log(\"Bokeh: all BokehJS libraries loaded\");\n",
       "          run_callbacks()\n",
       "        }\n",
       "      };\n",
       "      s.onerror = function() {\n",
       "        console.warn(\"failed to load library \" + url);\n",
       "      };\n",
       "      console.log(\"Bokeh: injecting script tag for BokehJS library: \", url);\n",
       "      document.getElementsByTagName(\"head\")[0].appendChild(s);\n",
       "    }\n",
       "  };var element = document.getElementById(\"77fed722-a3ea-4bc3-b0aa-cfdc7c176d3d\");\n",
       "  if (element == null) {\n",
       "    console.log(\"Bokeh: ERROR: autoload.js configured with elementid '77fed722-a3ea-4bc3-b0aa-cfdc7c176d3d' but no matching script tag was found. \")\n",
       "    return false;\n",
       "  }\n",
       "\n",
       "  var js_urls = [\"https://cdn.pydata.org/bokeh/release/bokeh-0.13.0.min.js\", \"https://cdn.pydata.org/bokeh/release/bokeh-widgets-0.13.0.min.js\", \"https://cdn.pydata.org/bokeh/release/bokeh-tables-0.13.0.min.js\", \"https://cdn.pydata.org/bokeh/release/bokeh-gl-0.13.0.min.js\"];\n",
       "\n",
       "  var inline_js = [\n",
       "    function(Bokeh) {\n",
       "      Bokeh.set_log_level(\"info\");\n",
       "    },\n",
       "    \n",
       "    function(Bokeh) {\n",
       "      \n",
       "    },\n",
       "    function(Bokeh) {\n",
       "      console.log(\"Bokeh: injecting CSS: https://cdn.pydata.org/bokeh/release/bokeh-0.13.0.min.css\");\n",
       "      Bokeh.embed.inject_css(\"https://cdn.pydata.org/bokeh/release/bokeh-0.13.0.min.css\");\n",
       "      console.log(\"Bokeh: injecting CSS: https://cdn.pydata.org/bokeh/release/bokeh-widgets-0.13.0.min.css\");\n",
       "      Bokeh.embed.inject_css(\"https://cdn.pydata.org/bokeh/release/bokeh-widgets-0.13.0.min.css\");\n",
       "      console.log(\"Bokeh: injecting CSS: https://cdn.pydata.org/bokeh/release/bokeh-tables-0.13.0.min.css\");\n",
       "      Bokeh.embed.inject_css(\"https://cdn.pydata.org/bokeh/release/bokeh-tables-0.13.0.min.css\");\n",
       "    }\n",
       "  ];\n",
       "\n",
       "  function run_inline_js() {\n",
       "    \n",
       "    if ((root.Bokeh !== undefined) || (force === true)) {\n",
       "      for (var i = 0; i < inline_js.length; i++) {\n",
       "        inline_js[i].call(root, root.Bokeh);\n",
       "      }if (force === true) {\n",
       "        display_loaded();\n",
       "      }} else if (Date.now() < root._bokeh_timeout) {\n",
       "      setTimeout(run_inline_js, 100);\n",
       "    } else if (!root._bokeh_failed_load) {\n",
       "      console.log(\"Bokeh: BokehJS failed to load within specified timeout.\");\n",
       "      root._bokeh_failed_load = true;\n",
       "    } else if (force !== true) {\n",
       "      var cell = $(document.getElementById(\"77fed722-a3ea-4bc3-b0aa-cfdc7c176d3d\")).parents('.cell').data().cell;\n",
       "      cell.output_area.append_execute_result(NB_LOAD_WARNING)\n",
       "    }\n",
       "\n",
       "  }\n",
       "\n",
       "  if (root._bokeh_is_loading === 0) {\n",
       "    console.log(\"Bokeh: BokehJS loaded, going straight to plotting\");\n",
       "    run_inline_js();\n",
       "  } else {\n",
       "    load_libs(js_urls, function() {\n",
       "      console.log(\"Bokeh: BokehJS plotting callback run at\", now());\n",
       "      run_inline_js();\n",
       "    });\n",
       "  }\n",
       "}(window));"
      ],
      "application/vnd.bokehjs_load.v0+json": "\n(function(root) {\n  function now() {\n    return new Date();\n  }\n\n  var force = true;\n\n  if (typeof (root._bokeh_onload_callbacks) === \"undefined\" || force === true) {\n    root._bokeh_onload_callbacks = [];\n    root._bokeh_is_loading = undefined;\n  }\n\n  \n\n  \n  if (typeof (root._bokeh_timeout) === \"undefined\" || force === true) {\n    root._bokeh_timeout = Date.now() + 5000;\n    root._bokeh_failed_load = false;\n  }\n\n  var NB_LOAD_WARNING = {'data': {'text/html':\n     \"<div style='background-color: #fdd'>\\n\"+\n     \"<p>\\n\"+\n     \"BokehJS does not appear to have successfully loaded. If loading BokehJS from CDN, this \\n\"+\n     \"may be due to a slow or bad network connection. Possible fixes:\\n\"+\n     \"</p>\\n\"+\n     \"<ul>\\n\"+\n     \"<li>re-rerun `output_notebook()` to attempt to load from CDN again, or</li>\\n\"+\n     \"<li>use INLINE resources instead, as so:</li>\\n\"+\n     \"</ul>\\n\"+\n     \"<code>\\n\"+\n     \"from bokeh.resources import INLINE\\n\"+\n     \"output_notebook(resources=INLINE)\\n\"+\n     \"</code>\\n\"+\n     \"</div>\"}};\n\n  function display_loaded() {\n    var el = document.getElementById(\"77fed722-a3ea-4bc3-b0aa-cfdc7c176d3d\");\n    if (el != null) {\n      el.textContent = \"BokehJS is loading...\";\n    }\n    if (root.Bokeh !== undefined) {\n      if (el != null) {\n        el.textContent = \"BokehJS \" + root.Bokeh.version + \" successfully loaded.\";\n      }\n    } else if (Date.now() < root._bokeh_timeout) {\n      setTimeout(display_loaded, 100)\n    }\n  }\n\n\n  function run_callbacks() {\n    try {\n      root._bokeh_onload_callbacks.forEach(function(callback) { callback() });\n    }\n    finally {\n      delete root._bokeh_onload_callbacks\n    }\n    console.info(\"Bokeh: all callbacks have finished\");\n  }\n\n  function load_libs(js_urls, callback) {\n    root._bokeh_onload_callbacks.push(callback);\n    if (root._bokeh_is_loading > 0) {\n      console.log(\"Bokeh: BokehJS is being loaded, scheduling callback at\", now());\n      return null;\n    }\n    if (js_urls == null || js_urls.length === 0) {\n      run_callbacks();\n      return null;\n    }\n    console.log(\"Bokeh: BokehJS not loaded, scheduling load and callback at\", now());\n    root._bokeh_is_loading = js_urls.length;\n    for (var i = 0; i < js_urls.length; i++) {\n      var url = js_urls[i];\n      var s = document.createElement('script');\n      s.src = url;\n      s.async = false;\n      s.onreadystatechange = s.onload = function() {\n        root._bokeh_is_loading--;\n        if (root._bokeh_is_loading === 0) {\n          console.log(\"Bokeh: all BokehJS libraries loaded\");\n          run_callbacks()\n        }\n      };\n      s.onerror = function() {\n        console.warn(\"failed to load library \" + url);\n      };\n      console.log(\"Bokeh: injecting script tag for BokehJS library: \", url);\n      document.getElementsByTagName(\"head\")[0].appendChild(s);\n    }\n  };var element = document.getElementById(\"77fed722-a3ea-4bc3-b0aa-cfdc7c176d3d\");\n  if (element == null) {\n    console.log(\"Bokeh: ERROR: autoload.js configured with elementid '77fed722-a3ea-4bc3-b0aa-cfdc7c176d3d' but no matching script tag was found. \")\n    return false;\n  }\n\n  var js_urls = [\"https://cdn.pydata.org/bokeh/release/bokeh-0.13.0.min.js\", \"https://cdn.pydata.org/bokeh/release/bokeh-widgets-0.13.0.min.js\", \"https://cdn.pydata.org/bokeh/release/bokeh-tables-0.13.0.min.js\", \"https://cdn.pydata.org/bokeh/release/bokeh-gl-0.13.0.min.js\"];\n\n  var inline_js = [\n    function(Bokeh) {\n      Bokeh.set_log_level(\"info\");\n    },\n    \n    function(Bokeh) {\n      \n    },\n    function(Bokeh) {\n      console.log(\"Bokeh: injecting CSS: https://cdn.pydata.org/bokeh/release/bokeh-0.13.0.min.css\");\n      Bokeh.embed.inject_css(\"https://cdn.pydata.org/bokeh/release/bokeh-0.13.0.min.css\");\n      console.log(\"Bokeh: injecting CSS: https://cdn.pydata.org/bokeh/release/bokeh-widgets-0.13.0.min.css\");\n      Bokeh.embed.inject_css(\"https://cdn.pydata.org/bokeh/release/bokeh-widgets-0.13.0.min.css\");\n      console.log(\"Bokeh: injecting CSS: https://cdn.pydata.org/bokeh/release/bokeh-tables-0.13.0.min.css\");\n      Bokeh.embed.inject_css(\"https://cdn.pydata.org/bokeh/release/bokeh-tables-0.13.0.min.css\");\n    }\n  ];\n\n  function run_inline_js() {\n    \n    if ((root.Bokeh !== undefined) || (force === true)) {\n      for (var i = 0; i < inline_js.length; i++) {\n        inline_js[i].call(root, root.Bokeh);\n      }if (force === true) {\n        display_loaded();\n      }} else if (Date.now() < root._bokeh_timeout) {\n      setTimeout(run_inline_js, 100);\n    } else if (!root._bokeh_failed_load) {\n      console.log(\"Bokeh: BokehJS failed to load within specified timeout.\");\n      root._bokeh_failed_load = true;\n    } else if (force !== true) {\n      var cell = $(document.getElementById(\"77fed722-a3ea-4bc3-b0aa-cfdc7c176d3d\")).parents('.cell').data().cell;\n      cell.output_area.append_execute_result(NB_LOAD_WARNING)\n    }\n\n  }\n\n  if (root._bokeh_is_loading === 0) {\n    console.log(\"Bokeh: BokehJS loaded, going straight to plotting\");\n    run_inline_js();\n  } else {\n    load_libs(js_urls, function() {\n      console.log(\"Bokeh: BokehJS plotting callback run at\", now());\n      run_inline_js();\n    });\n  }\n}(window));"
     },
     "metadata": {},
     "output_type": "display_data"
    }
   ],
   "source": [
    "from bokeh.models import HoverTool,ColumnDataSource,Label,Range1d\n",
    "from bokeh.plotting import figure, show, output_file,output_notebook\n",
    "from bokeh.models.markers import CircleX\n",
    "output_notebook()"
   ]
  },
  {
   "cell_type": "code",
   "execution_count": 24,
   "metadata": {},
   "outputs": [],
   "source": [
    "# create the coordinates for the errorbars\n",
    "y_xs = []\n",
    "ys_std = []\n",
    "y_ys = []\n",
    "\n",
    "for x, y_mean,std,min_dia, max_dia in zip(HoV_test_data,y_means,y_std,y_mins,y_maxes):\n",
    "    y_xs.append((x, x))\n",
    "    ys_std.append((y_mean - std, y_mean + std))\n",
    "    y_ys.append((y_mean - (y_mean - min_dia), y_mean + (max_dia - y_mean)))"
   ]
  },
  {
   "cell_type": "code",
   "execution_count": 25,
   "metadata": {},
   "outputs": [],
   "source": [
    "# plot the points\n",
    "f = figure(x_range=HoV_test_data, title='BNN MC DropOut - Dia Predictions with Confidence Interval', width=1400)\n",
    "dot_hover_tooltips = HoverTool(names=['DiaPoints'],tooltips=[(\"HoV\",\"@x\"),(\"Dia\", \"@y mm\")])\n",
    "whisker_hover_tooltips = HoverTool(names=['Whiskers'],tooltips=[(\"Dia\", \"@y mm\")])\n",
    "multiline_hover_tooltips = HoverTool(names=['LinePlot'],tooltips=[(\"Dia\", \"$y mm\")])\n",
    "\n",
    "f.add_tools(dot_hover_tooltips,whisker_hover_tooltips,multiline_hover_tooltips)\n",
    "\n",
    "f.xaxis.axis_label = 'Head of Versions'\n",
    "f.yaxis.axis_label = 'Diameter Predictions (mm)'\n",
    "\n",
    "f.multi_line(y_xs, ys_std, color='blue', line_width = 3, legend = 'Mean Prediction +/- Std.Dev')\n",
    "f.multi_line(y_xs, y_ys, color='deepskyblue',name='LinePlot',legend = 'Mean Prediction +/- Min & Max Value')\n",
    "f.diamond(HoV_test_data, y_true, color='red', size=12, line_alpha=0,name='DiaPoints', legend = 'True Dia')\n",
    "f.circle(HoV_test_data, y_means, color='blue', size=9, line_alpha=0,name='DiaPoints', legend = 'Predicted Dia (Mean)')\n",
    "\n",
    "# whiskers (almost-0 height rects simpler than segments)\n",
    "for i in range(len(y_xs)):\n",
    "    f.rect(y_xs[i], y_ys[i], 0.2, 0.001, line_color=\"deepskyblue\",name='Whiskers')\n",
    "\n",
    "f.y_range=Range1d(135, 165)\n",
    "f.legend.location = \"top_center\"\n",
    "f.legend.click_policy=\"hide\"\n",
    "\n",
    "output_file('plots/BNN_MCDropOut_v3_ASD_LTR_Predictions.html', mode='inline')"
   ]
  },
  {
   "cell_type": "code",
   "execution_count": 26,
   "metadata": {},
   "outputs": [
    {
     "data": {
      "text/html": [
       "\n",
       "\n",
       "\n",
       "\n",
       "\n",
       "\n",
       "  <div class=\"bk-root\" id=\"a69d4d8d-7f7a-49a4-9887-051325caa62e\"></div>\n"
      ]
     },
     "metadata": {},
     "output_type": "display_data"
    },
    {
     "data": {
      "application/javascript": [
       "(function(root) {\n",
       "  function embed_document(root) {\n",
       "    \n",
       "  var docs_json = {\"57e2515d-920e-4969-99c9-8e05336537f0\":{\"roots\":{\"references\":[{\"attributes\":{},\"id\":\"6a1acb44-14a6-4367-a609-fdf014ab8500\",\"type\":\"UnionRenderers\"},{\"attributes\":{},\"id\":\"03391f71-1cdf-4ba5-9c84-b7393c85ceaa\",\"type\":\"Selection\"},{\"attributes\":{},\"id\":\"0ea7ce86-39d2-4ec6-b1be-b503453bd0e3\",\"type\":\"UnionRenderers\"},{\"attributes\":{},\"id\":\"d6483167-eafd-481e-a69d-69711f670ae2\",\"type\":\"Selection\"},{\"attributes\":{},\"id\":\"ca4695b1-9417-4d3a-9124-7f9f6eb791b7\",\"type\":\"UnionRenderers\"},{\"attributes\":{},\"id\":\"5216ee86-70d6-4df8-b61a-55469fc5e29d\",\"type\":\"Selection\"},{\"attributes\":{},\"id\":\"2270b7b9-4d92-4dcb-ace7-9071054291d6\",\"type\":\"UnionRenderers\"},{\"attributes\":{},\"id\":\"9e649df8-37d6-4310-b0db-329ebc9327be\",\"type\":\"Selection\"},{\"attributes\":{},\"id\":\"ff38bb56-af9c-481b-8fdd-81686c04eddc\",\"type\":\"UnionRenderers\"},{\"attributes\":{},\"id\":\"d338a6d1-751c-46e1-bd69-b4082a8e131d\",\"type\":\"Selection\"},{\"attributes\":{},\"id\":\"383ade36-6d5f-4799-ba65-2e1ab1f99798\",\"type\":\"UnionRenderers\"},{\"attributes\":{},\"id\":\"c1c607c7-b794-4f28-8cf0-012e971c352f\",\"type\":\"Selection\"},{\"attributes\":{\"line_color\":{\"value\":\"blue\"},\"line_width\":{\"value\":3},\"xs\":{\"field\":\"xs\"},\"ys\":{\"field\":\"ys\"}},\"id\":\"4694c908-9a6a-4cf0-86d8-f87ac82ada59\",\"type\":\"MultiLine\"},{\"attributes\":{},\"id\":\"37d13225-5f8f-4160-b43a-f06859b32ca0\",\"type\":\"Selection\"},{\"attributes\":{},\"id\":\"d9eb6e45-b76c-46b4-9546-b15dd9c69d6a\",\"type\":\"UnionRenderers\"},{\"attributes\":{},\"id\":\"2d6d3c2f-5b53-4361-b865-2df49e7fd778\",\"type\":\"Selection\"},{\"attributes\":{},\"id\":\"e6f94d18-5075-4716-980c-f2265553059c\",\"type\":\"UnionRenderers\"},{\"attributes\":{},\"id\":\"9253512f-082f-4f37-973c-4a7e0977b87d\",\"type\":\"Selection\"},{\"attributes\":{},\"id\":\"0ae89cd5-1c1c-424b-99fb-0baad9bcb79a\",\"type\":\"UnionRenderers\"},{\"attributes\":{},\"id\":\"f1f3f38c-2f08-48e9-99fb-41b5b5899162\",\"type\":\"Selection\"},{\"attributes\":{},\"id\":\"d0870b4b-fb86-4a8a-9c27-6bfed2e39056\",\"type\":\"UnionRenderers\"},{\"attributes\":{},\"id\":\"b6a57864-ce89-4e5e-a291-0900319a070d\",\"type\":\"Selection\"},{\"attributes\":{},\"id\":\"90de570f-c7ba-4043-a298-34280c996ffb\",\"type\":\"UnionRenderers\"},{\"attributes\":{},\"id\":\"d646395b-c272-48b3-ae06-162df9cb8da3\",\"type\":\"Selection\"},{\"attributes\":{},\"id\":\"a5d32bf8-f411-4751-a828-1f6669776a46\",\"type\":\"UnionRenderers\"},{\"attributes\":{\"callback\":null,\"factors\":[\"A1\",\"A2\",\"A3\",\"A4\",\"A5\",\"A6\",\"C1\",\"C2\",\"C3\",\"C4\",\"C5\",\"C6\",\"D1\",\"D2\",\"E1\",\"E2\",\"F1\",\"F2\",\"F3\",\"H1\",\"I1\",\"J1\",\"M1\",\"M2\",\"P1\",\"Q1\",\"Q2\",\"S1\",\"S2\",\"S3\",\"S4\",\"S5\",\"T1\",\"T2\"]},\"id\":\"04ff5618-82fa-44e9-981a-9e908f66a5f7\",\"type\":\"FactorRange\"},{\"attributes\":{\"line_alpha\":{\"value\":0.1},\"line_color\":{\"value\":\"#1f77b4\"},\"line_width\":{\"value\":3},\"xs\":{\"field\":\"xs\"},\"ys\":{\"field\":\"ys\"}},\"id\":\"3116293c-00d1-4b82-8fd7-3c2da94a9d65\",\"type\":\"MultiLine\"},{\"attributes\":{\"source\":{\"id\":\"b5aa5bc5-edb7-41cd-82ef-f7c1d47bb84a\",\"type\":\"ColumnDataSource\"}},\"id\":\"6b46893a-64a5-4365-bb77-366db9ad69a2\",\"type\":\"CDSView\"},{\"attributes\":{\"data_source\":{\"id\":\"b5aa5bc5-edb7-41cd-82ef-f7c1d47bb84a\",\"type\":\"ColumnDataSource\"},\"glyph\":{\"id\":\"4694c908-9a6a-4cf0-86d8-f87ac82ada59\",\"type\":\"MultiLine\"},\"hover_glyph\":null,\"muted_glyph\":null,\"nonselection_glyph\":{\"id\":\"3116293c-00d1-4b82-8fd7-3c2da94a9d65\",\"type\":\"MultiLine\"},\"selection_glyph\":null,\"view\":{\"id\":\"6b46893a-64a5-4365-bb77-366db9ad69a2\",\"type\":\"CDSView\"}},\"id\":\"7c1004ca-cffd-47de-a181-3afd4235548e\",\"type\":\"GlyphRenderer\"},{\"attributes\":{\"fill_color\":{\"value\":\"red\"},\"line_alpha\":{\"value\":0},\"line_color\":{\"value\":\"red\"},\"size\":{\"units\":\"screen\",\"value\":12},\"x\":{\"field\":\"x\"},\"y\":{\"field\":\"y\"}},\"id\":\"3190cdbf-85e1-4a35-86fb-7adc31cdcb69\",\"type\":\"Diamond\"},{\"attributes\":{},\"id\":\"2812a6cb-2a80-4fa1-83f3-b095e34d1d56\",\"type\":\"CategoricalTickFormatter\"},{\"attributes\":{\"data_source\":{\"id\":\"39a4d27b-7a29-4a26-ad24-ef271f153f36\",\"type\":\"ColumnDataSource\"},\"glyph\":{\"id\":\"3190cdbf-85e1-4a35-86fb-7adc31cdcb69\",\"type\":\"Diamond\"},\"hover_glyph\":null,\"muted_glyph\":null,\"name\":\"DiaPoints\",\"nonselection_glyph\":{\"id\":\"8562e31c-b893-4703-907f-2113c2cc7936\",\"type\":\"Diamond\"},\"selection_glyph\":null,\"view\":{\"id\":\"49276b03-d8e4-4e61-ba83-ee74848a859f\",\"type\":\"CDSView\"}},\"id\":\"ee1cde9c-3858-442a-917c-3530e6259764\",\"type\":\"GlyphRenderer\"},{\"attributes\":{},\"id\":\"448ee010-9c13-4ef4-ae9b-e60b281d6373\",\"type\":\"UnionRenderers\"},{\"attributes\":{\"label\":{\"value\":\"Mean Prediction +/- Std.Dev\"},\"renderers\":[{\"id\":\"7c1004ca-cffd-47de-a181-3afd4235548e\",\"type\":\"GlyphRenderer\"}]},\"id\":\"0f24b8bb-b6a1-454a-97e0-7b19c1514b29\",\"type\":\"LegendItem\"},{\"attributes\":{\"source\":{\"id\":\"39a4d27b-7a29-4a26-ad24-ef271f153f36\",\"type\":\"ColumnDataSource\"}},\"id\":\"49276b03-d8e4-4e61-ba83-ee74848a859f\",\"type\":\"CDSView\"},{\"attributes\":{\"source\":{\"id\":\"c89f4fa6-1fae-4971-a197-d26c1b39b8af\",\"type\":\"ColumnDataSource\"}},\"id\":\"53a35e68-8fad-476b-a0cd-c96ea8387ce5\",\"type\":\"CDSView\"},{\"attributes\":{\"callback\":null,\"data\":{\"x\":[\"S1\",\"S1\"],\"y\":[152.39598083496094,155.522705078125]},\"selected\":{\"id\":\"c1c607c7-b794-4f28-8cf0-012e971c352f\",\"type\":\"Selection\"},\"selection_policy\":{\"id\":\"448ee010-9c13-4ef4-ae9b-e60b281d6373\",\"type\":\"UnionRenderers\"}},\"id\":\"4e2be58c-cc15-40b0-b38e-e62f70ffa526\",\"type\":\"ColumnDataSource\"},{\"attributes\":{\"click_policy\":\"hide\",\"items\":[{\"id\":\"0f24b8bb-b6a1-454a-97e0-7b19c1514b29\",\"type\":\"LegendItem\"},{\"id\":\"a2debf57-f50a-46be-9efa-d931e54c47ed\",\"type\":\"LegendItem\"},{\"id\":\"d6ec5de5-057e-4ff5-8e65-c98d78d88418\",\"type\":\"LegendItem\"},{\"id\":\"01fc1e4c-3ab1-4226-a7ae-ac1f81eed3fe\",\"type\":\"LegendItem\"}],\"location\":\"top_center\",\"plot\":{\"id\":\"d1e8cc75-4351-42e9-bf00-c8944849c7a8\",\"subtype\":\"Figure\",\"type\":\"Plot\"}},\"id\":\"a9cb0d29-8e7e-47a2-93e5-a4704ea0d4a0\",\"type\":\"Legend\"},{\"attributes\":{\"fill_color\":{\"value\":\"#1f77b4\"},\"height\":{\"units\":\"data\",\"value\":0.001},\"line_color\":{\"value\":\"deepskyblue\"},\"width\":{\"units\":\"data\",\"value\":0.2},\"x\":{\"field\":\"x\"},\"y\":{\"field\":\"y\"}},\"id\":\"f9ea384b-9989-47ad-8be5-644f80ebf065\",\"type\":\"Rect\"},{\"attributes\":{\"fill_alpha\":{\"value\":0.1},\"fill_color\":{\"value\":\"#1f77b4\"},\"height\":{\"units\":\"data\",\"value\":0.001},\"line_alpha\":{\"value\":0.1},\"line_color\":{\"value\":\"#1f77b4\"},\"width\":{\"units\":\"data\",\"value\":0.2},\"x\":{\"field\":\"x\"},\"y\":{\"field\":\"y\"}},\"id\":\"bb8933b7-1e62-461a-ae4f-f374334e4a0e\",\"type\":\"Rect\"},{\"attributes\":{\"data_source\":{\"id\":\"4e2be58c-cc15-40b0-b38e-e62f70ffa526\",\"type\":\"ColumnDataSource\"},\"glyph\":{\"id\":\"f9ea384b-9989-47ad-8be5-644f80ebf065\",\"type\":\"Rect\"},\"hover_glyph\":null,\"muted_glyph\":null,\"name\":\"Whiskers\",\"nonselection_glyph\":{\"id\":\"bb8933b7-1e62-461a-ae4f-f374334e4a0e\",\"type\":\"Rect\"},\"selection_glyph\":null,\"view\":{\"id\":\"a87b6af1-3118-4a2c-bd96-fe7da154b2a9\",\"type\":\"CDSView\"}},\"id\":\"450c8fa9-f285-4afb-ad11-0e249f39b423\",\"type\":\"GlyphRenderer\"},{\"attributes\":{\"source\":{\"id\":\"4e2be58c-cc15-40b0-b38e-e62f70ffa526\",\"type\":\"ColumnDataSource\"}},\"id\":\"a87b6af1-3118-4a2c-bd96-fe7da154b2a9\",\"type\":\"CDSView\"},{\"attributes\":{\"callback\":null,\"data\":{\"x\":[\"S2\",\"S2\"],\"y\":[147.58583068847656,152.00094604492188]},\"selected\":{\"id\":\"37d13225-5f8f-4160-b43a-f06859b32ca0\",\"type\":\"Selection\"},\"selection_policy\":{\"id\":\"d9eb6e45-b76c-46b4-9546-b15dd9c69d6a\",\"type\":\"UnionRenderers\"}},\"id\":\"3cd4fffc-3680-478b-b821-8a0c67d5e53c\",\"type\":\"ColumnDataSource\"},{\"attributes\":{\"fill_color\":{\"value\":\"#1f77b4\"},\"height\":{\"units\":\"data\",\"value\":0.001},\"line_color\":{\"value\":\"deepskyblue\"},\"width\":{\"units\":\"data\",\"value\":0.2},\"x\":{\"field\":\"x\"},\"y\":{\"field\":\"y\"}},\"id\":\"b887d9a7-ba02-4ef3-a189-b884a9d81753\",\"type\":\"Rect\"},{\"attributes\":{\"fill_alpha\":{\"value\":0.1},\"fill_color\":{\"value\":\"#1f77b4\"},\"height\":{\"units\":\"data\",\"value\":0.001},\"line_alpha\":{\"value\":0.1},\"line_color\":{\"value\":\"#1f77b4\"},\"width\":{\"units\":\"data\",\"value\":0.2},\"x\":{\"field\":\"x\"},\"y\":{\"field\":\"y\"}},\"id\":\"8d1b00f6-891e-4f3d-a9d6-0f6a191785c3\",\"type\":\"Rect\"},{\"attributes\":{\"data_source\":{\"id\":\"3cd4fffc-3680-478b-b821-8a0c67d5e53c\",\"type\":\"ColumnDataSource\"},\"glyph\":{\"id\":\"b887d9a7-ba02-4ef3-a189-b884a9d81753\",\"type\":\"Rect\"},\"hover_glyph\":null,\"muted_glyph\":null,\"name\":\"Whiskers\",\"nonselection_glyph\":{\"id\":\"8d1b00f6-891e-4f3d-a9d6-0f6a191785c3\",\"type\":\"Rect\"},\"selection_glyph\":null,\"view\":{\"id\":\"569583f0-a5ad-40ac-b3e7-95d867571132\",\"type\":\"CDSView\"}},\"id\":\"a6d8a3f0-f1d1-4732-82af-581248593119\",\"type\":\"GlyphRenderer\"},{\"attributes\":{\"source\":{\"id\":\"3cd4fffc-3680-478b-b821-8a0c67d5e53c\",\"type\":\"ColumnDataSource\"}},\"id\":\"569583f0-a5ad-40ac-b3e7-95d867571132\",\"type\":\"CDSView\"},{\"attributes\":{\"callback\":null,\"data\":{\"x\":[\"S3\",\"S3\"],\"y\":[149.37184143066406,151.1836700439453]},\"selected\":{\"id\":\"2d6d3c2f-5b53-4361-b865-2df49e7fd778\",\"type\":\"Selection\"},\"selection_policy\":{\"id\":\"e6f94d18-5075-4716-980c-f2265553059c\",\"type\":\"UnionRenderers\"}},\"id\":\"6184821e-92af-4238-8771-d0b31e97409c\",\"type\":\"ColumnDataSource\"},{\"attributes\":{\"fill_color\":{\"value\":\"#1f77b4\"},\"height\":{\"units\":\"data\",\"value\":0.001},\"line_color\":{\"value\":\"deepskyblue\"},\"width\":{\"units\":\"data\",\"value\":0.2},\"x\":{\"field\":\"x\"},\"y\":{\"field\":\"y\"}},\"id\":\"752baa27-8ded-4b91-9e94-75d0e078a149\",\"type\":\"Rect\"},{\"attributes\":{\"fill_alpha\":{\"value\":0.1},\"fill_color\":{\"value\":\"#1f77b4\"},\"height\":{\"units\":\"data\",\"value\":0.001},\"line_alpha\":{\"value\":0.1},\"line_color\":{\"value\":\"#1f77b4\"},\"width\":{\"units\":\"data\",\"value\":0.2},\"x\":{\"field\":\"x\"},\"y\":{\"field\":\"y\"}},\"id\":\"707c2fef-2661-459a-8160-daadd27f8d18\",\"type\":\"Rect\"},{\"attributes\":{\"data_source\":{\"id\":\"6184821e-92af-4238-8771-d0b31e97409c\",\"type\":\"ColumnDataSource\"},\"glyph\":{\"id\":\"752baa27-8ded-4b91-9e94-75d0e078a149\",\"type\":\"Rect\"},\"hover_glyph\":null,\"muted_glyph\":null,\"name\":\"Whiskers\",\"nonselection_glyph\":{\"id\":\"707c2fef-2661-459a-8160-daadd27f8d18\",\"type\":\"Rect\"},\"selection_glyph\":null,\"view\":{\"id\":\"2210293d-c64f-4f54-a56d-6a4ed6da7372\",\"type\":\"CDSView\"}},\"id\":\"d16500d3-ec69-43b6-aeaa-bf99ffd0b19a\",\"type\":\"GlyphRenderer\"},{\"attributes\":{\"source\":{\"id\":\"6184821e-92af-4238-8771-d0b31e97409c\",\"type\":\"ColumnDataSource\"}},\"id\":\"2210293d-c64f-4f54-a56d-6a4ed6da7372\",\"type\":\"CDSView\"},{\"attributes\":{},\"id\":\"e689cec5-dc7a-497d-ac76-7cfdc97cff25\",\"type\":\"BasicTickFormatter\"},{\"attributes\":{\"callback\":null,\"data\":{\"x\":[\"S4\",\"S4\"],\"y\":[150.00550842285156,152.96119689941406]},\"selected\":{\"id\":\"9253512f-082f-4f37-973c-4a7e0977b87d\",\"type\":\"Selection\"},\"selection_policy\":{\"id\":\"0ae89cd5-1c1c-424b-99fb-0baad9bcb79a\",\"type\":\"UnionRenderers\"}},\"id\":\"63cbae86-3681-4ca2-a398-c833a8afad0f\",\"type\":\"ColumnDataSource\"},{\"attributes\":{\"fill_color\":{\"value\":\"#1f77b4\"},\"height\":{\"units\":\"data\",\"value\":0.001},\"line_color\":{\"value\":\"deepskyblue\"},\"width\":{\"units\":\"data\",\"value\":0.2},\"x\":{\"field\":\"x\"},\"y\":{\"field\":\"y\"}},\"id\":\"924dcc40-bd6e-4a26-a264-adf86cfb88b5\",\"type\":\"Rect\"},{\"attributes\":{\"fill_alpha\":{\"value\":0.1},\"fill_color\":{\"value\":\"#1f77b4\"},\"height\":{\"units\":\"data\",\"value\":0.001},\"line_alpha\":{\"value\":0.1},\"line_color\":{\"value\":\"#1f77b4\"},\"width\":{\"units\":\"data\",\"value\":0.2},\"x\":{\"field\":\"x\"},\"y\":{\"field\":\"y\"}},\"id\":\"1ba2f5be-a696-47f3-b98b-f3ca0c046449\",\"type\":\"Rect\"},{\"attributes\":{\"data_source\":{\"id\":\"63cbae86-3681-4ca2-a398-c833a8afad0f\",\"type\":\"ColumnDataSource\"},\"glyph\":{\"id\":\"924dcc40-bd6e-4a26-a264-adf86cfb88b5\",\"type\":\"Rect\"},\"hover_glyph\":null,\"muted_glyph\":null,\"name\":\"Whiskers\",\"nonselection_glyph\":{\"id\":\"1ba2f5be-a696-47f3-b98b-f3ca0c046449\",\"type\":\"Rect\"},\"selection_glyph\":null,\"view\":{\"id\":\"ec699a06-ff1c-45cb-8bdc-32006e56a432\",\"type\":\"CDSView\"}},\"id\":\"4c82d778-398e-49cc-90f5-fa43557a8701\",\"type\":\"GlyphRenderer\"},{\"attributes\":{\"source\":{\"id\":\"63cbae86-3681-4ca2-a398-c833a8afad0f\",\"type\":\"ColumnDataSource\"}},\"id\":\"ec699a06-ff1c-45cb-8bdc-32006e56a432\",\"type\":\"CDSView\"},{\"attributes\":{\"callback\":null,\"data\":{\"x\":[\"S5\",\"S5\"],\"y\":[154.00987243652344,160.9927978515625]},\"selected\":{\"id\":\"f1f3f38c-2f08-48e9-99fb-41b5b5899162\",\"type\":\"Selection\"},\"selection_policy\":{\"id\":\"d0870b4b-fb86-4a8a-9c27-6bfed2e39056\",\"type\":\"UnionRenderers\"}},\"id\":\"2344c00f-e8c3-45b1-bde4-e4d69dd93829\",\"type\":\"ColumnDataSource\"},{\"attributes\":{\"fill_color\":{\"value\":\"#1f77b4\"},\"height\":{\"units\":\"data\",\"value\":0.001},\"line_color\":{\"value\":\"deepskyblue\"},\"width\":{\"units\":\"data\",\"value\":0.2},\"x\":{\"field\":\"x\"},\"y\":{\"field\":\"y\"}},\"id\":\"da4f423b-cd3f-438c-81db-b1660616c88c\",\"type\":\"Rect\"},{\"attributes\":{\"fill_alpha\":{\"value\":0.1},\"fill_color\":{\"value\":\"#1f77b4\"},\"height\":{\"units\":\"data\",\"value\":0.001},\"line_alpha\":{\"value\":0.1},\"line_color\":{\"value\":\"#1f77b4\"},\"width\":{\"units\":\"data\",\"value\":0.2},\"x\":{\"field\":\"x\"},\"y\":{\"field\":\"y\"}},\"id\":\"c9145377-b30e-46d6-ac2b-8b3fa8ebea89\",\"type\":\"Rect\"},{\"attributes\":{\"data_source\":{\"id\":\"2344c00f-e8c3-45b1-bde4-e4d69dd93829\",\"type\":\"ColumnDataSource\"},\"glyph\":{\"id\":\"da4f423b-cd3f-438c-81db-b1660616c88c\",\"type\":\"Rect\"},\"hover_glyph\":null,\"muted_glyph\":null,\"name\":\"Whiskers\",\"nonselection_glyph\":{\"id\":\"c9145377-b30e-46d6-ac2b-8b3fa8ebea89\",\"type\":\"Rect\"},\"selection_glyph\":null,\"view\":{\"id\":\"84032f0d-b1ef-43cd-9949-ca8d0e0dbef9\",\"type\":\"CDSView\"}},\"id\":\"37b1246d-7c43-4432-b179-7121b926deca\",\"type\":\"GlyphRenderer\"},{\"attributes\":{\"source\":{\"id\":\"2344c00f-e8c3-45b1-bde4-e4d69dd93829\",\"type\":\"ColumnDataSource\"}},\"id\":\"84032f0d-b1ef-43cd-9949-ca8d0e0dbef9\",\"type\":\"CDSView\"},{\"attributes\":{\"callback\":null,\"data\":{\"x\":[\"T1\",\"T1\"],\"y\":[146.54168701171875,151.5968780517578]},\"selected\":{\"id\":\"b6a57864-ce89-4e5e-a291-0900319a070d\",\"type\":\"Selection\"},\"selection_policy\":{\"id\":\"90de570f-c7ba-4043-a298-34280c996ffb\",\"type\":\"UnionRenderers\"}},\"id\":\"602d0189-3442-486e-beea-c5f2b81da151\",\"type\":\"ColumnDataSource\"},{\"attributes\":{\"fill_color\":{\"value\":\"#1f77b4\"},\"height\":{\"units\":\"data\",\"value\":0.001},\"line_color\":{\"value\":\"deepskyblue\"},\"width\":{\"units\":\"data\",\"value\":0.2},\"x\":{\"field\":\"x\"},\"y\":{\"field\":\"y\"}},\"id\":\"ebc6d611-bebf-4eed-ad05-44d0ee6af223\",\"type\":\"Rect\"},{\"attributes\":{\"fill_alpha\":{\"value\":0.1},\"fill_color\":{\"value\":\"#1f77b4\"},\"height\":{\"units\":\"data\",\"value\":0.001},\"line_alpha\":{\"value\":0.1},\"line_color\":{\"value\":\"#1f77b4\"},\"width\":{\"units\":\"data\",\"value\":0.2},\"x\":{\"field\":\"x\"},\"y\":{\"field\":\"y\"}},\"id\":\"ca7d8264-56f1-4941-b7a7-8e65a6c91e12\",\"type\":\"Rect\"},{\"attributes\":{\"data_source\":{\"id\":\"602d0189-3442-486e-beea-c5f2b81da151\",\"type\":\"ColumnDataSource\"},\"glyph\":{\"id\":\"ebc6d611-bebf-4eed-ad05-44d0ee6af223\",\"type\":\"Rect\"},\"hover_glyph\":null,\"muted_glyph\":null,\"name\":\"Whiskers\",\"nonselection_glyph\":{\"id\":\"ca7d8264-56f1-4941-b7a7-8e65a6c91e12\",\"type\":\"Rect\"},\"selection_glyph\":null,\"view\":{\"id\":\"2de3d0aa-961d-4b9d-92c7-af11dc46b0dc\",\"type\":\"CDSView\"}},\"id\":\"52c7cdf3-bdcb-4048-8f4a-dba022e08cc0\",\"type\":\"GlyphRenderer\"},{\"attributes\":{\"source\":{\"id\":\"602d0189-3442-486e-beea-c5f2b81da151\",\"type\":\"ColumnDataSource\"}},\"id\":\"2de3d0aa-961d-4b9d-92c7-af11dc46b0dc\",\"type\":\"CDSView\"},{\"attributes\":{\"callback\":null,\"data\":{\"x\":[\"T2\",\"T2\"],\"y\":[148.20840454101562,151.58773803710938]},\"selected\":{\"id\":\"d646395b-c272-48b3-ae06-162df9cb8da3\",\"type\":\"Selection\"},\"selection_policy\":{\"id\":\"a5d32bf8-f411-4751-a828-1f6669776a46\",\"type\":\"UnionRenderers\"}},\"id\":\"28a1f9d7-90ac-413a-9ec4-ccc802c812dd\",\"type\":\"ColumnDataSource\"},{\"attributes\":{\"fill_color\":{\"value\":\"#1f77b4\"},\"height\":{\"units\":\"data\",\"value\":0.001},\"line_color\":{\"value\":\"deepskyblue\"},\"width\":{\"units\":\"data\",\"value\":0.2},\"x\":{\"field\":\"x\"},\"y\":{\"field\":\"y\"}},\"id\":\"7ee07bf7-86cb-414a-b264-91ee797afd58\",\"type\":\"Rect\"},{\"attributes\":{\"fill_alpha\":{\"value\":0.1},\"fill_color\":{\"value\":\"#1f77b4\"},\"height\":{\"units\":\"data\",\"value\":0.001},\"line_alpha\":{\"value\":0.1},\"line_color\":{\"value\":\"#1f77b4\"},\"width\":{\"units\":\"data\",\"value\":0.2},\"x\":{\"field\":\"x\"},\"y\":{\"field\":\"y\"}},\"id\":\"439e7cba-ba68-45f9-88e2-586905c389ff\",\"type\":\"Rect\"},{\"attributes\":{\"data_source\":{\"id\":\"28a1f9d7-90ac-413a-9ec4-ccc802c812dd\",\"type\":\"ColumnDataSource\"},\"glyph\":{\"id\":\"7ee07bf7-86cb-414a-b264-91ee797afd58\",\"type\":\"Rect\"},\"hover_glyph\":null,\"muted_glyph\":null,\"name\":\"Whiskers\",\"nonselection_glyph\":{\"id\":\"439e7cba-ba68-45f9-88e2-586905c389ff\",\"type\":\"Rect\"},\"selection_glyph\":null,\"view\":{\"id\":\"a85e2564-e092-4c51-b16b-bab7fd80427b\",\"type\":\"CDSView\"}},\"id\":\"c0d64067-5af2-4e53-8883-6896b3b78d8b\",\"type\":\"GlyphRenderer\"},{\"attributes\":{\"source\":{\"id\":\"28a1f9d7-90ac-413a-9ec4-ccc802c812dd\",\"type\":\"ColumnDataSource\"}},\"id\":\"a85e2564-e092-4c51-b16b-bab7fd80427b\",\"type\":\"CDSView\"},{\"attributes\":{},\"id\":\"8946465a-de0d-4be7-a4a0-59e4fe69035b\",\"type\":\"Selection\"},{\"attributes\":{},\"id\":\"9c5a4428-2e96-4a1d-b3f5-ea6f9cf16b33\",\"type\":\"UnionRenderers\"},{\"attributes\":{},\"id\":\"0f61320c-8178-4014-b69f-babc229d3882\",\"type\":\"UnionRenderers\"},{\"attributes\":{},\"id\":\"f6afceca-23f0-4793-ba98-b3599b82b41f\",\"type\":\"UnionRenderers\"},{\"attributes\":{},\"id\":\"cd751ba8-405c-49c8-911e-c824952e7541\",\"type\":\"Selection\"},{\"attributes\":{},\"id\":\"d5f501a8-34bd-4bef-b0ba-d39748ea5d57\",\"type\":\"UnionRenderers\"},{\"attributes\":{},\"id\":\"04c4d6b3-5b69-414b-b9ba-20b377ef97ed\",\"type\":\"Selection\"},{\"attributes\":{},\"id\":\"c6a6d94f-c8d9-43d1-a8b1-b4eaa178d419\",\"type\":\"UnionRenderers\"},{\"attributes\":{},\"id\":\"773b32f3-8800-4087-bc6a-d7f6ff8c9263\",\"type\":\"Selection\"},{\"attributes\":{},\"id\":\"e5c11162-0ebd-4091-96b5-46922526a84a\",\"type\":\"UnionRenderers\"},{\"attributes\":{},\"id\":\"34c97508-c126-40e6-a3c2-0a10c0732783\",\"type\":\"Selection\"},{\"attributes\":{},\"id\":\"19331108-7836-4d06-ac84-540abface3a6\",\"type\":\"UnionRenderers\"},{\"attributes\":{},\"id\":\"48d421cd-60d8-49a8-b898-24fed293fd1c\",\"type\":\"CategoricalScale\"},{\"attributes\":{},\"id\":\"25bbbedb-8766-46d9-b62c-5dbaa0b46c6b\",\"type\":\"Selection\"},{\"attributes\":{},\"id\":\"466c29f4-2272-46ec-9447-9e6e408014b6\",\"type\":\"UnionRenderers\"},{\"attributes\":{},\"id\":\"1a8291d6-b861-40da-a049-8442b2bd9ad1\",\"type\":\"Selection\"},{\"attributes\":{},\"id\":\"7c0d904c-a187-4faa-90b9-e90e37ee7931\",\"type\":\"UnionRenderers\"},{\"attributes\":{},\"id\":\"a25ecb2a-0b74-4b72-9cec-a4c3a5e27575\",\"type\":\"Selection\"},{\"attributes\":{},\"id\":\"a137f9ab-b32a-4f7f-8446-8a766b2183b8\",\"type\":\"UnionRenderers\"},{\"attributes\":{},\"id\":\"0c1088b0-8347-4feb-8ba8-22941f3564b9\",\"type\":\"Selection\"},{\"attributes\":{},\"id\":\"d5f448f8-bcde-4e0a-8649-e5339e062123\",\"type\":\"UnionRenderers\"},{\"attributes\":{},\"id\":\"e2cba72e-db78-41f7-b8ac-0e618bda9d6a\",\"type\":\"Selection\"},{\"attributes\":{},\"id\":\"1ce84df8-999c-4cba-af24-600c25defd06\",\"type\":\"LinearScale\"},{\"attributes\":{},\"id\":\"84792fe8-acaf-494c-85ab-03e3e1d48f5b\",\"type\":\"UnionRenderers\"},{\"attributes\":{},\"id\":\"3a4838e7-509b-4f7d-959f-fbc1c694ed6d\",\"type\":\"Selection\"},{\"attributes\":{},\"id\":\"d6643fbe-0826-48fe-a0ed-57ff47297fb7\",\"type\":\"UnionRenderers\"},{\"attributes\":{},\"id\":\"aa693a08-bb32-435e-8540-3617aa3e7571\",\"type\":\"Selection\"},{\"attributes\":{},\"id\":\"34e5e9e0-989b-4815-8fac-25762b1b25d7\",\"type\":\"UnionRenderers\"},{\"attributes\":{},\"id\":\"4beddafa-f11a-4287-9b13-ed657feb08eb\",\"type\":\"Selection\"},{\"attributes\":{},\"id\":\"e52bd8c3-a02b-4b6c-9d77-994877624a88\",\"type\":\"UnionRenderers\"},{\"attributes\":{},\"id\":\"d616722c-948b-442d-9e82-a42e295ef5de\",\"type\":\"Selection\"},{\"attributes\":{},\"id\":\"a55d052d-1062-415d-8f64-f61e25df2971\",\"type\":\"UnionRenderers\"},{\"attributes\":{},\"id\":\"edac2390-1819-4de5-b9be-c9b687be281b\",\"type\":\"Selection\"},{\"attributes\":{},\"id\":\"1fd784f2-ba36-44a8-b4c7-f53e2c272ec5\",\"type\":\"UnionRenderers\"},{\"attributes\":{},\"id\":\"94ec2b58-d107-471d-91df-ddba88e01223\",\"type\":\"Selection\"},{\"attributes\":{},\"id\":\"74141777-a57d-4002-a0e5-89f3fbfa3d0d\",\"type\":\"UnionRenderers\"},{\"attributes\":{},\"id\":\"3ef3bafe-61cc-4342-88c0-e9976f2d3194\",\"type\":\"Selection\"},{\"attributes\":{\"fill_alpha\":{\"value\":0.1},\"fill_color\":{\"value\":\"#1f77b4\"},\"height\":{\"units\":\"data\",\"value\":0.001},\"line_alpha\":{\"value\":0.1},\"line_color\":{\"value\":\"#1f77b4\"},\"width\":{\"units\":\"data\",\"value\":0.2},\"x\":{\"field\":\"x\"},\"y\":{\"field\":\"y\"}},\"id\":\"42793913-ac5f-437a-8e26-ca12c404c458\",\"type\":\"Rect\"},{\"attributes\":{},\"id\":\"e3d8851b-2ba7-4cb6-8b65-663120504477\",\"type\":\"UnionRenderers\"},{\"attributes\":{\"data_source\":{\"id\":\"c89f4fa6-1fae-4971-a197-d26c1b39b8af\",\"type\":\"ColumnDataSource\"},\"glyph\":{\"id\":\"cfe408bc-0cef-403e-a0f9-6a40dc3499ce\",\"type\":\"Rect\"},\"hover_glyph\":null,\"muted_glyph\":null,\"name\":\"Whiskers\",\"nonselection_glyph\":{\"id\":\"192a8591-6d6b-4071-acce-ea267fb73c37\",\"type\":\"Rect\"},\"selection_glyph\":null,\"view\":{\"id\":\"53a35e68-8fad-476b-a0cd-c96ea8387ce5\",\"type\":\"CDSView\"}},\"id\":\"ec794431-df22-4587-888e-c411ee7aae2c\",\"type\":\"GlyphRenderer\"},{\"attributes\":{},\"id\":\"dbe5c706-39df-46fd-8b04-d65c4ce57730\",\"type\":\"UnionRenderers\"},{\"attributes\":{\"data_source\":{\"id\":\"718535c8-7cd9-4142-9f74-03192d034e16\",\"type\":\"ColumnDataSource\"},\"glyph\":{\"id\":\"78b040a2-2dd9-4738-8f07-9b26d7f380a2\",\"type\":\"Rect\"},\"hover_glyph\":null,\"muted_glyph\":null,\"name\":\"Whiskers\",\"nonselection_glyph\":{\"id\":\"42793913-ac5f-437a-8e26-ca12c404c458\",\"type\":\"Rect\"},\"selection_glyph\":null,\"view\":{\"id\":\"8ecccd87-d766-43ae-a3af-c4adc0f0c53b\",\"type\":\"CDSView\"}},\"id\":\"f0da1ec1-106c-42fa-8778-e52b5929406e\",\"type\":\"GlyphRenderer\"},{\"attributes\":{\"label\":{\"value\":\"True Dia\"},\"renderers\":[{\"id\":\"ee1cde9c-3858-442a-917c-3530e6259764\",\"type\":\"GlyphRenderer\"}]},\"id\":\"d6ec5de5-057e-4ff5-8e65-c98d78d88418\",\"type\":\"LegendItem\"},{\"attributes\":{\"callback\":null,\"data\":{\"x\":[\"A1\",\"A1\"],\"y\":[148.2691650390625,151.2535858154297]},\"selected\":{\"id\":\"d2acea18-90a8-4437-9ff2-690f32e80d03\",\"type\":\"Selection\"},\"selection_policy\":{\"id\":\"842b18a2-14b7-4d05-8e0d-e5a81d5c2c4e\",\"type\":\"UnionRenderers\"}},\"id\":\"45630687-f811-41ca-a2f9-a9994873bfd7\",\"type\":\"ColumnDataSource\"},{\"attributes\":{\"source\":{\"id\":\"718535c8-7cd9-4142-9f74-03192d034e16\",\"type\":\"ColumnDataSource\"}},\"id\":\"8ecccd87-d766-43ae-a3af-c4adc0f0c53b\",\"type\":\"CDSView\"},{\"attributes\":{\"fill_color\":{\"value\":\"blue\"},\"line_alpha\":{\"value\":0},\"line_color\":{\"value\":\"blue\"},\"size\":{\"units\":\"screen\",\"value\":9},\"x\":{\"field\":\"x\"},\"y\":{\"field\":\"y\"}},\"id\":\"90624019-1a9f-4f90-8a4f-2fb553973693\",\"type\":\"Circle\"},{\"attributes\":{\"callback\":null,\"data\":{\"x\":[\"D2\",\"D2\"],\"y\":[147.13076782226562,151.90171813964844]},\"selected\":{\"id\":\"e2cba72e-db78-41f7-b8ac-0e618bda9d6a\",\"type\":\"Selection\"},\"selection_policy\":{\"id\":\"84792fe8-acaf-494c-85ab-03e3e1d48f5b\",\"type\":\"UnionRenderers\"}},\"id\":\"79f74d00-8906-437d-95ec-cdd4c62b3af7\",\"type\":\"ColumnDataSource\"},{\"attributes\":{\"fill_alpha\":{\"value\":0.1},\"fill_color\":{\"value\":\"#1f77b4\"},\"line_alpha\":{\"value\":0.1},\"line_color\":{\"value\":\"#1f77b4\"},\"size\":{\"units\":\"screen\",\"value\":9},\"x\":{\"field\":\"x\"},\"y\":{\"field\":\"y\"}},\"id\":\"bb8a6484-4672-4c86-ba4c-129a3bfce7b9\",\"type\":\"Circle\"},{\"attributes\":{\"fill_color\":{\"value\":\"#1f77b4\"},\"height\":{\"units\":\"data\",\"value\":0.001},\"line_color\":{\"value\":\"deepskyblue\"},\"width\":{\"units\":\"data\",\"value\":0.2},\"x\":{\"field\":\"x\"},\"y\":{\"field\":\"y\"}},\"id\":\"fdb33806-801e-47a9-b2b6-a2e47a2f74f3\",\"type\":\"Rect\"},{\"attributes\":{\"data_source\":{\"id\":\"f7a40e6d-6c66-4e79-ade2-543d724cc546\",\"type\":\"ColumnDataSource\"},\"glyph\":{\"id\":\"90624019-1a9f-4f90-8a4f-2fb553973693\",\"type\":\"Circle\"},\"hover_glyph\":null,\"muted_glyph\":null,\"name\":\"DiaPoints\",\"nonselection_glyph\":{\"id\":\"bb8a6484-4672-4c86-ba4c-129a3bfce7b9\",\"type\":\"Circle\"},\"selection_glyph\":null,\"view\":{\"id\":\"4a5c3837-624c-4ffc-91df-7af6372ea185\",\"type\":\"CDSView\"}},\"id\":\"5dc87f6d-4dbe-458f-b817-ac55dcca0fa3\",\"type\":\"GlyphRenderer\"},{\"attributes\":{\"fill_alpha\":{\"value\":0.1},\"fill_color\":{\"value\":\"#1f77b4\"},\"height\":{\"units\":\"data\",\"value\":0.001},\"line_alpha\":{\"value\":0.1},\"line_color\":{\"value\":\"#1f77b4\"},\"width\":{\"units\":\"data\",\"value\":0.2},\"x\":{\"field\":\"x\"},\"y\":{\"field\":\"y\"}},\"id\":\"d7efa0bd-4e6a-4f3b-b248-ad735eb715b4\",\"type\":\"Rect\"},{\"attributes\":{},\"id\":\"bf499352-7f69-4446-86a3-63412f00b290\",\"type\":\"UnionRenderers\"},{\"attributes\":{\"data_source\":{\"id\":\"79f74d00-8906-437d-95ec-cdd4c62b3af7\",\"type\":\"ColumnDataSource\"},\"glyph\":{\"id\":\"fdb33806-801e-47a9-b2b6-a2e47a2f74f3\",\"type\":\"Rect\"},\"hover_glyph\":null,\"muted_glyph\":null,\"name\":\"Whiskers\",\"nonselection_glyph\":{\"id\":\"d7efa0bd-4e6a-4f3b-b248-ad735eb715b4\",\"type\":\"Rect\"},\"selection_glyph\":null,\"view\":{\"id\":\"b105121c-750a-42fb-bf99-6c610901526e\",\"type\":\"CDSView\"}},\"id\":\"4a7b462f-265d-4b1a-beb3-a080b66a7f06\",\"type\":\"GlyphRenderer\"},{\"attributes\":{\"source\":{\"id\":\"f7a40e6d-6c66-4e79-ade2-543d724cc546\",\"type\":\"ColumnDataSource\"}},\"id\":\"4a5c3837-624c-4ffc-91df-7af6372ea185\",\"type\":\"CDSView\"},{\"attributes\":{\"source\":{\"id\":\"79f74d00-8906-437d-95ec-cdd4c62b3af7\",\"type\":\"ColumnDataSource\"}},\"id\":\"b105121c-750a-42fb-bf99-6c610901526e\",\"type\":\"CDSView\"},{\"attributes\":{},\"id\":\"6c5f9029-3e0a-4132-8a0b-90d0b46a9977\",\"type\":\"Selection\"},{\"attributes\":{},\"id\":\"d2acea18-90a8-4437-9ff2-690f32e80d03\",\"type\":\"Selection\"},{\"attributes\":{\"fill_color\":{\"value\":\"#1f77b4\"},\"height\":{\"units\":\"data\",\"value\":0.001},\"line_color\":{\"value\":\"deepskyblue\"},\"width\":{\"units\":\"data\",\"value\":0.2},\"x\":{\"field\":\"x\"},\"y\":{\"field\":\"y\"}},\"id\":\"78b040a2-2dd9-4738-8f07-9b26d7f380a2\",\"type\":\"Rect\"},{\"attributes\":{\"callback\":null,\"data\":{\"x\":[\"E1\",\"E1\"],\"y\":[147.9992218017578,151.4329833984375]},\"selected\":{\"id\":\"3a4838e7-509b-4f7d-959f-fbc1c694ed6d\",\"type\":\"Selection\"},\"selection_policy\":{\"id\":\"d6643fbe-0826-48fe-a0ed-57ff47297fb7\",\"type\":\"UnionRenderers\"}},\"id\":\"39444f30-4c99-468c-ba97-984ccb6164ba\",\"type\":\"ColumnDataSource\"},{\"attributes\":{},\"id\":\"85ad70bf-766b-4688-989b-86e30843a5d5\",\"type\":\"Selection\"},{\"attributes\":{\"label\":{\"value\":\"Predicted Dia (Mean)\"},\"renderers\":[{\"id\":\"5dc87f6d-4dbe-458f-b817-ac55dcca0fa3\",\"type\":\"GlyphRenderer\"}]},\"id\":\"01fc1e4c-3ab1-4226-a7ae-ac1f81eed3fe\",\"type\":\"LegendItem\"},{\"attributes\":{\"fill_color\":{\"value\":\"#1f77b4\"},\"height\":{\"units\":\"data\",\"value\":0.001},\"line_color\":{\"value\":\"deepskyblue\"},\"width\":{\"units\":\"data\",\"value\":0.2},\"x\":{\"field\":\"x\"},\"y\":{\"field\":\"y\"}},\"id\":\"2da5eb2d-d59d-4eaf-a244-ffb5171d0254\",\"type\":\"Rect\"},{\"attributes\":{},\"id\":\"842b18a2-14b7-4d05-8e0d-e5a81d5c2c4e\",\"type\":\"UnionRenderers\"},{\"attributes\":{\"callback\":null,\"end\":165,\"start\":135},\"id\":\"c1a6c21f-223d-4b40-8d1f-b4369b59fc81\",\"type\":\"Range1d\"},{\"attributes\":{\"fill_alpha\":{\"value\":0.1},\"fill_color\":{\"value\":\"#1f77b4\"},\"height\":{\"units\":\"data\",\"value\":0.001},\"line_alpha\":{\"value\":0.1},\"line_color\":{\"value\":\"#1f77b4\"},\"width\":{\"units\":\"data\",\"value\":0.2},\"x\":{\"field\":\"x\"},\"y\":{\"field\":\"y\"}},\"id\":\"31167048-589a-4538-a0f6-eb2b7d662174\",\"type\":\"Rect\"},{\"attributes\":{},\"id\":\"2ae6dee4-c29e-421d-aa99-7b3826658fc1\",\"type\":\"UnionRenderers\"},{\"attributes\":{\"data_source\":{\"id\":\"39444f30-4c99-468c-ba97-984ccb6164ba\",\"type\":\"ColumnDataSource\"},\"glyph\":{\"id\":\"2da5eb2d-d59d-4eaf-a244-ffb5171d0254\",\"type\":\"Rect\"},\"hover_glyph\":null,\"muted_glyph\":null,\"name\":\"Whiskers\",\"nonselection_glyph\":{\"id\":\"31167048-589a-4538-a0f6-eb2b7d662174\",\"type\":\"Rect\"},\"selection_glyph\":null,\"view\":{\"id\":\"e894cace-4e7c-4a4a-b6c4-39b5374a8451\",\"type\":\"CDSView\"}},\"id\":\"837c5950-bfae-4b72-880d-7ade016b016a\",\"type\":\"GlyphRenderer\"},{\"attributes\":{\"fill_color\":{\"value\":\"#1f77b4\"},\"height\":{\"units\":\"data\",\"value\":0.001},\"line_color\":{\"value\":\"deepskyblue\"},\"width\":{\"units\":\"data\",\"value\":0.2},\"x\":{\"field\":\"x\"},\"y\":{\"field\":\"y\"}},\"id\":\"eb07a0b1-ccb7-4ae5-8d55-e5682fa8e667\",\"type\":\"Rect\"},{\"attributes\":{\"fill_alpha\":{\"value\":0.1},\"fill_color\":{\"value\":\"#1f77b4\"},\"height\":{\"units\":\"data\",\"value\":0.001},\"line_alpha\":{\"value\":0.1},\"line_color\":{\"value\":\"#1f77b4\"},\"width\":{\"units\":\"data\",\"value\":0.2},\"x\":{\"field\":\"x\"},\"y\":{\"field\":\"y\"}},\"id\":\"0f09a929-b941-4426-a65a-29aefaf99f9b\",\"type\":\"Rect\"},{\"attributes\":{\"source\":{\"id\":\"39444f30-4c99-468c-ba97-984ccb6164ba\",\"type\":\"ColumnDataSource\"}},\"id\":\"e894cace-4e7c-4a4a-b6c4-39b5374a8451\",\"type\":\"CDSView\"},{\"attributes\":{},\"id\":\"5ad37cfe-5733-4555-a6d1-6cb89e129f75\",\"type\":\"Selection\"},{\"attributes\":{\"data_source\":{\"id\":\"45630687-f811-41ca-a2f9-a9994873bfd7\",\"type\":\"ColumnDataSource\"},\"glyph\":{\"id\":\"eb07a0b1-ccb7-4ae5-8d55-e5682fa8e667\",\"type\":\"Rect\"},\"hover_glyph\":null,\"muted_glyph\":null,\"name\":\"Whiskers\",\"nonselection_glyph\":{\"id\":\"0f09a929-b941-4426-a65a-29aefaf99f9b\",\"type\":\"Rect\"},\"selection_glyph\":null,\"view\":{\"id\":\"70ccda4a-908a-4853-adfa-da6a823f1c5c\",\"type\":\"CDSView\"}},\"id\":\"0f78670d-d805-4062-8a60-d48f9427ea29\",\"type\":\"GlyphRenderer\"},{\"attributes\":{\"callback\":null,\"data\":{\"x\":[\"E2\",\"E2\"],\"y\":[149.20358276367188,151.37258911132812]},\"selected\":{\"id\":\"aa693a08-bb32-435e-8540-3617aa3e7571\",\"type\":\"Selection\"},\"selection_policy\":{\"id\":\"34e5e9e0-989b-4815-8fac-25762b1b25d7\",\"type\":\"UnionRenderers\"}},\"id\":\"211821bd-60e4-48f2-b186-9466355cba90\",\"type\":\"ColumnDataSource\"},{\"attributes\":{},\"id\":\"6557aa8b-596b-4b91-81aa-a95a29d718be\",\"type\":\"Selection\"},{\"attributes\":{\"source\":{\"id\":\"45630687-f811-41ca-a2f9-a9994873bfd7\",\"type\":\"ColumnDataSource\"}},\"id\":\"70ccda4a-908a-4853-adfa-da6a823f1c5c\",\"type\":\"CDSView\"},{\"attributes\":{\"fill_color\":{\"value\":\"#1f77b4\"},\"height\":{\"units\":\"data\",\"value\":0.001},\"line_color\":{\"value\":\"deepskyblue\"},\"width\":{\"units\":\"data\",\"value\":0.2},\"x\":{\"field\":\"x\"},\"y\":{\"field\":\"y\"}},\"id\":\"04aa32f8-d7c9-4bc1-b7ab-b57ebefd1f78\",\"type\":\"Rect\"},{\"attributes\":{\"callback\":null,\"data\":{\"x\":[\"A2\",\"A2\"],\"y\":[148.33828735351562,151.78639221191406]},\"selected\":{\"id\":\"6557aa8b-596b-4b91-81aa-a95a29d718be\",\"type\":\"Selection\"},\"selection_policy\":{\"id\":\"2ae6dee4-c29e-421d-aa99-7b3826658fc1\",\"type\":\"UnionRenderers\"}},\"id\":\"6d313f35-2f66-4120-b5b6-bb9012e5d251\",\"type\":\"ColumnDataSource\"},{\"attributes\":{\"fill_alpha\":{\"value\":0.1},\"fill_color\":{\"value\":\"#1f77b4\"},\"height\":{\"units\":\"data\",\"value\":0.001},\"line_alpha\":{\"value\":0.1},\"line_color\":{\"value\":\"#1f77b4\"},\"width\":{\"units\":\"data\",\"value\":0.2},\"x\":{\"field\":\"x\"},\"y\":{\"field\":\"y\"}},\"id\":\"84aaac33-612f-400a-afde-33d3af8cf805\",\"type\":\"Rect\"},{\"attributes\":{\"data_source\":{\"id\":\"211821bd-60e4-48f2-b186-9466355cba90\",\"type\":\"ColumnDataSource\"},\"glyph\":{\"id\":\"04aa32f8-d7c9-4bc1-b7ab-b57ebefd1f78\",\"type\":\"Rect\"},\"hover_glyph\":null,\"muted_glyph\":null,\"name\":\"Whiskers\",\"nonselection_glyph\":{\"id\":\"84aaac33-612f-400a-afde-33d3af8cf805\",\"type\":\"Rect\"},\"selection_glyph\":null,\"view\":{\"id\":\"ebf04e39-72c7-4953-a848-5e1af7ee9204\",\"type\":\"CDSView\"}},\"id\":\"55e4113f-e0e7-4150-80ca-1396e6430a12\",\"type\":\"GlyphRenderer\"},{\"attributes\":{\"fill_color\":{\"value\":\"#1f77b4\"},\"height\":{\"units\":\"data\",\"value\":0.001},\"line_color\":{\"value\":\"deepskyblue\"},\"width\":{\"units\":\"data\",\"value\":0.2},\"x\":{\"field\":\"x\"},\"y\":{\"field\":\"y\"}},\"id\":\"85448e27-9aba-4b5b-8f15-486d78e626fd\",\"type\":\"Rect\"},{\"attributes\":{},\"id\":\"5504e9aa-9ba5-4175-86b8-18b87a240143\",\"type\":\"Selection\"},{\"attributes\":{\"fill_alpha\":{\"value\":0.1},\"fill_color\":{\"value\":\"#1f77b4\"},\"height\":{\"units\":\"data\",\"value\":0.001},\"line_alpha\":{\"value\":0.1},\"line_color\":{\"value\":\"#1f77b4\"},\"width\":{\"units\":\"data\",\"value\":0.2},\"x\":{\"field\":\"x\"},\"y\":{\"field\":\"y\"}},\"id\":\"fe666843-db04-4440-8252-3f480e7961cb\",\"type\":\"Rect\"},{\"attributes\":{\"source\":{\"id\":\"211821bd-60e4-48f2-b186-9466355cba90\",\"type\":\"ColumnDataSource\"}},\"id\":\"ebf04e39-72c7-4953-a848-5e1af7ee9204\",\"type\":\"CDSView\"},{\"attributes\":{},\"id\":\"a9bc19cb-1812-47d5-8571-a70cc178b064\",\"type\":\"Selection\"},{\"attributes\":{\"data_source\":{\"id\":\"6d313f35-2f66-4120-b5b6-bb9012e5d251\",\"type\":\"ColumnDataSource\"},\"glyph\":{\"id\":\"85448e27-9aba-4b5b-8f15-486d78e626fd\",\"type\":\"Rect\"},\"hover_glyph\":null,\"muted_glyph\":null,\"name\":\"Whiskers\",\"nonselection_glyph\":{\"id\":\"fe666843-db04-4440-8252-3f480e7961cb\",\"type\":\"Rect\"},\"selection_glyph\":null,\"view\":{\"id\":\"d52d3c84-d5f0-4674-aedc-f0eb101f92ee\",\"type\":\"CDSView\"}},\"id\":\"db0e2b08-520b-4cbb-8eec-eca64eca2395\",\"type\":\"GlyphRenderer\"},{\"attributes\":{\"callback\":null,\"data\":{\"x\":[\"F1\",\"F1\"],\"y\":[145.59512329101562,151.73114013671875]},\"selected\":{\"id\":\"4beddafa-f11a-4287-9b13-ed657feb08eb\",\"type\":\"Selection\"},\"selection_policy\":{\"id\":\"e52bd8c3-a02b-4b6c-9d77-994877624a88\",\"type\":\"UnionRenderers\"}},\"id\":\"8e860f2f-d0e2-45b7-82d4-608b46fe6b8e\",\"type\":\"ColumnDataSource\"},{\"attributes\":{\"source\":{\"id\":\"6d313f35-2f66-4120-b5b6-bb9012e5d251\",\"type\":\"ColumnDataSource\"}},\"id\":\"d52d3c84-d5f0-4674-aedc-f0eb101f92ee\",\"type\":\"CDSView\"},{\"attributes\":{\"fill_color\":{\"value\":\"#1f77b4\"},\"height\":{\"units\":\"data\",\"value\":0.001},\"line_color\":{\"value\":\"deepskyblue\"},\"width\":{\"units\":\"data\",\"value\":0.2},\"x\":{\"field\":\"x\"},\"y\":{\"field\":\"y\"}},\"id\":\"d96de725-c7ce-41c2-8a1e-699e4dab97df\",\"type\":\"Rect\"},{\"attributes\":{\"callback\":null,\"data\":{\"x\":[\"A3\",\"A3\"],\"y\":[150.627685546875,154.92453002929688]},\"selected\":{\"id\":\"a9bc19cb-1812-47d5-8571-a70cc178b064\",\"type\":\"Selection\"},\"selection_policy\":{\"id\":\"729005bd-ab28-4540-9a16-4dbd4337a58b\",\"type\":\"UnionRenderers\"}},\"id\":\"5dc4ebe0-653e-432d-927b-a7d44f51df4a\",\"type\":\"ColumnDataSource\"},{\"attributes\":{\"fill_alpha\":{\"value\":0.1},\"fill_color\":{\"value\":\"#1f77b4\"},\"height\":{\"units\":\"data\",\"value\":0.001},\"line_alpha\":{\"value\":0.1},\"line_color\":{\"value\":\"#1f77b4\"},\"width\":{\"units\":\"data\",\"value\":0.2},\"x\":{\"field\":\"x\"},\"y\":{\"field\":\"y\"}},\"id\":\"bbb28764-6c4d-43ff-90c0-0d0da5f6fd3b\",\"type\":\"Rect\"},{\"attributes\":{},\"id\":\"729005bd-ab28-4540-9a16-4dbd4337a58b\",\"type\":\"UnionRenderers\"},{\"attributes\":{\"data_source\":{\"id\":\"8e860f2f-d0e2-45b7-82d4-608b46fe6b8e\",\"type\":\"ColumnDataSource\"},\"glyph\":{\"id\":\"d96de725-c7ce-41c2-8a1e-699e4dab97df\",\"type\":\"Rect\"},\"hover_glyph\":null,\"muted_glyph\":null,\"name\":\"Whiskers\",\"nonselection_glyph\":{\"id\":\"bbb28764-6c4d-43ff-90c0-0d0da5f6fd3b\",\"type\":\"Rect\"},\"selection_glyph\":null,\"view\":{\"id\":\"6ded795f-7c2e-435e-86fd-191afba4c2d3\",\"type\":\"CDSView\"}},\"id\":\"30252abd-9b59-464b-9537-b403fa3c0014\",\"type\":\"GlyphRenderer\"},{\"attributes\":{\"callback\":null,\"names\":[\"Whiskers\"],\"renderers\":\"auto\",\"tooltips\":[[\"Dia\",\"@y mm\"]]},\"id\":\"e8197535-1bf8-48bc-8a33-01cacbf3c7f8\",\"type\":\"HoverTool\"},{\"attributes\":{\"fill_color\":{\"value\":\"#1f77b4\"},\"height\":{\"units\":\"data\",\"value\":0.001},\"line_color\":{\"value\":\"deepskyblue\"},\"width\":{\"units\":\"data\",\"value\":0.2},\"x\":{\"field\":\"x\"},\"y\":{\"field\":\"y\"}},\"id\":\"75f59275-5b7f-4645-90fd-c53de663a619\",\"type\":\"Rect\"},{\"attributes\":{\"below\":[{\"id\":\"d238d443-91f5-41ae-a13a-a8094ae85a4f\",\"type\":\"CategoricalAxis\"}],\"left\":[{\"id\":\"e52c7395-4d90-4ae1-acc1-6541f20e7737\",\"type\":\"LinearAxis\"}],\"plot_width\":1400,\"renderers\":[{\"id\":\"d238d443-91f5-41ae-a13a-a8094ae85a4f\",\"type\":\"CategoricalAxis\"},{\"id\":\"5b80bc6e-dc81-4916-8b4a-04e490f9d10c\",\"type\":\"Grid\"},{\"id\":\"e52c7395-4d90-4ae1-acc1-6541f20e7737\",\"type\":\"LinearAxis\"},{\"id\":\"73274a83-ffc8-4a26-a682-93c7946091a1\",\"type\":\"Grid\"},{\"id\":\"d54d5ae5-5e71-4ccf-8c41-91cccce62fc9\",\"type\":\"BoxAnnotation\"},{\"id\":\"a9cb0d29-8e7e-47a2-93e5-a4704ea0d4a0\",\"type\":\"Legend\"},{\"id\":\"7c1004ca-cffd-47de-a181-3afd4235548e\",\"type\":\"GlyphRenderer\"},{\"id\":\"c2e62e12-f5e4-4ac1-8fa4-c242ea58480a\",\"type\":\"GlyphRenderer\"},{\"id\":\"ee1cde9c-3858-442a-917c-3530e6259764\",\"type\":\"GlyphRenderer\"},{\"id\":\"5dc87f6d-4dbe-458f-b817-ac55dcca0fa3\",\"type\":\"GlyphRenderer\"},{\"id\":\"0f78670d-d805-4062-8a60-d48f9427ea29\",\"type\":\"GlyphRenderer\"},{\"id\":\"db0e2b08-520b-4cbb-8eec-eca64eca2395\",\"type\":\"GlyphRenderer\"},{\"id\":\"b62d3c17-15ce-45e8-9c97-b38e254b4188\",\"type\":\"GlyphRenderer\"},{\"id\":\"4bab693b-3c61-4027-940c-ee363ffa5703\",\"type\":\"GlyphRenderer\"},{\"id\":\"9b819c3e-75f0-4757-b37e-c98a11f6f160\",\"type\":\"GlyphRenderer\"},{\"id\":\"debbcb84-be8d-49c2-be0f-9f7be0a54d7b\",\"type\":\"GlyphRenderer\"},{\"id\":\"0d15a887-db49-4a5a-ac98-09b0d60efbd0\",\"type\":\"GlyphRenderer\"},{\"id\":\"558a5c45-0a78-41e6-b5b4-87e75136c6d5\",\"type\":\"GlyphRenderer\"},{\"id\":\"8f1e6f3a-5b3c-415e-b5e4-d21797bdcbcc\",\"type\":\"GlyphRenderer\"},{\"id\":\"d4f8efe8-4e73-4a23-ae27-b06234c20391\",\"type\":\"GlyphRenderer\"},{\"id\":\"847b97da-4429-4f17-81d9-a9aec224b2fa\",\"type\":\"GlyphRenderer\"},{\"id\":\"2eaea6e7-bfce-47ca-88cb-790b67e79a2d\",\"type\":\"GlyphRenderer\"},{\"id\":\"f0da1ec1-106c-42fa-8778-e52b5929406e\",\"type\":\"GlyphRenderer\"},{\"id\":\"4a7b462f-265d-4b1a-beb3-a080b66a7f06\",\"type\":\"GlyphRenderer\"},{\"id\":\"837c5950-bfae-4b72-880d-7ade016b016a\",\"type\":\"GlyphRenderer\"},{\"id\":\"55e4113f-e0e7-4150-80ca-1396e6430a12\",\"type\":\"GlyphRenderer\"},{\"id\":\"30252abd-9b59-464b-9537-b403fa3c0014\",\"type\":\"GlyphRenderer\"},{\"id\":\"6666c75d-510c-4dd0-b405-b3f150df9c11\",\"type\":\"GlyphRenderer\"},{\"id\":\"dfc4a11b-718e-40e0-9970-a9d5ce8b1b2e\",\"type\":\"GlyphRenderer\"},{\"id\":\"aee2e28b-7f68-404b-b4b7-21165823cdef\",\"type\":\"GlyphRenderer\"},{\"id\":\"32d0263c-1fb0-4bf8-a73e-2ad1706eb9ff\",\"type\":\"GlyphRenderer\"},{\"id\":\"c51c5ab0-684d-4339-8a4b-4647b6139f09\",\"type\":\"GlyphRenderer\"},{\"id\":\"9847c3ae-451b-4bf6-a44b-5ff6a1cc8e77\",\"type\":\"GlyphRenderer\"},{\"id\":\"5762b230-c35d-4c92-9dce-9d9f730b1eb1\",\"type\":\"GlyphRenderer\"},{\"id\":\"eb29b8a1-f9a4-4794-b802-51b91f317c29\",\"type\":\"GlyphRenderer\"},{\"id\":\"13e4f0d8-4e82-47c0-a4c0-561e96933303\",\"type\":\"GlyphRenderer\"},{\"id\":\"ec794431-df22-4587-888e-c411ee7aae2c\",\"type\":\"GlyphRenderer\"},{\"id\":\"450c8fa9-f285-4afb-ad11-0e249f39b423\",\"type\":\"GlyphRenderer\"},{\"id\":\"a6d8a3f0-f1d1-4732-82af-581248593119\",\"type\":\"GlyphRenderer\"},{\"id\":\"d16500d3-ec69-43b6-aeaa-bf99ffd0b19a\",\"type\":\"GlyphRenderer\"},{\"id\":\"4c82d778-398e-49cc-90f5-fa43557a8701\",\"type\":\"GlyphRenderer\"},{\"id\":\"37b1246d-7c43-4432-b179-7121b926deca\",\"type\":\"GlyphRenderer\"},{\"id\":\"52c7cdf3-bdcb-4048-8f4a-dba022e08cc0\",\"type\":\"GlyphRenderer\"},{\"id\":\"c0d64067-5af2-4e53-8883-6896b3b78d8b\",\"type\":\"GlyphRenderer\"}],\"title\":{\"id\":\"74624f25-73a2-4c1b-a3d9-d6f0737f7253\",\"type\":\"Title\"},\"toolbar\":{\"id\":\"6e93495e-1faa-45bb-8549-658524ea803f\",\"type\":\"Toolbar\"},\"x_range\":{\"id\":\"04ff5618-82fa-44e9-981a-9e908f66a5f7\",\"type\":\"FactorRange\"},\"x_scale\":{\"id\":\"48d421cd-60d8-49a8-b898-24fed293fd1c\",\"type\":\"CategoricalScale\"},\"y_range\":{\"id\":\"c1a6c21f-223d-4b40-8d1f-b4369b59fc81\",\"type\":\"Range1d\"},\"y_scale\":{\"id\":\"1ce84df8-999c-4cba-af24-600c25defd06\",\"type\":\"LinearScale\"}},\"id\":\"d1e8cc75-4351-42e9-bf00-c8944849c7a8\",\"subtype\":\"Figure\",\"type\":\"Plot\"},{\"attributes\":{\"fill_alpha\":{\"value\":0.1},\"fill_color\":{\"value\":\"#1f77b4\"},\"height\":{\"units\":\"data\",\"value\":0.001},\"line_alpha\":{\"value\":0.1},\"line_color\":{\"value\":\"#1f77b4\"},\"width\":{\"units\":\"data\",\"value\":0.2},\"x\":{\"field\":\"x\"},\"y\":{\"field\":\"y\"}},\"id\":\"c5791fa5-5e77-44d1-86e1-2b251338566c\",\"type\":\"Rect\"},{\"attributes\":{\"source\":{\"id\":\"8e860f2f-d0e2-45b7-82d4-608b46fe6b8e\",\"type\":\"ColumnDataSource\"}},\"id\":\"6ded795f-7c2e-435e-86fd-191afba4c2d3\",\"type\":\"CDSView\"},{\"attributes\":{\"data_source\":{\"id\":\"5dc4ebe0-653e-432d-927b-a7d44f51df4a\",\"type\":\"ColumnDataSource\"},\"glyph\":{\"id\":\"75f59275-5b7f-4645-90fd-c53de663a619\",\"type\":\"Rect\"},\"hover_glyph\":null,\"muted_glyph\":null,\"name\":\"Whiskers\",\"nonselection_glyph\":{\"id\":\"c5791fa5-5e77-44d1-86e1-2b251338566c\",\"type\":\"Rect\"},\"selection_glyph\":null,\"view\":{\"id\":\"5952197b-b88d-4273-ba2b-983ab9e34a6d\",\"type\":\"CDSView\"}},\"id\":\"b62d3c17-15ce-45e8-9c97-b38e254b4188\",\"type\":\"GlyphRenderer\"},{\"attributes\":{\"callback\":null,\"data\":{\"x\":[\"F2\",\"F2\"],\"y\":[145.70050048828125,151.06863403320312]},\"selected\":{\"id\":\"d616722c-948b-442d-9e82-a42e295ef5de\",\"type\":\"Selection\"},\"selection_policy\":{\"id\":\"a55d052d-1062-415d-8f64-f61e25df2971\",\"type\":\"UnionRenderers\"}},\"id\":\"973cca38-31d9-448b-8c32-e3bf15e8bd58\",\"type\":\"ColumnDataSource\"},{\"attributes\":{\"callback\":null,\"names\":[\"DiaPoints\"],\"renderers\":\"auto\",\"tooltips\":[[\"HoV\",\"@x\"],[\"Dia\",\"@y mm\"]]},\"id\":\"ba219cb8-6e41-4f9d-b942-171d91a08ca1\",\"type\":\"HoverTool\"},{\"attributes\":{\"source\":{\"id\":\"5dc4ebe0-653e-432d-927b-a7d44f51df4a\",\"type\":\"ColumnDataSource\"}},\"id\":\"5952197b-b88d-4273-ba2b-983ab9e34a6d\",\"type\":\"CDSView\"},{\"attributes\":{\"fill_color\":{\"value\":\"#1f77b4\"},\"height\":{\"units\":\"data\",\"value\":0.001},\"line_color\":{\"value\":\"deepskyblue\"},\"width\":{\"units\":\"data\",\"value\":0.2},\"x\":{\"field\":\"x\"},\"y\":{\"field\":\"y\"}},\"id\":\"b1bf9d73-d4a5-4569-b367-16bba3d918f9\",\"type\":\"Rect\"},{\"attributes\":{\"plot\":null,\"text\":\"BNN MC DropOut - Dia Predictions with Confidence Interval\"},\"id\":\"74624f25-73a2-4c1b-a3d9-d6f0737f7253\",\"type\":\"Title\"},{\"attributes\":{\"callback\":null,\"data\":{\"x\":[\"A4\",\"A4\"],\"y\":[149.77906799316406,157.62440490722656]},\"selected\":{\"id\":\"5504e9aa-9ba5-4175-86b8-18b87a240143\",\"type\":\"Selection\"},\"selection_policy\":{\"id\":\"0f61320c-8178-4014-b69f-babc229d3882\",\"type\":\"UnionRenderers\"}},\"id\":\"b38cdfcf-967f-4ad4-b810-8edbd0c1ef27\",\"type\":\"ColumnDataSource\"},{\"attributes\":{\"fill_alpha\":{\"value\":0.1},\"fill_color\":{\"value\":\"#1f77b4\"},\"height\":{\"units\":\"data\",\"value\":0.001},\"line_alpha\":{\"value\":0.1},\"line_color\":{\"value\":\"#1f77b4\"},\"width\":{\"units\":\"data\",\"value\":0.2},\"x\":{\"field\":\"x\"},\"y\":{\"field\":\"y\"}},\"id\":\"752d4193-fcfa-4636-81b9-42e542b1b0ce\",\"type\":\"Rect\"},{\"attributes\":{\"data_source\":{\"id\":\"973cca38-31d9-448b-8c32-e3bf15e8bd58\",\"type\":\"ColumnDataSource\"},\"glyph\":{\"id\":\"b1bf9d73-d4a5-4569-b367-16bba3d918f9\",\"type\":\"Rect\"},\"hover_glyph\":null,\"muted_glyph\":null,\"name\":\"Whiskers\",\"nonselection_glyph\":{\"id\":\"752d4193-fcfa-4636-81b9-42e542b1b0ce\",\"type\":\"Rect\"},\"selection_glyph\":null,\"view\":{\"id\":\"34cd6bf0-4480-49d7-a111-b15cc2d0bb41\",\"type\":\"CDSView\"}},\"id\":\"6666c75d-510c-4dd0-b405-b3f150df9c11\",\"type\":\"GlyphRenderer\"},{\"attributes\":{\"fill_color\":{\"value\":\"#1f77b4\"},\"height\":{\"units\":\"data\",\"value\":0.001},\"line_color\":{\"value\":\"deepskyblue\"},\"width\":{\"units\":\"data\",\"value\":0.2},\"x\":{\"field\":\"x\"},\"y\":{\"field\":\"y\"}},\"id\":\"24dd1f7a-0a2f-43d9-af5e-87b3db1809eb\",\"type\":\"Rect\"},{\"attributes\":{\"active_drag\":\"auto\",\"active_inspect\":\"auto\",\"active_multi\":null,\"active_scroll\":\"auto\",\"active_tap\":\"auto\",\"tools\":[{\"id\":\"162a4449-5969-4cde-b39f-75b5ffb396ef\",\"type\":\"PanTool\"},{\"id\":\"7c93d9ca-0374-41a0-ad25-f954a97178ff\",\"type\":\"WheelZoomTool\"},{\"id\":\"7ae718bf-1933-41d7-8200-3e08d947a9cf\",\"type\":\"BoxZoomTool\"},{\"id\":\"54a16ab8-f068-4475-9d74-202bb3d2752a\",\"type\":\"SaveTool\"},{\"id\":\"ddf5d355-4412-49cd-9c12-e47ce9c99e13\",\"type\":\"ResetTool\"},{\"id\":\"f193d7a8-d2b0-44f3-ad81-89afca21e91d\",\"type\":\"HelpTool\"},{\"id\":\"ba219cb8-6e41-4f9d-b942-171d91a08ca1\",\"type\":\"HoverTool\"},{\"id\":\"e8197535-1bf8-48bc-8a33-01cacbf3c7f8\",\"type\":\"HoverTool\"},{\"id\":\"1e0689c8-7c88-4bf0-ac23-3821e15cb07c\",\"type\":\"HoverTool\"}]},\"id\":\"6e93495e-1faa-45bb-8549-658524ea803f\",\"type\":\"Toolbar\"},{\"attributes\":{\"fill_alpha\":{\"value\":0.1},\"fill_color\":{\"value\":\"#1f77b4\"},\"height\":{\"units\":\"data\",\"value\":0.001},\"line_alpha\":{\"value\":0.1},\"line_color\":{\"value\":\"#1f77b4\"},\"width\":{\"units\":\"data\",\"value\":0.2},\"x\":{\"field\":\"x\"},\"y\":{\"field\":\"y\"}},\"id\":\"3d913302-ee4c-4cc5-8c1c-bd8a7afb4bb8\",\"type\":\"Rect\"},{\"attributes\":{\"source\":{\"id\":\"973cca38-31d9-448b-8c32-e3bf15e8bd58\",\"type\":\"ColumnDataSource\"}},\"id\":\"34cd6bf0-4480-49d7-a111-b15cc2d0bb41\",\"type\":\"CDSView\"},{\"attributes\":{\"data_source\":{\"id\":\"b38cdfcf-967f-4ad4-b810-8edbd0c1ef27\",\"type\":\"ColumnDataSource\"},\"glyph\":{\"id\":\"24dd1f7a-0a2f-43d9-af5e-87b3db1809eb\",\"type\":\"Rect\"},\"hover_glyph\":null,\"muted_glyph\":null,\"name\":\"Whiskers\",\"nonselection_glyph\":{\"id\":\"3d913302-ee4c-4cc5-8c1c-bd8a7afb4bb8\",\"type\":\"Rect\"},\"selection_glyph\":null,\"view\":{\"id\":\"43d66d38-b285-4bb5-b061-0484ebb31335\",\"type\":\"CDSView\"}},\"id\":\"4bab693b-3c61-4027-940c-ee363ffa5703\",\"type\":\"GlyphRenderer\"},{\"attributes\":{\"callback\":null,\"data\":{\"x\":[\"A1\",\"A2\",\"A3\",\"A4\",\"A5\",\"A6\",\"C1\",\"C2\",\"C3\",\"C4\",\"C5\",\"C6\",\"D1\",\"D2\",\"E1\",\"E2\",\"F1\",\"F2\",\"F3\",\"H1\",\"I1\",\"J1\",\"M1\",\"M2\",\"P1\",\"Q1\",\"Q2\",\"S1\",\"S2\",\"S3\",\"S4\",\"S5\",\"T1\",\"T2\"],\"y\":[148,149,152,154,148,148,148,153,152,150,152,154,151,148,148,148,146,146,148,148,152,148,154,154,154,148,148,155,148,150,150,160,148,148]},\"selected\":{\"id\":\"6c5f9029-3e0a-4132-8a0b-90d0b46a9977\",\"type\":\"Selection\"},\"selection_policy\":{\"id\":\"e3d8851b-2ba7-4cb6-8b65-663120504477\",\"type\":\"UnionRenderers\"}},\"id\":\"39a4d27b-7a29-4a26-ad24-ef271f153f36\",\"type\":\"ColumnDataSource\"},{\"attributes\":{\"callback\":null,\"data\":{\"x\":[\"F3\",\"F3\"],\"y\":[146.694091796875,156.46629333496094]},\"selected\":{\"id\":\"edac2390-1819-4de5-b9be-c9b687be281b\",\"type\":\"Selection\"},\"selection_policy\":{\"id\":\"1fd784f2-ba36-44a8-b4c7-f53e2c272ec5\",\"type\":\"UnionRenderers\"}},\"id\":\"5358fb32-4e68-45e8-b944-0e805159c7ac\",\"type\":\"ColumnDataSource\"},{\"attributes\":{\"source\":{\"id\":\"b38cdfcf-967f-4ad4-b810-8edbd0c1ef27\",\"type\":\"ColumnDataSource\"}},\"id\":\"43d66d38-b285-4bb5-b061-0484ebb31335\",\"type\":\"CDSView\"},{\"attributes\":{\"fill_color\":{\"value\":\"#1f77b4\"},\"height\":{\"units\":\"data\",\"value\":0.001},\"line_color\":{\"value\":\"deepskyblue\"},\"width\":{\"units\":\"data\",\"value\":0.2},\"x\":{\"field\":\"x\"},\"y\":{\"field\":\"y\"}},\"id\":\"994ce447-7015-4e0b-bb74-5c4374272ba7\",\"type\":\"Rect\"},{\"attributes\":{\"callback\":null,\"data\":{\"x\":[\"A5\",\"A5\"],\"y\":[144.8108367919922,163.1629638671875]},\"selected\":{\"id\":\"8946465a-de0d-4be7-a4a0-59e4fe69035b\",\"type\":\"Selection\"},\"selection_policy\":{\"id\":\"f6afceca-23f0-4793-ba98-b3599b82b41f\",\"type\":\"UnionRenderers\"}},\"id\":\"ccba39ab-c2cb-4c73-9146-012498fb1e35\",\"type\":\"ColumnDataSource\"},{\"attributes\":{\"fill_alpha\":{\"value\":0.1},\"fill_color\":{\"value\":\"#1f77b4\"},\"height\":{\"units\":\"data\",\"value\":0.001},\"line_alpha\":{\"value\":0.1},\"line_color\":{\"value\":\"#1f77b4\"},\"width\":{\"units\":\"data\",\"value\":0.2},\"x\":{\"field\":\"x\"},\"y\":{\"field\":\"y\"}},\"id\":\"f45daa44-ce0b-4769-b8b0-f2d9e1df0c65\",\"type\":\"Rect\"},{\"attributes\":{\"data_source\":{\"id\":\"5358fb32-4e68-45e8-b944-0e805159c7ac\",\"type\":\"ColumnDataSource\"},\"glyph\":{\"id\":\"994ce447-7015-4e0b-bb74-5c4374272ba7\",\"type\":\"Rect\"},\"hover_glyph\":null,\"muted_glyph\":null,\"name\":\"Whiskers\",\"nonselection_glyph\":{\"id\":\"f45daa44-ce0b-4769-b8b0-f2d9e1df0c65\",\"type\":\"Rect\"},\"selection_glyph\":null,\"view\":{\"id\":\"93b64fda-ce49-4dda-8063-29fa7992c012\",\"type\":\"CDSView\"}},\"id\":\"dfc4a11b-718e-40e0-9970-a9d5ce8b1b2e\",\"type\":\"GlyphRenderer\"},{\"attributes\":{\"fill_color\":{\"value\":\"#1f77b4\"},\"height\":{\"units\":\"data\",\"value\":0.001},\"line_color\":{\"value\":\"deepskyblue\"},\"width\":{\"units\":\"data\",\"value\":0.2},\"x\":{\"field\":\"x\"},\"y\":{\"field\":\"y\"}},\"id\":\"1fcdf364-4f0e-4534-a9ed-84691ec452d5\",\"type\":\"Rect\"},{\"attributes\":{\"fill_alpha\":{\"value\":0.1},\"fill_color\":{\"value\":\"#1f77b4\"},\"height\":{\"units\":\"data\",\"value\":0.001},\"line_alpha\":{\"value\":0.1},\"line_color\":{\"value\":\"#1f77b4\"},\"width\":{\"units\":\"data\",\"value\":0.2},\"x\":{\"field\":\"x\"},\"y\":{\"field\":\"y\"}},\"id\":\"b3c014ca-7433-4f4e-a9cb-6e55e78ea456\",\"type\":\"Rect\"},{\"attributes\":{\"source\":{\"id\":\"5358fb32-4e68-45e8-b944-0e805159c7ac\",\"type\":\"ColumnDataSource\"}},\"id\":\"93b64fda-ce49-4dda-8063-29fa7992c012\",\"type\":\"CDSView\"},{\"attributes\":{\"data_source\":{\"id\":\"ccba39ab-c2cb-4c73-9146-012498fb1e35\",\"type\":\"ColumnDataSource\"},\"glyph\":{\"id\":\"1fcdf364-4f0e-4534-a9ed-84691ec452d5\",\"type\":\"Rect\"},\"hover_glyph\":null,\"muted_glyph\":null,\"name\":\"Whiskers\",\"nonselection_glyph\":{\"id\":\"b3c014ca-7433-4f4e-a9cb-6e55e78ea456\",\"type\":\"Rect\"},\"selection_glyph\":null,\"view\":{\"id\":\"73a65cdf-ef02-4dd7-9123-42147068c2e2\",\"type\":\"CDSView\"}},\"id\":\"9b819c3e-75f0-4757-b37e-c98a11f6f160\",\"type\":\"GlyphRenderer\"},{\"attributes\":{\"callback\":null,\"data\":{\"x\":[\"H1\",\"H1\"],\"y\":[145.01834106445312,156.00363159179688]},\"selected\":{\"id\":\"94ec2b58-d107-471d-91df-ddba88e01223\",\"type\":\"Selection\"},\"selection_policy\":{\"id\":\"74141777-a57d-4002-a0e5-89f3fbfa3d0d\",\"type\":\"UnionRenderers\"}},\"id\":\"568175dd-2d81-40ae-ab4f-4b8f47d3d5b1\",\"type\":\"ColumnDataSource\"},{\"attributes\":{},\"id\":\"e59392a5-9270-444c-9c66-eb870a63838e\",\"type\":\"UnionRenderers\"},{\"attributes\":{\"axis_label\":\"Diameter Predictions (mm)\",\"formatter\":{\"id\":\"e689cec5-dc7a-497d-ac76-7cfdc97cff25\",\"type\":\"BasicTickFormatter\"},\"plot\":{\"id\":\"d1e8cc75-4351-42e9-bf00-c8944849c7a8\",\"subtype\":\"Figure\",\"type\":\"Plot\"},\"ticker\":{\"id\":\"88e9de65-2d88-488b-ba3b-518cf0669097\",\"type\":\"BasicTicker\"}},\"id\":\"e52c7395-4d90-4ae1-acc1-6541f20e7737\",\"type\":\"LinearAxis\"},{\"attributes\":{\"source\":{\"id\":\"ccba39ab-c2cb-4c73-9146-012498fb1e35\",\"type\":\"ColumnDataSource\"}},\"id\":\"73a65cdf-ef02-4dd7-9123-42147068c2e2\",\"type\":\"CDSView\"},{\"attributes\":{\"fill_color\":{\"value\":\"#1f77b4\"},\"height\":{\"units\":\"data\",\"value\":0.001},\"line_color\":{\"value\":\"deepskyblue\"},\"width\":{\"units\":\"data\",\"value\":0.2},\"x\":{\"field\":\"x\"},\"y\":{\"field\":\"y\"}},\"id\":\"cd9f9bf5-4284-492c-959e-3c53b3e3845c\",\"type\":\"Rect\"},{\"attributes\":{\"axis_label\":\"Head of Versions\",\"formatter\":{\"id\":\"2812a6cb-2a80-4fa1-83f3-b095e34d1d56\",\"type\":\"CategoricalTickFormatter\"},\"plot\":{\"id\":\"d1e8cc75-4351-42e9-bf00-c8944849c7a8\",\"subtype\":\"Figure\",\"type\":\"Plot\"},\"ticker\":{\"id\":\"ab9f1709-c97c-4a42-8332-08151ccfb144\",\"type\":\"CategoricalTicker\"}},\"id\":\"d238d443-91f5-41ae-a13a-a8094ae85a4f\",\"type\":\"CategoricalAxis\"},{\"attributes\":{\"callback\":null,\"data\":{\"x\":[\"A6\",\"A6\"],\"y\":[147.3519744873047,151.57510375976562]},\"selected\":{\"id\":\"cd751ba8-405c-49c8-911e-c824952e7541\",\"type\":\"Selection\"},\"selection_policy\":{\"id\":\"d5f501a8-34bd-4bef-b0ba-d39748ea5d57\",\"type\":\"UnionRenderers\"}},\"id\":\"43b62372-d798-4da7-8c8e-e8a827d0eeab\",\"type\":\"ColumnDataSource\"},{\"attributes\":{\"fill_alpha\":{\"value\":0.1},\"fill_color\":{\"value\":\"#1f77b4\"},\"height\":{\"units\":\"data\",\"value\":0.001},\"line_alpha\":{\"value\":0.1},\"line_color\":{\"value\":\"#1f77b4\"},\"width\":{\"units\":\"data\",\"value\":0.2},\"x\":{\"field\":\"x\"},\"y\":{\"field\":\"y\"}},\"id\":\"5da969b6-d866-420e-a08a-85132ae6227a\",\"type\":\"Rect\"},{\"attributes\":{\"data_source\":{\"id\":\"568175dd-2d81-40ae-ab4f-4b8f47d3d5b1\",\"type\":\"ColumnDataSource\"},\"glyph\":{\"id\":\"cd9f9bf5-4284-492c-959e-3c53b3e3845c\",\"type\":\"Rect\"},\"hover_glyph\":null,\"muted_glyph\":null,\"name\":\"Whiskers\",\"nonselection_glyph\":{\"id\":\"5da969b6-d866-420e-a08a-85132ae6227a\",\"type\":\"Rect\"},\"selection_glyph\":null,\"view\":{\"id\":\"46632360-4ace-43b6-a920-09f19322dd18\",\"type\":\"CDSView\"}},\"id\":\"aee2e28b-7f68-404b-b4b7-21165823cdef\",\"type\":\"GlyphRenderer\"},{\"attributes\":{},\"id\":\"ab9f1709-c97c-4a42-8332-08151ccfb144\",\"type\":\"CategoricalTicker\"},{\"attributes\":{\"fill_color\":{\"value\":\"#1f77b4\"},\"height\":{\"units\":\"data\",\"value\":0.001},\"line_color\":{\"value\":\"deepskyblue\"},\"width\":{\"units\":\"data\",\"value\":0.2},\"x\":{\"field\":\"x\"},\"y\":{\"field\":\"y\"}},\"id\":\"8ae548ca-d799-41e0-9ef9-221cd334b632\",\"type\":\"Rect\"},{\"attributes\":{\"plot\":{\"id\":\"d1e8cc75-4351-42e9-bf00-c8944849c7a8\",\"subtype\":\"Figure\",\"type\":\"Plot\"},\"ticker\":{\"id\":\"ab9f1709-c97c-4a42-8332-08151ccfb144\",\"type\":\"CategoricalTicker\"}},\"id\":\"5b80bc6e-dc81-4916-8b4a-04e490f9d10c\",\"type\":\"Grid\"},{\"attributes\":{\"fill_alpha\":{\"value\":0.1},\"fill_color\":{\"value\":\"#1f77b4\"},\"height\":{\"units\":\"data\",\"value\":0.001},\"line_alpha\":{\"value\":0.1},\"line_color\":{\"value\":\"#1f77b4\"},\"width\":{\"units\":\"data\",\"value\":0.2},\"x\":{\"field\":\"x\"},\"y\":{\"field\":\"y\"}},\"id\":\"65904476-5dfb-4f25-aca6-73a282bb64f0\",\"type\":\"Rect\"},{\"attributes\":{\"source\":{\"id\":\"568175dd-2d81-40ae-ab4f-4b8f47d3d5b1\",\"type\":\"ColumnDataSource\"}},\"id\":\"46632360-4ace-43b6-a920-09f19322dd18\",\"type\":\"CDSView\"},{\"attributes\":{\"data_source\":{\"id\":\"43b62372-d798-4da7-8c8e-e8a827d0eeab\",\"type\":\"ColumnDataSource\"},\"glyph\":{\"id\":\"8ae548ca-d799-41e0-9ef9-221cd334b632\",\"type\":\"Rect\"},\"hover_glyph\":null,\"muted_glyph\":null,\"name\":\"Whiskers\",\"nonselection_glyph\":{\"id\":\"65904476-5dfb-4f25-aca6-73a282bb64f0\",\"type\":\"Rect\"},\"selection_glyph\":null,\"view\":{\"id\":\"dc62b7a5-3371-4938-9508-36bf93840bf6\",\"type\":\"CDSView\"}},\"id\":\"debbcb84-be8d-49c2-be0f-9f7be0a54d7b\",\"type\":\"GlyphRenderer\"},{\"attributes\":{\"callback\":null,\"data\":{\"xs\":[[\"A1\",\"A1\"],[\"A2\",\"A2\"],[\"A3\",\"A3\"],[\"A4\",\"A4\"],[\"A5\",\"A5\"],[\"A6\",\"A6\"],[\"C1\",\"C1\"],[\"C2\",\"C2\"],[\"C3\",\"C3\"],[\"C4\",\"C4\"],[\"C5\",\"C5\"],[\"C6\",\"C6\"],[\"D1\",\"D1\"],[\"D2\",\"D2\"],[\"E1\",\"E1\"],[\"E2\",\"E2\"],[\"F1\",\"F1\"],[\"F2\",\"F2\"],[\"F3\",\"F3\"],[\"H1\",\"H1\"],[\"I1\",\"I1\"],[\"J1\",\"J1\"],[\"M1\",\"M1\"],[\"M2\",\"M2\"],[\"P1\",\"P1\"],[\"Q1\",\"Q1\"],[\"Q2\",\"Q2\"],[\"S1\",\"S1\"],[\"S2\",\"S2\"],[\"S3\",\"S3\"],[\"S4\",\"S4\"],[\"S5\",\"S5\"],[\"T1\",\"T1\"],[\"T2\",\"T2\"]],\"ys\":[[148.2691650390625,151.2535858154297],[148.33828735351562,151.78639221191406],[150.627685546875,154.92453002929688],[149.77906799316406,157.62440490722656],[144.8108367919922,163.1629638671875],[147.3519744873047,151.57510375976562],[147.1937255859375,150.8743896484375],[150.72604370117188,154.3837432861328],[149.7591552734375,153.4854736328125],[148.1608428955078,152.5812530517578],[150.3035888671875,154.88372802734375],[151.28282165527344,158.3508758544922],[149.79978942871094,152.058349609375],[147.13076782226562,151.90171813964844],[147.9992218017578,151.4329833984375],[149.20358276367188,151.37258911132812],[145.59512329101562,151.73114013671875],[145.70050048828125,151.06863403320312],[146.694091796875,156.46629333496094],[145.01834106445312,156.00363159179688],[149.9029541015625,153.92471313476562],[147.34893798828125,153.59664916992188],[149.59783935546875,156.61248779296875],[151.17259216308594,158.6342010498047],[149.75918579101562,154.93325805664062],[143.92713928222656,155.0478057861328],[147.708984375,151.4087677001953],[152.39598083496094,155.522705078125],[147.58583068847656,152.00094604492188],[149.37184143066406,151.1836700439453],[150.00550842285156,152.96119689941406],[154.00987243652344,160.9927978515625],[146.54168701171875,151.5968780517578],[148.20840454101562,151.58773803710938]]},\"selected\":{\"id\":\"52d4587c-0746-452d-9e03-fe776f00a836\",\"type\":\"Selection\"},\"selection_policy\":{\"id\":\"dbe5c706-39df-46fd-8b04-d65c4ce57730\",\"type\":\"UnionRenderers\"}},\"id\":\"9e2144c1-017f-45ab-a36c-6f6142fb01e6\",\"type\":\"ColumnDataSource\"},{\"attributes\":{\"callback\":null,\"data\":{\"x\":[\"I1\",\"I1\"],\"y\":[149.9029541015625,153.92471313476562]},\"selected\":{\"id\":\"3ef3bafe-61cc-4342-88c0-e9976f2d3194\",\"type\":\"Selection\"},\"selection_policy\":{\"id\":\"9c5a4428-2e96-4a1d-b3f5-ea6f9cf16b33\",\"type\":\"UnionRenderers\"}},\"id\":\"b99f85d8-730a-4c61-9dd6-651d37d4ba97\",\"type\":\"ColumnDataSource\"},{\"attributes\":{},\"id\":\"88e9de65-2d88-488b-ba3b-518cf0669097\",\"type\":\"BasicTicker\"},{\"attributes\":{\"source\":{\"id\":\"43b62372-d798-4da7-8c8e-e8a827d0eeab\",\"type\":\"ColumnDataSource\"}},\"id\":\"dc62b7a5-3371-4938-9508-36bf93840bf6\",\"type\":\"CDSView\"},{\"attributes\":{\"fill_color\":{\"value\":\"#1f77b4\"},\"height\":{\"units\":\"data\",\"value\":0.001},\"line_color\":{\"value\":\"deepskyblue\"},\"width\":{\"units\":\"data\",\"value\":0.2},\"x\":{\"field\":\"x\"},\"y\":{\"field\":\"y\"}},\"id\":\"db065ee0-1b5d-4c13-9b84-ea4b28fe7cb6\",\"type\":\"Rect\"},{\"attributes\":{\"dimension\":1,\"plot\":{\"id\":\"d1e8cc75-4351-42e9-bf00-c8944849c7a8\",\"subtype\":\"Figure\",\"type\":\"Plot\"},\"ticker\":{\"id\":\"88e9de65-2d88-488b-ba3b-518cf0669097\",\"type\":\"BasicTicker\"}},\"id\":\"73274a83-ffc8-4a26-a682-93c7946091a1\",\"type\":\"Grid\"},{\"attributes\":{\"callback\":null,\"data\":{\"x\":[\"C1\",\"C1\"],\"y\":[147.1937255859375,150.8743896484375]},\"selected\":{\"id\":\"04c4d6b3-5b69-414b-b9ba-20b377ef97ed\",\"type\":\"Selection\"},\"selection_policy\":{\"id\":\"c6a6d94f-c8d9-43d1-a8b1-b4eaa178d419\",\"type\":\"UnionRenderers\"}},\"id\":\"f242ee84-a499-4fc4-9e5f-ad2f68fb485c\",\"type\":\"ColumnDataSource\"},{\"attributes\":{\"fill_alpha\":{\"value\":0.1},\"fill_color\":{\"value\":\"#1f77b4\"},\"height\":{\"units\":\"data\",\"value\":0.001},\"line_alpha\":{\"value\":0.1},\"line_color\":{\"value\":\"#1f77b4\"},\"width\":{\"units\":\"data\",\"value\":0.2},\"x\":{\"field\":\"x\"},\"y\":{\"field\":\"y\"}},\"id\":\"afa359a0-fc29-46be-86a3-019c0ce9eb29\",\"type\":\"Rect\"},{\"attributes\":{\"bottom_units\":\"screen\",\"fill_alpha\":{\"value\":0.5},\"fill_color\":{\"value\":\"lightgrey\"},\"left_units\":\"screen\",\"level\":\"overlay\",\"line_alpha\":{\"value\":1.0},\"line_color\":{\"value\":\"black\"},\"line_dash\":[4,4],\"line_width\":{\"value\":2},\"plot\":null,\"render_mode\":\"css\",\"right_units\":\"screen\",\"top_units\":\"screen\"},\"id\":\"d54d5ae5-5e71-4ccf-8c41-91cccce62fc9\",\"type\":\"BoxAnnotation\"},{\"attributes\":{\"data_source\":{\"id\":\"b99f85d8-730a-4c61-9dd6-651d37d4ba97\",\"type\":\"ColumnDataSource\"},\"glyph\":{\"id\":\"db065ee0-1b5d-4c13-9b84-ea4b28fe7cb6\",\"type\":\"Rect\"},\"hover_glyph\":null,\"muted_glyph\":null,\"name\":\"Whiskers\",\"nonselection_glyph\":{\"id\":\"afa359a0-fc29-46be-86a3-019c0ce9eb29\",\"type\":\"Rect\"},\"selection_glyph\":null,\"view\":{\"id\":\"df4009d1-4033-4ba9-91a4-45a9623564f4\",\"type\":\"CDSView\"}},\"id\":\"32d0263c-1fb0-4bf8-a73e-2ad1706eb9ff\",\"type\":\"GlyphRenderer\"},{\"attributes\":{\"fill_color\":{\"value\":\"#1f77b4\"},\"height\":{\"units\":\"data\",\"value\":0.001},\"line_color\":{\"value\":\"deepskyblue\"},\"width\":{\"units\":\"data\",\"value\":0.2},\"x\":{\"field\":\"x\"},\"y\":{\"field\":\"y\"}},\"id\":\"a2e2ae41-c37f-4ce9-9a7c-41d848a9088e\",\"type\":\"Rect\"},{\"attributes\":{\"callback\":null,\"data\":{\"xs\":[[\"A1\",\"A1\"],[\"A2\",\"A2\"],[\"A3\",\"A3\"],[\"A4\",\"A4\"],[\"A5\",\"A5\"],[\"A6\",\"A6\"],[\"C1\",\"C1\"],[\"C2\",\"C2\"],[\"C3\",\"C3\"],[\"C4\",\"C4\"],[\"C5\",\"C5\"],[\"C6\",\"C6\"],[\"D1\",\"D1\"],[\"D2\",\"D2\"],[\"E1\",\"E1\"],[\"E2\",\"E2\"],[\"F1\",\"F1\"],[\"F2\",\"F2\"],[\"F3\",\"F3\"],[\"H1\",\"H1\"],[\"I1\",\"I1\"],[\"J1\",\"J1\"],[\"M1\",\"M1\"],[\"M2\",\"M2\"],[\"P1\",\"P1\"],[\"Q1\",\"Q1\"],[\"Q2\",\"Q2\"],[\"S1\",\"S1\"],[\"S2\",\"S2\"],[\"S3\",\"S3\"],[\"S4\",\"S4\"],[\"S5\",\"S5\"],[\"T1\",\"T1\"],[\"T2\",\"T2\"]],\"ys\":[[148.78089929307393,149.67919680677957],[148.61123443444652,149.57577581945972],[151.63602693196498,152.70175123575962],[152.76632103933485,154.53356064401476],[147.3363985023758,149.14661230084687],[147.73028237221388,148.7559062569365],[147.50329314012973,148.66343326978236],[152.6242113614174,153.39760806607285],[151.50026649976098,152.28187455248514],[149.30326311262408,150.41046814958295],[151.4988757633278,152.66385082968978],[153.4322182307683,154.5959710697688],[150.6795518202994,151.18572827003263],[147.66409631546983,148.74526086226453],[147.77863471277908,149.00998091832446],[149.48677920063471,150.1448721360352],[145.58595741336762,147.62139671260894],[145.6558282172227,147.349478881166],[147.4076822347552,149.05602623082098],[147.3796138709305,148.93128709952848],[151.49074265236447,152.47290087180545],[147.27690061830847,148.53139198423057],[153.0691437591252,154.95641919863846],[153.45005892039748,154.54806717823536],[153.06843191163827,154.74289303953358],[147.24881351530308,148.90404384553676],[147.99563398046942,149.2238110268548],[154.345553568357,155.400532948977],[147.9660149250753,149.06936349289342],[149.66600545660236,150.2243519042375],[150.17304048012508,150.92435518027528],[158.44299175676753,160.7115107151563],[147.2972952176041,148.60207605925135],[148.23173021868433,149.28496307965548]]},\"selected\":{\"id\":\"7c832816-8b15-472c-bef3-8402d4c5b227\",\"type\":\"Selection\"},\"selection_policy\":{\"id\":\"e59392a5-9270-444c-9c66-eb870a63838e\",\"type\":\"UnionRenderers\"}},\"id\":\"b5aa5bc5-edb7-41cd-82ef-f7c1d47bb84a\",\"type\":\"ColumnDataSource\"},{\"attributes\":{\"fill_alpha\":{\"value\":0.1},\"fill_color\":{\"value\":\"#1f77b4\"},\"height\":{\"units\":\"data\",\"value\":0.001},\"line_alpha\":{\"value\":0.1},\"line_color\":{\"value\":\"#1f77b4\"},\"width\":{\"units\":\"data\",\"value\":0.2},\"x\":{\"field\":\"x\"},\"y\":{\"field\":\"y\"}},\"id\":\"d73c5986-3687-4512-8781-37799c96889c\",\"type\":\"Rect\"},{\"attributes\":{\"source\":{\"id\":\"b99f85d8-730a-4c61-9dd6-651d37d4ba97\",\"type\":\"ColumnDataSource\"}},\"id\":\"df4009d1-4033-4ba9-91a4-45a9623564f4\",\"type\":\"CDSView\"},{\"attributes\":{\"data_source\":{\"id\":\"f242ee84-a499-4fc4-9e5f-ad2f68fb485c\",\"type\":\"ColumnDataSource\"},\"glyph\":{\"id\":\"a2e2ae41-c37f-4ce9-9a7c-41d848a9088e\",\"type\":\"Rect\"},\"hover_glyph\":null,\"muted_glyph\":null,\"name\":\"Whiskers\",\"nonselection_glyph\":{\"id\":\"d73c5986-3687-4512-8781-37799c96889c\",\"type\":\"Rect\"},\"selection_glyph\":null,\"view\":{\"id\":\"49b75e5d-b57f-4f0f-bfef-bf7d19218012\",\"type\":\"CDSView\"}},\"id\":\"0d15a887-db49-4a5a-ac98-09b0d60efbd0\",\"type\":\"GlyphRenderer\"},{\"attributes\":{\"callback\":null,\"data\":{\"x\":[\"J1\",\"J1\"],\"y\":[147.34893798828125,153.59664916992188]},\"selected\":{\"id\":\"03391f71-1cdf-4ba5-9c84-b7393c85ceaa\",\"type\":\"Selection\"},\"selection_policy\":{\"id\":\"0ea7ce86-39d2-4ec6-b1be-b503453bd0e3\",\"type\":\"UnionRenderers\"}},\"id\":\"731c4c47-b0b0-453c-8abb-cff31a38fbeb\",\"type\":\"ColumnDataSource\"},{\"attributes\":{\"callback\":null,\"names\":[\"LinePlot\"],\"renderers\":\"auto\",\"tooltips\":[[\"Dia\",\"$y mm\"]]},\"id\":\"1e0689c8-7c88-4bf0-ac23-3821e15cb07c\",\"type\":\"HoverTool\"},{\"attributes\":{\"source\":{\"id\":\"f242ee84-a499-4fc4-9e5f-ad2f68fb485c\",\"type\":\"ColumnDataSource\"}},\"id\":\"49b75e5d-b57f-4f0f-bfef-bf7d19218012\",\"type\":\"CDSView\"},{\"attributes\":{\"fill_color\":{\"value\":\"#1f77b4\"},\"height\":{\"units\":\"data\",\"value\":0.001},\"line_color\":{\"value\":\"deepskyblue\"},\"width\":{\"units\":\"data\",\"value\":0.2},\"x\":{\"field\":\"x\"},\"y\":{\"field\":\"y\"}},\"id\":\"5089a5bb-eb8e-4926-a709-e721bbd9a09b\",\"type\":\"Rect\"},{\"attributes\":{},\"id\":\"162a4449-5969-4cde-b39f-75b5ffb396ef\",\"type\":\"PanTool\"},{\"attributes\":{\"callback\":null,\"data\":{\"x\":[\"C2\",\"C2\"],\"y\":[150.72604370117188,154.3837432861328]},\"selected\":{\"id\":\"773b32f3-8800-4087-bc6a-d7f6ff8c9263\",\"type\":\"Selection\"},\"selection_policy\":{\"id\":\"e5c11162-0ebd-4091-96b5-46922526a84a\",\"type\":\"UnionRenderers\"}},\"id\":\"7b1aa1e6-88f4-47dd-91cd-0fae04e6ea72\",\"type\":\"ColumnDataSource\"},{\"attributes\":{\"fill_alpha\":{\"value\":0.1},\"fill_color\":{\"value\":\"#1f77b4\"},\"height\":{\"units\":\"data\",\"value\":0.001},\"line_alpha\":{\"value\":0.1},\"line_color\":{\"value\":\"#1f77b4\"},\"width\":{\"units\":\"data\",\"value\":0.2},\"x\":{\"field\":\"x\"},\"y\":{\"field\":\"y\"}},\"id\":\"9992acfe-2841-4b12-b6ff-4047d4d3fa72\",\"type\":\"Rect\"},{\"attributes\":{\"data_source\":{\"id\":\"731c4c47-b0b0-453c-8abb-cff31a38fbeb\",\"type\":\"ColumnDataSource\"},\"glyph\":{\"id\":\"5089a5bb-eb8e-4926-a709-e721bbd9a09b\",\"type\":\"Rect\"},\"hover_glyph\":null,\"muted_glyph\":null,\"name\":\"Whiskers\",\"nonselection_glyph\":{\"id\":\"9992acfe-2841-4b12-b6ff-4047d4d3fa72\",\"type\":\"Rect\"},\"selection_glyph\":null,\"view\":{\"id\":\"dccc59d8-2af5-47cf-bdb0-a56b244480f8\",\"type\":\"CDSView\"}},\"id\":\"c51c5ab0-684d-4339-8a4b-4647b6139f09\",\"type\":\"GlyphRenderer\"},{\"attributes\":{\"fill_color\":{\"value\":\"#1f77b4\"},\"height\":{\"units\":\"data\",\"value\":0.001},\"line_color\":{\"value\":\"deepskyblue\"},\"width\":{\"units\":\"data\",\"value\":0.2},\"x\":{\"field\":\"x\"},\"y\":{\"field\":\"y\"}},\"id\":\"9a641715-0757-4ef8-80af-a69e14675855\",\"type\":\"Rect\"},{\"attributes\":{},\"id\":\"7c93d9ca-0374-41a0-ad25-f954a97178ff\",\"type\":\"WheelZoomTool\"},{\"attributes\":{\"fill_alpha\":{\"value\":0.1},\"fill_color\":{\"value\":\"#1f77b4\"},\"height\":{\"units\":\"data\",\"value\":0.001},\"line_alpha\":{\"value\":0.1},\"line_color\":{\"value\":\"#1f77b4\"},\"width\":{\"units\":\"data\",\"value\":0.2},\"x\":{\"field\":\"x\"},\"y\":{\"field\":\"y\"}},\"id\":\"42aa3a78-b10f-467a-ace8-caf3209acbe1\",\"type\":\"Rect\"},{\"attributes\":{\"source\":{\"id\":\"731c4c47-b0b0-453c-8abb-cff31a38fbeb\",\"type\":\"ColumnDataSource\"}},\"id\":\"dccc59d8-2af5-47cf-bdb0-a56b244480f8\",\"type\":\"CDSView\"},{\"attributes\":{\"data_source\":{\"id\":\"7b1aa1e6-88f4-47dd-91cd-0fae04e6ea72\",\"type\":\"ColumnDataSource\"},\"glyph\":{\"id\":\"9a641715-0757-4ef8-80af-a69e14675855\",\"type\":\"Rect\"},\"hover_glyph\":null,\"muted_glyph\":null,\"name\":\"Whiskers\",\"nonselection_glyph\":{\"id\":\"42aa3a78-b10f-467a-ace8-caf3209acbe1\",\"type\":\"Rect\"},\"selection_glyph\":null,\"view\":{\"id\":\"3dc92c65-e7cb-42db-b4bd-bedf91d63e1c\",\"type\":\"CDSView\"}},\"id\":\"558a5c45-0a78-41e6-b5b4-87e75136c6d5\",\"type\":\"GlyphRenderer\"},{\"attributes\":{\"overlay\":{\"id\":\"d54d5ae5-5e71-4ccf-8c41-91cccce62fc9\",\"type\":\"BoxAnnotation\"}},\"id\":\"7ae718bf-1933-41d7-8200-3e08d947a9cf\",\"type\":\"BoxZoomTool\"},{\"attributes\":{\"callback\":null,\"data\":{\"x\":[\"M1\",\"M1\"],\"y\":[149.59783935546875,156.61248779296875]},\"selected\":{\"id\":\"d6483167-eafd-481e-a69d-69711f670ae2\",\"type\":\"Selection\"},\"selection_policy\":{\"id\":\"ca4695b1-9417-4d3a-9124-7f9f6eb791b7\",\"type\":\"UnionRenderers\"}},\"id\":\"cc123543-523a-4bae-9b98-b175df063237\",\"type\":\"ColumnDataSource\"},{\"attributes\":{},\"id\":\"54a16ab8-f068-4475-9d74-202bb3d2752a\",\"type\":\"SaveTool\"},{\"attributes\":{\"source\":{\"id\":\"7b1aa1e6-88f4-47dd-91cd-0fae04e6ea72\",\"type\":\"ColumnDataSource\"}},\"id\":\"3dc92c65-e7cb-42db-b4bd-bedf91d63e1c\",\"type\":\"CDSView\"},{\"attributes\":{\"fill_color\":{\"value\":\"#1f77b4\"},\"height\":{\"units\":\"data\",\"value\":0.001},\"line_color\":{\"value\":\"deepskyblue\"},\"width\":{\"units\":\"data\",\"value\":0.2},\"x\":{\"field\":\"x\"},\"y\":{\"field\":\"y\"}},\"id\":\"3b2f04fe-d2df-49f3-9dcf-5c2f84055bbf\",\"type\":\"Rect\"},{\"attributes\":{},\"id\":\"ddf5d355-4412-49cd-9c12-e47ce9c99e13\",\"type\":\"ResetTool\"},{\"attributes\":{\"callback\":null,\"data\":{\"x\":[\"C3\",\"C3\"],\"y\":[149.7591552734375,153.4854736328125]},\"selected\":{\"id\":\"34c97508-c126-40e6-a3c2-0a10c0732783\",\"type\":\"Selection\"},\"selection_policy\":{\"id\":\"19331108-7836-4d06-ac84-540abface3a6\",\"type\":\"UnionRenderers\"}},\"id\":\"f601e065-807b-4c8f-89b3-a9b1e17d848c\",\"type\":\"ColumnDataSource\"},{\"attributes\":{\"fill_alpha\":{\"value\":0.1},\"fill_color\":{\"value\":\"#1f77b4\"},\"height\":{\"units\":\"data\",\"value\":0.001},\"line_alpha\":{\"value\":0.1},\"line_color\":{\"value\":\"#1f77b4\"},\"width\":{\"units\":\"data\",\"value\":0.2},\"x\":{\"field\":\"x\"},\"y\":{\"field\":\"y\"}},\"id\":\"1c4a1727-4004-4525-9fdb-7a90ba452845\",\"type\":\"Rect\"},{\"attributes\":{\"data_source\":{\"id\":\"cc123543-523a-4bae-9b98-b175df063237\",\"type\":\"ColumnDataSource\"},\"glyph\":{\"id\":\"3b2f04fe-d2df-49f3-9dcf-5c2f84055bbf\",\"type\":\"Rect\"},\"hover_glyph\":null,\"muted_glyph\":null,\"name\":\"Whiskers\",\"nonselection_glyph\":{\"id\":\"1c4a1727-4004-4525-9fdb-7a90ba452845\",\"type\":\"Rect\"},\"selection_glyph\":null,\"view\":{\"id\":\"8f29e2b8-8cc9-452a-bffd-23d3f470d8d4\",\"type\":\"CDSView\"}},\"id\":\"9847c3ae-451b-4bf6-a44b-5ff6a1cc8e77\",\"type\":\"GlyphRenderer\"},{\"attributes\":{},\"id\":\"f193d7a8-d2b0-44f3-ad81-89afca21e91d\",\"type\":\"HelpTool\"},{\"attributes\":{\"fill_color\":{\"value\":\"#1f77b4\"},\"height\":{\"units\":\"data\",\"value\":0.001},\"line_color\":{\"value\":\"deepskyblue\"},\"width\":{\"units\":\"data\",\"value\":0.2},\"x\":{\"field\":\"x\"},\"y\":{\"field\":\"y\"}},\"id\":\"fa320d81-d7a6-46ff-8723-0ea4040645f1\",\"type\":\"Rect\"},{\"attributes\":{\"fill_alpha\":{\"value\":0.1},\"fill_color\":{\"value\":\"#1f77b4\"},\"height\":{\"units\":\"data\",\"value\":0.001},\"line_alpha\":{\"value\":0.1},\"line_color\":{\"value\":\"#1f77b4\"},\"width\":{\"units\":\"data\",\"value\":0.2},\"x\":{\"field\":\"x\"},\"y\":{\"field\":\"y\"}},\"id\":\"c23c55c6-7d9a-497f-9032-25d33ee37f42\",\"type\":\"Rect\"},{\"attributes\":{\"source\":{\"id\":\"cc123543-523a-4bae-9b98-b175df063237\",\"type\":\"ColumnDataSource\"}},\"id\":\"8f29e2b8-8cc9-452a-bffd-23d3f470d8d4\",\"type\":\"CDSView\"},{\"attributes\":{\"data_source\":{\"id\":\"f601e065-807b-4c8f-89b3-a9b1e17d848c\",\"type\":\"ColumnDataSource\"},\"glyph\":{\"id\":\"fa320d81-d7a6-46ff-8723-0ea4040645f1\",\"type\":\"Rect\"},\"hover_glyph\":null,\"muted_glyph\":null,\"name\":\"Whiskers\",\"nonselection_glyph\":{\"id\":\"c23c55c6-7d9a-497f-9032-25d33ee37f42\",\"type\":\"Rect\"},\"selection_glyph\":null,\"view\":{\"id\":\"a97522a8-996b-4aff-9e69-b8ef376268f7\",\"type\":\"CDSView\"}},\"id\":\"8f1e6f3a-5b3c-415e-b5e4-d21797bdcbcc\",\"type\":\"GlyphRenderer\"},{\"attributes\":{\"callback\":null,\"data\":{\"x\":[\"M2\",\"M2\"],\"y\":[151.17259216308594,158.6342010498047]},\"selected\":{\"id\":\"5216ee86-70d6-4df8-b61a-55469fc5e29d\",\"type\":\"Selection\"},\"selection_policy\":{\"id\":\"2270b7b9-4d92-4dcb-ace7-9071054291d6\",\"type\":\"UnionRenderers\"}},\"id\":\"a7152ee4-08c7-4cd8-bdf4-0fd7b9936d6d\",\"type\":\"ColumnDataSource\"},{\"attributes\":{\"source\":{\"id\":\"f601e065-807b-4c8f-89b3-a9b1e17d848c\",\"type\":\"ColumnDataSource\"}},\"id\":\"a97522a8-996b-4aff-9e69-b8ef376268f7\",\"type\":\"CDSView\"},{\"attributes\":{\"fill_color\":{\"value\":\"#1f77b4\"},\"height\":{\"units\":\"data\",\"value\":0.001},\"line_color\":{\"value\":\"deepskyblue\"},\"width\":{\"units\":\"data\",\"value\":0.2},\"x\":{\"field\":\"x\"},\"y\":{\"field\":\"y\"}},\"id\":\"8af0cf32-8a9c-41d1-83e8-2d9d5ac8cda2\",\"type\":\"Rect\"},{\"attributes\":{\"callback\":null,\"data\":{\"x\":[\"C4\",\"C4\"],\"y\":[148.1608428955078,152.5812530517578]},\"selected\":{\"id\":\"25bbbedb-8766-46d9-b62c-5dbaa0b46c6b\",\"type\":\"Selection\"},\"selection_policy\":{\"id\":\"466c29f4-2272-46ec-9447-9e6e408014b6\",\"type\":\"UnionRenderers\"}},\"id\":\"27729b58-911e-4a32-97c5-8bf4db8e121a\",\"type\":\"ColumnDataSource\"},{\"attributes\":{\"fill_alpha\":{\"value\":0.1},\"fill_color\":{\"value\":\"#1f77b4\"},\"height\":{\"units\":\"data\",\"value\":0.001},\"line_alpha\":{\"value\":0.1},\"line_color\":{\"value\":\"#1f77b4\"},\"width\":{\"units\":\"data\",\"value\":0.2},\"x\":{\"field\":\"x\"},\"y\":{\"field\":\"y\"}},\"id\":\"e73033d3-eebf-429c-8c2c-a68f3e1f54b9\",\"type\":\"Rect\"},{\"attributes\":{\"data_source\":{\"id\":\"a7152ee4-08c7-4cd8-bdf4-0fd7b9936d6d\",\"type\":\"ColumnDataSource\"},\"glyph\":{\"id\":\"8af0cf32-8a9c-41d1-83e8-2d9d5ac8cda2\",\"type\":\"Rect\"},\"hover_glyph\":null,\"muted_glyph\":null,\"name\":\"Whiskers\",\"nonselection_glyph\":{\"id\":\"e73033d3-eebf-429c-8c2c-a68f3e1f54b9\",\"type\":\"Rect\"},\"selection_glyph\":null,\"view\":{\"id\":\"9cd90ac7-5050-4c78-a754-3ee3d5864ba4\",\"type\":\"CDSView\"}},\"id\":\"5762b230-c35d-4c92-9dce-9d9f730b1eb1\",\"type\":\"GlyphRenderer\"},{\"attributes\":{\"fill_color\":{\"value\":\"#1f77b4\"},\"height\":{\"units\":\"data\",\"value\":0.001},\"line_color\":{\"value\":\"deepskyblue\"},\"width\":{\"units\":\"data\",\"value\":0.2},\"x\":{\"field\":\"x\"},\"y\":{\"field\":\"y\"}},\"id\":\"7271505b-54a3-4edc-a9f6-6dac58bc7ac3\",\"type\":\"Rect\"},{\"attributes\":{\"fill_alpha\":{\"value\":0.1},\"fill_color\":{\"value\":\"#1f77b4\"},\"height\":{\"units\":\"data\",\"value\":0.001},\"line_alpha\":{\"value\":0.1},\"line_color\":{\"value\":\"#1f77b4\"},\"width\":{\"units\":\"data\",\"value\":0.2},\"x\":{\"field\":\"x\"},\"y\":{\"field\":\"y\"}},\"id\":\"b95a0c04-1c63-409e-a4fe-dbddc0be6b89\",\"type\":\"Rect\"},{\"attributes\":{\"source\":{\"id\":\"a7152ee4-08c7-4cd8-bdf4-0fd7b9936d6d\",\"type\":\"ColumnDataSource\"}},\"id\":\"9cd90ac7-5050-4c78-a754-3ee3d5864ba4\",\"type\":\"CDSView\"},{\"attributes\":{\"data_source\":{\"id\":\"27729b58-911e-4a32-97c5-8bf4db8e121a\",\"type\":\"ColumnDataSource\"},\"glyph\":{\"id\":\"7271505b-54a3-4edc-a9f6-6dac58bc7ac3\",\"type\":\"Rect\"},\"hover_glyph\":null,\"muted_glyph\":null,\"name\":\"Whiskers\",\"nonselection_glyph\":{\"id\":\"b95a0c04-1c63-409e-a4fe-dbddc0be6b89\",\"type\":\"Rect\"},\"selection_glyph\":null,\"view\":{\"id\":\"6ef501db-b1d7-4881-a94b-ad0099367ca5\",\"type\":\"CDSView\"}},\"id\":\"d4f8efe8-4e73-4a23-ae27-b06234c20391\",\"type\":\"GlyphRenderer\"},{\"attributes\":{\"callback\":null,\"data\":{\"x\":[\"P1\",\"P1\"],\"y\":[149.75918579101562,154.93325805664062]},\"selected\":{\"id\":\"9e649df8-37d6-4310-b0db-329ebc9327be\",\"type\":\"Selection\"},\"selection_policy\":{\"id\":\"ff38bb56-af9c-481b-8fdd-81686c04eddc\",\"type\":\"UnionRenderers\"}},\"id\":\"3b2b83eb-5ccf-400b-bfac-7ef114913be9\",\"type\":\"ColumnDataSource\"},{\"attributes\":{\"line_color\":{\"value\":\"deepskyblue\"},\"xs\":{\"field\":\"xs\"},\"ys\":{\"field\":\"ys\"}},\"id\":\"095f3016-15b9-4d10-a352-d1473af4c6e6\",\"type\":\"MultiLine\"},{\"attributes\":{\"source\":{\"id\":\"27729b58-911e-4a32-97c5-8bf4db8e121a\",\"type\":\"ColumnDataSource\"}},\"id\":\"6ef501db-b1d7-4881-a94b-ad0099367ca5\",\"type\":\"CDSView\"},{\"attributes\":{\"fill_color\":{\"value\":\"#1f77b4\"},\"height\":{\"units\":\"data\",\"value\":0.001},\"line_color\":{\"value\":\"deepskyblue\"},\"width\":{\"units\":\"data\",\"value\":0.2},\"x\":{\"field\":\"x\"},\"y\":{\"field\":\"y\"}},\"id\":\"6489df71-cc9a-4de9-b0f4-9ce4442d04e5\",\"type\":\"Rect\"},{\"attributes\":{\"line_alpha\":{\"value\":0.1},\"line_color\":{\"value\":\"#1f77b4\"},\"xs\":{\"field\":\"xs\"},\"ys\":{\"field\":\"ys\"}},\"id\":\"f3891838-dbbd-4507-bf75-f74ec4d07a9d\",\"type\":\"MultiLine\"},{\"attributes\":{\"callback\":null,\"data\":{\"x\":[\"C5\",\"C5\"],\"y\":[150.3035888671875,154.88372802734375]},\"selected\":{\"id\":\"1a8291d6-b861-40da-a049-8442b2bd9ad1\",\"type\":\"Selection\"},\"selection_policy\":{\"id\":\"7c0d904c-a187-4faa-90b9-e90e37ee7931\",\"type\":\"UnionRenderers\"}},\"id\":\"1e373982-f67e-4e07-bdaf-d9b1b80b143f\",\"type\":\"ColumnDataSource\"},{\"attributes\":{\"fill_alpha\":{\"value\":0.1},\"fill_color\":{\"value\":\"#1f77b4\"},\"height\":{\"units\":\"data\",\"value\":0.001},\"line_alpha\":{\"value\":0.1},\"line_color\":{\"value\":\"#1f77b4\"},\"width\":{\"units\":\"data\",\"value\":0.2},\"x\":{\"field\":\"x\"},\"y\":{\"field\":\"y\"}},\"id\":\"9906ed50-b1ca-4f97-b66e-e992c7a07eb0\",\"type\":\"Rect\"},{\"attributes\":{\"data_source\":{\"id\":\"9e2144c1-017f-45ab-a36c-6f6142fb01e6\",\"type\":\"ColumnDataSource\"},\"glyph\":{\"id\":\"095f3016-15b9-4d10-a352-d1473af4c6e6\",\"type\":\"MultiLine\"},\"hover_glyph\":null,\"muted_glyph\":null,\"name\":\"LinePlot\",\"nonselection_glyph\":{\"id\":\"f3891838-dbbd-4507-bf75-f74ec4d07a9d\",\"type\":\"MultiLine\"},\"selection_glyph\":null,\"view\":{\"id\":\"59278433-aa85-40fd-96e0-5cc8de79aa35\",\"type\":\"CDSView\"}},\"id\":\"c2e62e12-f5e4-4ac1-8fa4-c242ea58480a\",\"type\":\"GlyphRenderer\"},{\"attributes\":{\"data_source\":{\"id\":\"3b2b83eb-5ccf-400b-bfac-7ef114913be9\",\"type\":\"ColumnDataSource\"},\"glyph\":{\"id\":\"6489df71-cc9a-4de9-b0f4-9ce4442d04e5\",\"type\":\"Rect\"},\"hover_glyph\":null,\"muted_glyph\":null,\"name\":\"Whiskers\",\"nonselection_glyph\":{\"id\":\"9906ed50-b1ca-4f97-b66e-e992c7a07eb0\",\"type\":\"Rect\"},\"selection_glyph\":null,\"view\":{\"id\":\"2fbf0635-f3d5-49a3-b46f-c17c09da5081\",\"type\":\"CDSView\"}},\"id\":\"eb29b8a1-f9a4-4794-b802-51b91f317c29\",\"type\":\"GlyphRenderer\"},{\"attributes\":{\"fill_color\":{\"value\":\"#1f77b4\"},\"height\":{\"units\":\"data\",\"value\":0.001},\"line_color\":{\"value\":\"deepskyblue\"},\"width\":{\"units\":\"data\",\"value\":0.2},\"x\":{\"field\":\"x\"},\"y\":{\"field\":\"y\"}},\"id\":\"a730829e-d082-4aca-ba5d-5d5b84dc6633\",\"type\":\"Rect\"},{\"attributes\":{\"source\":{\"id\":\"7d9bd8be-6a21-49ed-a0c4-e9d9a3bb91b4\",\"type\":\"ColumnDataSource\"}},\"id\":\"740cd1e3-8411-4478-8593-c68bcdb3d335\",\"type\":\"CDSView\"},{\"attributes\":{\"source\":{\"id\":\"9e2144c1-017f-45ab-a36c-6f6142fb01e6\",\"type\":\"ColumnDataSource\"}},\"id\":\"59278433-aa85-40fd-96e0-5cc8de79aa35\",\"type\":\"CDSView\"},{\"attributes\":{\"fill_alpha\":{\"value\":0.1},\"fill_color\":{\"value\":\"#1f77b4\"},\"height\":{\"units\":\"data\",\"value\":0.001},\"line_alpha\":{\"value\":0.1},\"line_color\":{\"value\":\"#1f77b4\"},\"width\":{\"units\":\"data\",\"value\":0.2},\"x\":{\"field\":\"x\"},\"y\":{\"field\":\"y\"}},\"id\":\"a261d27e-6159-4b1a-8f48-7c3b40eaa075\",\"type\":\"Rect\"},{\"attributes\":{\"source\":{\"id\":\"3b2b83eb-5ccf-400b-bfac-7ef114913be9\",\"type\":\"ColumnDataSource\"}},\"id\":\"2fbf0635-f3d5-49a3-b46f-c17c09da5081\",\"type\":\"CDSView\"},{\"attributes\":{\"data_source\":{\"id\":\"1e373982-f67e-4e07-bdaf-d9b1b80b143f\",\"type\":\"ColumnDataSource\"},\"glyph\":{\"id\":\"a730829e-d082-4aca-ba5d-5d5b84dc6633\",\"type\":\"Rect\"},\"hover_glyph\":null,\"muted_glyph\":null,\"name\":\"Whiskers\",\"nonselection_glyph\":{\"id\":\"a261d27e-6159-4b1a-8f48-7c3b40eaa075\",\"type\":\"Rect\"},\"selection_glyph\":null,\"view\":{\"id\":\"10c7cd6a-4cba-4bfe-a44f-7a3652c24869\",\"type\":\"CDSView\"}},\"id\":\"847b97da-4429-4f17-81d9-a9aec224b2fa\",\"type\":\"GlyphRenderer\"},{\"attributes\":{\"callback\":null,\"data\":{\"x\":[\"Q1\",\"Q1\"],\"y\":[143.92713928222656,155.0478057861328]},\"selected\":{\"id\":\"5ad37cfe-5733-4555-a6d1-6cb89e129f75\",\"type\":\"Selection\"},\"selection_policy\":{\"id\":\"6a1acb44-14a6-4367-a609-fdf014ab8500\",\"type\":\"UnionRenderers\"}},\"id\":\"e9b8220b-65be-4d29-8900-75d02a826d31\",\"type\":\"ColumnDataSource\"},{\"attributes\":{},\"id\":\"7c832816-8b15-472c-bef3-8402d4c5b227\",\"type\":\"Selection\"},{\"attributes\":{\"source\":{\"id\":\"1e373982-f67e-4e07-bdaf-d9b1b80b143f\",\"type\":\"ColumnDataSource\"}},\"id\":\"10c7cd6a-4cba-4bfe-a44f-7a3652c24869\",\"type\":\"CDSView\"},{\"attributes\":{\"fill_color\":{\"value\":\"#1f77b4\"},\"height\":{\"units\":\"data\",\"value\":0.001},\"line_color\":{\"value\":\"deepskyblue\"},\"width\":{\"units\":\"data\",\"value\":0.2},\"x\":{\"field\":\"x\"},\"y\":{\"field\":\"y\"}},\"id\":\"fe8c29c3-639f-4f25-a7e0-b32de0002d4f\",\"type\":\"Rect\"},{\"attributes\":{\"label\":{\"value\":\"Mean Prediction +/- Min & Max Value\"},\"renderers\":[{\"id\":\"c2e62e12-f5e4-4ac1-8fa4-c242ea58480a\",\"type\":\"GlyphRenderer\"}]},\"id\":\"a2debf57-f50a-46be-9efa-d931e54c47ed\",\"type\":\"LegendItem\"},{\"attributes\":{\"callback\":null,\"data\":{\"x\":[\"C6\",\"C6\"],\"y\":[151.28282165527344,158.3508758544922]},\"selected\":{\"id\":\"a25ecb2a-0b74-4b72-9cec-a4c3a5e27575\",\"type\":\"Selection\"},\"selection_policy\":{\"id\":\"a137f9ab-b32a-4f7f-8446-8a766b2183b8\",\"type\":\"UnionRenderers\"}},\"id\":\"7d9bd8be-6a21-49ed-a0c4-e9d9a3bb91b4\",\"type\":\"ColumnDataSource\"},{\"attributes\":{\"fill_alpha\":{\"value\":0.1},\"fill_color\":{\"value\":\"#1f77b4\"},\"height\":{\"units\":\"data\",\"value\":0.001},\"line_alpha\":{\"value\":0.1},\"line_color\":{\"value\":\"#1f77b4\"},\"width\":{\"units\":\"data\",\"value\":0.2},\"x\":{\"field\":\"x\"},\"y\":{\"field\":\"y\"}},\"id\":\"ba638cb2-83b5-4e5c-ad09-21d2591ff2ea\",\"type\":\"Rect\"},{\"attributes\":{\"data_source\":{\"id\":\"e9b8220b-65be-4d29-8900-75d02a826d31\",\"type\":\"ColumnDataSource\"},\"glyph\":{\"id\":\"fe8c29c3-639f-4f25-a7e0-b32de0002d4f\",\"type\":\"Rect\"},\"hover_glyph\":null,\"muted_glyph\":null,\"name\":\"Whiskers\",\"nonselection_glyph\":{\"id\":\"ba638cb2-83b5-4e5c-ad09-21d2591ff2ea\",\"type\":\"Rect\"},\"selection_glyph\":null,\"view\":{\"id\":\"72d7fbde-e3f8-454d-bc47-7cb6fb62f09c\",\"type\":\"CDSView\"}},\"id\":\"13e4f0d8-4e82-47c0-a4c0-561e96933303\",\"type\":\"GlyphRenderer\"},{\"attributes\":{\"callback\":null,\"data\":{\"x\":[\"A1\",\"A2\",\"A3\",\"A4\",\"A5\",\"A6\",\"C1\",\"C2\",\"C3\",\"C4\",\"C5\",\"C6\",\"D1\",\"D2\",\"E1\",\"E2\",\"F1\",\"F2\",\"F3\",\"H1\",\"I1\",\"J1\",\"M1\",\"M2\",\"P1\",\"Q1\",\"Q2\",\"S1\",\"S2\",\"S3\",\"S4\",\"S5\",\"T1\",\"T2\"],\"y\":[149.23004804992675,149.09350512695312,152.1688890838623,153.6499408416748,148.24150540161133,148.2430943145752,148.08336320495604,153.01090971374512,151.89107052612306,149.85686563110352,152.08136329650878,154.01409465026856,150.932640045166,148.20467858886718,148.39430781555177,149.81582566833495,146.60367706298828,146.50265354919435,148.2318542327881,148.1554504852295,151.98182176208496,147.90414630126952,154.01278147888183,153.99906304931642,153.90566247558593,148.07642868041992,148.6097225036621,154.873043258667,148.51768920898436,149.94517868041993,150.54869783020018,159.5772512359619,147.94968563842772,148.7583466491699]},\"selected\":{\"id\":\"85ad70bf-766b-4688-989b-86e30843a5d5\",\"type\":\"Selection\"},\"selection_policy\":{\"id\":\"bf499352-7f69-4446-86a3-63412f00b290\",\"type\":\"UnionRenderers\"}},\"id\":\"f7a40e6d-6c66-4e79-ade2-543d724cc546\",\"type\":\"ColumnDataSource\"},{\"attributes\":{\"fill_color\":{\"value\":\"#1f77b4\"},\"height\":{\"units\":\"data\",\"value\":0.001},\"line_color\":{\"value\":\"deepskyblue\"},\"width\":{\"units\":\"data\",\"value\":0.2},\"x\":{\"field\":\"x\"},\"y\":{\"field\":\"y\"}},\"id\":\"956c3b30-42fb-4c6a-8227-9e8c5d61f481\",\"type\":\"Rect\"},{\"attributes\":{\"fill_alpha\":{\"value\":0.1},\"fill_color\":{\"value\":\"#1f77b4\"},\"height\":{\"units\":\"data\",\"value\":0.001},\"line_alpha\":{\"value\":0.1},\"line_color\":{\"value\":\"#1f77b4\"},\"width\":{\"units\":\"data\",\"value\":0.2},\"x\":{\"field\":\"x\"},\"y\":{\"field\":\"y\"}},\"id\":\"15321d0b-fd5a-4eab-bf20-3fee3240d84d\",\"type\":\"Rect\"},{\"attributes\":{\"callback\":null,\"data\":{\"x\":[\"D1\",\"D1\"],\"y\":[149.79978942871094,152.058349609375]},\"selected\":{\"id\":\"0c1088b0-8347-4feb-8ba8-22941f3564b9\",\"type\":\"Selection\"},\"selection_policy\":{\"id\":\"d5f448f8-bcde-4e0a-8649-e5339e062123\",\"type\":\"UnionRenderers\"}},\"id\":\"718535c8-7cd9-4142-9f74-03192d034e16\",\"type\":\"ColumnDataSource\"},{\"attributes\":{\"source\":{\"id\":\"e9b8220b-65be-4d29-8900-75d02a826d31\",\"type\":\"ColumnDataSource\"}},\"id\":\"72d7fbde-e3f8-454d-bc47-7cb6fb62f09c\",\"type\":\"CDSView\"},{\"attributes\":{},\"id\":\"52d4587c-0746-452d-9e03-fe776f00a836\",\"type\":\"Selection\"},{\"attributes\":{\"data_source\":{\"id\":\"7d9bd8be-6a21-49ed-a0c4-e9d9a3bb91b4\",\"type\":\"ColumnDataSource\"},\"glyph\":{\"id\":\"956c3b30-42fb-4c6a-8227-9e8c5d61f481\",\"type\":\"Rect\"},\"hover_glyph\":null,\"muted_glyph\":null,\"name\":\"Whiskers\",\"nonselection_glyph\":{\"id\":\"15321d0b-fd5a-4eab-bf20-3fee3240d84d\",\"type\":\"Rect\"},\"selection_glyph\":null,\"view\":{\"id\":\"740cd1e3-8411-4478-8593-c68bcdb3d335\",\"type\":\"CDSView\"}},\"id\":\"2eaea6e7-bfce-47ca-88cb-790b67e79a2d\",\"type\":\"GlyphRenderer\"},{\"attributes\":{\"fill_alpha\":{\"value\":0.1},\"fill_color\":{\"value\":\"#1f77b4\"},\"line_alpha\":{\"value\":0.1},\"line_color\":{\"value\":\"#1f77b4\"},\"size\":{\"units\":\"screen\",\"value\":12},\"x\":{\"field\":\"x\"},\"y\":{\"field\":\"y\"}},\"id\":\"8562e31c-b893-4703-907f-2113c2cc7936\",\"type\":\"Diamond\"},{\"attributes\":{\"callback\":null,\"data\":{\"x\":[\"Q2\",\"Q2\"],\"y\":[147.708984375,151.4087677001953]},\"selected\":{\"id\":\"d338a6d1-751c-46e1-bd69-b4082a8e131d\",\"type\":\"Selection\"},\"selection_policy\":{\"id\":\"383ade36-6d5f-4799-ba65-2e1ab1f99798\",\"type\":\"UnionRenderers\"}},\"id\":\"c89f4fa6-1fae-4971-a197-d26c1b39b8af\",\"type\":\"ColumnDataSource\"},{\"attributes\":{\"fill_color\":{\"value\":\"#1f77b4\"},\"height\":{\"units\":\"data\",\"value\":0.001},\"line_color\":{\"value\":\"deepskyblue\"},\"width\":{\"units\":\"data\",\"value\":0.2},\"x\":{\"field\":\"x\"},\"y\":{\"field\":\"y\"}},\"id\":\"cfe408bc-0cef-403e-a0f9-6a40dc3499ce\",\"type\":\"Rect\"},{\"attributes\":{\"fill_alpha\":{\"value\":0.1},\"fill_color\":{\"value\":\"#1f77b4\"},\"height\":{\"units\":\"data\",\"value\":0.001},\"line_alpha\":{\"value\":0.1},\"line_color\":{\"value\":\"#1f77b4\"},\"width\":{\"units\":\"data\",\"value\":0.2},\"x\":{\"field\":\"x\"},\"y\":{\"field\":\"y\"}},\"id\":\"192a8591-6d6b-4071-acce-ea267fb73c37\",\"type\":\"Rect\"}],\"root_ids\":[\"d1e8cc75-4351-42e9-bf00-c8944849c7a8\"]},\"title\":\"Bokeh Application\",\"version\":\"0.13.0\"}};\n",
       "  var render_items = [{\"docid\":\"57e2515d-920e-4969-99c9-8e05336537f0\",\"roots\":{\"d1e8cc75-4351-42e9-bf00-c8944849c7a8\":\"a69d4d8d-7f7a-49a4-9887-051325caa62e\"}}];\n",
       "  root.Bokeh.embed.embed_items_notebook(docs_json, render_items);\n",
       "\n",
       "  }\n",
       "  if (root.Bokeh !== undefined) {\n",
       "    embed_document(root);\n",
       "  } else {\n",
       "    var attempts = 0;\n",
       "    var timer = setInterval(function(root) {\n",
       "      if (root.Bokeh !== undefined) {\n",
       "        embed_document(root);\n",
       "        clearInterval(timer);\n",
       "      }\n",
       "      attempts++;\n",
       "      if (attempts > 100) {\n",
       "        console.log(\"Bokeh: ERROR: Unable to run BokehJS code because BokehJS library is missing\")\n",
       "        clearInterval(timer);\n",
       "      }\n",
       "    }, 10, root)\n",
       "  }\n",
       "})(window);"
      ],
      "application/vnd.bokehjs_exec.v0+json": ""
     },
     "metadata": {
      "application/vnd.bokehjs_exec.v0+json": {
       "id": "d1e8cc75-4351-42e9-bf00-c8944849c7a8"
      }
     },
     "output_type": "display_data"
    }
   ],
   "source": [
    "show(f)"
   ]
  }
 ],
 "metadata": {
  "kernelspec": {
   "display_name": "Python 3",
   "language": "python",
   "name": "python3"
  },
  "language_info": {
   "codemirror_mode": {
    "name": "ipython",
    "version": 3
   },
   "file_extension": ".py",
   "mimetype": "text/x-python",
   "name": "python",
   "nbconvert_exporter": "python",
   "pygments_lexer": "ipython3",
   "version": "3.6.6"
  }
 },
 "nbformat": 4,
 "nbformat_minor": 2
}
