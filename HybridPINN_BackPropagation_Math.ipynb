{
 "cells": [
  {
   "cell_type": "markdown",
   "metadata": {},
   "source": [
    "<a href=\"https://colab.research.google.com/github/diliprk/MasterThesis-ML4ACADS/blob/master/HybridPINN_BackPropagation_Math.ipynb\" target=\"_parent\"><img src=\"https://colab.research.google.com/assets/colab-badge.svg\" alt=\"Open In Colab\"/></a>"
   ]
  },
  {
   "cell_type": "markdown",
   "metadata": {},
   "source": [
    "## BackPropagation for Hybrid PINN\n",
    "Our Loss function in the currently used syntax:<br>\n",
    "$E = \\frac{1}{2\\dot{V}_{Tz}^2} \\sum_{k \\in K} \\left( \\hat{\\dot{V}}_k - \\dot{V}_k \\right)^2 + \\frac{1}{2N} \\sum_{k \\in K} \\left( \\hat{c}_k - 1 \\right)^2$\n",
    "\n",
    "Our loss function in the syntax of [Clever Machine - Derivation: Error Backpropagation & Gradient Descent for Neural Networks](https://theclevermachine.wordpress.com/2014/09/06/derivation-error-backpropagation-gradient-descent-for-neural-networks/):<br>\n",
    "$E = \\frac{1}{2\\dot{V}_{Tz}^2} \\sum_{k \\in K} \\left( \\dot{V}_k(a_k)-t_k \\right)^2 + \\frac{1}{2N} \\sum_{k \\in K} \\left( a_k - 1 \\right)^2$<br>\n",
    "\n",
    "Simplified version of Error (Loss) function for learning purposes:<br>\n",
    "$E = \\frac{1}{2} \\sum_{k \\in K} \\left( \\dot{V}_k(a_k)-t_k \\right)^2$\n",
    "where, \n",
    "* The function $\\dot{V}_k(a_k)$ is the Flow rate output from the 1D CFD Solver (i.e FDDN).\n",
    "* $t_k$ is the target flow rate value from the Lab Test Results."
   ]
  },
  {
   "cell_type": "markdown",
   "metadata": {},
   "source": [
    "**Backpropagation for Hybrid Neural Network using simplified version of _Error_**:<br>\n",
    "$\\begin{aligned}\n",
    "E &= \\frac{1}{2} \\sum_{k \\in K} \\left( \\dot{V}_k(a_k)-t_k \\right)^2 \\quad\\quad (1) \\\\\n",
    "\\frac{\\partial E}{\\partial w_{jk}} &=  \\frac{\\partial}{\\partial w_{jk}} \\frac{1}{2} \\sum_{k \\in K} \\left( \\dot{V}_k(a_k)-t_k \\right)^2 \\quad\\quad (2) \\\\\n",
    "&=  \\left( \\dot{V}_k(a_k)-t_k \\right)  \\frac{\\partial}{\\partial w_{jk}} \\left( \\dot{V}_k(a_k)-t_k \\right) \\\\\n",
    "\\frac{\\partial E}{\\partial w_{jk}} &= \\left( \\dot{V}_k(a_k)-t_k \\right)  \\frac{\\partial}{\\partial w_{jk}} \\dot{V}_k(a_k)\n",
    "\\quad\\quad (3) \\\\\n",
    "&= \\left( \\dot{V}_k(a_k)-t_k \\right)  \\frac{\\partial \\dot{V}_k}{\\partial a_k}\\frac{\\partial}{\\partial w_{jk}} a_k \\\\\n",
    "&= \\left( \\dot{V}_k(a_k)-t_k \\right)  \\frac{\\partial \\dot{V}_k}{\\partial a_k}\\frac{\\partial}{\\partial w_{jk}} g_k(z_k)\\\\\n",
    "&= \\left( \\dot{V}_k(a_k)-t_k \\right)  \\frac{\\partial \\dot{V}_k}{\\partial a_k} g_k'(z_k) \\frac{\\partial}{\\partial w_{jk}} z_k\\\\\n",
    "\\frac{\\partial E}{\\partial w_{jk}} &= \\left( \\dot{V}_k(a_k)-t_k \\right)  \\frac{\\partial \\dot{V}_k}{\\partial a_k} g_k'(z_k)  a_j\n",
    "\\quad\\quad (4) \\\\\n",
    "\\delta_k &= \\left( \\dot{V}_k(a_k)-t_k \\right)  \\frac{\\partial \\dot{V}_k}{\\partial a_k} g_k'(z_k)\\\\\n",
    "\\frac{\\partial E}{\\partial w_{jk}} &= \\delta_k a_j \\quad\\quad (5) \\\\\n",
    "\\frac{\\partial E}{\\partial b_{k}} &= \\left( \\dot{V}_k(a_k)-t_k \\right)  \\frac{\\partial \\dot{V}_k}{\\partial a_k} g_k'(z_k) \\quad\\quad (6) \\\\\n",
    "&= \\delta_k  \\\\\n",
    "\\frac{\\partial E}{\\partial w_{i j}} &=\\sum_{k \\in K}\\left(\\dot{V}_{k}\\left(a_{k}\\right)-t_{k}\\right) \\frac{\\partial}{\\partial w_{i j}} \\dot{V}_{k}\\left(a_{k}\\right) \\quad\\quad (10) \\\\ &=a_{i} g_{j}^{\\prime}\\left(z_{j}\\right) \\sum_{k \\in K} \\delta_{k} w_{j k} \\\\ &=\\delta_{j} a_{i} \\\\ \\delta_{j} &=g_{j}^{\\prime}\\left(z_{j}\\right) \\sum_{k \\in K} \\delta_{k} w_{j k} \\quad\\quad (11) \n",
    "\\end{aligned}$"
   ]
  },
  {
   "cell_type": "markdown",
   "metadata": {},
   "source": [
    "**Backpropagation for Hybrid Neural Network using complete version of _Error_ (Loss) Function**:\n",
    "$\\begin{aligned}\n",
    "E &= \\frac{1}{2\\dot{V}_{Tz}^2} \\sum_{k \\in K} \\left( \\dot{V}_k(a_k)-t_k \\right)^2 + \\frac{1}{2N} \\sum_{k \\in K} \\left( a_k - 1 \\right)^2  \\quad\\quad (1) \\\\\n",
    "%\n",
    "\\frac{\\partial E}{\\partial w_{jk}} &= \\frac{1}{\\dot{V}_{Tz}^2} \\left( \\dot{V}_k(a_k)-t_k \\right)  \\frac{\\partial}{\\partial w_{jk}} \\left( \\dot{V}_k(a_k)-t_k \\right) + \\frac{1}{N} \\left( a_k-1 \\right)  \\frac{\\partial}{\\partial w_{jk}} \\left( a_k-1 \\right)\n",
    "\\quad\\quad (2) \\\\\n",
    "%\n",
    "\\frac{\\partial E}{\\partial w_{jk}} &= \\frac{1}{\\dot{V}_{Tz}^2}\n",
    " \\left( \\dot{V}_k(a_k)-t_k \\right)  \\frac{\\partial \\dot{V}_k}{\\partial a_k} g_k'(z_k) \\frac{\\partial}{\\partial w_{jk}} z_k + \\frac{1}{N} \\left( a_k-1 \\right) g_k'(z_k) \\frac{\\partial}{\\partial w_{jk}} z_k\n",
    "\\quad\\quad (3) \\\\\n",
    "%\n",
    "\\frac{\\partial E}{\\partial w_{jk}} &= \\frac{1}{\\dot{V}_{Tz}^2}\n",
    "\\left( \\dot{V}_k(a_k)-t_k \\right)  \\frac{\\partial \\dot{V}_k}{\\partial a_k} g_k'(z_k)  a_j + \\frac{1}{N} \\left( a_k-1 \\right) g_k'(z_k) a_j \\quad\\quad (4) \\\\\n",
    "%\n",
    "\\delta_k &= \\frac{1}{\\dot{V}_{Tz}^2}\n",
    "\\left( \\dot{V}_k(a_k)-t_k \\right)  \\frac{\\partial \\dot{V}_k}{\\partial a_k} g_k'(z_k) + \\frac{1}{N} \\left( a_k-1 \\right) g_k'(z_k)\n",
    "\\\\\n",
    "%\n",
    "\\frac{\\partial E}{\\partial w_{jk}} &= \\delta_k a_j \\quad\\quad (5) \\\\\n",
    "%\n",
    "\\frac{\\partial E}{\\partial b_{k}} &=  \\delta_k \\quad\\quad (6) \\\\\n",
    "\\end{aligned}$\n",
    "\n",
    "### Recall:<br>\n",
    "$\\begin{aligned}\n",
    "\\frac{\\partial \\dot{V}_k}{\\partial a_k} \\approx \\frac{\\Delta \\dot{V}_k}{\\Delta a_k} = \\frac{\\dot{V}_k(a_k+\\epsilon_k)-\\dot{V}_k(a_k)}{\\epsilon_k}\n",
    "\\end{aligned}$\n",
    "\n",
    "* $\\epsilon_k = cf_{CFD} * b$ where $cf_{CFD}$ is the initial correction factor from CFD and good values for $b$ are in the range of 0.01 to 0.1\n",
    "* The 1D Solver evaluates the input point twice, first for $\\dot{V}_k(a_k+\\epsilon_k)$ and a second time for $\\dot{V}_k(a_k)$"
   ]
  },
  {
   "cell_type": "code",
   "execution_count": null,
   "metadata": {},
   "outputs": [],
   "source": []
  }
 ],
 "metadata": {
  "kernelspec": {
   "display_name": "Python 3",
   "language": "python",
   "name": "python3"
  },
  "language_info": {
   "codemirror_mode": {
    "name": "ipython",
    "version": 3
   },
   "file_extension": ".py",
   "mimetype": "text/x-python",
   "name": "python",
   "nbconvert_exporter": "python",
   "pygments_lexer": "ipython3",
   "version": "3.6.6"
  }
 },
 "nbformat": 4,
 "nbformat_minor": 2
}
