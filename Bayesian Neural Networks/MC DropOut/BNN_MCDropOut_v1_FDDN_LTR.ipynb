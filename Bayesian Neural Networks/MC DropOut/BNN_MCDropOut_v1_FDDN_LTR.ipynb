{
 "cells": [
  {
   "cell_type": "markdown",
   "metadata": {},
   "source": [
    "## Version Description:\n",
    " * In this version - we predict just the __R600 Hole Diameter__ (`R600_HD`)in TZ6 using [Bayesian Neural Network with MC DropOut](https://github.com/valyome/Neural-Networks-with-MC-Dropout/). \n",
    " * Artificial data points synthesised from FDDN are used to train the ML model\n",
    " * The input features are `TZ6_Flow`,`MIXP`,`AMBP`,`AMBT` and the TZ6 CLR Restrictors."
   ]
  },
  {
   "cell_type": "code",
   "execution_count": 2,
   "metadata": {},
   "outputs": [
    {
     "data": {
      "text/html": [
       "<style>.container { width:95% !important; }</style>"
      ],
      "text/plain": [
       "<IPython.core.display.HTML object>"
      ]
     },
     "metadata": {},
     "output_type": "display_data"
    }
   ],
   "source": [
    "from IPython.core.display import display, HTML\n",
    "display(HTML(\"<style>.container { width:95% !important; }</style>\"))"
   ]
  },
  {
   "cell_type": "code",
   "execution_count": 3,
   "metadata": {},
   "outputs": [],
   "source": [
    "import pandas as pd\n",
    "import numpy as np\n",
    "\n",
    "#Set some numpy print options for displaying numpy arrays to fit maximum width of cell\n",
    "np.set_printoptions(precision=3, edgeitems=30, linewidth=1000,formatter=dict(float=lambda x: \"%.6g\" % x)) \n",
    "from functools import reduce\n",
    "\n",
    "from sklearn.preprocessing import MinMaxScaler\n",
    "from sklearn.metrics import mean_squared_error, r2_score"
   ]
  },
  {
   "cell_type": "code",
   "execution_count": 4,
   "metadata": {},
   "outputs": [],
   "source": [
    "import matplotlib.pyplot as plt\n",
    "%matplotlib inline\n",
    "%config InlineBackend.figure_format = 'svg' \n",
    "plt.style.use('seaborn-whitegrid')"
   ]
  },
  {
   "cell_type": "markdown",
   "metadata": {},
   "source": [
    "### Loading Data"
   ]
  },
  {
   "cell_type": "code",
   "execution_count": 5,
   "metadata": {},
   "outputs": [],
   "source": [
    "input_features = ['TZ_Flow','MIXP','AMBP','AMBT','R610_HS1','R611_HS1','R612_HS1','R613_HS1']\n",
    "usecols = ['HoV']+input_features+['R600_HD']"
   ]
  },
  {
   "cell_type": "code",
   "execution_count": 8,
   "metadata": {},
   "outputs": [
    {
     "data": {
      "text/html": [
       "<div>\n",
       "<style scoped>\n",
       "    .dataframe tbody tr th:only-of-type {\n",
       "        vertical-align: middle;\n",
       "    }\n",
       "\n",
       "    .dataframe tbody tr th {\n",
       "        vertical-align: top;\n",
       "    }\n",
       "\n",
       "    .dataframe thead th {\n",
       "        text-align: right;\n",
       "    }\n",
       "</style>\n",
       "<table border=\"1\" class=\"dataframe\">\n",
       "  <thead>\n",
       "    <tr style=\"text-align: right;\">\n",
       "      <th></th>\n",
       "      <th>HoV</th>\n",
       "      <th>TZ_Flow</th>\n",
       "      <th>MIXP</th>\n",
       "      <th>AMBP</th>\n",
       "      <th>AMBT</th>\n",
       "      <th>R610_HS1</th>\n",
       "      <th>R611_HS1</th>\n",
       "      <th>R612_HS1</th>\n",
       "      <th>R613_HS1</th>\n",
       "      <th>R600_HD</th>\n",
       "    </tr>\n",
       "  </thead>\n",
       "  <tbody>\n",
       "    <tr>\n",
       "      <th>0</th>\n",
       "      <td>FDDN_ASD0</td>\n",
       "      <td>720.292743</td>\n",
       "      <td>1800</td>\n",
       "      <td>102926</td>\n",
       "      <td>297.15</td>\n",
       "      <td>131</td>\n",
       "      <td>136</td>\n",
       "      <td>120</td>\n",
       "      <td>120</td>\n",
       "      <td>146</td>\n",
       "    </tr>\n",
       "    <tr>\n",
       "      <th>1</th>\n",
       "      <td>FDDN_ASD1</td>\n",
       "      <td>871.403000</td>\n",
       "      <td>2600</td>\n",
       "      <td>102426</td>\n",
       "      <td>299.15</td>\n",
       "      <td>131</td>\n",
       "      <td>136</td>\n",
       "      <td>120</td>\n",
       "      <td>120</td>\n",
       "      <td>146</td>\n",
       "    </tr>\n",
       "    <tr>\n",
       "      <th>2</th>\n",
       "      <td>FDDN_ASD2</td>\n",
       "      <td>985.488429</td>\n",
       "      <td>3400</td>\n",
       "      <td>103127</td>\n",
       "      <td>294.15</td>\n",
       "      <td>131</td>\n",
       "      <td>136</td>\n",
       "      <td>120</td>\n",
       "      <td>120</td>\n",
       "      <td>146</td>\n",
       "    </tr>\n",
       "    <tr>\n",
       "      <th>3</th>\n",
       "      <td>FDDN_ASD3</td>\n",
       "      <td>722.824643</td>\n",
       "      <td>1800</td>\n",
       "      <td>101825</td>\n",
       "      <td>295.15</td>\n",
       "      <td>131</td>\n",
       "      <td>136</td>\n",
       "      <td>120</td>\n",
       "      <td>120</td>\n",
       "      <td>146</td>\n",
       "    </tr>\n",
       "    <tr>\n",
       "      <th>4</th>\n",
       "      <td>FDDN_ASD4</td>\n",
       "      <td>875.039489</td>\n",
       "      <td>2600</td>\n",
       "      <td>100523</td>\n",
       "      <td>295.15</td>\n",
       "      <td>131</td>\n",
       "      <td>136</td>\n",
       "      <td>120</td>\n",
       "      <td>120</td>\n",
       "      <td>146</td>\n",
       "    </tr>\n",
       "  </tbody>\n",
       "</table>\n",
       "</div>"
      ],
      "text/plain": [
       "         HoV     TZ_Flow  MIXP    AMBP    AMBT  R610_HS1  R611_HS1  R612_HS1  \\\n",
       "0  FDDN_ASD0  720.292743  1800  102926  297.15       131       136       120   \n",
       "1  FDDN_ASD1  871.403000  2600  102426  299.15       131       136       120   \n",
       "2  FDDN_ASD2  985.488429  3400  103127  294.15       131       136       120   \n",
       "3  FDDN_ASD3  722.824643  1800  101825  295.15       131       136       120   \n",
       "4  FDDN_ASD4  875.039489  2600  100523  295.15       131       136       120   \n",
       "\n",
       "   R613_HS1  R600_HD  \n",
       "0       120      146  \n",
       "1       120      146  \n",
       "2       120      146  \n",
       "3       120      146  \n",
       "4       120      146  "
      ]
     },
     "execution_count": 8,
     "metadata": {},
     "output_type": "execute_result"
    }
   ],
   "source": [
    "FDDN_df = pd.read_csv('../../data/Simulation_dataset.csv', usecols = usecols)[usecols]\n",
    "FDDN_df.head()"
   ]
  },
  {
   "cell_type": "code",
   "execution_count": 6,
   "metadata": {},
   "outputs": [
    {
     "data": {
      "text/html": [
       "<div>\n",
       "<style scoped>\n",
       "    .dataframe tbody tr th:only-of-type {\n",
       "        vertical-align: middle;\n",
       "    }\n",
       "\n",
       "    .dataframe tbody tr th {\n",
       "        vertical-align: top;\n",
       "    }\n",
       "\n",
       "    .dataframe thead th {\n",
       "        text-align: right;\n",
       "    }\n",
       "</style>\n",
       "<table border=\"1\" class=\"dataframe\">\n",
       "  <thead>\n",
       "    <tr style=\"text-align: right;\">\n",
       "      <th></th>\n",
       "      <th>HoV</th>\n",
       "      <th>TZ_Flow</th>\n",
       "      <th>MIXP</th>\n",
       "      <th>AMBP</th>\n",
       "      <th>AMBT</th>\n",
       "      <th>R610_HS1</th>\n",
       "      <th>R611_HS1</th>\n",
       "      <th>R612_HS1</th>\n",
       "      <th>R613_HS1</th>\n",
       "      <th>R600_HD</th>\n",
       "    </tr>\n",
       "  </thead>\n",
       "  <tbody>\n",
       "    <tr>\n",
       "      <th>0</th>\n",
       "      <td>A1</td>\n",
       "      <td>887.134249</td>\n",
       "      <td>2600.0000</td>\n",
       "      <td>101401.6000</td>\n",
       "      <td>299.386667</td>\n",
       "      <td>131</td>\n",
       "      <td>136</td>\n",
       "      <td>120</td>\n",
       "      <td>120</td>\n",
       "      <td>148</td>\n",
       "    </tr>\n",
       "    <tr>\n",
       "      <th>1</th>\n",
       "      <td>A2</td>\n",
       "      <td>886.764050</td>\n",
       "      <td>2600.0000</td>\n",
       "      <td>101576.3000</td>\n",
       "      <td>298.448667</td>\n",
       "      <td>131</td>\n",
       "      <td>136</td>\n",
       "      <td>120</td>\n",
       "      <td>120</td>\n",
       "      <td>149</td>\n",
       "    </tr>\n",
       "    <tr>\n",
       "      <th>2</th>\n",
       "      <td>A3</td>\n",
       "      <td>926.224856</td>\n",
       "      <td>2606.1928</td>\n",
       "      <td>102136.6035</td>\n",
       "      <td>297.109024</td>\n",
       "      <td>131</td>\n",
       "      <td>136</td>\n",
       "      <td>114</td>\n",
       "      <td>120</td>\n",
       "      <td>152</td>\n",
       "    </tr>\n",
       "    <tr>\n",
       "      <th>3</th>\n",
       "      <td>A4</td>\n",
       "      <td>915.139474</td>\n",
       "      <td>2599.8998</td>\n",
       "      <td>103195.6642</td>\n",
       "      <td>295.060027</td>\n",
       "      <td>131</td>\n",
       "      <td>136</td>\n",
       "      <td>120</td>\n",
       "      <td>120</td>\n",
       "      <td>154</td>\n",
       "    </tr>\n",
       "    <tr>\n",
       "      <th>4</th>\n",
       "      <td>A5</td>\n",
       "      <td>891.635528</td>\n",
       "      <td>2600.0000</td>\n",
       "      <td>102856.2000</td>\n",
       "      <td>294.755833</td>\n",
       "      <td>145</td>\n",
       "      <td>153</td>\n",
       "      <td>130</td>\n",
       "      <td>130</td>\n",
       "      <td>148</td>\n",
       "    </tr>\n",
       "  </tbody>\n",
       "</table>\n",
       "</div>"
      ],
      "text/plain": [
       "  HoV     TZ_Flow       MIXP         AMBP        AMBT  R610_HS1  R611_HS1  \\\n",
       "0  A1  887.134249  2600.0000  101401.6000  299.386667       131       136   \n",
       "1  A2  886.764050  2600.0000  101576.3000  298.448667       131       136   \n",
       "2  A3  926.224856  2606.1928  102136.6035  297.109024       131       136   \n",
       "3  A4  915.139474  2599.8998  103195.6642  295.060027       131       136   \n",
       "4  A5  891.635528  2600.0000  102856.2000  294.755833       145       153   \n",
       "\n",
       "   R612_HS1  R613_HS1  R600_HD  \n",
       "0       120       120      148  \n",
       "1       120       120      149  \n",
       "2       114       120      152  \n",
       "3       120       120      154  \n",
       "4       130       130      148  "
      ]
     },
     "execution_count": 6,
     "metadata": {},
     "output_type": "execute_result"
    }
   ],
   "source": [
    "LTR_df = pd.read_csv('../../data/LTR_dataset.csv', usecols = usecols)[usecols]\n",
    "LTR_df.head()"
   ]
  },
  {
   "cell_type": "markdown",
   "metadata": {},
   "source": [
    "### Train BNN with FDDN (Simulation) data:"
   ]
  },
  {
   "cell_type": "code",
   "execution_count": 7,
   "metadata": {},
   "outputs": [
    {
     "name": "stdout",
     "output_type": "stream",
     "text": [
      "Number of training samples: 1080\n",
      "\n",
      "Number of testing samples: 34\n"
     ]
    }
   ],
   "source": [
    "# Extract pandas dataframe values to numpy array\n",
    "train_data = FDDN_df[input_features+['R600_HD']].values\n",
    "test_data  = LTR_df[input_features+['R600_HD']].values\n",
    "print(\"Number of training samples:\", len(train_data))\n",
    "print(\"\\nNumber of testing samples:\", len(test_data))\n",
    "\n",
    "# Separate arrays into input and output components (predictors and response variables)\n",
    "x_train, y_train  = train_data[:,:-1] ,train_data[:,-1:]\n",
    "x_test, y_test = test_data[:,:-1] ,test_data[:,-1:]"
   ]
  },
  {
   "cell_type": "code",
   "execution_count": 8,
   "metadata": {},
   "outputs": [
    {
     "name": "stdout",
     "output_type": "stream",
     "text": [
      "X_train Shape: (1080, 8) Y_Train Shape: (1080, 1)\n",
      "X_test Shape: (34, 8) Y_Test Shape: (34, 1)\n"
     ]
    }
   ],
   "source": [
    "print('X_train Shape:',x_train.shape,'Y_Train Shape:', y_train.shape)\n",
    "print('X_test Shape:',x_test.shape,'Y_Test Shape:', y_test.shape)"
   ]
  },
  {
   "cell_type": "markdown",
   "metadata": {},
   "source": [
    "### Bayesian Neural Network using MC DropOut"
   ]
  },
  {
   "cell_type": "code",
   "execution_count": 9,
   "metadata": {},
   "outputs": [
    {
     "name": "stderr",
     "output_type": "stream",
     "text": [
      "Using TensorFlow backend.\n"
     ]
    }
   ],
   "source": [
    "import BNN_MonteCarlo_Dropout"
   ]
  },
  {
   "cell_type": "code",
   "execution_count": 10,
   "metadata": {},
   "outputs": [
    {
     "name": "stdout",
     "output_type": "stream",
     "text": [
      "Wall time: 20.6 s\n"
     ]
    }
   ],
   "source": [
    "%%time\n",
    "# Train the BNN\n",
    "bnn = BNN_MonteCarlo_Dropout.net(x_train, y_train, n_epochs=2000, n_hidden=[24,12], normalize=True)"
   ]
  },
  {
   "cell_type": "code",
   "execution_count": 11,
   "metadata": {},
   "outputs": [
    {
     "name": "stdout",
     "output_type": "stream",
     "text": [
      "34/34 [==============================] - 0s 3ms/step\n",
      "Standard rmse 1.500746\n",
      "MC rmse 1.480097\n",
      "test_ll -4.784234\n",
      "Wall time: 653 ms\n"
     ]
    }
   ],
   "source": [
    "%%time\n",
    "# Test on ~25% of the data.\n",
    "rmse, Yt_hat, MC_pred, predictive_variance = bnn.predict(x_test, y_test)"
   ]
  },
  {
   "cell_type": "code",
   "execution_count": 12,
   "metadata": {},
   "outputs": [
    {
     "name": "stdout",
     "output_type": "stream",
     "text": [
      "Shape of Predictions: (1000, 1, 34, 1)\n"
     ]
    }
   ],
   "source": [
    "print('Shape of Predictions:',Yt_hat.shape)"
   ]
  },
  {
   "cell_type": "code",
   "execution_count": 13,
   "metadata": {},
   "outputs": [
    {
     "data": {
      "text/plain": [
       "34"
      ]
     },
     "execution_count": 13,
     "metadata": {},
     "output_type": "execute_result"
    }
   ],
   "source": [
    "Yt_hat.shape[2]"
   ]
  },
  {
   "cell_type": "code",
   "execution_count": 14,
   "metadata": {},
   "outputs": [],
   "source": [
    "y_preds = np.zeros((Yt_hat.shape[2], Yt_hat.shape[0])) # empty array to be populated\n",
    "y_means = [] # save mean for each predicted point\n",
    "y_std=[] # save standard dev for each predicted\n",
    "y_mins = [] \n",
    "y_maxes = []\n",
    "\n",
    "for j in range(Yt_hat.shape[2]):\n",
    "    for i in range(Yt_hat.shape[0]):\n",
    "        y_preds[j][i] = Yt_hat[i][0][j] # convert the predictions into a more readable format\n",
    "    y_means.append(y_preds[j].mean()) # get the mean for each prediction\n",
    "    y_std.append(y_preds[j].std()) # get the standard deviation\n",
    "    y_mins.append(np.amin(y_preds[j],axis = 0)) # get the min value in the array\n",
    "    y_maxes.append(np.amax(y_preds[j],axis = 0)) # get the min value in the array"
   ]
  },
  {
   "cell_type": "code",
   "execution_count": 15,
   "metadata": {},
   "outputs": [
    {
     "name": "stdout",
     "output_type": "stream",
     "text": [
      "Length of Y_Predictions: 34\n",
      "Nr. of Predictions by BNN per test point: 1000\n"
     ]
    }
   ],
   "source": [
    "print('Length of Y_Predictions:',len(y_preds))\n",
    "print('Nr. of Predictions by BNN per test point:',len(y_preds[0]))"
   ]
  },
  {
   "cell_type": "code",
   "execution_count": 16,
   "metadata": {},
   "outputs": [
    {
     "name": "stdout",
     "output_type": "stream",
     "text": [
      "[147.4601276550293, 147.70334313964844, 152.57540802001952, 151.91761940002442, 147.91444717407228, 148.9410216064453, 148.2716453704834, 151.89613014221192, 151.36993754577637, 148.67149407958985, 150.26849583435057, 153.0716208343506, 149.38465394592285, 148.30811764526368, 147.75713177490235, 149.17297521972657, 146.91343643188478, 146.88077880859376, 147.59547434997558, 147.06445600891112, 149.33490144348144, 147.83673170471192, 154.03554676818848, 152.97437602233887, 153.20926568603517, 147.9585760498047, 148.3189882659912, 152.69357565307618, 148.18679014587403, 149.37595835876465, 151.8161474609375, 154.21317196655272, 146.83084317016602, 148.1894887237549]\n"
     ]
    }
   ],
   "source": [
    "print(y_means)"
   ]
  },
  {
   "cell_type": "code",
   "execution_count": 17,
   "metadata": {},
   "outputs": [
    {
     "name": "stdout",
     "output_type": "stream",
     "text": [
      "[1.2251693934428505, 1.280517180511695, 0.4940833742102587, 0.5667916971035993, 1.1979694445093083, 0.9955768522088536, 1.200338318865099, 0.4963598073132157, 0.5554825358994416, 1.1530615069897006, 0.7522829615360521, 0.5030924601050561, 0.9133981888490618, 1.203550030255305, 1.4389549463964886, 0.8572004099580494, 1.5953261570756527, 1.4989899327896485, 1.1678809611360896, 1.2194114888531242, 0.8743001199335282, 1.2967640099435496, 0.5903768260597645, 0.6920425994390283, 0.4884576452972184, 1.5430047092841175, 1.0081409235078016, 0.4734975456434873, 1.1473929663898084, 0.8888433203246087, 0.5473348915869954, 0.6303427163373612, 1.4639575411600438, 1.1741402515353085]\n"
     ]
    }
   ],
   "source": [
    "print(y_std)"
   ]
  },
  {
   "cell_type": "code",
   "execution_count": 18,
   "metadata": {},
   "outputs": [
    {
     "name": "stdout",
     "output_type": "stream",
     "text": [
      "[146.2541046142578, 146.3826446533203, 150.5880126953125, 149.40487670898438, 146.54774475097656, 147.13233947753906, 146.67941284179688, 149.5604248046875, 148.89779663085938, 146.81509399414062, 147.83029174804688, 150.17367553710938, 147.24147033691406, 146.63722229003906, 146.41897583007812, 147.2540740966797, 145.4420623779297, 145.70062255859375, 146.44488525390625, 145.808837890625, 147.37521362304688, 146.4114990234375, 151.65072631835938, 149.972412109375, 150.99147033691406, 146.28172302246094, 146.72467041015625, 150.524169921875, 146.40087890625, 147.4194793701172, 149.26048278808594, 151.73191833496094, 145.3487091064453, 146.64251708984375]\n"
     ]
    }
   ],
   "source": [
    "print(y_mins)"
   ]
  },
  {
   "cell_type": "code",
   "execution_count": 19,
   "metadata": {},
   "outputs": [
    {
     "name": "stdout",
     "output_type": "stream",
     "text": [
      "[152.6996307373047, 154.04367065429688, 155.47113037109375, 154.66783142089844, 153.07472229003906, 154.57901000976562, 153.5592803955078, 155.25086975097656, 154.65223693847656, 154.0426483154297, 153.96412658691406, 155.1548614501953, 154.00306701660156, 154.0738525390625, 154.98980712890625, 153.09811401367188, 153.8497772216797, 154.8241424560547, 152.35153198242188, 153.23812866210938, 153.2869415283203, 153.816162109375, 157.08201599121094, 156.97067260742188, 155.4565887451172, 155.16107177734375, 153.35948181152344, 155.7735595703125, 153.0620880126953, 153.6128387451172, 155.45001220703125, 157.659912109375, 153.31503295898438, 153.0906982421875]\n"
     ]
    }
   ],
   "source": [
    "print(y_maxes)"
   ]
  },
  {
   "cell_type": "code",
   "execution_count": 20,
   "metadata": {},
   "outputs": [],
   "source": [
    "y_true = LTR_df['R600_HD'].values\n",
    "HoV_test_data = LTR_df['HoV'].values"
   ]
  },
  {
   "cell_type": "code",
   "execution_count": 21,
   "metadata": {},
   "outputs": [
    {
     "name": "stdout",
     "output_type": "stream",
     "text": [
      "No. of Test HoVs: 34 \n",
      "HoVs of Test Points: ['A1' 'A2' 'A3' 'A4' 'A5' 'A6' 'C1' 'C2' 'C3' 'C4' 'C5' 'C6' 'D1' 'D2' 'E1' 'E2' 'F1' 'F2' 'F3' 'H1' 'I1' 'J1' 'M1' 'M2' 'P1' 'Q1' 'Q2' 'S1' 'S2' 'S3' 'S4' 'S5' 'T1' 'T2']\n",
      "Test Points-Org Y: [148 149 152 154 148 148 148 153 152 150 152 154 151 148 148 148 146 146 148 148 152 148 154 154 154 148 148 155 148 150 150 160 148 148]\n"
     ]
    }
   ],
   "source": [
    "print('No. of Test HoVs:',len(HoV_test_data),'\\nHoVs of Test Points:',HoV_test_data)\n",
    "print('Test Points-Org Y:', y_true)"
   ]
  },
  {
   "cell_type": "markdown",
   "metadata": {},
   "source": [
    "### Plot BNN Predictions with Mean and Error Bars"
   ]
  },
  {
   "cell_type": "code",
   "execution_count": 22,
   "metadata": {},
   "outputs": [
    {
     "data": {
      "text/html": [
       "\n",
       "    <div class=\"bk-root\">\n",
       "        <a href=\"https://bokeh.pydata.org\" target=\"_blank\" class=\"bk-logo bk-logo-small bk-logo-notebook\"></a>\n",
       "        <span id=\"c119a288-093e-4558-a2a7-6d66974e51f8\">Loading BokehJS ...</span>\n",
       "    </div>"
      ]
     },
     "metadata": {},
     "output_type": "display_data"
    },
    {
     "data": {
      "application/javascript": [
       "\n",
       "(function(root) {\n",
       "  function now() {\n",
       "    return new Date();\n",
       "  }\n",
       "\n",
       "  var force = true;\n",
       "\n",
       "  if (typeof (root._bokeh_onload_callbacks) === \"undefined\" || force === true) {\n",
       "    root._bokeh_onload_callbacks = [];\n",
       "    root._bokeh_is_loading = undefined;\n",
       "  }\n",
       "\n",
       "  var JS_MIME_TYPE = 'application/javascript';\n",
       "  var HTML_MIME_TYPE = 'text/html';\n",
       "  var EXEC_MIME_TYPE = 'application/vnd.bokehjs_exec.v0+json';\n",
       "  var CLASS_NAME = 'output_bokeh rendered_html';\n",
       "\n",
       "  /**\n",
       "   * Render data to the DOM node\n",
       "   */\n",
       "  function render(props, node) {\n",
       "    var script = document.createElement(\"script\");\n",
       "    node.appendChild(script);\n",
       "  }\n",
       "\n",
       "  /**\n",
       "   * Handle when an output is cleared or removed\n",
       "   */\n",
       "  function handleClearOutput(event, handle) {\n",
       "    var cell = handle.cell;\n",
       "\n",
       "    var id = cell.output_area._bokeh_element_id;\n",
       "    var server_id = cell.output_area._bokeh_server_id;\n",
       "    // Clean up Bokeh references\n",
       "    if (id != null && id in Bokeh.index) {\n",
       "      Bokeh.index[id].model.document.clear();\n",
       "      delete Bokeh.index[id];\n",
       "    }\n",
       "\n",
       "    if (server_id !== undefined) {\n",
       "      // Clean up Bokeh references\n",
       "      var cmd = \"from bokeh.io.state import curstate; print(curstate().uuid_to_server['\" + server_id + \"'].get_sessions()[0].document.roots[0]._id)\";\n",
       "      cell.notebook.kernel.execute(cmd, {\n",
       "        iopub: {\n",
       "          output: function(msg) {\n",
       "            var id = msg.content.text.trim();\n",
       "            if (id in Bokeh.index) {\n",
       "              Bokeh.index[id].model.document.clear();\n",
       "              delete Bokeh.index[id];\n",
       "            }\n",
       "          }\n",
       "        }\n",
       "      });\n",
       "      // Destroy server and session\n",
       "      var cmd = \"import bokeh.io.notebook as ion; ion.destroy_server('\" + server_id + \"')\";\n",
       "      cell.notebook.kernel.execute(cmd);\n",
       "    }\n",
       "  }\n",
       "\n",
       "  /**\n",
       "   * Handle when a new output is added\n",
       "   */\n",
       "  function handleAddOutput(event, handle) {\n",
       "    var output_area = handle.output_area;\n",
       "    var output = handle.output;\n",
       "\n",
       "    // limit handleAddOutput to display_data with EXEC_MIME_TYPE content only\n",
       "    if ((output.output_type != \"display_data\") || (!output.data.hasOwnProperty(EXEC_MIME_TYPE))) {\n",
       "      return\n",
       "    }\n",
       "\n",
       "    var toinsert = output_area.element.find(\".\" + CLASS_NAME.split(' ')[0]);\n",
       "\n",
       "    if (output.metadata[EXEC_MIME_TYPE][\"id\"] !== undefined) {\n",
       "      toinsert[toinsert.length - 1].firstChild.textContent = output.data[JS_MIME_TYPE];\n",
       "      // store reference to embed id on output_area\n",
       "      output_area._bokeh_element_id = output.metadata[EXEC_MIME_TYPE][\"id\"];\n",
       "    }\n",
       "    if (output.metadata[EXEC_MIME_TYPE][\"server_id\"] !== undefined) {\n",
       "      var bk_div = document.createElement(\"div\");\n",
       "      bk_div.innerHTML = output.data[HTML_MIME_TYPE];\n",
       "      var script_attrs = bk_div.children[0].attributes;\n",
       "      for (var i = 0; i < script_attrs.length; i++) {\n",
       "        toinsert[toinsert.length - 1].firstChild.setAttribute(script_attrs[i].name, script_attrs[i].value);\n",
       "      }\n",
       "      // store reference to server id on output_area\n",
       "      output_area._bokeh_server_id = output.metadata[EXEC_MIME_TYPE][\"server_id\"];\n",
       "    }\n",
       "  }\n",
       "\n",
       "  function register_renderer(events, OutputArea) {\n",
       "\n",
       "    function append_mime(data, metadata, element) {\n",
       "      // create a DOM node to render to\n",
       "      var toinsert = this.create_output_subarea(\n",
       "        metadata,\n",
       "        CLASS_NAME,\n",
       "        EXEC_MIME_TYPE\n",
       "      );\n",
       "      this.keyboard_manager.register_events(toinsert);\n",
       "      // Render to node\n",
       "      var props = {data: data, metadata: metadata[EXEC_MIME_TYPE]};\n",
       "      render(props, toinsert[toinsert.length - 1]);\n",
       "      element.append(toinsert);\n",
       "      return toinsert\n",
       "    }\n",
       "\n",
       "    /* Handle when an output is cleared or removed */\n",
       "    events.on('clear_output.CodeCell', handleClearOutput);\n",
       "    events.on('delete.Cell', handleClearOutput);\n",
       "\n",
       "    /* Handle when a new output is added */\n",
       "    events.on('output_added.OutputArea', handleAddOutput);\n",
       "\n",
       "    /**\n",
       "     * Register the mime type and append_mime function with output_area\n",
       "     */\n",
       "    OutputArea.prototype.register_mime_type(EXEC_MIME_TYPE, append_mime, {\n",
       "      /* Is output safe? */\n",
       "      safe: true,\n",
       "      /* Index of renderer in `output_area.display_order` */\n",
       "      index: 0\n",
       "    });\n",
       "  }\n",
       "\n",
       "  // register the mime type if in Jupyter Notebook environment and previously unregistered\n",
       "  if (root.Jupyter !== undefined) {\n",
       "    var events = require('base/js/events');\n",
       "    var OutputArea = require('notebook/js/outputarea').OutputArea;\n",
       "\n",
       "    if (OutputArea.prototype.mime_types().indexOf(EXEC_MIME_TYPE) == -1) {\n",
       "      register_renderer(events, OutputArea);\n",
       "    }\n",
       "  }\n",
       "\n",
       "  \n",
       "  if (typeof (root._bokeh_timeout) === \"undefined\" || force === true) {\n",
       "    root._bokeh_timeout = Date.now() + 5000;\n",
       "    root._bokeh_failed_load = false;\n",
       "  }\n",
       "\n",
       "  var NB_LOAD_WARNING = {'data': {'text/html':\n",
       "     \"<div style='background-color: #fdd'>\\n\"+\n",
       "     \"<p>\\n\"+\n",
       "     \"BokehJS does not appear to have successfully loaded. If loading BokehJS from CDN, this \\n\"+\n",
       "     \"may be due to a slow or bad network connection. Possible fixes:\\n\"+\n",
       "     \"</p>\\n\"+\n",
       "     \"<ul>\\n\"+\n",
       "     \"<li>re-rerun `output_notebook()` to attempt to load from CDN again, or</li>\\n\"+\n",
       "     \"<li>use INLINE resources instead, as so:</li>\\n\"+\n",
       "     \"</ul>\\n\"+\n",
       "     \"<code>\\n\"+\n",
       "     \"from bokeh.resources import INLINE\\n\"+\n",
       "     \"output_notebook(resources=INLINE)\\n\"+\n",
       "     \"</code>\\n\"+\n",
       "     \"</div>\"}};\n",
       "\n",
       "  function display_loaded() {\n",
       "    var el = document.getElementById(\"c119a288-093e-4558-a2a7-6d66974e51f8\");\n",
       "    if (el != null) {\n",
       "      el.textContent = \"BokehJS is loading...\";\n",
       "    }\n",
       "    if (root.Bokeh !== undefined) {\n",
       "      if (el != null) {\n",
       "        el.textContent = \"BokehJS \" + root.Bokeh.version + \" successfully loaded.\";\n",
       "      }\n",
       "    } else if (Date.now() < root._bokeh_timeout) {\n",
       "      setTimeout(display_loaded, 100)\n",
       "    }\n",
       "  }\n",
       "\n",
       "\n",
       "  function run_callbacks() {\n",
       "    try {\n",
       "      root._bokeh_onload_callbacks.forEach(function(callback) { callback() });\n",
       "    }\n",
       "    finally {\n",
       "      delete root._bokeh_onload_callbacks\n",
       "    }\n",
       "    console.info(\"Bokeh: all callbacks have finished\");\n",
       "  }\n",
       "\n",
       "  function load_libs(js_urls, callback) {\n",
       "    root._bokeh_onload_callbacks.push(callback);\n",
       "    if (root._bokeh_is_loading > 0) {\n",
       "      console.log(\"Bokeh: BokehJS is being loaded, scheduling callback at\", now());\n",
       "      return null;\n",
       "    }\n",
       "    if (js_urls == null || js_urls.length === 0) {\n",
       "      run_callbacks();\n",
       "      return null;\n",
       "    }\n",
       "    console.log(\"Bokeh: BokehJS not loaded, scheduling load and callback at\", now());\n",
       "    root._bokeh_is_loading = js_urls.length;\n",
       "    for (var i = 0; i < js_urls.length; i++) {\n",
       "      var url = js_urls[i];\n",
       "      var s = document.createElement('script');\n",
       "      s.src = url;\n",
       "      s.async = false;\n",
       "      s.onreadystatechange = s.onload = function() {\n",
       "        root._bokeh_is_loading--;\n",
       "        if (root._bokeh_is_loading === 0) {\n",
       "          console.log(\"Bokeh: all BokehJS libraries loaded\");\n",
       "          run_callbacks()\n",
       "        }\n",
       "      };\n",
       "      s.onerror = function() {\n",
       "        console.warn(\"failed to load library \" + url);\n",
       "      };\n",
       "      console.log(\"Bokeh: injecting script tag for BokehJS library: \", url);\n",
       "      document.getElementsByTagName(\"head\")[0].appendChild(s);\n",
       "    }\n",
       "  };var element = document.getElementById(\"c119a288-093e-4558-a2a7-6d66974e51f8\");\n",
       "  if (element == null) {\n",
       "    console.log(\"Bokeh: ERROR: autoload.js configured with elementid 'c119a288-093e-4558-a2a7-6d66974e51f8' but no matching script tag was found. \")\n",
       "    return false;\n",
       "  }\n",
       "\n",
       "  var js_urls = [\"https://cdn.pydata.org/bokeh/release/bokeh-0.13.0.min.js\", \"https://cdn.pydata.org/bokeh/release/bokeh-widgets-0.13.0.min.js\", \"https://cdn.pydata.org/bokeh/release/bokeh-tables-0.13.0.min.js\", \"https://cdn.pydata.org/bokeh/release/bokeh-gl-0.13.0.min.js\"];\n",
       "\n",
       "  var inline_js = [\n",
       "    function(Bokeh) {\n",
       "      Bokeh.set_log_level(\"info\");\n",
       "    },\n",
       "    \n",
       "    function(Bokeh) {\n",
       "      \n",
       "    },\n",
       "    function(Bokeh) {\n",
       "      console.log(\"Bokeh: injecting CSS: https://cdn.pydata.org/bokeh/release/bokeh-0.13.0.min.css\");\n",
       "      Bokeh.embed.inject_css(\"https://cdn.pydata.org/bokeh/release/bokeh-0.13.0.min.css\");\n",
       "      console.log(\"Bokeh: injecting CSS: https://cdn.pydata.org/bokeh/release/bokeh-widgets-0.13.0.min.css\");\n",
       "      Bokeh.embed.inject_css(\"https://cdn.pydata.org/bokeh/release/bokeh-widgets-0.13.0.min.css\");\n",
       "      console.log(\"Bokeh: injecting CSS: https://cdn.pydata.org/bokeh/release/bokeh-tables-0.13.0.min.css\");\n",
       "      Bokeh.embed.inject_css(\"https://cdn.pydata.org/bokeh/release/bokeh-tables-0.13.0.min.css\");\n",
       "    }\n",
       "  ];\n",
       "\n",
       "  function run_inline_js() {\n",
       "    \n",
       "    if ((root.Bokeh !== undefined) || (force === true)) {\n",
       "      for (var i = 0; i < inline_js.length; i++) {\n",
       "        inline_js[i].call(root, root.Bokeh);\n",
       "      }if (force === true) {\n",
       "        display_loaded();\n",
       "      }} else if (Date.now() < root._bokeh_timeout) {\n",
       "      setTimeout(run_inline_js, 100);\n",
       "    } else if (!root._bokeh_failed_load) {\n",
       "      console.log(\"Bokeh: BokehJS failed to load within specified timeout.\");\n",
       "      root._bokeh_failed_load = true;\n",
       "    } else if (force !== true) {\n",
       "      var cell = $(document.getElementById(\"c119a288-093e-4558-a2a7-6d66974e51f8\")).parents('.cell').data().cell;\n",
       "      cell.output_area.append_execute_result(NB_LOAD_WARNING)\n",
       "    }\n",
       "\n",
       "  }\n",
       "\n",
       "  if (root._bokeh_is_loading === 0) {\n",
       "    console.log(\"Bokeh: BokehJS loaded, going straight to plotting\");\n",
       "    run_inline_js();\n",
       "  } else {\n",
       "    load_libs(js_urls, function() {\n",
       "      console.log(\"Bokeh: BokehJS plotting callback run at\", now());\n",
       "      run_inline_js();\n",
       "    });\n",
       "  }\n",
       "}(window));"
      ],
      "application/vnd.bokehjs_load.v0+json": "\n(function(root) {\n  function now() {\n    return new Date();\n  }\n\n  var force = true;\n\n  if (typeof (root._bokeh_onload_callbacks) === \"undefined\" || force === true) {\n    root._bokeh_onload_callbacks = [];\n    root._bokeh_is_loading = undefined;\n  }\n\n  \n\n  \n  if (typeof (root._bokeh_timeout) === \"undefined\" || force === true) {\n    root._bokeh_timeout = Date.now() + 5000;\n    root._bokeh_failed_load = false;\n  }\n\n  var NB_LOAD_WARNING = {'data': {'text/html':\n     \"<div style='background-color: #fdd'>\\n\"+\n     \"<p>\\n\"+\n     \"BokehJS does not appear to have successfully loaded. If loading BokehJS from CDN, this \\n\"+\n     \"may be due to a slow or bad network connection. Possible fixes:\\n\"+\n     \"</p>\\n\"+\n     \"<ul>\\n\"+\n     \"<li>re-rerun `output_notebook()` to attempt to load from CDN again, or</li>\\n\"+\n     \"<li>use INLINE resources instead, as so:</li>\\n\"+\n     \"</ul>\\n\"+\n     \"<code>\\n\"+\n     \"from bokeh.resources import INLINE\\n\"+\n     \"output_notebook(resources=INLINE)\\n\"+\n     \"</code>\\n\"+\n     \"</div>\"}};\n\n  function display_loaded() {\n    var el = document.getElementById(\"c119a288-093e-4558-a2a7-6d66974e51f8\");\n    if (el != null) {\n      el.textContent = \"BokehJS is loading...\";\n    }\n    if (root.Bokeh !== undefined) {\n      if (el != null) {\n        el.textContent = \"BokehJS \" + root.Bokeh.version + \" successfully loaded.\";\n      }\n    } else if (Date.now() < root._bokeh_timeout) {\n      setTimeout(display_loaded, 100)\n    }\n  }\n\n\n  function run_callbacks() {\n    try {\n      root._bokeh_onload_callbacks.forEach(function(callback) { callback() });\n    }\n    finally {\n      delete root._bokeh_onload_callbacks\n    }\n    console.info(\"Bokeh: all callbacks have finished\");\n  }\n\n  function load_libs(js_urls, callback) {\n    root._bokeh_onload_callbacks.push(callback);\n    if (root._bokeh_is_loading > 0) {\n      console.log(\"Bokeh: BokehJS is being loaded, scheduling callback at\", now());\n      return null;\n    }\n    if (js_urls == null || js_urls.length === 0) {\n      run_callbacks();\n      return null;\n    }\n    console.log(\"Bokeh: BokehJS not loaded, scheduling load and callback at\", now());\n    root._bokeh_is_loading = js_urls.length;\n    for (var i = 0; i < js_urls.length; i++) {\n      var url = js_urls[i];\n      var s = document.createElement('script');\n      s.src = url;\n      s.async = false;\n      s.onreadystatechange = s.onload = function() {\n        root._bokeh_is_loading--;\n        if (root._bokeh_is_loading === 0) {\n          console.log(\"Bokeh: all BokehJS libraries loaded\");\n          run_callbacks()\n        }\n      };\n      s.onerror = function() {\n        console.warn(\"failed to load library \" + url);\n      };\n      console.log(\"Bokeh: injecting script tag for BokehJS library: \", url);\n      document.getElementsByTagName(\"head\")[0].appendChild(s);\n    }\n  };var element = document.getElementById(\"c119a288-093e-4558-a2a7-6d66974e51f8\");\n  if (element == null) {\n    console.log(\"Bokeh: ERROR: autoload.js configured with elementid 'c119a288-093e-4558-a2a7-6d66974e51f8' but no matching script tag was found. \")\n    return false;\n  }\n\n  var js_urls = [\"https://cdn.pydata.org/bokeh/release/bokeh-0.13.0.min.js\", \"https://cdn.pydata.org/bokeh/release/bokeh-widgets-0.13.0.min.js\", \"https://cdn.pydata.org/bokeh/release/bokeh-tables-0.13.0.min.js\", \"https://cdn.pydata.org/bokeh/release/bokeh-gl-0.13.0.min.js\"];\n\n  var inline_js = [\n    function(Bokeh) {\n      Bokeh.set_log_level(\"info\");\n    },\n    \n    function(Bokeh) {\n      \n    },\n    function(Bokeh) {\n      console.log(\"Bokeh: injecting CSS: https://cdn.pydata.org/bokeh/release/bokeh-0.13.0.min.css\");\n      Bokeh.embed.inject_css(\"https://cdn.pydata.org/bokeh/release/bokeh-0.13.0.min.css\");\n      console.log(\"Bokeh: injecting CSS: https://cdn.pydata.org/bokeh/release/bokeh-widgets-0.13.0.min.css\");\n      Bokeh.embed.inject_css(\"https://cdn.pydata.org/bokeh/release/bokeh-widgets-0.13.0.min.css\");\n      console.log(\"Bokeh: injecting CSS: https://cdn.pydata.org/bokeh/release/bokeh-tables-0.13.0.min.css\");\n      Bokeh.embed.inject_css(\"https://cdn.pydata.org/bokeh/release/bokeh-tables-0.13.0.min.css\");\n    }\n  ];\n\n  function run_inline_js() {\n    \n    if ((root.Bokeh !== undefined) || (force === true)) {\n      for (var i = 0; i < inline_js.length; i++) {\n        inline_js[i].call(root, root.Bokeh);\n      }if (force === true) {\n        display_loaded();\n      }} else if (Date.now() < root._bokeh_timeout) {\n      setTimeout(run_inline_js, 100);\n    } else if (!root._bokeh_failed_load) {\n      console.log(\"Bokeh: BokehJS failed to load within specified timeout.\");\n      root._bokeh_failed_load = true;\n    } else if (force !== true) {\n      var cell = $(document.getElementById(\"c119a288-093e-4558-a2a7-6d66974e51f8\")).parents('.cell').data().cell;\n      cell.output_area.append_execute_result(NB_LOAD_WARNING)\n    }\n\n  }\n\n  if (root._bokeh_is_loading === 0) {\n    console.log(\"Bokeh: BokehJS loaded, going straight to plotting\");\n    run_inline_js();\n  } else {\n    load_libs(js_urls, function() {\n      console.log(\"Bokeh: BokehJS plotting callback run at\", now());\n      run_inline_js();\n    });\n  }\n}(window));"
     },
     "metadata": {},
     "output_type": "display_data"
    }
   ],
   "source": [
    "from bokeh.models import HoverTool,ColumnDataSource,Label,Range1d\n",
    "from bokeh.plotting import figure, show, output_file,output_notebook\n",
    "from bokeh.models.markers import CircleX\n",
    "output_notebook()"
   ]
  },
  {
   "cell_type": "code",
   "execution_count": 23,
   "metadata": {},
   "outputs": [],
   "source": [
    "# create the coordinates for the errorbars\n",
    "y_xs = []\n",
    "ys_std = []\n",
    "y_ys = []\n",
    "\n",
    "for x, y_mean,std,min_dia, max_dia in zip(HoV_test_data,y_means,y_std,y_mins,y_maxes):\n",
    "    y_xs.append((x, x))\n",
    "    ys_std.append((y_mean - std, y_mean + std))\n",
    "    y_ys.append((y_mean - (y_mean - min_dia), y_mean + (max_dia - y_mean)))"
   ]
  },
  {
   "cell_type": "code",
   "execution_count": 24,
   "metadata": {},
   "outputs": [
    {
     "data": {
      "text/html": [
       "\n",
       "\n",
       "\n",
       "\n",
       "\n",
       "\n",
       "  <div class=\"bk-root\" id=\"1445e25d-b783-479b-8309-ac8d1017efd4\"></div>\n"
      ]
     },
     "metadata": {},
     "output_type": "display_data"
    },
    {
     "data": {
      "application/javascript": [
       "(function(root) {\n",
       "  function embed_document(root) {\n",
       "    \n",
       "  var docs_json = {\"7a8c7258-cd90-4866-a49e-c1d9e87d0eb7\":{\"roots\":{\"references\":[{\"attributes\":{\"callback\":null,\"data\":{\"x\":[\"D1\",\"D1\"],\"y\":[147.24147033691406,154.00306701660156]},\"selected\":{\"id\":\"9fb6fb72-44ca-47e5-b52b-b8301dd5da64\",\"type\":\"Selection\"},\"selection_policy\":{\"id\":\"ce7bec21-deba-4483-8438-b60203f203d8\",\"type\":\"UnionRenderers\"}},\"id\":\"557b2481-5941-45fa-b22e-5ae71797fb0f\",\"type\":\"ColumnDataSource\"},{\"attributes\":{\"fill_color\":{\"value\":\"#1f77b4\"},\"height\":{\"units\":\"data\",\"value\":0.001},\"line_color\":{\"value\":\"deepskyblue\"},\"width\":{\"units\":\"data\",\"value\":0.2},\"x\":{\"field\":\"x\"},\"y\":{\"field\":\"y\"}},\"id\":\"8fd9f716-0247-4df7-b150-6d6f3d90e1ab\",\"type\":\"Rect\"},{\"attributes\":{\"fill_color\":{\"value\":\"#1f77b4\"},\"height\":{\"units\":\"data\",\"value\":0.001},\"line_color\":{\"value\":\"deepskyblue\"},\"width\":{\"units\":\"data\",\"value\":0.2},\"x\":{\"field\":\"x\"},\"y\":{\"field\":\"y\"}},\"id\":\"491285ac-12c8-4c43-88b6-d8d3304fcf05\",\"type\":\"Rect\"},{\"attributes\":{\"fill_alpha\":{\"value\":0.1},\"fill_color\":{\"value\":\"#1f77b4\"},\"height\":{\"units\":\"data\",\"value\":0.001},\"line_alpha\":{\"value\":0.1},\"line_color\":{\"value\":\"#1f77b4\"},\"width\":{\"units\":\"data\",\"value\":0.2},\"x\":{\"field\":\"x\"},\"y\":{\"field\":\"y\"}},\"id\":\"35f37cb3-fb9c-4783-953d-ee6956f7a98f\",\"type\":\"Rect\"},{\"attributes\":{\"data_source\":{\"id\":\"557b2481-5941-45fa-b22e-5ae71797fb0f\",\"type\":\"ColumnDataSource\"},\"glyph\":{\"id\":\"491285ac-12c8-4c43-88b6-d8d3304fcf05\",\"type\":\"Rect\"},\"hover_glyph\":null,\"muted_glyph\":null,\"name\":\"Whiskers\",\"nonselection_glyph\":{\"id\":\"35f37cb3-fb9c-4783-953d-ee6956f7a98f\",\"type\":\"Rect\"},\"selection_glyph\":null,\"view\":{\"id\":\"ed6ba909-a463-443c-93ae-ef2ee174c677\",\"type\":\"CDSView\"}},\"id\":\"c095e0dc-f1c6-43a2-a248-03a1dc534b49\",\"type\":\"GlyphRenderer\"},{\"attributes\":{\"source\":{\"id\":\"557b2481-5941-45fa-b22e-5ae71797fb0f\",\"type\":\"ColumnDataSource\"}},\"id\":\"ed6ba909-a463-443c-93ae-ef2ee174c677\",\"type\":\"CDSView\"},{\"attributes\":{\"callback\":null,\"data\":{\"x\":[\"D2\",\"D2\"],\"y\":[146.63722229003906,154.0738525390625]},\"selected\":{\"id\":\"e7772a32-63d9-4123-877c-31d3a6af25a0\",\"type\":\"Selection\"},\"selection_policy\":{\"id\":\"de64ce95-b03f-4102-96ef-416e8290b067\",\"type\":\"UnionRenderers\"}},\"id\":\"670cdea6-6b10-48c6-94a4-d544a7e8ca97\",\"type\":\"ColumnDataSource\"},{\"attributes\":{\"fill_color\":{\"value\":\"#1f77b4\"},\"height\":{\"units\":\"data\",\"value\":0.001},\"line_color\":{\"value\":\"deepskyblue\"},\"width\":{\"units\":\"data\",\"value\":0.2},\"x\":{\"field\":\"x\"},\"y\":{\"field\":\"y\"}},\"id\":\"e76bc0a2-963c-4014-a03b-328f253eb917\",\"type\":\"Rect\"},{\"attributes\":{\"fill_alpha\":{\"value\":0.1},\"fill_color\":{\"value\":\"#1f77b4\"},\"height\":{\"units\":\"data\",\"value\":0.001},\"line_alpha\":{\"value\":0.1},\"line_color\":{\"value\":\"#1f77b4\"},\"width\":{\"units\":\"data\",\"value\":0.2},\"x\":{\"field\":\"x\"},\"y\":{\"field\":\"y\"}},\"id\":\"477ea0ec-af16-47fb-8875-b1f0f608eb99\",\"type\":\"Rect\"},{\"attributes\":{\"data_source\":{\"id\":\"670cdea6-6b10-48c6-94a4-d544a7e8ca97\",\"type\":\"ColumnDataSource\"},\"glyph\":{\"id\":\"e76bc0a2-963c-4014-a03b-328f253eb917\",\"type\":\"Rect\"},\"hover_glyph\":null,\"muted_glyph\":null,\"name\":\"Whiskers\",\"nonselection_glyph\":{\"id\":\"477ea0ec-af16-47fb-8875-b1f0f608eb99\",\"type\":\"Rect\"},\"selection_glyph\":null,\"view\":{\"id\":\"57e6919b-28e3-4d64-80b5-60fc0c294078\",\"type\":\"CDSView\"}},\"id\":\"b1375026-93ac-4af2-931b-a94f55bea85a\",\"type\":\"GlyphRenderer\"},{\"attributes\":{\"source\":{\"id\":\"670cdea6-6b10-48c6-94a4-d544a7e8ca97\",\"type\":\"ColumnDataSource\"}},\"id\":\"57e6919b-28e3-4d64-80b5-60fc0c294078\",\"type\":\"CDSView\"},{\"attributes\":{\"callback\":null,\"data\":{\"x\":[\"E1\",\"E1\"],\"y\":[146.41897583007812,154.98980712890625]},\"selected\":{\"id\":\"1b7171be-01f9-470f-b358-66a869cfac67\",\"type\":\"Selection\"},\"selection_policy\":{\"id\":\"58776b19-3574-4a8c-b836-c39567920ad0\",\"type\":\"UnionRenderers\"}},\"id\":\"306aaff1-4814-4578-a2f6-9b6dc8173436\",\"type\":\"ColumnDataSource\"},{\"attributes\":{\"fill_color\":{\"value\":\"#1f77b4\"},\"height\":{\"units\":\"data\",\"value\":0.001},\"line_color\":{\"value\":\"deepskyblue\"},\"width\":{\"units\":\"data\",\"value\":0.2},\"x\":{\"field\":\"x\"},\"y\":{\"field\":\"y\"}},\"id\":\"0fe27b38-9316-4cd3-a5c5-12f4f5d94e6f\",\"type\":\"Rect\"},{\"attributes\":{\"fill_alpha\":{\"value\":0.1},\"fill_color\":{\"value\":\"#1f77b4\"},\"height\":{\"units\":\"data\",\"value\":0.001},\"line_alpha\":{\"value\":0.1},\"line_color\":{\"value\":\"#1f77b4\"},\"width\":{\"units\":\"data\",\"value\":0.2},\"x\":{\"field\":\"x\"},\"y\":{\"field\":\"y\"}},\"id\":\"3c48d367-d331-4a1a-9d30-a713470b5d15\",\"type\":\"Rect\"},{\"attributes\":{\"data_source\":{\"id\":\"306aaff1-4814-4578-a2f6-9b6dc8173436\",\"type\":\"ColumnDataSource\"},\"glyph\":{\"id\":\"0fe27b38-9316-4cd3-a5c5-12f4f5d94e6f\",\"type\":\"Rect\"},\"hover_glyph\":null,\"muted_glyph\":null,\"name\":\"Whiskers\",\"nonselection_glyph\":{\"id\":\"3c48d367-d331-4a1a-9d30-a713470b5d15\",\"type\":\"Rect\"},\"selection_glyph\":null,\"view\":{\"id\":\"d9f4a09f-209b-4b0d-a05d-bb38fc32dc12\",\"type\":\"CDSView\"}},\"id\":\"d8211529-3b97-41d3-bb11-5ad66590e0c1\",\"type\":\"GlyphRenderer\"},{\"attributes\":{\"source\":{\"id\":\"306aaff1-4814-4578-a2f6-9b6dc8173436\",\"type\":\"ColumnDataSource\"}},\"id\":\"d9f4a09f-209b-4b0d-a05d-bb38fc32dc12\",\"type\":\"CDSView\"},{\"attributes\":{\"callback\":null,\"data\":{\"x\":[\"E2\",\"E2\"],\"y\":[147.2540740966797,153.09811401367188]},\"selected\":{\"id\":\"e39cd63a-10ac-4580-af4e-92978b1f3b4c\",\"type\":\"Selection\"},\"selection_policy\":{\"id\":\"293be50a-622a-4b41-9433-2123f9f895db\",\"type\":\"UnionRenderers\"}},\"id\":\"da2a974c-085d-4499-88f5-fcf32ee0ef49\",\"type\":\"ColumnDataSource\"},{\"attributes\":{\"fill_color\":{\"value\":\"#1f77b4\"},\"height\":{\"units\":\"data\",\"value\":0.001},\"line_color\":{\"value\":\"deepskyblue\"},\"width\":{\"units\":\"data\",\"value\":0.2},\"x\":{\"field\":\"x\"},\"y\":{\"field\":\"y\"}},\"id\":\"627517d4-9950-47a5-80d4-b559c360ab70\",\"type\":\"Rect\"},{\"attributes\":{\"fill_alpha\":{\"value\":0.1},\"fill_color\":{\"value\":\"#1f77b4\"},\"height\":{\"units\":\"data\",\"value\":0.001},\"line_alpha\":{\"value\":0.1},\"line_color\":{\"value\":\"#1f77b4\"},\"width\":{\"units\":\"data\",\"value\":0.2},\"x\":{\"field\":\"x\"},\"y\":{\"field\":\"y\"}},\"id\":\"c511f4af-dbf1-4ddb-aded-77cdde810aed\",\"type\":\"Rect\"},{\"attributes\":{\"data_source\":{\"id\":\"da2a974c-085d-4499-88f5-fcf32ee0ef49\",\"type\":\"ColumnDataSource\"},\"glyph\":{\"id\":\"627517d4-9950-47a5-80d4-b559c360ab70\",\"type\":\"Rect\"},\"hover_glyph\":null,\"muted_glyph\":null,\"name\":\"Whiskers\",\"nonselection_glyph\":{\"id\":\"c511f4af-dbf1-4ddb-aded-77cdde810aed\",\"type\":\"Rect\"},\"selection_glyph\":null,\"view\":{\"id\":\"cee87021-65b3-44b1-8b4b-eb8ccf561a59\",\"type\":\"CDSView\"}},\"id\":\"f8bbbcd6-d295-45cb-9cd9-83ad75e7bdad\",\"type\":\"GlyphRenderer\"},{\"attributes\":{\"source\":{\"id\":\"da2a974c-085d-4499-88f5-fcf32ee0ef49\",\"type\":\"ColumnDataSource\"}},\"id\":\"cee87021-65b3-44b1-8b4b-eb8ccf561a59\",\"type\":\"CDSView\"},{\"attributes\":{\"callback\":null,\"data\":{\"x\":[\"F1\",\"F1\"],\"y\":[145.4420623779297,153.8497772216797]},\"selected\":{\"id\":\"3f353038-6768-42d0-bf35-7883184fead6\",\"type\":\"Selection\"},\"selection_policy\":{\"id\":\"ec5cd84f-ab9d-4786-8798-b6d7faf4a658\",\"type\":\"UnionRenderers\"}},\"id\":\"3daef792-618e-4ab6-bfe9-de28b49c5a9d\",\"type\":\"ColumnDataSource\"},{\"attributes\":{\"fill_color\":{\"value\":\"#1f77b4\"},\"height\":{\"units\":\"data\",\"value\":0.001},\"line_color\":{\"value\":\"deepskyblue\"},\"width\":{\"units\":\"data\",\"value\":0.2},\"x\":{\"field\":\"x\"},\"y\":{\"field\":\"y\"}},\"id\":\"b06b8b05-949e-40da-a4c0-0a2a6a5c85af\",\"type\":\"Rect\"},{\"attributes\":{\"fill_alpha\":{\"value\":0.1},\"fill_color\":{\"value\":\"#1f77b4\"},\"height\":{\"units\":\"data\",\"value\":0.001},\"line_alpha\":{\"value\":0.1},\"line_color\":{\"value\":\"#1f77b4\"},\"width\":{\"units\":\"data\",\"value\":0.2},\"x\":{\"field\":\"x\"},\"y\":{\"field\":\"y\"}},\"id\":\"c7b31256-12cf-478a-b008-8a5d2871bf31\",\"type\":\"Rect\"},{\"attributes\":{\"data_source\":{\"id\":\"3daef792-618e-4ab6-bfe9-de28b49c5a9d\",\"type\":\"ColumnDataSource\"},\"glyph\":{\"id\":\"b06b8b05-949e-40da-a4c0-0a2a6a5c85af\",\"type\":\"Rect\"},\"hover_glyph\":null,\"muted_glyph\":null,\"name\":\"Whiskers\",\"nonselection_glyph\":{\"id\":\"c7b31256-12cf-478a-b008-8a5d2871bf31\",\"type\":\"Rect\"},\"selection_glyph\":null,\"view\":{\"id\":\"b6377a93-6627-4d07-b1c6-0f24dc3cbddc\",\"type\":\"CDSView\"}},\"id\":\"68d3a423-588e-4311-a31a-51b4a9785ba2\",\"type\":\"GlyphRenderer\"},{\"attributes\":{\"source\":{\"id\":\"3daef792-618e-4ab6-bfe9-de28b49c5a9d\",\"type\":\"ColumnDataSource\"}},\"id\":\"b6377a93-6627-4d07-b1c6-0f24dc3cbddc\",\"type\":\"CDSView\"},{\"attributes\":{\"callback\":null,\"data\":{\"x\":[\"F2\",\"F2\"],\"y\":[145.70062255859375,154.8241424560547]},\"selected\":{\"id\":\"47e4b91e-787c-4efd-850f-f2eba7f89803\",\"type\":\"Selection\"},\"selection_policy\":{\"id\":\"7f00ff87-1b9e-43f5-93d8-cae9b1cd8a4f\",\"type\":\"UnionRenderers\"}},\"id\":\"3c2bca2c-e1f7-4885-84c2-bc7549cf04af\",\"type\":\"ColumnDataSource\"},{\"attributes\":{\"line_alpha\":{\"value\":0.1},\"line_color\":{\"value\":\"#1f77b4\"},\"line_width\":{\"value\":3},\"xs\":{\"field\":\"xs\"},\"ys\":{\"field\":\"ys\"}},\"id\":\"4bca0633-3080-4916-9891-98a402366c5e\",\"type\":\"MultiLine\"},{\"attributes\":{\"fill_color\":{\"value\":\"#1f77b4\"},\"height\":{\"units\":\"data\",\"value\":0.001},\"line_color\":{\"value\":\"deepskyblue\"},\"width\":{\"units\":\"data\",\"value\":0.2},\"x\":{\"field\":\"x\"},\"y\":{\"field\":\"y\"}},\"id\":\"49d179d3-60d0-4a92-a56e-b84044f74562\",\"type\":\"Rect\"},{\"attributes\":{\"fill_alpha\":{\"value\":0.1},\"fill_color\":{\"value\":\"#1f77b4\"},\"height\":{\"units\":\"data\",\"value\":0.001},\"line_alpha\":{\"value\":0.1},\"line_color\":{\"value\":\"#1f77b4\"},\"width\":{\"units\":\"data\",\"value\":0.2},\"x\":{\"field\":\"x\"},\"y\":{\"field\":\"y\"}},\"id\":\"aee47525-6f5c-4417-8466-249c9d662bf6\",\"type\":\"Rect\"},{\"attributes\":{\"data_source\":{\"id\":\"3c2bca2c-e1f7-4885-84c2-bc7549cf04af\",\"type\":\"ColumnDataSource\"},\"glyph\":{\"id\":\"49d179d3-60d0-4a92-a56e-b84044f74562\",\"type\":\"Rect\"},\"hover_glyph\":null,\"muted_glyph\":null,\"name\":\"Whiskers\",\"nonselection_glyph\":{\"id\":\"aee47525-6f5c-4417-8466-249c9d662bf6\",\"type\":\"Rect\"},\"selection_glyph\":null,\"view\":{\"id\":\"38627849-42e7-440b-902f-3eb32a2f942a\",\"type\":\"CDSView\"}},\"id\":\"f955fb7c-9f2e-4af7-8ef8-8a7a60973d92\",\"type\":\"GlyphRenderer\"},{\"attributes\":{\"source\":{\"id\":\"3c2bca2c-e1f7-4885-84c2-bc7549cf04af\",\"type\":\"ColumnDataSource\"}},\"id\":\"38627849-42e7-440b-902f-3eb32a2f942a\",\"type\":\"CDSView\"},{\"attributes\":{\"callback\":null,\"data\":{\"x\":[\"F3\",\"F3\"],\"y\":[146.44488525390625,152.35153198242188]},\"selected\":{\"id\":\"76b32233-d588-41d9-83cc-6f9cd87109aa\",\"type\":\"Selection\"},\"selection_policy\":{\"id\":\"92361747-5ce5-4fa3-9d9e-c7de8560ca0c\",\"type\":\"UnionRenderers\"}},\"id\":\"f59f403f-d751-4be7-9047-ba95b13b5704\",\"type\":\"ColumnDataSource\"},{\"attributes\":{\"fill_color\":{\"value\":\"#1f77b4\"},\"height\":{\"units\":\"data\",\"value\":0.001},\"line_color\":{\"value\":\"deepskyblue\"},\"width\":{\"units\":\"data\",\"value\":0.2},\"x\":{\"field\":\"x\"},\"y\":{\"field\":\"y\"}},\"id\":\"8ee31eab-0250-4af5-8975-e87660eb66a4\",\"type\":\"Rect\"},{\"attributes\":{\"fill_alpha\":{\"value\":0.1},\"fill_color\":{\"value\":\"#1f77b4\"},\"height\":{\"units\":\"data\",\"value\":0.001},\"line_alpha\":{\"value\":0.1},\"line_color\":{\"value\":\"#1f77b4\"},\"width\":{\"units\":\"data\",\"value\":0.2},\"x\":{\"field\":\"x\"},\"y\":{\"field\":\"y\"}},\"id\":\"003715ee-672f-43be-8ac4-6cb9ca40824a\",\"type\":\"Rect\"},{\"attributes\":{\"data_source\":{\"id\":\"f59f403f-d751-4be7-9047-ba95b13b5704\",\"type\":\"ColumnDataSource\"},\"glyph\":{\"id\":\"8ee31eab-0250-4af5-8975-e87660eb66a4\",\"type\":\"Rect\"},\"hover_glyph\":null,\"muted_glyph\":null,\"name\":\"Whiskers\",\"nonselection_glyph\":{\"id\":\"003715ee-672f-43be-8ac4-6cb9ca40824a\",\"type\":\"Rect\"},\"selection_glyph\":null,\"view\":{\"id\":\"f7969278-1285-4cec-9154-ac9d8bfe68f0\",\"type\":\"CDSView\"}},\"id\":\"f3a5fdfa-4428-4700-aaf6-9a372700dcf8\",\"type\":\"GlyphRenderer\"},{\"attributes\":{\"source\":{\"id\":\"f59f403f-d751-4be7-9047-ba95b13b5704\",\"type\":\"ColumnDataSource\"}},\"id\":\"f7969278-1285-4cec-9154-ac9d8bfe68f0\",\"type\":\"CDSView\"},{\"attributes\":{\"callback\":null,\"data\":{\"x\":[\"H1\",\"H1\"],\"y\":[145.808837890625,153.23812866210938]},\"selected\":{\"id\":\"9ea675b4-772c-42ce-84f6-c5ae36db7fd2\",\"type\":\"Selection\"},\"selection_policy\":{\"id\":\"c9f9e714-e70d-4d3b-aaa3-9d918789c33e\",\"type\":\"UnionRenderers\"}},\"id\":\"537ec6e1-33bb-4ead-b46d-95c8a24f7ec7\",\"type\":\"ColumnDataSource\"},{\"attributes\":{\"fill_color\":{\"value\":\"#1f77b4\"},\"height\":{\"units\":\"data\",\"value\":0.001},\"line_color\":{\"value\":\"deepskyblue\"},\"width\":{\"units\":\"data\",\"value\":0.2},\"x\":{\"field\":\"x\"},\"y\":{\"field\":\"y\"}},\"id\":\"a6bdae86-bfe3-441a-be30-b9c134298e51\",\"type\":\"Rect\"},{\"attributes\":{\"fill_alpha\":{\"value\":0.1},\"fill_color\":{\"value\":\"#1f77b4\"},\"height\":{\"units\":\"data\",\"value\":0.001},\"line_alpha\":{\"value\":0.1},\"line_color\":{\"value\":\"#1f77b4\"},\"width\":{\"units\":\"data\",\"value\":0.2},\"x\":{\"field\":\"x\"},\"y\":{\"field\":\"y\"}},\"id\":\"8e718229-b604-4f9b-8c89-1b03aec699fe\",\"type\":\"Rect\"},{\"attributes\":{\"data_source\":{\"id\":\"537ec6e1-33bb-4ead-b46d-95c8a24f7ec7\",\"type\":\"ColumnDataSource\"},\"glyph\":{\"id\":\"a6bdae86-bfe3-441a-be30-b9c134298e51\",\"type\":\"Rect\"},\"hover_glyph\":null,\"muted_glyph\":null,\"name\":\"Whiskers\",\"nonselection_glyph\":{\"id\":\"8e718229-b604-4f9b-8c89-1b03aec699fe\",\"type\":\"Rect\"},\"selection_glyph\":null,\"view\":{\"id\":\"18966637-a904-4198-bb35-1e4ff31a4e80\",\"type\":\"CDSView\"}},\"id\":\"7609ce14-767d-4739-823a-321b04e151fd\",\"type\":\"GlyphRenderer\"},{\"attributes\":{\"source\":{\"id\":\"537ec6e1-33bb-4ead-b46d-95c8a24f7ec7\",\"type\":\"ColumnDataSource\"}},\"id\":\"18966637-a904-4198-bb35-1e4ff31a4e80\",\"type\":\"CDSView\"},{\"attributes\":{\"callback\":null,\"data\":{\"x\":[\"I1\",\"I1\"],\"y\":[147.37521362304688,153.2869415283203]},\"selected\":{\"id\":\"15b4025c-e85e-42e6-8a77-3e566324091a\",\"type\":\"Selection\"},\"selection_policy\":{\"id\":\"d0a09558-1ee2-420b-92a7-5d42cb0c6d3e\",\"type\":\"UnionRenderers\"}},\"id\":\"87b1be6a-8f2b-4716-8183-ab040eb9f2f8\",\"type\":\"ColumnDataSource\"},{\"attributes\":{\"fill_color\":{\"value\":\"#1f77b4\"},\"height\":{\"units\":\"data\",\"value\":0.001},\"line_color\":{\"value\":\"deepskyblue\"},\"width\":{\"units\":\"data\",\"value\":0.2},\"x\":{\"field\":\"x\"},\"y\":{\"field\":\"y\"}},\"id\":\"8844a90f-a634-415b-bb5d-460fb29d2683\",\"type\":\"Rect\"},{\"attributes\":{\"fill_alpha\":{\"value\":0.1},\"fill_color\":{\"value\":\"#1f77b4\"},\"height\":{\"units\":\"data\",\"value\":0.001},\"line_alpha\":{\"value\":0.1},\"line_color\":{\"value\":\"#1f77b4\"},\"width\":{\"units\":\"data\",\"value\":0.2},\"x\":{\"field\":\"x\"},\"y\":{\"field\":\"y\"}},\"id\":\"4eea6052-8fa1-4ef0-9146-5d7470b41c81\",\"type\":\"Rect\"},{\"attributes\":{\"data_source\":{\"id\":\"87b1be6a-8f2b-4716-8183-ab040eb9f2f8\",\"type\":\"ColumnDataSource\"},\"glyph\":{\"id\":\"8844a90f-a634-415b-bb5d-460fb29d2683\",\"type\":\"Rect\"},\"hover_glyph\":null,\"muted_glyph\":null,\"name\":\"Whiskers\",\"nonselection_glyph\":{\"id\":\"4eea6052-8fa1-4ef0-9146-5d7470b41c81\",\"type\":\"Rect\"},\"selection_glyph\":null,\"view\":{\"id\":\"e0ec9358-8316-46f0-8b1f-0acba02964bb\",\"type\":\"CDSView\"}},\"id\":\"7c4ee748-b6ed-4b00-8f6c-7c625b260822\",\"type\":\"GlyphRenderer\"},{\"attributes\":{\"source\":{\"id\":\"87b1be6a-8f2b-4716-8183-ab040eb9f2f8\",\"type\":\"ColumnDataSource\"}},\"id\":\"e0ec9358-8316-46f0-8b1f-0acba02964bb\",\"type\":\"CDSView\"},{\"attributes\":{\"callback\":null,\"data\":{\"x\":[\"J1\",\"J1\"],\"y\":[146.4114990234375,153.816162109375]},\"selected\":{\"id\":\"de6e9ff0-d360-4e85-9427-9fed13293703\",\"type\":\"Selection\"},\"selection_policy\":{\"id\":\"560cc9e0-d918-4330-9d12-9fb1fbafe380\",\"type\":\"UnionRenderers\"}},\"id\":\"14e07f31-ba2e-4f30-8f3d-ed304be3a710\",\"type\":\"ColumnDataSource\"},{\"attributes\":{\"fill_color\":{\"value\":\"#1f77b4\"},\"height\":{\"units\":\"data\",\"value\":0.001},\"line_color\":{\"value\":\"deepskyblue\"},\"width\":{\"units\":\"data\",\"value\":0.2},\"x\":{\"field\":\"x\"},\"y\":{\"field\":\"y\"}},\"id\":\"01ba8a9f-4d88-4624-884e-27d812f17e76\",\"type\":\"Rect\"},{\"attributes\":{\"fill_alpha\":{\"value\":0.1},\"fill_color\":{\"value\":\"#1f77b4\"},\"height\":{\"units\":\"data\",\"value\":0.001},\"line_alpha\":{\"value\":0.1},\"line_color\":{\"value\":\"#1f77b4\"},\"width\":{\"units\":\"data\",\"value\":0.2},\"x\":{\"field\":\"x\"},\"y\":{\"field\":\"y\"}},\"id\":\"e2b0e856-71f2-4f4a-a1c5-2ec408e838d0\",\"type\":\"Rect\"},{\"attributes\":{\"data_source\":{\"id\":\"14e07f31-ba2e-4f30-8f3d-ed304be3a710\",\"type\":\"ColumnDataSource\"},\"glyph\":{\"id\":\"01ba8a9f-4d88-4624-884e-27d812f17e76\",\"type\":\"Rect\"},\"hover_glyph\":null,\"muted_glyph\":null,\"name\":\"Whiskers\",\"nonselection_glyph\":{\"id\":\"e2b0e856-71f2-4f4a-a1c5-2ec408e838d0\",\"type\":\"Rect\"},\"selection_glyph\":null,\"view\":{\"id\":\"a0d9616f-c3cf-406a-9282-d1adfeb0034f\",\"type\":\"CDSView\"}},\"id\":\"f1fda9cf-d863-4c6d-a866-1ef06c28a1d7\",\"type\":\"GlyphRenderer\"},{\"attributes\":{\"source\":{\"id\":\"14e07f31-ba2e-4f30-8f3d-ed304be3a710\",\"type\":\"ColumnDataSource\"}},\"id\":\"a0d9616f-c3cf-406a-9282-d1adfeb0034f\",\"type\":\"CDSView\"},{\"attributes\":{\"callback\":null,\"data\":{\"x\":[\"M1\",\"M1\"],\"y\":[151.65072631835938,157.08201599121094]},\"selected\":{\"id\":\"a0b15b75-0c7b-4797-890a-8fe529a75e45\",\"type\":\"Selection\"},\"selection_policy\":{\"id\":\"d13046c9-3d92-45df-994a-4920c0b459be\",\"type\":\"UnionRenderers\"}},\"id\":\"78dfb133-c813-49bf-ad19-86412556f1b3\",\"type\":\"ColumnDataSource\"},{\"attributes\":{\"fill_color\":{\"value\":\"#1f77b4\"},\"height\":{\"units\":\"data\",\"value\":0.001},\"line_color\":{\"value\":\"deepskyblue\"},\"width\":{\"units\":\"data\",\"value\":0.2},\"x\":{\"field\":\"x\"},\"y\":{\"field\":\"y\"}},\"id\":\"fadc3fc0-cdc6-4676-8cf1-db9fd3b5ed84\",\"type\":\"Rect\"},{\"attributes\":{\"fill_alpha\":{\"value\":0.1},\"fill_color\":{\"value\":\"#1f77b4\"},\"height\":{\"units\":\"data\",\"value\":0.001},\"line_alpha\":{\"value\":0.1},\"line_color\":{\"value\":\"#1f77b4\"},\"width\":{\"units\":\"data\",\"value\":0.2},\"x\":{\"field\":\"x\"},\"y\":{\"field\":\"y\"}},\"id\":\"dc69ee15-f7e6-4dc0-a254-91963134a489\",\"type\":\"Rect\"},{\"attributes\":{\"data_source\":{\"id\":\"78dfb133-c813-49bf-ad19-86412556f1b3\",\"type\":\"ColumnDataSource\"},\"glyph\":{\"id\":\"fadc3fc0-cdc6-4676-8cf1-db9fd3b5ed84\",\"type\":\"Rect\"},\"hover_glyph\":null,\"muted_glyph\":null,\"name\":\"Whiskers\",\"nonselection_glyph\":{\"id\":\"dc69ee15-f7e6-4dc0-a254-91963134a489\",\"type\":\"Rect\"},\"selection_glyph\":null,\"view\":{\"id\":\"bf4c7995-b998-4589-a6a0-1d242c86c339\",\"type\":\"CDSView\"}},\"id\":\"11f1b089-058c-471e-8052-52e0f066754c\",\"type\":\"GlyphRenderer\"},{\"attributes\":{\"source\":{\"id\":\"78dfb133-c813-49bf-ad19-86412556f1b3\",\"type\":\"ColumnDataSource\"}},\"id\":\"bf4c7995-b998-4589-a6a0-1d242c86c339\",\"type\":\"CDSView\"},{\"attributes\":{\"callback\":null,\"data\":{\"x\":[\"M2\",\"M2\"],\"y\":[149.972412109375,156.97067260742188]},\"selected\":{\"id\":\"9aeb3d38-a497-4ddf-bd0a-286583afc2aa\",\"type\":\"Selection\"},\"selection_policy\":{\"id\":\"3f9f9f7e-3f6b-4d0c-b99b-2c7ae4ffae3d\",\"type\":\"UnionRenderers\"}},\"id\":\"88e46c7d-04b2-4f1e-9726-eeb0d2f94cba\",\"type\":\"ColumnDataSource\"},{\"attributes\":{\"fill_color\":{\"value\":\"#1f77b4\"},\"height\":{\"units\":\"data\",\"value\":0.001},\"line_color\":{\"value\":\"deepskyblue\"},\"width\":{\"units\":\"data\",\"value\":0.2},\"x\":{\"field\":\"x\"},\"y\":{\"field\":\"y\"}},\"id\":\"784a7956-0d5e-43eb-9fa0-ee357ad3ec1c\",\"type\":\"Rect\"},{\"attributes\":{\"fill_alpha\":{\"value\":0.1},\"fill_color\":{\"value\":\"#1f77b4\"},\"height\":{\"units\":\"data\",\"value\":0.001},\"line_alpha\":{\"value\":0.1},\"line_color\":{\"value\":\"#1f77b4\"},\"width\":{\"units\":\"data\",\"value\":0.2},\"x\":{\"field\":\"x\"},\"y\":{\"field\":\"y\"}},\"id\":\"2985cc55-5432-438d-9988-c36723c4686b\",\"type\":\"Rect\"},{\"attributes\":{\"data_source\":{\"id\":\"88e46c7d-04b2-4f1e-9726-eeb0d2f94cba\",\"type\":\"ColumnDataSource\"},\"glyph\":{\"id\":\"784a7956-0d5e-43eb-9fa0-ee357ad3ec1c\",\"type\":\"Rect\"},\"hover_glyph\":null,\"muted_glyph\":null,\"name\":\"Whiskers\",\"nonselection_glyph\":{\"id\":\"2985cc55-5432-438d-9988-c36723c4686b\",\"type\":\"Rect\"},\"selection_glyph\":null,\"view\":{\"id\":\"9951d601-18b2-4722-aae6-f8492af2cc8a\",\"type\":\"CDSView\"}},\"id\":\"c3148fc2-8730-4add-b8b5-0dc586beb6dd\",\"type\":\"GlyphRenderer\"},{\"attributes\":{\"source\":{\"id\":\"88e46c7d-04b2-4f1e-9726-eeb0d2f94cba\",\"type\":\"ColumnDataSource\"}},\"id\":\"9951d601-18b2-4722-aae6-f8492af2cc8a\",\"type\":\"CDSView\"},{\"attributes\":{\"callback\":null,\"data\":{\"x\":[\"P1\",\"P1\"],\"y\":[150.99147033691406,155.4565887451172]},\"selected\":{\"id\":\"6d777a9b-8c8c-4f94-885d-a97be53199f0\",\"type\":\"Selection\"},\"selection_policy\":{\"id\":\"fbe2c873-a8f3-428a-975a-5daf04aaa5b6\",\"type\":\"UnionRenderers\"}},\"id\":\"85cd5241-7cf2-4a10-a0de-9b36490e49b3\",\"type\":\"ColumnDataSource\"},{\"attributes\":{\"fill_color\":{\"value\":\"#1f77b4\"},\"height\":{\"units\":\"data\",\"value\":0.001},\"line_color\":{\"value\":\"deepskyblue\"},\"width\":{\"units\":\"data\",\"value\":0.2},\"x\":{\"field\":\"x\"},\"y\":{\"field\":\"y\"}},\"id\":\"586856e7-35e5-4647-87fe-e3276f6712c4\",\"type\":\"Rect\"},{\"attributes\":{\"fill_alpha\":{\"value\":0.1},\"fill_color\":{\"value\":\"#1f77b4\"},\"height\":{\"units\":\"data\",\"value\":0.001},\"line_alpha\":{\"value\":0.1},\"line_color\":{\"value\":\"#1f77b4\"},\"width\":{\"units\":\"data\",\"value\":0.2},\"x\":{\"field\":\"x\"},\"y\":{\"field\":\"y\"}},\"id\":\"a0b79368-9498-47dc-9d0d-034524332bbf\",\"type\":\"Rect\"},{\"attributes\":{\"data_source\":{\"id\":\"85cd5241-7cf2-4a10-a0de-9b36490e49b3\",\"type\":\"ColumnDataSource\"},\"glyph\":{\"id\":\"586856e7-35e5-4647-87fe-e3276f6712c4\",\"type\":\"Rect\"},\"hover_glyph\":null,\"muted_glyph\":null,\"name\":\"Whiskers\",\"nonselection_glyph\":{\"id\":\"a0b79368-9498-47dc-9d0d-034524332bbf\",\"type\":\"Rect\"},\"selection_glyph\":null,\"view\":{\"id\":\"b7d67d58-3ab5-4ae5-90f4-c3a040b5127b\",\"type\":\"CDSView\"}},\"id\":\"e650c4fe-07fb-4816-bbf4-67f021fd7355\",\"type\":\"GlyphRenderer\"},{\"attributes\":{\"source\":{\"id\":\"85cd5241-7cf2-4a10-a0de-9b36490e49b3\",\"type\":\"ColumnDataSource\"}},\"id\":\"b7d67d58-3ab5-4ae5-90f4-c3a040b5127b\",\"type\":\"CDSView\"},{\"attributes\":{\"callback\":null,\"data\":{\"x\":[\"Q1\",\"Q1\"],\"y\":[146.28172302246094,155.16107177734375]},\"selected\":{\"id\":\"b258d88c-c7f0-4da2-b4ce-40fb86090633\",\"type\":\"Selection\"},\"selection_policy\":{\"id\":\"6b7dea8e-c5da-44c1-9595-0de9ae85b3fe\",\"type\":\"UnionRenderers\"}},\"id\":\"0e41ae80-f719-48a5-b902-6a1f425a64dd\",\"type\":\"ColumnDataSource\"},{\"attributes\":{\"fill_color\":{\"value\":\"#1f77b4\"},\"height\":{\"units\":\"data\",\"value\":0.001},\"line_color\":{\"value\":\"deepskyblue\"},\"width\":{\"units\":\"data\",\"value\":0.2},\"x\":{\"field\":\"x\"},\"y\":{\"field\":\"y\"}},\"id\":\"82a104a1-5230-4abc-add9-c4d1a54af19d\",\"type\":\"Rect\"},{\"attributes\":{\"fill_alpha\":{\"value\":0.1},\"fill_color\":{\"value\":\"#1f77b4\"},\"height\":{\"units\":\"data\",\"value\":0.001},\"line_alpha\":{\"value\":0.1},\"line_color\":{\"value\":\"#1f77b4\"},\"width\":{\"units\":\"data\",\"value\":0.2},\"x\":{\"field\":\"x\"},\"y\":{\"field\":\"y\"}},\"id\":\"df38c64c-8b62-4783-aa60-d7b03445ff62\",\"type\":\"Rect\"},{\"attributes\":{\"data_source\":{\"id\":\"0e41ae80-f719-48a5-b902-6a1f425a64dd\",\"type\":\"ColumnDataSource\"},\"glyph\":{\"id\":\"82a104a1-5230-4abc-add9-c4d1a54af19d\",\"type\":\"Rect\"},\"hover_glyph\":null,\"muted_glyph\":null,\"name\":\"Whiskers\",\"nonselection_glyph\":{\"id\":\"df38c64c-8b62-4783-aa60-d7b03445ff62\",\"type\":\"Rect\"},\"selection_glyph\":null,\"view\":{\"id\":\"ccc684bd-f2ad-4518-946c-6c03eee091dc\",\"type\":\"CDSView\"}},\"id\":\"ad00c99d-d006-4ad3-a66d-b53a2bedbdc2\",\"type\":\"GlyphRenderer\"},{\"attributes\":{\"source\":{\"id\":\"0e41ae80-f719-48a5-b902-6a1f425a64dd\",\"type\":\"ColumnDataSource\"}},\"id\":\"ccc684bd-f2ad-4518-946c-6c03eee091dc\",\"type\":\"CDSView\"},{\"attributes\":{\"callback\":null,\"data\":{\"x\":[\"Q2\",\"Q2\"],\"y\":[146.72467041015625,153.35948181152344]},\"selected\":{\"id\":\"a96944dd-4ff5-4401-8dcb-ae0e1d213621\",\"type\":\"Selection\"},\"selection_policy\":{\"id\":\"b964d311-2ba1-4d08-a9ea-c5d2c37aa188\",\"type\":\"UnionRenderers\"}},\"id\":\"44458ed8-4719-499d-ac46-d174cba6803b\",\"type\":\"ColumnDataSource\"},{\"attributes\":{\"fill_alpha\":{\"value\":0.1},\"fill_color\":{\"value\":\"#1f77b4\"},\"height\":{\"units\":\"data\",\"value\":0.001},\"line_alpha\":{\"value\":0.1},\"line_color\":{\"value\":\"#1f77b4\"},\"width\":{\"units\":\"data\",\"value\":0.2},\"x\":{\"field\":\"x\"},\"y\":{\"field\":\"y\"}},\"id\":\"2e8907ee-c023-4d1f-9c93-1546132b9e19\",\"type\":\"Rect\"},{\"attributes\":{\"data_source\":{\"id\":\"44458ed8-4719-499d-ac46-d174cba6803b\",\"type\":\"ColumnDataSource\"},\"glyph\":{\"id\":\"8fd9f716-0247-4df7-b150-6d6f3d90e1ab\",\"type\":\"Rect\"},\"hover_glyph\":null,\"muted_glyph\":null,\"name\":\"Whiskers\",\"nonselection_glyph\":{\"id\":\"2e8907ee-c023-4d1f-9c93-1546132b9e19\",\"type\":\"Rect\"},\"selection_glyph\":null,\"view\":{\"id\":\"b941c028-e7b9-439c-beb9-58b62f83dcaf\",\"type\":\"CDSView\"}},\"id\":\"495d324a-8522-497b-aa7b-4840874b7e8d\",\"type\":\"GlyphRenderer\"},{\"attributes\":{},\"id\":\"dcdc9986-7229-4d52-a78a-7f4e205896fb\",\"type\":\"LinearScale\"},{\"attributes\":{\"source\":{\"id\":\"44458ed8-4719-499d-ac46-d174cba6803b\",\"type\":\"ColumnDataSource\"}},\"id\":\"b941c028-e7b9-439c-beb9-58b62f83dcaf\",\"type\":\"CDSView\"},{\"attributes\":{\"callback\":null,\"data\":{\"x\":[\"S1\",\"S1\"],\"y\":[150.524169921875,155.7735595703125]},\"selected\":{\"id\":\"5f9b1350-46e8-4dc4-90f7-eb1395048815\",\"type\":\"Selection\"},\"selection_policy\":{\"id\":\"632f125b-4ca5-42ec-8df1-079fe414c5f5\",\"type\":\"UnionRenderers\"}},\"id\":\"012bf407-00ab-4d75-81e2-e9ac8677596f\",\"type\":\"ColumnDataSource\"},{\"attributes\":{\"fill_color\":{\"value\":\"#1f77b4\"},\"height\":{\"units\":\"data\",\"value\":0.001},\"line_color\":{\"value\":\"deepskyblue\"},\"width\":{\"units\":\"data\",\"value\":0.2},\"x\":{\"field\":\"x\"},\"y\":{\"field\":\"y\"}},\"id\":\"a95c27fb-82d6-42d0-9c86-c2bd06a71bb2\",\"type\":\"Rect\"},{\"attributes\":{\"fill_alpha\":{\"value\":0.1},\"fill_color\":{\"value\":\"#1f77b4\"},\"height\":{\"units\":\"data\",\"value\":0.001},\"line_alpha\":{\"value\":0.1},\"line_color\":{\"value\":\"#1f77b4\"},\"width\":{\"units\":\"data\",\"value\":0.2},\"x\":{\"field\":\"x\"},\"y\":{\"field\":\"y\"}},\"id\":\"d7731c23-7f71-4ebb-91a0-fc16caf4d899\",\"type\":\"Rect\"},{\"attributes\":{\"data_source\":{\"id\":\"012bf407-00ab-4d75-81e2-e9ac8677596f\",\"type\":\"ColumnDataSource\"},\"glyph\":{\"id\":\"a95c27fb-82d6-42d0-9c86-c2bd06a71bb2\",\"type\":\"Rect\"},\"hover_glyph\":null,\"muted_glyph\":null,\"name\":\"Whiskers\",\"nonselection_glyph\":{\"id\":\"d7731c23-7f71-4ebb-91a0-fc16caf4d899\",\"type\":\"Rect\"},\"selection_glyph\":null,\"view\":{\"id\":\"564ecaac-5051-4b5a-961b-aa990f11932f\",\"type\":\"CDSView\"}},\"id\":\"bdd747e2-f23a-4b6e-b2d2-e17508bf26ff\",\"type\":\"GlyphRenderer\"},{\"attributes\":{\"source\":{\"id\":\"012bf407-00ab-4d75-81e2-e9ac8677596f\",\"type\":\"ColumnDataSource\"}},\"id\":\"564ecaac-5051-4b5a-961b-aa990f11932f\",\"type\":\"CDSView\"},{\"attributes\":{\"callback\":null,\"data\":{\"x\":[\"S2\",\"S2\"],\"y\":[146.40087890625,153.0620880126953]},\"selected\":{\"id\":\"5a74cd03-7d3f-48a9-b894-ea1791ea9bea\",\"type\":\"Selection\"},\"selection_policy\":{\"id\":\"acb40274-4fe4-4eec-becb-50f205ff9198\",\"type\":\"UnionRenderers\"}},\"id\":\"a04a7584-b74b-4d72-941a-9f1e89a7fd2c\",\"type\":\"ColumnDataSource\"},{\"attributes\":{\"fill_color\":{\"value\":\"#1f77b4\"},\"height\":{\"units\":\"data\",\"value\":0.001},\"line_color\":{\"value\":\"deepskyblue\"},\"width\":{\"units\":\"data\",\"value\":0.2},\"x\":{\"field\":\"x\"},\"y\":{\"field\":\"y\"}},\"id\":\"8a3e96f1-14f8-47a5-9121-fac7b1d19b5d\",\"type\":\"Rect\"},{\"attributes\":{\"fill_alpha\":{\"value\":0.1},\"fill_color\":{\"value\":\"#1f77b4\"},\"height\":{\"units\":\"data\",\"value\":0.001},\"line_alpha\":{\"value\":0.1},\"line_color\":{\"value\":\"#1f77b4\"},\"width\":{\"units\":\"data\",\"value\":0.2},\"x\":{\"field\":\"x\"},\"y\":{\"field\":\"y\"}},\"id\":\"9309377e-5c17-40b4-8bb9-82400506fe6b\",\"type\":\"Rect\"},{\"attributes\":{\"data_source\":{\"id\":\"a04a7584-b74b-4d72-941a-9f1e89a7fd2c\",\"type\":\"ColumnDataSource\"},\"glyph\":{\"id\":\"8a3e96f1-14f8-47a5-9121-fac7b1d19b5d\",\"type\":\"Rect\"},\"hover_glyph\":null,\"muted_glyph\":null,\"name\":\"Whiskers\",\"nonselection_glyph\":{\"id\":\"9309377e-5c17-40b4-8bb9-82400506fe6b\",\"type\":\"Rect\"},\"selection_glyph\":null,\"view\":{\"id\":\"3cc55846-e249-4bd6-87fc-b558e0f2daa3\",\"type\":\"CDSView\"}},\"id\":\"50f1dfb5-c941-48a9-b8b3-fdc0ab7e3df1\",\"type\":\"GlyphRenderer\"},{\"attributes\":{\"source\":{\"id\":\"a04a7584-b74b-4d72-941a-9f1e89a7fd2c\",\"type\":\"ColumnDataSource\"}},\"id\":\"3cc55846-e249-4bd6-87fc-b558e0f2daa3\",\"type\":\"CDSView\"},{\"attributes\":{\"callback\":null,\"data\":{\"x\":[\"S3\",\"S3\"],\"y\":[147.4194793701172,153.6128387451172]},\"selected\":{\"id\":\"e225a8d5-039c-497c-b38c-0fce8f152a7a\",\"type\":\"Selection\"},\"selection_policy\":{\"id\":\"06d68924-9ae5-40b6-acfb-e10224da17bb\",\"type\":\"UnionRenderers\"}},\"id\":\"192bc111-5cbe-4a13-8086-412a3fdb7394\",\"type\":\"ColumnDataSource\"},{\"attributes\":{\"fill_color\":{\"value\":\"#1f77b4\"},\"height\":{\"units\":\"data\",\"value\":0.001},\"line_color\":{\"value\":\"deepskyblue\"},\"width\":{\"units\":\"data\",\"value\":0.2},\"x\":{\"field\":\"x\"},\"y\":{\"field\":\"y\"}},\"id\":\"9ea1305c-9236-423e-8a73-2269bd6f552b\",\"type\":\"Rect\"},{\"attributes\":{\"fill_alpha\":{\"value\":0.1},\"fill_color\":{\"value\":\"#1f77b4\"},\"height\":{\"units\":\"data\",\"value\":0.001},\"line_alpha\":{\"value\":0.1},\"line_color\":{\"value\":\"#1f77b4\"},\"width\":{\"units\":\"data\",\"value\":0.2},\"x\":{\"field\":\"x\"},\"y\":{\"field\":\"y\"}},\"id\":\"3334dfa7-24f5-418b-bcd0-bf16af13674e\",\"type\":\"Rect\"},{\"attributes\":{\"data_source\":{\"id\":\"192bc111-5cbe-4a13-8086-412a3fdb7394\",\"type\":\"ColumnDataSource\"},\"glyph\":{\"id\":\"9ea1305c-9236-423e-8a73-2269bd6f552b\",\"type\":\"Rect\"},\"hover_glyph\":null,\"muted_glyph\":null,\"name\":\"Whiskers\",\"nonselection_glyph\":{\"id\":\"3334dfa7-24f5-418b-bcd0-bf16af13674e\",\"type\":\"Rect\"},\"selection_glyph\":null,\"view\":{\"id\":\"fff3f102-44f4-4f3e-a687-03fdb90efa1b\",\"type\":\"CDSView\"}},\"id\":\"6f962a60-e328-4039-a936-21c76be84148\",\"type\":\"GlyphRenderer\"},{\"attributes\":{\"source\":{\"id\":\"192bc111-5cbe-4a13-8086-412a3fdb7394\",\"type\":\"ColumnDataSource\"}},\"id\":\"fff3f102-44f4-4f3e-a687-03fdb90efa1b\",\"type\":\"CDSView\"},{\"attributes\":{\"callback\":null,\"data\":{\"x\":[\"S4\",\"S4\"],\"y\":[149.26048278808594,155.45001220703125]},\"selected\":{\"id\":\"088c7cb1-5103-4493-a30a-37c40d293701\",\"type\":\"Selection\"},\"selection_policy\":{\"id\":\"ee3fb417-9cbe-434e-9324-7f7332716a0a\",\"type\":\"UnionRenderers\"}},\"id\":\"5209ea57-1c0f-4ed6-b7d3-b95fbb6c37f2\",\"type\":\"ColumnDataSource\"},{\"attributes\":{\"fill_color\":{\"value\":\"#1f77b4\"},\"height\":{\"units\":\"data\",\"value\":0.001},\"line_color\":{\"value\":\"deepskyblue\"},\"width\":{\"units\":\"data\",\"value\":0.2},\"x\":{\"field\":\"x\"},\"y\":{\"field\":\"y\"}},\"id\":\"0b1b4925-dcf8-439c-a177-bc312eefe7c7\",\"type\":\"Rect\"},{\"attributes\":{\"fill_alpha\":{\"value\":0.1},\"fill_color\":{\"value\":\"#1f77b4\"},\"height\":{\"units\":\"data\",\"value\":0.001},\"line_alpha\":{\"value\":0.1},\"line_color\":{\"value\":\"#1f77b4\"},\"width\":{\"units\":\"data\",\"value\":0.2},\"x\":{\"field\":\"x\"},\"y\":{\"field\":\"y\"}},\"id\":\"cc5a706c-21fd-47a1-9b5e-88651c34dc79\",\"type\":\"Rect\"},{\"attributes\":{\"data_source\":{\"id\":\"5209ea57-1c0f-4ed6-b7d3-b95fbb6c37f2\",\"type\":\"ColumnDataSource\"},\"glyph\":{\"id\":\"0b1b4925-dcf8-439c-a177-bc312eefe7c7\",\"type\":\"Rect\"},\"hover_glyph\":null,\"muted_glyph\":null,\"name\":\"Whiskers\",\"nonselection_glyph\":{\"id\":\"cc5a706c-21fd-47a1-9b5e-88651c34dc79\",\"type\":\"Rect\"},\"selection_glyph\":null,\"view\":{\"id\":\"1a54adaa-9ed6-4ae5-b5b9-6685e05dcaba\",\"type\":\"CDSView\"}},\"id\":\"e70eca13-1b52-433e-8130-cef3b3417d67\",\"type\":\"GlyphRenderer\"},{\"attributes\":{\"source\":{\"id\":\"5209ea57-1c0f-4ed6-b7d3-b95fbb6c37f2\",\"type\":\"ColumnDataSource\"}},\"id\":\"1a54adaa-9ed6-4ae5-b5b9-6685e05dcaba\",\"type\":\"CDSView\"},{\"attributes\":{\"callback\":null,\"data\":{\"x\":[\"S5\",\"S5\"],\"y\":[151.73191833496094,157.659912109375]},\"selected\":{\"id\":\"212f7ec6-5892-478d-a492-0dc940ecfef1\",\"type\":\"Selection\"},\"selection_policy\":{\"id\":\"a14b739f-ac2f-4127-8192-5342ee2d480b\",\"type\":\"UnionRenderers\"}},\"id\":\"72060609-d777-4aa4-98e0-1319b4d9cfcf\",\"type\":\"ColumnDataSource\"},{\"attributes\":{\"fill_color\":{\"value\":\"#1f77b4\"},\"height\":{\"units\":\"data\",\"value\":0.001},\"line_color\":{\"value\":\"deepskyblue\"},\"width\":{\"units\":\"data\",\"value\":0.2},\"x\":{\"field\":\"x\"},\"y\":{\"field\":\"y\"}},\"id\":\"9531dd5c-c9e0-432e-b719-458ec489d970\",\"type\":\"Rect\"},{\"attributes\":{\"fill_alpha\":{\"value\":0.1},\"fill_color\":{\"value\":\"#1f77b4\"},\"height\":{\"units\":\"data\",\"value\":0.001},\"line_alpha\":{\"value\":0.1},\"line_color\":{\"value\":\"#1f77b4\"},\"width\":{\"units\":\"data\",\"value\":0.2},\"x\":{\"field\":\"x\"},\"y\":{\"field\":\"y\"}},\"id\":\"b082a180-fc0d-4e4c-bc01-a125257c53f5\",\"type\":\"Rect\"},{\"attributes\":{\"data_source\":{\"id\":\"72060609-d777-4aa4-98e0-1319b4d9cfcf\",\"type\":\"ColumnDataSource\"},\"glyph\":{\"id\":\"9531dd5c-c9e0-432e-b719-458ec489d970\",\"type\":\"Rect\"},\"hover_glyph\":null,\"muted_glyph\":null,\"name\":\"Whiskers\",\"nonselection_glyph\":{\"id\":\"b082a180-fc0d-4e4c-bc01-a125257c53f5\",\"type\":\"Rect\"},\"selection_glyph\":null,\"view\":{\"id\":\"65f64a2c-60f1-4b8f-8f3a-548411acd0b3\",\"type\":\"CDSView\"}},\"id\":\"8f238fba-ec66-44ea-b0b3-13e23cbf1ead\",\"type\":\"GlyphRenderer\"},{\"attributes\":{\"source\":{\"id\":\"72060609-d777-4aa4-98e0-1319b4d9cfcf\",\"type\":\"ColumnDataSource\"}},\"id\":\"65f64a2c-60f1-4b8f-8f3a-548411acd0b3\",\"type\":\"CDSView\"},{\"attributes\":{\"callback\":null,\"data\":{\"x\":[\"T1\",\"T1\"],\"y\":[145.3487091064453,153.31503295898438]},\"selected\":{\"id\":\"e03787e1-fa69-4b1a-87f1-59fd3bf7b14b\",\"type\":\"Selection\"},\"selection_policy\":{\"id\":\"0861c819-01fe-486a-99ed-9902f7ed02f0\",\"type\":\"UnionRenderers\"}},\"id\":\"9f06596a-9875-41fe-bec8-47b6501f705e\",\"type\":\"ColumnDataSource\"},{\"attributes\":{\"fill_color\":{\"value\":\"#1f77b4\"},\"height\":{\"units\":\"data\",\"value\":0.001},\"line_color\":{\"value\":\"deepskyblue\"},\"width\":{\"units\":\"data\",\"value\":0.2},\"x\":{\"field\":\"x\"},\"y\":{\"field\":\"y\"}},\"id\":\"3a228aba-96dd-43fa-ab8e-ee886bec74ad\",\"type\":\"Rect\"},{\"attributes\":{\"fill_alpha\":{\"value\":0.1},\"fill_color\":{\"value\":\"#1f77b4\"},\"height\":{\"units\":\"data\",\"value\":0.001},\"line_alpha\":{\"value\":0.1},\"line_color\":{\"value\":\"#1f77b4\"},\"width\":{\"units\":\"data\",\"value\":0.2},\"x\":{\"field\":\"x\"},\"y\":{\"field\":\"y\"}},\"id\":\"98f0a6ab-dc20-4701-9dcd-8adf32eabffa\",\"type\":\"Rect\"},{\"attributes\":{\"data_source\":{\"id\":\"9f06596a-9875-41fe-bec8-47b6501f705e\",\"type\":\"ColumnDataSource\"},\"glyph\":{\"id\":\"3a228aba-96dd-43fa-ab8e-ee886bec74ad\",\"type\":\"Rect\"},\"hover_glyph\":null,\"muted_glyph\":null,\"name\":\"Whiskers\",\"nonselection_glyph\":{\"id\":\"98f0a6ab-dc20-4701-9dcd-8adf32eabffa\",\"type\":\"Rect\"},\"selection_glyph\":null,\"view\":{\"id\":\"d457a14b-4d5a-4a89-920f-f8bdeb6ed177\",\"type\":\"CDSView\"}},\"id\":\"a2519f1b-6f71-447c-9e21-53ffe0c2246d\",\"type\":\"GlyphRenderer\"},{\"attributes\":{\"source\":{\"id\":\"9f06596a-9875-41fe-bec8-47b6501f705e\",\"type\":\"ColumnDataSource\"}},\"id\":\"d457a14b-4d5a-4a89-920f-f8bdeb6ed177\",\"type\":\"CDSView\"},{\"attributes\":{\"callback\":null,\"data\":{\"x\":[\"T2\",\"T2\"],\"y\":[146.64251708984375,153.0906982421875]},\"selected\":{\"id\":\"fff3b7b1-4b95-40a9-925a-d2603b6c119c\",\"type\":\"Selection\"},\"selection_policy\":{\"id\":\"bbbdf525-4f22-436d-b386-7c7947345436\",\"type\":\"UnionRenderers\"}},\"id\":\"90e240a5-eb31-4431-bf8e-2c5c23514547\",\"type\":\"ColumnDataSource\"},{\"attributes\":{\"fill_color\":{\"value\":\"#1f77b4\"},\"height\":{\"units\":\"data\",\"value\":0.001},\"line_color\":{\"value\":\"deepskyblue\"},\"width\":{\"units\":\"data\",\"value\":0.2},\"x\":{\"field\":\"x\"},\"y\":{\"field\":\"y\"}},\"id\":\"734ce485-0b34-4ef2-b105-49d8404f6826\",\"type\":\"Rect\"},{\"attributes\":{\"fill_alpha\":{\"value\":0.1},\"fill_color\":{\"value\":\"#1f77b4\"},\"height\":{\"units\":\"data\",\"value\":0.001},\"line_alpha\":{\"value\":0.1},\"line_color\":{\"value\":\"#1f77b4\"},\"width\":{\"units\":\"data\",\"value\":0.2},\"x\":{\"field\":\"x\"},\"y\":{\"field\":\"y\"}},\"id\":\"d1245116-2a1b-43b1-bea6-96eccfee909f\",\"type\":\"Rect\"},{\"attributes\":{\"data_source\":{\"id\":\"90e240a5-eb31-4431-bf8e-2c5c23514547\",\"type\":\"ColumnDataSource\"},\"glyph\":{\"id\":\"734ce485-0b34-4ef2-b105-49d8404f6826\",\"type\":\"Rect\"},\"hover_glyph\":null,\"muted_glyph\":null,\"name\":\"Whiskers\",\"nonselection_glyph\":{\"id\":\"d1245116-2a1b-43b1-bea6-96eccfee909f\",\"type\":\"Rect\"},\"selection_glyph\":null,\"view\":{\"id\":\"8b3bf16c-72c9-45cc-a7ea-e902edd342ca\",\"type\":\"CDSView\"}},\"id\":\"fe7d6859-d32e-411b-91ec-4ab623df4945\",\"type\":\"GlyphRenderer\"},{\"attributes\":{\"source\":{\"id\":\"90e240a5-eb31-4431-bf8e-2c5c23514547\",\"type\":\"ColumnDataSource\"}},\"id\":\"8b3bf16c-72c9-45cc-a7ea-e902edd342ca\",\"type\":\"CDSView\"},{\"attributes\":{\"callback\":null,\"factors\":[\"A1\",\"A2\",\"A3\",\"A4\",\"A5\",\"A6\",\"C1\",\"C2\",\"C3\",\"C4\",\"C5\",\"C6\",\"D1\",\"D2\",\"E1\",\"E2\",\"F1\",\"F2\",\"F3\",\"H1\",\"I1\",\"J1\",\"M1\",\"M2\",\"P1\",\"Q1\",\"Q2\",\"S1\",\"S2\",\"S3\",\"S4\",\"S5\",\"T1\",\"T2\"]},\"id\":\"af42bc7b-5ade-4d75-a56e-13b7fab9f24a\",\"type\":\"FactorRange\"},{\"attributes\":{\"source\":{\"id\":\"58583533-df53-488f-b88a-01ba26ae390a\",\"type\":\"ColumnDataSource\"}},\"id\":\"e2c3f6a2-f167-4fa3-93af-9d8b7d0ea809\",\"type\":\"CDSView\"},{\"attributes\":{},\"id\":\"baf55c78-036b-4e73-ad93-d4a183975c9e\",\"type\":\"UnionRenderers\"},{\"attributes\":{},\"id\":\"1b7171be-01f9-470f-b358-66a869cfac67\",\"type\":\"Selection\"},{\"attributes\":{\"data_source\":{\"id\":\"58583533-df53-488f-b88a-01ba26ae390a\",\"type\":\"ColumnDataSource\"},\"glyph\":{\"id\":\"e2c205e4-adb1-40fd-aae1-8581d05a5256\",\"type\":\"MultiLine\"},\"hover_glyph\":null,\"muted_glyph\":null,\"nonselection_glyph\":{\"id\":\"4bca0633-3080-4916-9891-98a402366c5e\",\"type\":\"MultiLine\"},\"selection_glyph\":null,\"view\":{\"id\":\"e2c3f6a2-f167-4fa3-93af-9d8b7d0ea809\",\"type\":\"CDSView\"}},\"id\":\"c8e0789c-d02e-4a9c-808d-1492b51ad529\",\"type\":\"GlyphRenderer\"},{\"attributes\":{},\"id\":\"7111c506-6de7-4267-bdb3-cac559383d4b\",\"type\":\"Selection\"},{\"attributes\":{\"fill_color\":{\"value\":\"red\"},\"line_alpha\":{\"value\":0},\"line_color\":{\"value\":\"red\"},\"size\":{\"units\":\"screen\",\"value\":12},\"x\":{\"field\":\"x\"},\"y\":{\"field\":\"y\"}},\"id\":\"81aaa4de-a8f1-43b8-a4bb-7f11d0c9b0da\",\"type\":\"Diamond\"},{\"attributes\":{},\"id\":\"25c26d9b-adc8-442d-862e-3316b742dbd0\",\"type\":\"UnionRenderers\"},{\"attributes\":{},\"id\":\"458070e4-937b-45e4-9e40-1d6bd72e78f6\",\"type\":\"Selection\"},{\"attributes\":{},\"id\":\"4938a7f4-20a5-491f-9c57-717e33561cfd\",\"type\":\"UnionRenderers\"},{\"attributes\":{},\"id\":\"08db5562-c482-4baa-9558-166812618912\",\"type\":\"Selection\"},{\"attributes\":{},\"id\":\"a088fdeb-79df-4405-b88f-9a9e09880bdd\",\"type\":\"UnionRenderers\"},{\"attributes\":{},\"id\":\"78d72edd-fde7-4c45-9614-6a0767ca9195\",\"type\":\"Selection\"},{\"attributes\":{},\"id\":\"0bb93eda-ba8d-4530-9cc6-8b9b1ef45ead\",\"type\":\"UnionRenderers\"},{\"attributes\":{},\"id\":\"38f71feb-3d57-417a-aca6-c69f2809914d\",\"type\":\"Selection\"},{\"attributes\":{},\"id\":\"9b04710a-1ae6-4ce8-897e-7d6a8ae7bbfe\",\"type\":\"UnionRenderers\"},{\"attributes\":{},\"id\":\"59423192-ce52-4368-8ecb-17b4c058a0f4\",\"type\":\"Selection\"},{\"attributes\":{},\"id\":\"afd454f1-bf81-44ad-b8c0-6cbfc465fadb\",\"type\":\"UnionRenderers\"},{\"attributes\":{},\"id\":\"f4373338-b750-4ac7-a8c1-90e63480582e\",\"type\":\"Selection\"},{\"attributes\":{},\"id\":\"1d2a7fc7-ed76-4b13-ba7a-774754e54fcd\",\"type\":\"UnionRenderers\"},{\"attributes\":{},\"id\":\"02208e02-8620-48fd-ad64-ae58986181d4\",\"type\":\"Selection\"},{\"attributes\":{\"click_policy\":\"hide\",\"items\":[{\"id\":\"c76d5263-9725-4a73-ab2c-b6767b581e59\",\"type\":\"LegendItem\"},{\"id\":\"4a3db93f-3cb7-4cc0-b3fc-f87f3cb54e0c\",\"type\":\"LegendItem\"},{\"id\":\"e2c9daae-36c0-4679-95e4-73ceb498ef0c\",\"type\":\"LegendItem\"},{\"id\":\"9c1d142c-bef5-4dec-bebe-1fc8a14cd94e\",\"type\":\"LegendItem\"}],\"location\":\"top_center\",\"plot\":{\"id\":\"7c0378f5-7e75-44c5-8999-72ad355944f0\",\"subtype\":\"Figure\",\"type\":\"Plot\"}},\"id\":\"52f0922e-45e6-4022-a05f-7cd02ff46f2b\",\"type\":\"Legend\"},{\"attributes\":{},\"id\":\"bd384ef7-8e9d-4487-8ea3-2a2648e7c636\",\"type\":\"UnionRenderers\"},{\"attributes\":{},\"id\":\"b115bcd7-b2b5-4808-b2b4-7ab097df6eee\",\"type\":\"Selection\"},{\"attributes\":{},\"id\":\"f8c18370-b133-487f-b08e-e858d568a146\",\"type\":\"UnionRenderers\"},{\"attributes\":{},\"id\":\"d1bf77a3-c799-46b4-8616-c73e98a24fe1\",\"type\":\"Selection\"},{\"attributes\":{},\"id\":\"2e4b2dd5-bedb-4bf6-8da1-fb9a3ed1ac8c\",\"type\":\"UnionRenderers\"},{\"attributes\":{},\"id\":\"87a404fd-6e48-4306-ac75-a1a9a1ef842c\",\"type\":\"Selection\"},{\"attributes\":{},\"id\":\"47ef3f32-f063-4652-928d-9c7f61198e4e\",\"type\":\"UnionRenderers\"},{\"attributes\":{},\"id\":\"fa48e5b4-fccd-4a32-8a72-8415481a152b\",\"type\":\"Selection\"},{\"attributes\":{},\"id\":\"1ec5ed29-d467-4cec-bca8-05f6da5cfcd2\",\"type\":\"UnionRenderers\"},{\"attributes\":{},\"id\":\"9ed04428-6299-466d-8a28-1cded3276cc7\",\"type\":\"CategoricalScale\"},{\"attributes\":{},\"id\":\"ef53da03-91eb-4e9f-ae7d-5d522238ac5d\",\"type\":\"Selection\"},{\"attributes\":{},\"id\":\"ce7bec21-deba-4483-8438-b60203f203d8\",\"type\":\"UnionRenderers\"},{\"attributes\":{},\"id\":\"9fb6fb72-44ca-47e5-b52b-b8301dd5da64\",\"type\":\"Selection\"},{\"attributes\":{},\"id\":\"de64ce95-b03f-4102-96ef-416e8290b067\",\"type\":\"UnionRenderers\"},{\"attributes\":{},\"id\":\"e7772a32-63d9-4123-877c-31d3a6af25a0\",\"type\":\"Selection\"},{\"attributes\":{},\"id\":\"58776b19-3574-4a8c-b836-c39567920ad0\",\"type\":\"UnionRenderers\"},{\"attributes\":{\"label\":{\"value\":\"Mean Prediction +/- Std.Dev\"},\"renderers\":[{\"id\":\"c8e0789c-d02e-4a9c-808d-1492b51ad529\",\"type\":\"GlyphRenderer\"}]},\"id\":\"c76d5263-9725-4a73-ab2c-b6767b581e59\",\"type\":\"LegendItem\"},{\"attributes\":{\"callback\":null,\"names\":[\"Whiskers\"],\"renderers\":\"auto\",\"tooltips\":[[\"Dia\",\"@y mm\"]]},\"id\":\"8f3f9d19-5621-44b5-a1d7-83e51a687720\",\"type\":\"HoverTool\"},{\"attributes\":{\"below\":[{\"id\":\"f2f2c3dd-3354-4fb7-a244-71e9a90a6783\",\"type\":\"CategoricalAxis\"}],\"left\":[{\"id\":\"918f8561-722b-463b-a2a3-2c5b4581901c\",\"type\":\"LinearAxis\"}],\"plot_width\":1400,\"renderers\":[{\"id\":\"f2f2c3dd-3354-4fb7-a244-71e9a90a6783\",\"type\":\"CategoricalAxis\"},{\"id\":\"f04b391e-f81b-4211-9d05-bb833c43aa68\",\"type\":\"Grid\"},{\"id\":\"918f8561-722b-463b-a2a3-2c5b4581901c\",\"type\":\"LinearAxis\"},{\"id\":\"840a69ef-afe9-4c05-a81d-8f9d5164298e\",\"type\":\"Grid\"},{\"id\":\"8873b241-c79c-4580-824c-a72773dab632\",\"type\":\"BoxAnnotation\"},{\"id\":\"52f0922e-45e6-4022-a05f-7cd02ff46f2b\",\"type\":\"Legend\"},{\"id\":\"c8e0789c-d02e-4a9c-808d-1492b51ad529\",\"type\":\"GlyphRenderer\"},{\"id\":\"484dbd03-225f-4ef8-8142-670e93d16e9a\",\"type\":\"GlyphRenderer\"},{\"id\":\"96800c6b-368c-4533-bb73-6b25c6923422\",\"type\":\"GlyphRenderer\"},{\"id\":\"f563bc9d-1809-484f-8097-ff63fb64f274\",\"type\":\"GlyphRenderer\"},{\"id\":\"f5aa5418-6a44-4002-8081-429676f434c8\",\"type\":\"GlyphRenderer\"},{\"id\":\"e53fee36-5c00-461a-970f-a3a690c59cbf\",\"type\":\"GlyphRenderer\"},{\"id\":\"1964bacd-3187-4898-9734-0628e667fd1f\",\"type\":\"GlyphRenderer\"},{\"id\":\"b2ce0db0-1ff7-49bc-90e7-4dcfe8cfc381\",\"type\":\"GlyphRenderer\"},{\"id\":\"14add7b7-ebcb-4977-ad8c-bfb0a1c11fed\",\"type\":\"GlyphRenderer\"},{\"id\":\"d7cefd7c-48e8-4b56-858b-3c24096910da\",\"type\":\"GlyphRenderer\"},{\"id\":\"262f4a01-ac5e-4156-9f8e-00ee1e3c85e7\",\"type\":\"GlyphRenderer\"},{\"id\":\"815edf9d-0351-4f2c-abf9-297f10e95a79\",\"type\":\"GlyphRenderer\"},{\"id\":\"3c91250b-ebc1-4a85-9c12-1614c25b9186\",\"type\":\"GlyphRenderer\"},{\"id\":\"3909bc5f-78e7-4880-ab9d-5c3dc8d1f024\",\"type\":\"GlyphRenderer\"},{\"id\":\"6a205cb5-ab24-4056-a2bf-ea407f7faba8\",\"type\":\"GlyphRenderer\"},{\"id\":\"cad39cf0-f380-4bff-af3b-6d2fe9458856\",\"type\":\"GlyphRenderer\"},{\"id\":\"c095e0dc-f1c6-43a2-a248-03a1dc534b49\",\"type\":\"GlyphRenderer\"},{\"id\":\"b1375026-93ac-4af2-931b-a94f55bea85a\",\"type\":\"GlyphRenderer\"},{\"id\":\"d8211529-3b97-41d3-bb11-5ad66590e0c1\",\"type\":\"GlyphRenderer\"},{\"id\":\"f8bbbcd6-d295-45cb-9cd9-83ad75e7bdad\",\"type\":\"GlyphRenderer\"},{\"id\":\"68d3a423-588e-4311-a31a-51b4a9785ba2\",\"type\":\"GlyphRenderer\"},{\"id\":\"f955fb7c-9f2e-4af7-8ef8-8a7a60973d92\",\"type\":\"GlyphRenderer\"},{\"id\":\"f3a5fdfa-4428-4700-aaf6-9a372700dcf8\",\"type\":\"GlyphRenderer\"},{\"id\":\"7609ce14-767d-4739-823a-321b04e151fd\",\"type\":\"GlyphRenderer\"},{\"id\":\"7c4ee748-b6ed-4b00-8f6c-7c625b260822\",\"type\":\"GlyphRenderer\"},{\"id\":\"f1fda9cf-d863-4c6d-a866-1ef06c28a1d7\",\"type\":\"GlyphRenderer\"},{\"id\":\"11f1b089-058c-471e-8052-52e0f066754c\",\"type\":\"GlyphRenderer\"},{\"id\":\"c3148fc2-8730-4add-b8b5-0dc586beb6dd\",\"type\":\"GlyphRenderer\"},{\"id\":\"e650c4fe-07fb-4816-bbf4-67f021fd7355\",\"type\":\"GlyphRenderer\"},{\"id\":\"ad00c99d-d006-4ad3-a66d-b53a2bedbdc2\",\"type\":\"GlyphRenderer\"},{\"id\":\"495d324a-8522-497b-aa7b-4840874b7e8d\",\"type\":\"GlyphRenderer\"},{\"id\":\"bdd747e2-f23a-4b6e-b2d2-e17508bf26ff\",\"type\":\"GlyphRenderer\"},{\"id\":\"50f1dfb5-c941-48a9-b8b3-fdc0ab7e3df1\",\"type\":\"GlyphRenderer\"},{\"id\":\"6f962a60-e328-4039-a936-21c76be84148\",\"type\":\"GlyphRenderer\"},{\"id\":\"e70eca13-1b52-433e-8130-cef3b3417d67\",\"type\":\"GlyphRenderer\"},{\"id\":\"8f238fba-ec66-44ea-b0b3-13e23cbf1ead\",\"type\":\"GlyphRenderer\"},{\"id\":\"a2519f1b-6f71-447c-9e21-53ffe0c2246d\",\"type\":\"GlyphRenderer\"},{\"id\":\"fe7d6859-d32e-411b-91ec-4ab623df4945\",\"type\":\"GlyphRenderer\"}],\"title\":{\"id\":\"746a5f7c-28b2-45af-b7e9-8a6aca4ea1e9\",\"type\":\"Title\"},\"toolbar\":{\"id\":\"cba66d5c-6194-4902-aa74-2c2090cdaf29\",\"type\":\"Toolbar\"},\"x_range\":{\"id\":\"af42bc7b-5ade-4d75-a56e-13b7fab9f24a\",\"type\":\"FactorRange\"},\"x_scale\":{\"id\":\"9ed04428-6299-466d-8a28-1cded3276cc7\",\"type\":\"CategoricalScale\"},\"y_range\":{\"id\":\"7a145e51-3fae-4e27-93f9-4f848c91d340\",\"type\":\"Range1d\"},\"y_scale\":{\"id\":\"dcdc9986-7229-4d52-a78a-7f4e205896fb\",\"type\":\"LinearScale\"}},\"id\":\"7c0378f5-7e75-44c5-8999-72ad355944f0\",\"subtype\":\"Figure\",\"type\":\"Plot\"},{\"attributes\":{\"callback\":null,\"names\":[\"DiaPoints\"],\"renderers\":\"auto\",\"tooltips\":[[\"HoV\",\"@x\"],[\"Dia\",\"@y mm\"]]},\"id\":\"8e830ef5-b87d-4e9a-aa14-2cce48d82824\",\"type\":\"HoverTool\"},{\"attributes\":{\"plot\":null,\"text\":\"BNN MC DropOut - Dia Predictions with Confidence Interval\"},\"id\":\"746a5f7c-28b2-45af-b7e9-8a6aca4ea1e9\",\"type\":\"Title\"},{\"attributes\":{\"active_drag\":\"auto\",\"active_inspect\":\"auto\",\"active_multi\":null,\"active_scroll\":\"auto\",\"active_tap\":\"auto\",\"tools\":[{\"id\":\"1492368e-cde1-46fa-977c-8f5693b015fe\",\"type\":\"PanTool\"},{\"id\":\"bbda48a9-e264-4a29-a159-53534d72f5e2\",\"type\":\"WheelZoomTool\"},{\"id\":\"48fa2663-889b-4715-90f8-3f3273caae23\",\"type\":\"BoxZoomTool\"},{\"id\":\"3c72d5f9-cf19-43a6-a1b1-f65a9dc6b319\",\"type\":\"SaveTool\"},{\"id\":\"0375b098-84e0-4fef-ac91-294bfe86fb1a\",\"type\":\"ResetTool\"},{\"id\":\"13b1a24a-1cef-4e08-96b8-e440d286fd8b\",\"type\":\"HelpTool\"},{\"id\":\"8e830ef5-b87d-4e9a-aa14-2cce48d82824\",\"type\":\"HoverTool\"},{\"id\":\"8f3f9d19-5621-44b5-a1d7-83e51a687720\",\"type\":\"HoverTool\"},{\"id\":\"6b3452a0-07b0-49df-8a5d-7c170499993f\",\"type\":\"HoverTool\"}]},\"id\":\"cba66d5c-6194-4902-aa74-2c2090cdaf29\",\"type\":\"Toolbar\"},{\"attributes\":{\"callback\":null,\"data\":{\"x\":[\"A1\",\"A2\",\"A3\",\"A4\",\"A5\",\"A6\",\"C1\",\"C2\",\"C3\",\"C4\",\"C5\",\"C6\",\"D1\",\"D2\",\"E1\",\"E2\",\"F1\",\"F2\",\"F3\",\"H1\",\"I1\",\"J1\",\"M1\",\"M2\",\"P1\",\"Q1\",\"Q2\",\"S1\",\"S2\",\"S3\",\"S4\",\"S5\",\"T1\",\"T2\"],\"y\":[148,149,152,154,148,148,148,153,152,150,152,154,151,148,148,148,146,146,148,148,152,148,154,154,154,148,148,155,148,150,150,160,148,148]},\"selected\":{\"id\":\"fa3f9cc5-555a-46ce-a95e-a4306c268a80\",\"type\":\"Selection\"},\"selection_policy\":{\"id\":\"09e3b446-6ca2-421b-8428-05a3f8ed7cf0\",\"type\":\"UnionRenderers\"}},\"id\":\"c666ae37-ced9-414e-ac20-d7a2ce630267\",\"type\":\"ColumnDataSource\"},{\"attributes\":{},\"id\":\"6512d031-b480-4acd-9419-cb231e438d62\",\"type\":\"CategoricalTicker\"},{\"attributes\":{\"axis_label\":\"Head of Versions\",\"formatter\":{\"id\":\"3ee1ab0f-d94f-4496-a238-041104bad821\",\"type\":\"CategoricalTickFormatter\"},\"plot\":{\"id\":\"7c0378f5-7e75-44c5-8999-72ad355944f0\",\"subtype\":\"Figure\",\"type\":\"Plot\"},\"ticker\":{\"id\":\"6512d031-b480-4acd-9419-cb231e438d62\",\"type\":\"CategoricalTicker\"}},\"id\":\"f2f2c3dd-3354-4fb7-a244-71e9a90a6783\",\"type\":\"CategoricalAxis\"},{\"attributes\":{\"callback\":null,\"data\":{\"x\":[\"A1\",\"A2\",\"A3\",\"A4\",\"A5\",\"A6\",\"C1\",\"C2\",\"C3\",\"C4\",\"C5\",\"C6\",\"D1\",\"D2\",\"E1\",\"E2\",\"F1\",\"F2\",\"F3\",\"H1\",\"I1\",\"J1\",\"M1\",\"M2\",\"P1\",\"Q1\",\"Q2\",\"S1\",\"S2\",\"S3\",\"S4\",\"S5\",\"T1\",\"T2\"],\"y\":[147.4601276550293,147.70334313964844,152.57540802001952,151.91761940002442,147.91444717407228,148.9410216064453,148.2716453704834,151.89613014221192,151.36993754577637,148.67149407958985,150.26849583435057,153.0716208343506,149.38465394592285,148.30811764526368,147.75713177490235,149.17297521972657,146.91343643188478,146.88077880859376,147.59547434997558,147.06445600891112,149.33490144348144,147.83673170471192,154.03554676818848,152.97437602233887,153.20926568603517,147.9585760498047,148.3189882659912,152.69357565307618,148.18679014587403,149.37595835876465,151.8161474609375,154.21317196655272,146.83084317016602,148.1894887237549]},\"selected\":{\"id\":\"7111c506-6de7-4267-bdb3-cac559383d4b\",\"type\":\"Selection\"},\"selection_policy\":{\"id\":\"baf55c78-036b-4e73-ad93-d4a183975c9e\",\"type\":\"UnionRenderers\"}},\"id\":\"bf37abc9-fc9f-422b-ac40-c0856ee24b78\",\"type\":\"ColumnDataSource\"},{\"attributes\":{\"axis_label\":\"Diameter Predictions (mm)\",\"formatter\":{\"id\":\"798aa613-1d66-4266-b2dd-11d1e85dcbd7\",\"type\":\"BasicTickFormatter\"},\"plot\":{\"id\":\"7c0378f5-7e75-44c5-8999-72ad355944f0\",\"subtype\":\"Figure\",\"type\":\"Plot\"},\"ticker\":{\"id\":\"4e698803-62a3-4bf1-956a-5cf82da93287\",\"type\":\"BasicTicker\"}},\"id\":\"918f8561-722b-463b-a2a3-2c5b4581901c\",\"type\":\"LinearAxis\"},{\"attributes\":{\"plot\":{\"id\":\"7c0378f5-7e75-44c5-8999-72ad355944f0\",\"subtype\":\"Figure\",\"type\":\"Plot\"},\"ticker\":{\"id\":\"6512d031-b480-4acd-9419-cb231e438d62\",\"type\":\"CategoricalTicker\"}},\"id\":\"f04b391e-f81b-4211-9d05-bb833c43aa68\",\"type\":\"Grid\"},{\"attributes\":{\"callback\":null,\"data\":{\"xs\":[[\"A1\",\"A1\"],[\"A2\",\"A2\"],[\"A3\",\"A3\"],[\"A4\",\"A4\"],[\"A5\",\"A5\"],[\"A6\",\"A6\"],[\"C1\",\"C1\"],[\"C2\",\"C2\"],[\"C3\",\"C3\"],[\"C4\",\"C4\"],[\"C5\",\"C5\"],[\"C6\",\"C6\"],[\"D1\",\"D1\"],[\"D2\",\"D2\"],[\"E1\",\"E1\"],[\"E2\",\"E2\"],[\"F1\",\"F1\"],[\"F2\",\"F2\"],[\"F3\",\"F3\"],[\"H1\",\"H1\"],[\"I1\",\"I1\"],[\"J1\",\"J1\"],[\"M1\",\"M1\"],[\"M2\",\"M2\"],[\"P1\",\"P1\"],[\"Q1\",\"Q1\"],[\"Q2\",\"Q2\"],[\"S1\",\"S1\"],[\"S2\",\"S2\"],[\"S3\",\"S3\"],[\"S4\",\"S4\"],[\"S5\",\"S5\"],[\"T1\",\"T1\"],[\"T2\",\"T2\"]],\"ys\":[[146.2541046142578,152.6996307373047],[146.3826446533203,154.04367065429688],[150.5880126953125,155.47113037109375],[149.40487670898438,154.66783142089844],[146.54774475097656,153.07472229003906],[147.13233947753906,154.57901000976562],[146.67941284179688,153.5592803955078],[149.5604248046875,155.25086975097656],[148.89779663085938,154.65223693847656],[146.81509399414062,154.0426483154297],[147.83029174804688,153.96412658691406],[150.17367553710938,155.1548614501953],[147.24147033691406,154.00306701660156],[146.63722229003906,154.0738525390625],[146.41897583007812,154.98980712890625],[147.2540740966797,153.09811401367188],[145.4420623779297,153.8497772216797],[145.70062255859375,154.8241424560547],[146.44488525390625,152.35153198242188],[145.808837890625,153.23812866210938],[147.37521362304688,153.2869415283203],[146.4114990234375,153.816162109375],[151.65072631835938,157.08201599121094],[149.972412109375,156.97067260742188],[150.99147033691406,155.4565887451172],[146.28172302246094,155.16107177734375],[146.72467041015625,153.35948181152344],[150.524169921875,155.7735595703125],[146.40087890625,153.0620880126953],[147.4194793701172,153.6128387451172],[149.26048278808594,155.45001220703125],[151.73191833496094,157.659912109375],[145.3487091064453,153.31503295898438],[146.64251708984375,153.0906982421875]]},\"selected\":{\"id\":\"60a19537-96d0-4c77-94a0-4c5a08f5a181\",\"type\":\"Selection\"},\"selection_policy\":{\"id\":\"e0aa56fb-54db-4c6c-a6ac-36c1c0c45d15\",\"type\":\"UnionRenderers\"}},\"id\":\"08c5547a-c894-41f3-9db6-4851215557a0\",\"type\":\"ColumnDataSource\"},{\"attributes\":{},\"id\":\"4e698803-62a3-4bf1-956a-5cf82da93287\",\"type\":\"BasicTicker\"},{\"attributes\":{\"dimension\":1,\"plot\":{\"id\":\"7c0378f5-7e75-44c5-8999-72ad355944f0\",\"subtype\":\"Figure\",\"type\":\"Plot\"},\"ticker\":{\"id\":\"4e698803-62a3-4bf1-956a-5cf82da93287\",\"type\":\"BasicTicker\"}},\"id\":\"840a69ef-afe9-4c05-a81d-8f9d5164298e\",\"type\":\"Grid\"},{\"attributes\":{\"bottom_units\":\"screen\",\"fill_alpha\":{\"value\":0.5},\"fill_color\":{\"value\":\"lightgrey\"},\"left_units\":\"screen\",\"level\":\"overlay\",\"line_alpha\":{\"value\":1.0},\"line_color\":{\"value\":\"black\"},\"line_dash\":[4,4],\"line_width\":{\"value\":2},\"plot\":null,\"render_mode\":\"css\",\"right_units\":\"screen\",\"top_units\":\"screen\"},\"id\":\"8873b241-c79c-4580-824c-a72773dab632\",\"type\":\"BoxAnnotation\"},{\"attributes\":{\"callback\":null,\"data\":{\"xs\":[[\"A1\",\"A1\"],[\"A2\",\"A2\"],[\"A3\",\"A3\"],[\"A4\",\"A4\"],[\"A5\",\"A5\"],[\"A6\",\"A6\"],[\"C1\",\"C1\"],[\"C2\",\"C2\"],[\"C3\",\"C3\"],[\"C4\",\"C4\"],[\"C5\",\"C5\"],[\"C6\",\"C6\"],[\"D1\",\"D1\"],[\"D2\",\"D2\"],[\"E1\",\"E1\"],[\"E2\",\"E2\"],[\"F1\",\"F1\"],[\"F2\",\"F2\"],[\"F3\",\"F3\"],[\"H1\",\"H1\"],[\"I1\",\"I1\"],[\"J1\",\"J1\"],[\"M1\",\"M1\"],[\"M2\",\"M2\"],[\"P1\",\"P1\"],[\"Q1\",\"Q1\"],[\"Q2\",\"Q2\"],[\"S1\",\"S1\"],[\"S2\",\"S2\"],[\"S3\",\"S3\"],[\"S4\",\"S4\"],[\"S5\",\"S5\"],[\"T1\",\"T1\"],[\"T2\",\"T2\"]],\"ys\":[[146.23495826158646,148.68529704847217],[146.42282595913673,148.98386032016015],[152.08132464580927,153.06949139422977],[151.3508277029208,152.48441109712803],[146.71647772956297,149.1124166185816],[147.94544475423646,149.93659845865415],[147.0713070516183,149.47198368934852],[151.3997703348987,152.39248994952513],[150.81445500987692,151.9254200816758],[147.51843257260015,149.82455558657955],[149.51621287281452,151.02077879588663],[152.56852837424555,153.57471329445565],[148.47125575707378,150.29805213477192],[147.10456761500836,149.511667675519],[146.31817682850587,149.19608672129883],[148.31577480976853,150.0301756296846],[145.31811027480913,148.50876258896042],[145.38178887580412,148.3797687413834],[146.42759338883948,148.76335531111167],[145.845044520058,148.28386749776425],[148.4606013235479,150.20920156341498],[146.53996769476836,149.13349571465548],[153.44516994212873,154.62592359424823],[152.28233342289985,153.6664186217779],[152.72080804073795,153.69772333133238],[146.4155713405206,149.5015807590888],[147.3108473424834,149.327129189499],[152.2200781074327,153.16707319871966],[147.0393971794842,149.33418311226384],[148.48711503844004,150.26480167908926],[151.2688125693505,152.36348235252447],[153.58282925021535,154.8435146828901],[145.36688562900596,148.29480071132608],[147.01534847221959,149.3636289752902]]},\"selected\":{\"id\":\"b51024e5-9a94-47e7-a89a-7010f3f8b0ba\",\"type\":\"Selection\"},\"selection_policy\":{\"id\":\"0b3d9a5d-3aff-40cf-be85-177cf97f078f\",\"type\":\"UnionRenderers\"}},\"id\":\"58583533-df53-488f-b88a-01ba26ae390a\",\"type\":\"ColumnDataSource\"},{\"attributes\":{\"callback\":null,\"names\":[\"LinePlot\"],\"renderers\":\"auto\",\"tooltips\":[[\"Dia\",\"$y mm\"]]},\"id\":\"6b3452a0-07b0-49df-8a5d-7c170499993f\",\"type\":\"HoverTool\"},{\"attributes\":{},\"id\":\"1492368e-cde1-46fa-977c-8f5693b015fe\",\"type\":\"PanTool\"},{\"attributes\":{},\"id\":\"bbda48a9-e264-4a29-a159-53534d72f5e2\",\"type\":\"WheelZoomTool\"},{\"attributes\":{\"overlay\":{\"id\":\"8873b241-c79c-4580-824c-a72773dab632\",\"type\":\"BoxAnnotation\"}},\"id\":\"48fa2663-889b-4715-90f8-3f3273caae23\",\"type\":\"BoxZoomTool\"},{\"attributes\":{},\"id\":\"3c72d5f9-cf19-43a6-a1b1-f65a9dc6b319\",\"type\":\"SaveTool\"},{\"attributes\":{},\"id\":\"0375b098-84e0-4fef-ac91-294bfe86fb1a\",\"type\":\"ResetTool\"},{\"attributes\":{},\"id\":\"13b1a24a-1cef-4e08-96b8-e440d286fd8b\",\"type\":\"HelpTool\"},{\"attributes\":{\"line_color\":{\"value\":\"deepskyblue\"},\"xs\":{\"field\":\"xs\"},\"ys\":{\"field\":\"ys\"}},\"id\":\"643bf5c6-4b35-45c6-91ea-69be704d8ad3\",\"type\":\"MultiLine\"},{\"attributes\":{\"line_alpha\":{\"value\":0.1},\"line_color\":{\"value\":\"#1f77b4\"},\"xs\":{\"field\":\"xs\"},\"ys\":{\"field\":\"ys\"}},\"id\":\"aa09a755-d6a7-4cac-9647-61f26b826698\",\"type\":\"MultiLine\"},{\"attributes\":{\"data_source\":{\"id\":\"08c5547a-c894-41f3-9db6-4851215557a0\",\"type\":\"ColumnDataSource\"},\"glyph\":{\"id\":\"643bf5c6-4b35-45c6-91ea-69be704d8ad3\",\"type\":\"MultiLine\"},\"hover_glyph\":null,\"muted_glyph\":null,\"name\":\"LinePlot\",\"nonselection_glyph\":{\"id\":\"aa09a755-d6a7-4cac-9647-61f26b826698\",\"type\":\"MultiLine\"},\"selection_glyph\":null,\"view\":{\"id\":\"ba11d70a-f808-44a9-851e-69ce894103fc\",\"type\":\"CDSView\"}},\"id\":\"484dbd03-225f-4ef8-8142-670e93d16e9a\",\"type\":\"GlyphRenderer\"},{\"attributes\":{\"source\":{\"id\":\"08c5547a-c894-41f3-9db6-4851215557a0\",\"type\":\"ColumnDataSource\"}},\"id\":\"ba11d70a-f808-44a9-851e-69ce894103fc\",\"type\":\"CDSView\"},{\"attributes\":{},\"id\":\"0b3d9a5d-3aff-40cf-be85-177cf97f078f\",\"type\":\"UnionRenderers\"},{\"attributes\":{},\"id\":\"b51024e5-9a94-47e7-a89a-7010f3f8b0ba\",\"type\":\"Selection\"},{\"attributes\":{\"label\":{\"value\":\"Mean Prediction +/- Min & Max Value\"},\"renderers\":[{\"id\":\"484dbd03-225f-4ef8-8142-670e93d16e9a\",\"type\":\"GlyphRenderer\"}]},\"id\":\"4a3db93f-3cb7-4cc0-b3fc-f87f3cb54e0c\",\"type\":\"LegendItem\"},{\"attributes\":{\"data_source\":{\"id\":\"c666ae37-ced9-414e-ac20-d7a2ce630267\",\"type\":\"ColumnDataSource\"},\"glyph\":{\"id\":\"81aaa4de-a8f1-43b8-a4bb-7f11d0c9b0da\",\"type\":\"Diamond\"},\"hover_glyph\":null,\"muted_glyph\":null,\"name\":\"DiaPoints\",\"nonselection_glyph\":{\"id\":\"0e3e2f3a-d583-4d75-800a-10642aab30b0\",\"type\":\"Diamond\"},\"selection_glyph\":null,\"view\":{\"id\":\"4a1928f0-46e0-4e8b-a217-1a6ddf88e0c6\",\"type\":\"CDSView\"}},\"id\":\"96800c6b-368c-4533-bb73-6b25c6923422\",\"type\":\"GlyphRenderer\"},{\"attributes\":{\"fill_alpha\":{\"value\":0.1},\"fill_color\":{\"value\":\"#1f77b4\"},\"line_alpha\":{\"value\":0.1},\"line_color\":{\"value\":\"#1f77b4\"},\"size\":{\"units\":\"screen\",\"value\":12},\"x\":{\"field\":\"x\"},\"y\":{\"field\":\"y\"}},\"id\":\"0e3e2f3a-d583-4d75-800a-10642aab30b0\",\"type\":\"Diamond\"},{\"attributes\":{\"callback\":null,\"data\":{\"x\":[\"A1\",\"A1\"],\"y\":[146.2541046142578,152.6996307373047]},\"selected\":{\"id\":\"458070e4-937b-45e4-9e40-1d6bd72e78f6\",\"type\":\"Selection\"},\"selection_policy\":{\"id\":\"25c26d9b-adc8-442d-862e-3316b742dbd0\",\"type\":\"UnionRenderers\"}},\"id\":\"abb53345-9b09-4a7d-9aa1-8d283bac293a\",\"type\":\"ColumnDataSource\"},{\"attributes\":{},\"id\":\"293be50a-622a-4b41-9433-2123f9f895db\",\"type\":\"UnionRenderers\"},{\"attributes\":{\"source\":{\"id\":\"c666ae37-ced9-414e-ac20-d7a2ce630267\",\"type\":\"ColumnDataSource\"}},\"id\":\"4a1928f0-46e0-4e8b-a217-1a6ddf88e0c6\",\"type\":\"CDSView\"},{\"attributes\":{},\"id\":\"e0aa56fb-54db-4c6c-a6ac-36c1c0c45d15\",\"type\":\"UnionRenderers\"},{\"attributes\":{},\"id\":\"e39cd63a-10ac-4580-af4e-92978b1f3b4c\",\"type\":\"Selection\"},{\"attributes\":{},\"id\":\"60a19537-96d0-4c77-94a0-4c5a08f5a181\",\"type\":\"Selection\"},{\"attributes\":{},\"id\":\"ec5cd84f-ab9d-4786-8798-b6d7faf4a658\",\"type\":\"UnionRenderers\"},{\"attributes\":{\"label\":{\"value\":\"True Dia\"},\"renderers\":[{\"id\":\"96800c6b-368c-4533-bb73-6b25c6923422\",\"type\":\"GlyphRenderer\"}]},\"id\":\"e2c9daae-36c0-4679-95e4-73ceb498ef0c\",\"type\":\"LegendItem\"},{\"attributes\":{},\"id\":\"3f353038-6768-42d0-bf35-7883184fead6\",\"type\":\"Selection\"},{\"attributes\":{\"callback\":null,\"end\":175,\"start\":135},\"id\":\"7a145e51-3fae-4e27-93f9-4f848c91d340\",\"type\":\"Range1d\"},{\"attributes\":{},\"id\":\"7f00ff87-1b9e-43f5-93d8-cae9b1cd8a4f\",\"type\":\"UnionRenderers\"},{\"attributes\":{\"fill_color\":{\"value\":\"blue\"},\"line_alpha\":{\"value\":0},\"line_color\":{\"value\":\"blue\"},\"size\":{\"units\":\"screen\",\"value\":9},\"x\":{\"field\":\"x\"},\"y\":{\"field\":\"y\"}},\"id\":\"94b2ef96-6739-4bc9-adf3-b78f89d816f2\",\"type\":\"Circle\"},{\"attributes\":{},\"id\":\"47e4b91e-787c-4efd-850f-f2eba7f89803\",\"type\":\"Selection\"},{\"attributes\":{\"fill_alpha\":{\"value\":0.1},\"fill_color\":{\"value\":\"#1f77b4\"},\"line_alpha\":{\"value\":0.1},\"line_color\":{\"value\":\"#1f77b4\"},\"size\":{\"units\":\"screen\",\"value\":9},\"x\":{\"field\":\"x\"},\"y\":{\"field\":\"y\"}},\"id\":\"1f2e9093-1d8b-412b-8bcf-c3fee400d62e\",\"type\":\"Circle\"},{\"attributes\":{},\"id\":\"92361747-5ce5-4fa3-9d9e-c7de8560ca0c\",\"type\":\"UnionRenderers\"},{\"attributes\":{\"data_source\":{\"id\":\"bf37abc9-fc9f-422b-ac40-c0856ee24b78\",\"type\":\"ColumnDataSource\"},\"glyph\":{\"id\":\"94b2ef96-6739-4bc9-adf3-b78f89d816f2\",\"type\":\"Circle\"},\"hover_glyph\":null,\"muted_glyph\":null,\"name\":\"DiaPoints\",\"nonselection_glyph\":{\"id\":\"1f2e9093-1d8b-412b-8bcf-c3fee400d62e\",\"type\":\"Circle\"},\"selection_glyph\":null,\"view\":{\"id\":\"35186dd7-82ec-4cf0-8dbd-4234e837b7a7\",\"type\":\"CDSView\"}},\"id\":\"f563bc9d-1809-484f-8097-ff63fb64f274\",\"type\":\"GlyphRenderer\"},{\"attributes\":{},\"id\":\"76b32233-d588-41d9-83cc-6f9cd87109aa\",\"type\":\"Selection\"},{\"attributes\":{\"source\":{\"id\":\"bf37abc9-fc9f-422b-ac40-c0856ee24b78\",\"type\":\"ColumnDataSource\"}},\"id\":\"35186dd7-82ec-4cf0-8dbd-4234e837b7a7\",\"type\":\"CDSView\"},{\"attributes\":{},\"id\":\"c9f9e714-e70d-4d3b-aaa3-9d918789c33e\",\"type\":\"UnionRenderers\"},{\"attributes\":{},\"id\":\"09e3b446-6ca2-421b-8428-05a3f8ed7cf0\",\"type\":\"UnionRenderers\"},{\"attributes\":{},\"id\":\"9ea675b4-772c-42ce-84f6-c5ae36db7fd2\",\"type\":\"Selection\"},{\"attributes\":{},\"id\":\"fa3f9cc5-555a-46ce-a95e-a4306c268a80\",\"type\":\"Selection\"},{\"attributes\":{},\"id\":\"d0a09558-1ee2-420b-92a7-5d42cb0c6d3e\",\"type\":\"UnionRenderers\"},{\"attributes\":{\"label\":{\"value\":\"Predicted Dia (Mean)\"},\"renderers\":[{\"id\":\"f563bc9d-1809-484f-8097-ff63fb64f274\",\"type\":\"GlyphRenderer\"}]},\"id\":\"9c1d142c-bef5-4dec-bebe-1fc8a14cd94e\",\"type\":\"LegendItem\"},{\"attributes\":{},\"id\":\"15b4025c-e85e-42e6-8a77-3e566324091a\",\"type\":\"Selection\"},{\"attributes\":{\"source\":{\"id\":\"1cdcbe44-148b-4eee-974e-7244bf44fae8\",\"type\":\"ColumnDataSource\"}},\"id\":\"949b038b-771a-40cc-8107-662f1f4a1753\",\"type\":\"CDSView\"},{\"attributes\":{},\"id\":\"560cc9e0-d918-4330-9d12-9fb1fbafe380\",\"type\":\"UnionRenderers\"},{\"attributes\":{\"line_color\":{\"value\":\"blue\"},\"line_width\":{\"value\":3},\"xs\":{\"field\":\"xs\"},\"ys\":{\"field\":\"ys\"}},\"id\":\"e2c205e4-adb1-40fd-aae1-8581d05a5256\",\"type\":\"MultiLine\"},{\"attributes\":{\"fill_color\":{\"value\":\"#1f77b4\"},\"height\":{\"units\":\"data\",\"value\":0.001},\"line_color\":{\"value\":\"deepskyblue\"},\"width\":{\"units\":\"data\",\"value\":0.2},\"x\":{\"field\":\"x\"},\"y\":{\"field\":\"y\"}},\"id\":\"8ea1a9fa-e3c9-435e-92bc-052d537175d4\",\"type\":\"Rect\"},{\"attributes\":{},\"id\":\"de6e9ff0-d360-4e85-9427-9fed13293703\",\"type\":\"Selection\"},{\"attributes\":{\"fill_alpha\":{\"value\":0.1},\"fill_color\":{\"value\":\"#1f77b4\"},\"height\":{\"units\":\"data\",\"value\":0.001},\"line_alpha\":{\"value\":0.1},\"line_color\":{\"value\":\"#1f77b4\"},\"width\":{\"units\":\"data\",\"value\":0.2},\"x\":{\"field\":\"x\"},\"y\":{\"field\":\"y\"}},\"id\":\"73450fc6-ae16-4a30-8961-842fb4a0d59d\",\"type\":\"Rect\"},{\"attributes\":{},\"id\":\"d13046c9-3d92-45df-994a-4920c0b459be\",\"type\":\"UnionRenderers\"},{\"attributes\":{\"data_source\":{\"id\":\"abb53345-9b09-4a7d-9aa1-8d283bac293a\",\"type\":\"ColumnDataSource\"},\"glyph\":{\"id\":\"8ea1a9fa-e3c9-435e-92bc-052d537175d4\",\"type\":\"Rect\"},\"hover_glyph\":null,\"muted_glyph\":null,\"name\":\"Whiskers\",\"nonselection_glyph\":{\"id\":\"73450fc6-ae16-4a30-8961-842fb4a0d59d\",\"type\":\"Rect\"},\"selection_glyph\":null,\"view\":{\"id\":\"76249d45-d707-4202-98fc-efdda1731ab0\",\"type\":\"CDSView\"}},\"id\":\"f5aa5418-6a44-4002-8081-429676f434c8\",\"type\":\"GlyphRenderer\"},{\"attributes\":{},\"id\":\"a0b15b75-0c7b-4797-890a-8fe529a75e45\",\"type\":\"Selection\"},{\"attributes\":{\"source\":{\"id\":\"abb53345-9b09-4a7d-9aa1-8d283bac293a\",\"type\":\"ColumnDataSource\"}},\"id\":\"76249d45-d707-4202-98fc-efdda1731ab0\",\"type\":\"CDSView\"},{\"attributes\":{},\"id\":\"3f9f9f7e-3f6b-4d0c-b99b-2c7ae4ffae3d\",\"type\":\"UnionRenderers\"},{\"attributes\":{\"callback\":null,\"data\":{\"x\":[\"A2\",\"A2\"],\"y\":[146.3826446533203,154.04367065429688]},\"selected\":{\"id\":\"08db5562-c482-4baa-9558-166812618912\",\"type\":\"Selection\"},\"selection_policy\":{\"id\":\"4938a7f4-20a5-491f-9c57-717e33561cfd\",\"type\":\"UnionRenderers\"}},\"id\":\"2d8e5e4d-245b-40bd-b887-73486640b73f\",\"type\":\"ColumnDataSource\"},{\"attributes\":{},\"id\":\"9aeb3d38-a497-4ddf-bd0a-286583afc2aa\",\"type\":\"Selection\"},{\"attributes\":{\"fill_color\":{\"value\":\"#1f77b4\"},\"height\":{\"units\":\"data\",\"value\":0.001},\"line_color\":{\"value\":\"deepskyblue\"},\"width\":{\"units\":\"data\",\"value\":0.2},\"x\":{\"field\":\"x\"},\"y\":{\"field\":\"y\"}},\"id\":\"60f0f9a4-baf3-4e6c-b12a-9084b81f2a12\",\"type\":\"Rect\"},{\"attributes\":{},\"id\":\"fbe2c873-a8f3-428a-975a-5daf04aaa5b6\",\"type\":\"UnionRenderers\"},{\"attributes\":{},\"id\":\"3ee1ab0f-d94f-4496-a238-041104bad821\",\"type\":\"CategoricalTickFormatter\"},{\"attributes\":{\"fill_alpha\":{\"value\":0.1},\"fill_color\":{\"value\":\"#1f77b4\"},\"height\":{\"units\":\"data\",\"value\":0.001},\"line_alpha\":{\"value\":0.1},\"line_color\":{\"value\":\"#1f77b4\"},\"width\":{\"units\":\"data\",\"value\":0.2},\"x\":{\"field\":\"x\"},\"y\":{\"field\":\"y\"}},\"id\":\"ccf90816-b52b-4d57-bf48-9f6c90990e9d\",\"type\":\"Rect\"},{\"attributes\":{},\"id\":\"6d777a9b-8c8c-4f94-885d-a97be53199f0\",\"type\":\"Selection\"},{\"attributes\":{\"data_source\":{\"id\":\"2d8e5e4d-245b-40bd-b887-73486640b73f\",\"type\":\"ColumnDataSource\"},\"glyph\":{\"id\":\"60f0f9a4-baf3-4e6c-b12a-9084b81f2a12\",\"type\":\"Rect\"},\"hover_glyph\":null,\"muted_glyph\":null,\"name\":\"Whiskers\",\"nonselection_glyph\":{\"id\":\"ccf90816-b52b-4d57-bf48-9f6c90990e9d\",\"type\":\"Rect\"},\"selection_glyph\":null,\"view\":{\"id\":\"5ac5dc00-b201-449d-adc9-94bbb1d7709e\",\"type\":\"CDSView\"}},\"id\":\"e53fee36-5c00-461a-970f-a3a690c59cbf\",\"type\":\"GlyphRenderer\"},{\"attributes\":{},\"id\":\"798aa613-1d66-4266-b2dd-11d1e85dcbd7\",\"type\":\"BasicTickFormatter\"},{\"attributes\":{},\"id\":\"6b7dea8e-c5da-44c1-9595-0de9ae85b3fe\",\"type\":\"UnionRenderers\"},{\"attributes\":{\"source\":{\"id\":\"2d8e5e4d-245b-40bd-b887-73486640b73f\",\"type\":\"ColumnDataSource\"}},\"id\":\"5ac5dc00-b201-449d-adc9-94bbb1d7709e\",\"type\":\"CDSView\"},{\"attributes\":{},\"id\":\"b258d88c-c7f0-4da2-b4ce-40fb86090633\",\"type\":\"Selection\"},{\"attributes\":{\"callback\":null,\"data\":{\"x\":[\"A3\",\"A3\"],\"y\":[150.5880126953125,155.47113037109375]},\"selected\":{\"id\":\"78d72edd-fde7-4c45-9614-6a0767ca9195\",\"type\":\"Selection\"},\"selection_policy\":{\"id\":\"a088fdeb-79df-4405-b88f-9a9e09880bdd\",\"type\":\"UnionRenderers\"}},\"id\":\"ce170ff6-fc6f-4333-8253-f3739a896cf1\",\"type\":\"ColumnDataSource\"},{\"attributes\":{},\"id\":\"b964d311-2ba1-4d08-a9ea-c5d2c37aa188\",\"type\":\"UnionRenderers\"},{\"attributes\":{\"fill_color\":{\"value\":\"#1f77b4\"},\"height\":{\"units\":\"data\",\"value\":0.001},\"line_color\":{\"value\":\"deepskyblue\"},\"width\":{\"units\":\"data\",\"value\":0.2},\"x\":{\"field\":\"x\"},\"y\":{\"field\":\"y\"}},\"id\":\"adf10512-4271-426b-802d-c653ecfe73b3\",\"type\":\"Rect\"},{\"attributes\":{},\"id\":\"a96944dd-4ff5-4401-8dcb-ae0e1d213621\",\"type\":\"Selection\"},{\"attributes\":{\"fill_alpha\":{\"value\":0.1},\"fill_color\":{\"value\":\"#1f77b4\"},\"height\":{\"units\":\"data\",\"value\":0.001},\"line_alpha\":{\"value\":0.1},\"line_color\":{\"value\":\"#1f77b4\"},\"width\":{\"units\":\"data\",\"value\":0.2},\"x\":{\"field\":\"x\"},\"y\":{\"field\":\"y\"}},\"id\":\"f18f8fcd-4e33-47ad-93f9-a8026f8c9bb3\",\"type\":\"Rect\"},{\"attributes\":{},\"id\":\"632f125b-4ca5-42ec-8df1-079fe414c5f5\",\"type\":\"UnionRenderers\"},{\"attributes\":{\"data_source\":{\"id\":\"ce170ff6-fc6f-4333-8253-f3739a896cf1\",\"type\":\"ColumnDataSource\"},\"glyph\":{\"id\":\"adf10512-4271-426b-802d-c653ecfe73b3\",\"type\":\"Rect\"},\"hover_glyph\":null,\"muted_glyph\":null,\"name\":\"Whiskers\",\"nonselection_glyph\":{\"id\":\"f18f8fcd-4e33-47ad-93f9-a8026f8c9bb3\",\"type\":\"Rect\"},\"selection_glyph\":null,\"view\":{\"id\":\"5f455323-1bb1-48e0-bede-a3ca4ec5fcf0\",\"type\":\"CDSView\"}},\"id\":\"1964bacd-3187-4898-9734-0628e667fd1f\",\"type\":\"GlyphRenderer\"},{\"attributes\":{},\"id\":\"5f9b1350-46e8-4dc4-90f7-eb1395048815\",\"type\":\"Selection\"},{\"attributes\":{\"source\":{\"id\":\"ce170ff6-fc6f-4333-8253-f3739a896cf1\",\"type\":\"ColumnDataSource\"}},\"id\":\"5f455323-1bb1-48e0-bede-a3ca4ec5fcf0\",\"type\":\"CDSView\"},{\"attributes\":{},\"id\":\"acb40274-4fe4-4eec-becb-50f205ff9198\",\"type\":\"UnionRenderers\"},{\"attributes\":{\"callback\":null,\"data\":{\"x\":[\"A4\",\"A4\"],\"y\":[149.40487670898438,154.66783142089844]},\"selected\":{\"id\":\"38f71feb-3d57-417a-aca6-c69f2809914d\",\"type\":\"Selection\"},\"selection_policy\":{\"id\":\"0bb93eda-ba8d-4530-9cc6-8b9b1ef45ead\",\"type\":\"UnionRenderers\"}},\"id\":\"638f6655-36f7-48cf-8b8b-be7658a8517b\",\"type\":\"ColumnDataSource\"},{\"attributes\":{},\"id\":\"5a74cd03-7d3f-48a9-b894-ea1791ea9bea\",\"type\":\"Selection\"},{\"attributes\":{\"fill_color\":{\"value\":\"#1f77b4\"},\"height\":{\"units\":\"data\",\"value\":0.001},\"line_color\":{\"value\":\"deepskyblue\"},\"width\":{\"units\":\"data\",\"value\":0.2},\"x\":{\"field\":\"x\"},\"y\":{\"field\":\"y\"}},\"id\":\"714ad3d6-c4ad-4159-bf57-ea35cdf38bc5\",\"type\":\"Rect\"},{\"attributes\":{},\"id\":\"06d68924-9ae5-40b6-acfb-e10224da17bb\",\"type\":\"UnionRenderers\"},{\"attributes\":{\"fill_alpha\":{\"value\":0.1},\"fill_color\":{\"value\":\"#1f77b4\"},\"height\":{\"units\":\"data\",\"value\":0.001},\"line_alpha\":{\"value\":0.1},\"line_color\":{\"value\":\"#1f77b4\"},\"width\":{\"units\":\"data\",\"value\":0.2},\"x\":{\"field\":\"x\"},\"y\":{\"field\":\"y\"}},\"id\":\"640b2545-775a-4a65-8a28-c956c13802d0\",\"type\":\"Rect\"},{\"attributes\":{},\"id\":\"e225a8d5-039c-497c-b38c-0fce8f152a7a\",\"type\":\"Selection\"},{\"attributes\":{\"data_source\":{\"id\":\"638f6655-36f7-48cf-8b8b-be7658a8517b\",\"type\":\"ColumnDataSource\"},\"glyph\":{\"id\":\"714ad3d6-c4ad-4159-bf57-ea35cdf38bc5\",\"type\":\"Rect\"},\"hover_glyph\":null,\"muted_glyph\":null,\"name\":\"Whiskers\",\"nonselection_glyph\":{\"id\":\"640b2545-775a-4a65-8a28-c956c13802d0\",\"type\":\"Rect\"},\"selection_glyph\":null,\"view\":{\"id\":\"f38c8b3a-bb2c-4823-ae3a-040c10decfae\",\"type\":\"CDSView\"}},\"id\":\"b2ce0db0-1ff7-49bc-90e7-4dcfe8cfc381\",\"type\":\"GlyphRenderer\"},{\"attributes\":{},\"id\":\"ee3fb417-9cbe-434e-9324-7f7332716a0a\",\"type\":\"UnionRenderers\"},{\"attributes\":{\"source\":{\"id\":\"638f6655-36f7-48cf-8b8b-be7658a8517b\",\"type\":\"ColumnDataSource\"}},\"id\":\"f38c8b3a-bb2c-4823-ae3a-040c10decfae\",\"type\":\"CDSView\"},{\"attributes\":{},\"id\":\"088c7cb1-5103-4493-a30a-37c40d293701\",\"type\":\"Selection\"},{\"attributes\":{\"callback\":null,\"data\":{\"x\":[\"A5\",\"A5\"],\"y\":[146.54774475097656,153.07472229003906]},\"selected\":{\"id\":\"59423192-ce52-4368-8ecb-17b4c058a0f4\",\"type\":\"Selection\"},\"selection_policy\":{\"id\":\"9b04710a-1ae6-4ce8-897e-7d6a8ae7bbfe\",\"type\":\"UnionRenderers\"}},\"id\":\"a04ad9b8-ab38-49e7-a6af-ee5761df437b\",\"type\":\"ColumnDataSource\"},{\"attributes\":{},\"id\":\"a14b739f-ac2f-4127-8192-5342ee2d480b\",\"type\":\"UnionRenderers\"},{\"attributes\":{\"fill_color\":{\"value\":\"#1f77b4\"},\"height\":{\"units\":\"data\",\"value\":0.001},\"line_color\":{\"value\":\"deepskyblue\"},\"width\":{\"units\":\"data\",\"value\":0.2},\"x\":{\"field\":\"x\"},\"y\":{\"field\":\"y\"}},\"id\":\"49f2caab-4e06-4cd1-ad78-22ef496c0554\",\"type\":\"Rect\"},{\"attributes\":{},\"id\":\"212f7ec6-5892-478d-a492-0dc940ecfef1\",\"type\":\"Selection\"},{\"attributes\":{\"fill_alpha\":{\"value\":0.1},\"fill_color\":{\"value\":\"#1f77b4\"},\"height\":{\"units\":\"data\",\"value\":0.001},\"line_alpha\":{\"value\":0.1},\"line_color\":{\"value\":\"#1f77b4\"},\"width\":{\"units\":\"data\",\"value\":0.2},\"x\":{\"field\":\"x\"},\"y\":{\"field\":\"y\"}},\"id\":\"6f4ca6a4-fdc6-4d03-b5f4-53798d4ecd57\",\"type\":\"Rect\"},{\"attributes\":{},\"id\":\"0861c819-01fe-486a-99ed-9902f7ed02f0\",\"type\":\"UnionRenderers\"},{\"attributes\":{\"data_source\":{\"id\":\"a04ad9b8-ab38-49e7-a6af-ee5761df437b\",\"type\":\"ColumnDataSource\"},\"glyph\":{\"id\":\"49f2caab-4e06-4cd1-ad78-22ef496c0554\",\"type\":\"Rect\"},\"hover_glyph\":null,\"muted_glyph\":null,\"name\":\"Whiskers\",\"nonselection_glyph\":{\"id\":\"6f4ca6a4-fdc6-4d03-b5f4-53798d4ecd57\",\"type\":\"Rect\"},\"selection_glyph\":null,\"view\":{\"id\":\"36560a2a-5843-49fc-8a2d-165f550c70b1\",\"type\":\"CDSView\"}},\"id\":\"14add7b7-ebcb-4977-ad8c-bfb0a1c11fed\",\"type\":\"GlyphRenderer\"},{\"attributes\":{},\"id\":\"e03787e1-fa69-4b1a-87f1-59fd3bf7b14b\",\"type\":\"Selection\"},{\"attributes\":{\"source\":{\"id\":\"a04ad9b8-ab38-49e7-a6af-ee5761df437b\",\"type\":\"ColumnDataSource\"}},\"id\":\"36560a2a-5843-49fc-8a2d-165f550c70b1\",\"type\":\"CDSView\"},{\"attributes\":{},\"id\":\"bbbdf525-4f22-436d-b386-7c7947345436\",\"type\":\"UnionRenderers\"},{\"attributes\":{\"callback\":null,\"data\":{\"x\":[\"A6\",\"A6\"],\"y\":[147.13233947753906,154.57901000976562]},\"selected\":{\"id\":\"f4373338-b750-4ac7-a8c1-90e63480582e\",\"type\":\"Selection\"},\"selection_policy\":{\"id\":\"afd454f1-bf81-44ad-b8c0-6cbfc465fadb\",\"type\":\"UnionRenderers\"}},\"id\":\"3873946f-5ec1-423a-a232-1edba4554b95\",\"type\":\"ColumnDataSource\"},{\"attributes\":{},\"id\":\"fff3b7b1-4b95-40a9-925a-d2603b6c119c\",\"type\":\"Selection\"},{\"attributes\":{\"fill_color\":{\"value\":\"#1f77b4\"},\"height\":{\"units\":\"data\",\"value\":0.001},\"line_color\":{\"value\":\"deepskyblue\"},\"width\":{\"units\":\"data\",\"value\":0.2},\"x\":{\"field\":\"x\"},\"y\":{\"field\":\"y\"}},\"id\":\"93bd5b4e-cc6e-4885-ae9b-aa29fc3744b9\",\"type\":\"Rect\"},{\"attributes\":{\"fill_alpha\":{\"value\":0.1},\"fill_color\":{\"value\":\"#1f77b4\"},\"height\":{\"units\":\"data\",\"value\":0.001},\"line_alpha\":{\"value\":0.1},\"line_color\":{\"value\":\"#1f77b4\"},\"width\":{\"units\":\"data\",\"value\":0.2},\"x\":{\"field\":\"x\"},\"y\":{\"field\":\"y\"}},\"id\":\"44b532f8-f415-4b41-95dc-f676d4b421a0\",\"type\":\"Rect\"},{\"attributes\":{\"data_source\":{\"id\":\"3873946f-5ec1-423a-a232-1edba4554b95\",\"type\":\"ColumnDataSource\"},\"glyph\":{\"id\":\"93bd5b4e-cc6e-4885-ae9b-aa29fc3744b9\",\"type\":\"Rect\"},\"hover_glyph\":null,\"muted_glyph\":null,\"name\":\"Whiskers\",\"nonselection_glyph\":{\"id\":\"44b532f8-f415-4b41-95dc-f676d4b421a0\",\"type\":\"Rect\"},\"selection_glyph\":null,\"view\":{\"id\":\"0357142a-3c7a-4051-a18b-eefc8963c577\",\"type\":\"CDSView\"}},\"id\":\"d7cefd7c-48e8-4b56-858b-3c24096910da\",\"type\":\"GlyphRenderer\"},{\"attributes\":{\"source\":{\"id\":\"3873946f-5ec1-423a-a232-1edba4554b95\",\"type\":\"ColumnDataSource\"}},\"id\":\"0357142a-3c7a-4051-a18b-eefc8963c577\",\"type\":\"CDSView\"},{\"attributes\":{\"callback\":null,\"data\":{\"x\":[\"C1\",\"C1\"],\"y\":[146.67941284179688,153.5592803955078]},\"selected\":{\"id\":\"02208e02-8620-48fd-ad64-ae58986181d4\",\"type\":\"Selection\"},\"selection_policy\":{\"id\":\"1d2a7fc7-ed76-4b13-ba7a-774754e54fcd\",\"type\":\"UnionRenderers\"}},\"id\":\"0d5d277e-5b71-4427-a543-675f62e2d30d\",\"type\":\"ColumnDataSource\"},{\"attributes\":{\"fill_color\":{\"value\":\"#1f77b4\"},\"height\":{\"units\":\"data\",\"value\":0.001},\"line_color\":{\"value\":\"deepskyblue\"},\"width\":{\"units\":\"data\",\"value\":0.2},\"x\":{\"field\":\"x\"},\"y\":{\"field\":\"y\"}},\"id\":\"aa09d458-0299-40fa-a47e-e3ac7efc6a15\",\"type\":\"Rect\"},{\"attributes\":{\"fill_alpha\":{\"value\":0.1},\"fill_color\":{\"value\":\"#1f77b4\"},\"height\":{\"units\":\"data\",\"value\":0.001},\"line_alpha\":{\"value\":0.1},\"line_color\":{\"value\":\"#1f77b4\"},\"width\":{\"units\":\"data\",\"value\":0.2},\"x\":{\"field\":\"x\"},\"y\":{\"field\":\"y\"}},\"id\":\"156069f6-6800-44d5-9666-7c5fd4eda5e3\",\"type\":\"Rect\"},{\"attributes\":{\"data_source\":{\"id\":\"0d5d277e-5b71-4427-a543-675f62e2d30d\",\"type\":\"ColumnDataSource\"},\"glyph\":{\"id\":\"aa09d458-0299-40fa-a47e-e3ac7efc6a15\",\"type\":\"Rect\"},\"hover_glyph\":null,\"muted_glyph\":null,\"name\":\"Whiskers\",\"nonselection_glyph\":{\"id\":\"156069f6-6800-44d5-9666-7c5fd4eda5e3\",\"type\":\"Rect\"},\"selection_glyph\":null,\"view\":{\"id\":\"95693fa3-af50-4075-94d1-2642b6f65e7f\",\"type\":\"CDSView\"}},\"id\":\"262f4a01-ac5e-4156-9f8e-00ee1e3c85e7\",\"type\":\"GlyphRenderer\"},{\"attributes\":{\"source\":{\"id\":\"0d5d277e-5b71-4427-a543-675f62e2d30d\",\"type\":\"ColumnDataSource\"}},\"id\":\"95693fa3-af50-4075-94d1-2642b6f65e7f\",\"type\":\"CDSView\"},{\"attributes\":{\"callback\":null,\"data\":{\"x\":[\"C2\",\"C2\"],\"y\":[149.5604248046875,155.25086975097656]},\"selected\":{\"id\":\"b115bcd7-b2b5-4808-b2b4-7ab097df6eee\",\"type\":\"Selection\"},\"selection_policy\":{\"id\":\"bd384ef7-8e9d-4487-8ea3-2a2648e7c636\",\"type\":\"UnionRenderers\"}},\"id\":\"7ff834d5-d0ee-4d14-896a-aac0620e1a85\",\"type\":\"ColumnDataSource\"},{\"attributes\":{\"fill_color\":{\"value\":\"#1f77b4\"},\"height\":{\"units\":\"data\",\"value\":0.001},\"line_color\":{\"value\":\"deepskyblue\"},\"width\":{\"units\":\"data\",\"value\":0.2},\"x\":{\"field\":\"x\"},\"y\":{\"field\":\"y\"}},\"id\":\"87ee0e18-7d7a-4ee6-b90a-eb0123c35faf\",\"type\":\"Rect\"},{\"attributes\":{\"fill_alpha\":{\"value\":0.1},\"fill_color\":{\"value\":\"#1f77b4\"},\"height\":{\"units\":\"data\",\"value\":0.001},\"line_alpha\":{\"value\":0.1},\"line_color\":{\"value\":\"#1f77b4\"},\"width\":{\"units\":\"data\",\"value\":0.2},\"x\":{\"field\":\"x\"},\"y\":{\"field\":\"y\"}},\"id\":\"439ad602-fd27-4914-8dbf-86fb501fb9bc\",\"type\":\"Rect\"},{\"attributes\":{\"data_source\":{\"id\":\"7ff834d5-d0ee-4d14-896a-aac0620e1a85\",\"type\":\"ColumnDataSource\"},\"glyph\":{\"id\":\"87ee0e18-7d7a-4ee6-b90a-eb0123c35faf\",\"type\":\"Rect\"},\"hover_glyph\":null,\"muted_glyph\":null,\"name\":\"Whiskers\",\"nonselection_glyph\":{\"id\":\"439ad602-fd27-4914-8dbf-86fb501fb9bc\",\"type\":\"Rect\"},\"selection_glyph\":null,\"view\":{\"id\":\"cfdf18a4-949c-473a-932d-dd3666ac8f2e\",\"type\":\"CDSView\"}},\"id\":\"815edf9d-0351-4f2c-abf9-297f10e95a79\",\"type\":\"GlyphRenderer\"},{\"attributes\":{\"source\":{\"id\":\"7ff834d5-d0ee-4d14-896a-aac0620e1a85\",\"type\":\"ColumnDataSource\"}},\"id\":\"cfdf18a4-949c-473a-932d-dd3666ac8f2e\",\"type\":\"CDSView\"},{\"attributes\":{\"callback\":null,\"data\":{\"x\":[\"C3\",\"C3\"],\"y\":[148.89779663085938,154.65223693847656]},\"selected\":{\"id\":\"d1bf77a3-c799-46b4-8616-c73e98a24fe1\",\"type\":\"Selection\"},\"selection_policy\":{\"id\":\"f8c18370-b133-487f-b08e-e858d568a146\",\"type\":\"UnionRenderers\"}},\"id\":\"10a03d17-6cf9-47db-a031-36b4c21df6de\",\"type\":\"ColumnDataSource\"},{\"attributes\":{\"fill_color\":{\"value\":\"#1f77b4\"},\"height\":{\"units\":\"data\",\"value\":0.001},\"line_color\":{\"value\":\"deepskyblue\"},\"width\":{\"units\":\"data\",\"value\":0.2},\"x\":{\"field\":\"x\"},\"y\":{\"field\":\"y\"}},\"id\":\"3f6a9956-95b8-493f-ad45-ad9c7e1c7dc2\",\"type\":\"Rect\"},{\"attributes\":{\"fill_alpha\":{\"value\":0.1},\"fill_color\":{\"value\":\"#1f77b4\"},\"height\":{\"units\":\"data\",\"value\":0.001},\"line_alpha\":{\"value\":0.1},\"line_color\":{\"value\":\"#1f77b4\"},\"width\":{\"units\":\"data\",\"value\":0.2},\"x\":{\"field\":\"x\"},\"y\":{\"field\":\"y\"}},\"id\":\"8fdae2bd-8dee-41da-a51f-59321ba29f18\",\"type\":\"Rect\"},{\"attributes\":{\"data_source\":{\"id\":\"10a03d17-6cf9-47db-a031-36b4c21df6de\",\"type\":\"ColumnDataSource\"},\"glyph\":{\"id\":\"3f6a9956-95b8-493f-ad45-ad9c7e1c7dc2\",\"type\":\"Rect\"},\"hover_glyph\":null,\"muted_glyph\":null,\"name\":\"Whiskers\",\"nonselection_glyph\":{\"id\":\"8fdae2bd-8dee-41da-a51f-59321ba29f18\",\"type\":\"Rect\"},\"selection_glyph\":null,\"view\":{\"id\":\"0a008918-1e51-4a60-b584-0a39a0b2f95e\",\"type\":\"CDSView\"}},\"id\":\"3c91250b-ebc1-4a85-9c12-1614c25b9186\",\"type\":\"GlyphRenderer\"},{\"attributes\":{\"source\":{\"id\":\"10a03d17-6cf9-47db-a031-36b4c21df6de\",\"type\":\"ColumnDataSource\"}},\"id\":\"0a008918-1e51-4a60-b584-0a39a0b2f95e\",\"type\":\"CDSView\"},{\"attributes\":{\"callback\":null,\"data\":{\"x\":[\"C4\",\"C4\"],\"y\":[146.81509399414062,154.0426483154297]},\"selected\":{\"id\":\"87a404fd-6e48-4306-ac75-a1a9a1ef842c\",\"type\":\"Selection\"},\"selection_policy\":{\"id\":\"2e4b2dd5-bedb-4bf6-8da1-fb9a3ed1ac8c\",\"type\":\"UnionRenderers\"}},\"id\":\"2479636a-11e1-4338-a2f2-b3d4c3ae0ed6\",\"type\":\"ColumnDataSource\"},{\"attributes\":{\"fill_color\":{\"value\":\"#1f77b4\"},\"height\":{\"units\":\"data\",\"value\":0.001},\"line_color\":{\"value\":\"deepskyblue\"},\"width\":{\"units\":\"data\",\"value\":0.2},\"x\":{\"field\":\"x\"},\"y\":{\"field\":\"y\"}},\"id\":\"13903567-2a8d-4f62-ae51-b8f18f24a3f2\",\"type\":\"Rect\"},{\"attributes\":{\"fill_alpha\":{\"value\":0.1},\"fill_color\":{\"value\":\"#1f77b4\"},\"height\":{\"units\":\"data\",\"value\":0.001},\"line_alpha\":{\"value\":0.1},\"line_color\":{\"value\":\"#1f77b4\"},\"width\":{\"units\":\"data\",\"value\":0.2},\"x\":{\"field\":\"x\"},\"y\":{\"field\":\"y\"}},\"id\":\"429827c5-d8d6-4e61-b90d-b3500433362a\",\"type\":\"Rect\"},{\"attributes\":{\"data_source\":{\"id\":\"2479636a-11e1-4338-a2f2-b3d4c3ae0ed6\",\"type\":\"ColumnDataSource\"},\"glyph\":{\"id\":\"13903567-2a8d-4f62-ae51-b8f18f24a3f2\",\"type\":\"Rect\"},\"hover_glyph\":null,\"muted_glyph\":null,\"name\":\"Whiskers\",\"nonselection_glyph\":{\"id\":\"429827c5-d8d6-4e61-b90d-b3500433362a\",\"type\":\"Rect\"},\"selection_glyph\":null,\"view\":{\"id\":\"ef097e82-c58e-4676-bf62-1290caeba007\",\"type\":\"CDSView\"}},\"id\":\"3909bc5f-78e7-4880-ab9d-5c3dc8d1f024\",\"type\":\"GlyphRenderer\"},{\"attributes\":{\"source\":{\"id\":\"2479636a-11e1-4338-a2f2-b3d4c3ae0ed6\",\"type\":\"ColumnDataSource\"}},\"id\":\"ef097e82-c58e-4676-bf62-1290caeba007\",\"type\":\"CDSView\"},{\"attributes\":{\"callback\":null,\"data\":{\"x\":[\"C5\",\"C5\"],\"y\":[147.83029174804688,153.96412658691406]},\"selected\":{\"id\":\"fa48e5b4-fccd-4a32-8a72-8415481a152b\",\"type\":\"Selection\"},\"selection_policy\":{\"id\":\"47ef3f32-f063-4652-928d-9c7f61198e4e\",\"type\":\"UnionRenderers\"}},\"id\":\"78bb8d0b-c60c-420b-8c23-bc01ce91bca5\",\"type\":\"ColumnDataSource\"},{\"attributes\":{\"fill_color\":{\"value\":\"#1f77b4\"},\"height\":{\"units\":\"data\",\"value\":0.001},\"line_color\":{\"value\":\"deepskyblue\"},\"width\":{\"units\":\"data\",\"value\":0.2},\"x\":{\"field\":\"x\"},\"y\":{\"field\":\"y\"}},\"id\":\"b38da93b-b60f-4a76-be9c-8df19c8a3e49\",\"type\":\"Rect\"},{\"attributes\":{\"fill_alpha\":{\"value\":0.1},\"fill_color\":{\"value\":\"#1f77b4\"},\"height\":{\"units\":\"data\",\"value\":0.001},\"line_alpha\":{\"value\":0.1},\"line_color\":{\"value\":\"#1f77b4\"},\"width\":{\"units\":\"data\",\"value\":0.2},\"x\":{\"field\":\"x\"},\"y\":{\"field\":\"y\"}},\"id\":\"c05593ae-565d-4dc6-8d06-08b0b1393191\",\"type\":\"Rect\"},{\"attributes\":{\"data_source\":{\"id\":\"78bb8d0b-c60c-420b-8c23-bc01ce91bca5\",\"type\":\"ColumnDataSource\"},\"glyph\":{\"id\":\"b38da93b-b60f-4a76-be9c-8df19c8a3e49\",\"type\":\"Rect\"},\"hover_glyph\":null,\"muted_glyph\":null,\"name\":\"Whiskers\",\"nonselection_glyph\":{\"id\":\"c05593ae-565d-4dc6-8d06-08b0b1393191\",\"type\":\"Rect\"},\"selection_glyph\":null,\"view\":{\"id\":\"86502bdd-03eb-4795-b41a-2153302fba62\",\"type\":\"CDSView\"}},\"id\":\"6a205cb5-ab24-4056-a2bf-ea407f7faba8\",\"type\":\"GlyphRenderer\"},{\"attributes\":{\"source\":{\"id\":\"78bb8d0b-c60c-420b-8c23-bc01ce91bca5\",\"type\":\"ColumnDataSource\"}},\"id\":\"86502bdd-03eb-4795-b41a-2153302fba62\",\"type\":\"CDSView\"},{\"attributes\":{\"callback\":null,\"data\":{\"x\":[\"C6\",\"C6\"],\"y\":[150.17367553710938,155.1548614501953]},\"selected\":{\"id\":\"ef53da03-91eb-4e9f-ae7d-5d522238ac5d\",\"type\":\"Selection\"},\"selection_policy\":{\"id\":\"1ec5ed29-d467-4cec-bca8-05f6da5cfcd2\",\"type\":\"UnionRenderers\"}},\"id\":\"1cdcbe44-148b-4eee-974e-7244bf44fae8\",\"type\":\"ColumnDataSource\"},{\"attributes\":{\"fill_color\":{\"value\":\"#1f77b4\"},\"height\":{\"units\":\"data\",\"value\":0.001},\"line_color\":{\"value\":\"deepskyblue\"},\"width\":{\"units\":\"data\",\"value\":0.2},\"x\":{\"field\":\"x\"},\"y\":{\"field\":\"y\"}},\"id\":\"b7f3a2b1-cf04-4123-aa72-8d58678824f2\",\"type\":\"Rect\"},{\"attributes\":{\"fill_alpha\":{\"value\":0.1},\"fill_color\":{\"value\":\"#1f77b4\"},\"height\":{\"units\":\"data\",\"value\":0.001},\"line_alpha\":{\"value\":0.1},\"line_color\":{\"value\":\"#1f77b4\"},\"width\":{\"units\":\"data\",\"value\":0.2},\"x\":{\"field\":\"x\"},\"y\":{\"field\":\"y\"}},\"id\":\"94bc7510-61ab-4b36-bdac-40f57279c795\",\"type\":\"Rect\"},{\"attributes\":{\"data_source\":{\"id\":\"1cdcbe44-148b-4eee-974e-7244bf44fae8\",\"type\":\"ColumnDataSource\"},\"glyph\":{\"id\":\"b7f3a2b1-cf04-4123-aa72-8d58678824f2\",\"type\":\"Rect\"},\"hover_glyph\":null,\"muted_glyph\":null,\"name\":\"Whiskers\",\"nonselection_glyph\":{\"id\":\"94bc7510-61ab-4b36-bdac-40f57279c795\",\"type\":\"Rect\"},\"selection_glyph\":null,\"view\":{\"id\":\"949b038b-771a-40cc-8107-662f1f4a1753\",\"type\":\"CDSView\"}},\"id\":\"cad39cf0-f380-4bff-af3b-6d2fe9458856\",\"type\":\"GlyphRenderer\"}],\"root_ids\":[\"7c0378f5-7e75-44c5-8999-72ad355944f0\"]},\"title\":\"Bokeh Application\",\"version\":\"0.13.0\"}};\n",
       "  var render_items = [{\"docid\":\"7a8c7258-cd90-4866-a49e-c1d9e87d0eb7\",\"roots\":{\"7c0378f5-7e75-44c5-8999-72ad355944f0\":\"1445e25d-b783-479b-8309-ac8d1017efd4\"}}];\n",
       "  root.Bokeh.embed.embed_items_notebook(docs_json, render_items);\n",
       "\n",
       "  }\n",
       "  if (root.Bokeh !== undefined) {\n",
       "    embed_document(root);\n",
       "  } else {\n",
       "    var attempts = 0;\n",
       "    var timer = setInterval(function(root) {\n",
       "      if (root.Bokeh !== undefined) {\n",
       "        embed_document(root);\n",
       "        clearInterval(timer);\n",
       "      }\n",
       "      attempts++;\n",
       "      if (attempts > 100) {\n",
       "        console.log(\"Bokeh: ERROR: Unable to run BokehJS code because BokehJS library is missing\")\n",
       "        clearInterval(timer);\n",
       "      }\n",
       "    }, 10, root)\n",
       "  }\n",
       "})(window);"
      ],
      "application/vnd.bokehjs_exec.v0+json": ""
     },
     "metadata": {
      "application/vnd.bokehjs_exec.v0+json": {
       "id": "7c0378f5-7e75-44c5-8999-72ad355944f0"
      }
     },
     "output_type": "display_data"
    }
   ],
   "source": [
    "# plot the points\n",
    "f = figure(x_range=HoV_test_data, title='BNN MC DropOut - Dia Predictions with Confidence Interval', width=1400)\n",
    "dot_hover_tooltips = HoverTool(names=['DiaPoints'],tooltips=[(\"HoV\",\"@x\"),(\"Dia\", \"@y mm\")])\n",
    "whisker_hover_tooltips = HoverTool(names=['Whiskers'],tooltips=[(\"Dia\", \"@y mm\")])\n",
    "multiline_hover_tooltips = HoverTool(names=['LinePlot'],tooltips=[(\"Dia\", \"$y mm\")])\n",
    "\n",
    "f.add_tools(dot_hover_tooltips,whisker_hover_tooltips,multiline_hover_tooltips)\n",
    "\n",
    "f.xaxis.axis_label = 'Head of Versions'\n",
    "f.yaxis.axis_label = 'Diameter Predictions (mm)'\n",
    "\n",
    "f.multi_line(y_xs, ys_std, color='blue', line_width = 3, legend = 'Mean Prediction +/- Std.Dev')\n",
    "f.multi_line(y_xs, y_ys, color='deepskyblue',name='LinePlot',legend = 'Mean Prediction +/- Min & Max Value')\n",
    "f.diamond(HoV_test_data, y_true, color='red', size=12, line_alpha=0,name='DiaPoints', legend = 'True Dia')\n",
    "f.circle(HoV_test_data, y_means, color='blue', size=9, line_alpha=0,name='DiaPoints', legend = 'Predicted Dia (Mean)')\n",
    "\n",
    "# whiskers (almost-0 height rects simpler than segments)\n",
    "for i in range(len(y_xs)):\n",
    "    f.rect(y_xs[i], y_ys[i], 0.2, 0.001, line_color=\"deepskyblue\",name='Whiskers')\n",
    "\n",
    "f.y_range=Range1d(135, 175)\n",
    "f.legend.location = \"top_center\"\n",
    "f.legend.click_policy=\"hide\"\n",
    "\n",
    "show(f)"
   ]
  },
  {
   "cell_type": "code",
   "execution_count": 25,
   "metadata": {},
   "outputs": [],
   "source": [
    "output_file('plots/BNN_MCDropOut_v1_FDDN_LTR_Predictions.html', mode='inline')"
   ]
  }
 ],
 "metadata": {
  "kernelspec": {
   "display_name": "Python 3",
   "language": "python",
   "name": "python3"
  },
  "language_info": {
   "codemirror_mode": {
    "name": "ipython",
    "version": 3
   },
   "file_extension": ".py",
   "mimetype": "text/x-python",
   "name": "python",
   "nbconvert_exporter": "python",
   "pygments_lexer": "ipython3",
   "version": "3.6.6"
  }
 },
 "nbformat": 4,
 "nbformat_minor": 2
}
