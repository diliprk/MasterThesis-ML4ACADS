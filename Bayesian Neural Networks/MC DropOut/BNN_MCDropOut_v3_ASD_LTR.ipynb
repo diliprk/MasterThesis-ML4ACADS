{
 "cells": [
  {
   "cell_type": "markdown",
   "metadata": {},
   "source": [
    "## Version Description:\n",
    " * In this version - we predict just the __MTR Hole Diameter__ (`R600_HD`)in TZ6 using [Bayesian Neural Network with MC DropOut](https://github.com/valyome/Neural-Networks-with-MC-Dropout/). \n",
    " * Artificial data points synthesised from SMOTE are used to train the ML model. \n",
    " * The input features are `TZ6_Flow`,`MIXP`,`AMBP`,`AMBT` and the TZ6 CLR Restrictors."
   ]
  },
  {
   "cell_type": "code",
   "execution_count": 1,
   "metadata": {},
   "outputs": [
    {
     "data": {
      "text/html": [
       "<style>.container { width:95% !important; }</style>"
      ],
      "text/plain": [
       "<IPython.core.display.HTML object>"
      ]
     },
     "metadata": {},
     "output_type": "display_data"
    }
   ],
   "source": [
    "from IPython.core.display import display, HTML\n",
    "display(HTML(\"<style>.container { width:95% !important; }</style>\"))"
   ]
  },
  {
   "cell_type": "code",
   "execution_count": 2,
   "metadata": {},
   "outputs": [],
   "source": [
    "import pandas as pd\n",
    "import numpy as np\n",
    "\n",
    "#Set some numpy print options for displaying numpy arrays to fit maximum width of cell\n",
    "np.set_printoptions(precision=3, edgeitems=30, linewidth=1000,formatter=dict(float=lambda x: \"%.6g\" % x)) \n",
    "from functools import reduce\n",
    "\n",
    "from sklearn.preprocessing import MinMaxScaler\n",
    "from sklearn.metrics import mean_squared_error, r2_score"
   ]
  },
  {
   "cell_type": "code",
   "execution_count": 3,
   "metadata": {},
   "outputs": [],
   "source": [
    "import matplotlib.pyplot as plt\n",
    "%matplotlib inline\n",
    "%config InlineBackend.figure_format = 'svg' \n",
    "plt.style.use('seaborn-whitegrid')"
   ]
  },
  {
   "cell_type": "markdown",
   "metadata": {},
   "source": [
    "### Loading Data"
   ]
  },
  {
   "cell_type": "code",
   "execution_count": 4,
   "metadata": {},
   "outputs": [],
   "source": [
    "input_features = ['TZ_Flow','MIXP','AMBP','AMBT','R610_HS1','R611_HS1','R612_HS1','R613_HS1']\n",
    "usecols = ['HoV']+input_features+['R600_HD']"
   ]
  },
  {
   "cell_type": "code",
   "execution_count": 5,
   "metadata": {},
   "outputs": [
    {
     "data": {
      "text/html": [
       "<div>\n",
       "<style scoped>\n",
       "    .dataframe tbody tr th:only-of-type {\n",
       "        vertical-align: middle;\n",
       "    }\n",
       "\n",
       "    .dataframe tbody tr th {\n",
       "        vertical-align: top;\n",
       "    }\n",
       "\n",
       "    .dataframe thead th {\n",
       "        text-align: right;\n",
       "    }\n",
       "</style>\n",
       "<table border=\"1\" class=\"dataframe\">\n",
       "  <thead>\n",
       "    <tr style=\"text-align: right;\">\n",
       "      <th></th>\n",
       "      <th>HoV</th>\n",
       "      <th>TZ_Flow</th>\n",
       "      <th>MIXP</th>\n",
       "      <th>AMBP</th>\n",
       "      <th>AMBT</th>\n",
       "      <th>R610_HS1</th>\n",
       "      <th>R611_HS1</th>\n",
       "      <th>R612_HS1</th>\n",
       "      <th>R613_HS1</th>\n",
       "      <th>R600_HD</th>\n",
       "    </tr>\n",
       "  </thead>\n",
       "  <tbody>\n",
       "    <tr>\n",
       "      <th>0</th>\n",
       "      <td>A1</td>\n",
       "      <td>887.134249</td>\n",
       "      <td>2600.0000</td>\n",
       "      <td>101401.6000</td>\n",
       "      <td>299.386667</td>\n",
       "      <td>131</td>\n",
       "      <td>136</td>\n",
       "      <td>120</td>\n",
       "      <td>120</td>\n",
       "      <td>148</td>\n",
       "    </tr>\n",
       "    <tr>\n",
       "      <th>1</th>\n",
       "      <td>A2</td>\n",
       "      <td>886.764050</td>\n",
       "      <td>2600.0000</td>\n",
       "      <td>101576.3000</td>\n",
       "      <td>298.448667</td>\n",
       "      <td>131</td>\n",
       "      <td>136</td>\n",
       "      <td>120</td>\n",
       "      <td>120</td>\n",
       "      <td>149</td>\n",
       "    </tr>\n",
       "    <tr>\n",
       "      <th>2</th>\n",
       "      <td>A3</td>\n",
       "      <td>926.224856</td>\n",
       "      <td>2606.1928</td>\n",
       "      <td>102136.6035</td>\n",
       "      <td>297.109024</td>\n",
       "      <td>131</td>\n",
       "      <td>136</td>\n",
       "      <td>114</td>\n",
       "      <td>120</td>\n",
       "      <td>152</td>\n",
       "    </tr>\n",
       "    <tr>\n",
       "      <th>3</th>\n",
       "      <td>A4</td>\n",
       "      <td>915.139474</td>\n",
       "      <td>2599.8998</td>\n",
       "      <td>103195.6642</td>\n",
       "      <td>295.060027</td>\n",
       "      <td>131</td>\n",
       "      <td>136</td>\n",
       "      <td>120</td>\n",
       "      <td>120</td>\n",
       "      <td>154</td>\n",
       "    </tr>\n",
       "    <tr>\n",
       "      <th>4</th>\n",
       "      <td>A5</td>\n",
       "      <td>891.635528</td>\n",
       "      <td>2600.0000</td>\n",
       "      <td>102856.2000</td>\n",
       "      <td>294.755833</td>\n",
       "      <td>145</td>\n",
       "      <td>153</td>\n",
       "      <td>130</td>\n",
       "      <td>130</td>\n",
       "      <td>148</td>\n",
       "    </tr>\n",
       "  </tbody>\n",
       "</table>\n",
       "</div>"
      ],
      "text/plain": [
       "  HoV     TZ_Flow       MIXP         AMBP        AMBT  R610_HS1  R611_HS1  \\\n",
       "0  A1  887.134249  2600.0000  101401.6000  299.386667       131       136   \n",
       "1  A2  886.764050  2600.0000  101576.3000  298.448667       131       136   \n",
       "2  A3  926.224856  2606.1928  102136.6035  297.109024       131       136   \n",
       "3  A4  915.139474  2599.8998  103195.6642  295.060027       131       136   \n",
       "4  A5  891.635528  2600.0000  102856.2000  294.755833       145       153   \n",
       "\n",
       "   R612_HS1  R613_HS1  R600_HD  \n",
       "0       120       120      148  \n",
       "1       120       120      149  \n",
       "2       114       120      152  \n",
       "3       120       120      154  \n",
       "4       130       130      148  "
      ]
     },
     "execution_count": 5,
     "metadata": {},
     "output_type": "execute_result"
    }
   ],
   "source": [
    "LTR_df = pd.read_csv('../../data/LTR_dataset.csv', usecols = usecols)[usecols]\n",
    "LTR_df.head()"
   ]
  },
  {
   "cell_type": "code",
   "execution_count": 6,
   "metadata": {},
   "outputs": [
    {
     "data": {
      "text/html": [
       "<div>\n",
       "<style scoped>\n",
       "    .dataframe tbody tr th:only-of-type {\n",
       "        vertical-align: middle;\n",
       "    }\n",
       "\n",
       "    .dataframe tbody tr th {\n",
       "        vertical-align: top;\n",
       "    }\n",
       "\n",
       "    .dataframe thead th {\n",
       "        text-align: right;\n",
       "    }\n",
       "</style>\n",
       "<table border=\"1\" class=\"dataframe\">\n",
       "  <thead>\n",
       "    <tr style=\"text-align: right;\">\n",
       "      <th></th>\n",
       "      <th>HoV</th>\n",
       "      <th>TZ_Flow</th>\n",
       "      <th>MIXP</th>\n",
       "      <th>AMBP</th>\n",
       "      <th>AMBT</th>\n",
       "      <th>R610_HS1</th>\n",
       "      <th>R611_HS1</th>\n",
       "      <th>R612_HS1</th>\n",
       "      <th>R613_HS1</th>\n",
       "      <th>R600_HD</th>\n",
       "    </tr>\n",
       "  </thead>\n",
       "  <tbody>\n",
       "    <tr>\n",
       "      <th>0</th>\n",
       "      <td>ASD0</td>\n",
       "      <td>887.843325</td>\n",
       "      <td>2696.2864</td>\n",
       "      <td>101444.530</td>\n",
       "      <td>299.057324</td>\n",
       "      <td>131</td>\n",
       "      <td>136</td>\n",
       "      <td>120</td>\n",
       "      <td>120</td>\n",
       "      <td>148</td>\n",
       "    </tr>\n",
       "    <tr>\n",
       "      <th>1</th>\n",
       "      <td>ASD1</td>\n",
       "      <td>887.477250</td>\n",
       "      <td>2615.7850</td>\n",
       "      <td>101391.560</td>\n",
       "      <td>298.509995</td>\n",
       "      <td>131</td>\n",
       "      <td>136</td>\n",
       "      <td>120</td>\n",
       "      <td>120</td>\n",
       "      <td>148</td>\n",
       "    </tr>\n",
       "    <tr>\n",
       "      <th>2</th>\n",
       "      <td>ASD2</td>\n",
       "      <td>887.476875</td>\n",
       "      <td>2648.8844</td>\n",
       "      <td>101513.720</td>\n",
       "      <td>298.961758</td>\n",
       "      <td>131</td>\n",
       "      <td>136</td>\n",
       "      <td>120</td>\n",
       "      <td>120</td>\n",
       "      <td>148</td>\n",
       "    </tr>\n",
       "    <tr>\n",
       "      <th>3</th>\n",
       "      <td>ASD3</td>\n",
       "      <td>886.590375</td>\n",
       "      <td>2592.1955</td>\n",
       "      <td>101393.790</td>\n",
       "      <td>298.661206</td>\n",
       "      <td>131</td>\n",
       "      <td>136</td>\n",
       "      <td>120</td>\n",
       "      <td>120</td>\n",
       "      <td>148</td>\n",
       "    </tr>\n",
       "    <tr>\n",
       "      <th>4</th>\n",
       "      <td>ASD4</td>\n",
       "      <td>888.331625</td>\n",
       "      <td>2654.4529</td>\n",
       "      <td>101460.547</td>\n",
       "      <td>299.539189</td>\n",
       "      <td>131</td>\n",
       "      <td>136</td>\n",
       "      <td>120</td>\n",
       "      <td>120</td>\n",
       "      <td>148</td>\n",
       "    </tr>\n",
       "  </tbody>\n",
       "</table>\n",
       "</div>"
      ],
      "text/plain": [
       "    HoV     TZ_Flow       MIXP        AMBP        AMBT  R610_HS1  R611_HS1  \\\n",
       "0  ASD0  887.843325  2696.2864  101444.530  299.057324       131       136   \n",
       "1  ASD1  887.477250  2615.7850  101391.560  298.509995       131       136   \n",
       "2  ASD2  887.476875  2648.8844  101513.720  298.961758       131       136   \n",
       "3  ASD3  886.590375  2592.1955  101393.790  298.661206       131       136   \n",
       "4  ASD4  888.331625  2654.4529  101460.547  299.539189       131       136   \n",
       "\n",
       "   R612_HS1  R613_HS1  R600_HD  \n",
       "0       120       120      148  \n",
       "1       120       120      148  \n",
       "2       120       120      148  \n",
       "3       120       120      148  \n",
       "4       120       120      148  "
      ]
     },
     "execution_count": 6,
     "metadata": {},
     "output_type": "execute_result"
    }
   ],
   "source": [
    "ASD_df = pd.read_csv('../../data/ASD_dataset.csv', usecols = usecols)[usecols]\n",
    "ASD_df.head()"
   ]
  },
  {
   "cell_type": "code",
   "execution_count": 7,
   "metadata": {},
   "outputs": [
    {
     "data": {
      "text/plain": [
       "154    250\n",
       "160    200\n",
       "155    200\n",
       "153    200\n",
       "152    200\n",
       "151    200\n",
       "149    200\n",
       "146    200\n",
       "148    195\n",
       "150    150\n",
       "Name: R600_HD, dtype: int64"
      ]
     },
     "execution_count": 7,
     "metadata": {},
     "output_type": "execute_result"
    }
   ],
   "source": [
    "ASD_df['R600_HD'].value_counts()"
   ]
  },
  {
   "cell_type": "markdown",
   "metadata": {},
   "source": [
    "### Train BNN with FDDN (Simulation) data:"
   ]
  },
  {
   "cell_type": "code",
   "execution_count": 8,
   "metadata": {},
   "outputs": [
    {
     "name": "stdout",
     "output_type": "stream",
     "text": [
      "Number of training samples: 1995\n",
      "\n",
      "Number of testing samples: 34\n"
     ]
    }
   ],
   "source": [
    "# Extract pandas dataframe values to numpy array\n",
    "train_data = ASD_df[input_features+['R600_HD']].astype(np.float).values\n",
    "test_data  = LTR_df[input_features+['R600_HD']].astype(np.float).values\n",
    "print(\"Number of training samples:\", len(train_data))\n",
    "print(\"\\nNumber of testing samples:\", len(test_data))\n",
    "\n",
    "# Separate arrays into input and output components (predictors and response variables)\n",
    "x_train, y_train  = train_data[:,:-1] ,train_data[:,-1:]\n",
    "x_test, y_test = test_data[:,:-1] ,test_data[:,-1:]"
   ]
  },
  {
   "cell_type": "code",
   "execution_count": 9,
   "metadata": {},
   "outputs": [
    {
     "name": "stdout",
     "output_type": "stream",
     "text": [
      "X_train Shape: (1995, 8) Y_Train Shape: (1995, 1)\n",
      "X_test Shape: (34, 8) Y_Test Shape: (34, 1)\n"
     ]
    }
   ],
   "source": [
    "print('X_train Shape:',x_train.shape,'Y_Train Shape:', y_train.shape)\n",
    "print('X_test Shape:',x_test.shape,'Y_Test Shape:', y_test.shape)"
   ]
  },
  {
   "cell_type": "markdown",
   "metadata": {},
   "source": [
    "### Bayesian Neural Network using MC DropOut"
   ]
  },
  {
   "cell_type": "code",
   "execution_count": 10,
   "metadata": {},
   "outputs": [
    {
     "name": "stderr",
     "output_type": "stream",
     "text": [
      "Using TensorFlow backend.\n"
     ]
    }
   ],
   "source": [
    "import BNN_MonteCarlo_Dropout"
   ]
  },
  {
   "cell_type": "code",
   "execution_count": 11,
   "metadata": {},
   "outputs": [],
   "source": [
    "# Train the BNN\n",
    "bnn = BNN_MonteCarlo_Dropout.net(x_train, y_train, n_epochs=2000, n_hidden=[24,12], normalize=True)"
   ]
  },
  {
   "cell_type": "code",
   "execution_count": 12,
   "metadata": {},
   "outputs": [
    {
     "name": "stdout",
     "output_type": "stream",
     "text": [
      "34/34 [==============================] - 0s 2ms/step\n",
      "Standard rmse 0.427146\n",
      "MC rmse 0.413251\n",
      "test_ll -5.090435\n"
     ]
    }
   ],
   "source": [
    "# Test on ~25% of the data.\n",
    "rmse, Yt_hat, MC_pred, predictive_variance = bnn.predict(x_test, y_test)"
   ]
  },
  {
   "cell_type": "code",
   "execution_count": 13,
   "metadata": {},
   "outputs": [
    {
     "name": "stdout",
     "output_type": "stream",
     "text": [
      "Shape of Predictions: (1000, 1, 34, 1)\n"
     ]
    }
   ],
   "source": [
    "print('Shape of Predictions:',Yt_hat.shape)"
   ]
  },
  {
   "cell_type": "code",
   "execution_count": 14,
   "metadata": {},
   "outputs": [
    {
     "data": {
      "text/plain": [
       "34"
      ]
     },
     "execution_count": 14,
     "metadata": {},
     "output_type": "execute_result"
    }
   ],
   "source": [
    "Yt_hat.shape[2]"
   ]
  },
  {
   "cell_type": "code",
   "execution_count": 15,
   "metadata": {},
   "outputs": [],
   "source": [
    "y_preds = np.zeros((Yt_hat.shape[2], Yt_hat.shape[0])) # empty array to be populated\n",
    "y_means = [] # save mean for each predicted point\n",
    "y_std=[] # save standard dev for each predicted\n",
    "y_mins = [] \n",
    "y_maxes = []\n",
    "\n",
    "for j in range(Yt_hat.shape[2]):\n",
    "    for i in range(Yt_hat.shape[0]):\n",
    "        y_preds[j][i] = Yt_hat[i][0][j] # convert the predictions into a more readable format\n",
    "    y_means.append(y_preds[j].mean()) # get the mean for each prediction\n",
    "    y_std.append(y_preds[j].std()) # get the standard deviation\n",
    "    y_mins.append(np.amin(y_preds[j],axis = 0)) # get the min value in the array\n",
    "    y_maxes.append(np.amax(y_preds[j],axis = 0)) # get the min value in the array"
   ]
  },
  {
   "cell_type": "code",
   "execution_count": 16,
   "metadata": {},
   "outputs": [
    {
     "name": "stdout",
     "output_type": "stream",
     "text": [
      "Length of Y_Predictions: 34\n",
      "Nr. of Predictions per test point: 1000\n"
     ]
    }
   ],
   "source": [
    "print('Length of Y_Predictions:',len(y_preds))\n",
    "print('Nr. of Predictions per test point:',len(y_preds[0]))"
   ]
  },
  {
   "cell_type": "code",
   "execution_count": 17,
   "metadata": {},
   "outputs": [
    {
     "name": "stdout",
     "output_type": "stream",
     "text": [
      "[149.03831114196777, 149.03533010864257, 152.1414044647217, 153.6650467376709, 147.89065802001954, 147.93859181213378, 148.08027896118165, 152.9853837738037, 151.9724754486084, 149.98781016540528, 151.91050390625, 153.79195622253417, 150.82058584594728, 148.38896243286132, 148.33323623657228, 149.40951197814942, 146.46499026489258, 146.362189743042, 148.22337844848633, 148.08859355163574, 151.8567837677002, 148.07824252319335, 153.77082160949706, 153.95286401367187, 154.0314150085449, 148.17631088256837, 148.7063896484375, 154.81099784851074, 148.56503089904785, 149.904157623291, 150.29372967529298, 159.4950488128662, 147.8306420135498, 148.69678100585938]\n"
     ]
    }
   ],
   "source": [
    "print(y_means)"
   ]
  },
  {
   "cell_type": "code",
   "execution_count": 18,
   "metadata": {},
   "outputs": [
    {
     "name": "stdout",
     "output_type": "stream",
     "text": [
      "[0.5301389546301433, 0.5083348009226839, 0.5712331230225096, 0.8105150975222901, 0.6839327150598437, 0.5537954844179578, 0.577478704770383, 0.4020934817324604, 0.35349254888035897, 0.6435528268962424, 0.378562508515385, 0.45376828348777326, 0.10226932996057041, 0.7218650347842221, 0.6429319668504203, 0.45433827457301407, 1.3404388265792533, 0.9235614455648211, 0.9223681310186291, 0.9924463703702914, 0.336604960291327, 0.6660240933386797, 0.9101214698382107, 0.4958052262496131, 0.917009751251136, 1.0072719666942194, 0.5348437761119218, 0.5320695408989952, 0.578767267067843, 0.316741358455785, 0.5464160876329575, 1.0576157725602569, 0.7833630978515799, 0.5975444008605487]\n"
     ]
    }
   ],
   "source": [
    "print(y_std)"
   ]
  },
  {
   "cell_type": "code",
   "execution_count": 19,
   "metadata": {},
   "outputs": [
    {
     "name": "stdout",
     "output_type": "stream",
     "text": [
      "[148.1375274658203, 148.1639404296875, 150.8431854248047, 150.35140991210938, 145.45294189453125, 147.50942993164062, 147.4407501220703, 151.49266052246094, 150.3904571533203, 148.07901000976562, 150.38034057617188, 151.37979125976562, 149.92007446289062, 147.0724639892578, 147.9278106689453, 149.0260009765625, 145.31243896484375, 145.6858367919922, 147.52989196777344, 145.4483184814453, 150.2334442138672, 147.42117309570312, 150.6992645263672, 151.56320190429688, 149.81329345703125, 143.758056640625, 148.1434783935547, 150.6898651123047, 147.93765258789062, 149.20425415039062, 149.60479736328125, 154.5840606689453, 146.53074645996094, 148.26441955566406]\n"
     ]
    }
   ],
   "source": [
    "print(y_mins)"
   ]
  },
  {
   "cell_type": "code",
   "execution_count": 20,
   "metadata": {},
   "outputs": [
    {
     "name": "stdout",
     "output_type": "stream",
     "text": [
      "[151.1905975341797, 151.1243438720703, 155.7587432861328, 155.18760681152344, 152.34715270996094, 150.65049743652344, 151.15634155273438, 154.74720764160156, 153.12661743164062, 152.7500457763672, 154.1722869873047, 156.9951934814453, 151.46253967285156, 151.52755737304688, 151.423095703125, 151.77105712890625, 152.22840881347656, 150.91265869140625, 155.57383728027344, 161.35391235351562, 152.8231964111328, 151.0707244873047, 158.22406005859375, 155.60243225097656, 155.71617126464844, 154.0477752685547, 151.00779724121094, 155.55661010742188, 151.4568328857422, 151.72158813476562, 153.35128784179688, 160.6728057861328, 151.1573944091797, 151.9889373779297]\n"
     ]
    }
   ],
   "source": [
    "print(y_maxes)"
   ]
  },
  {
   "cell_type": "code",
   "execution_count": 21,
   "metadata": {},
   "outputs": [],
   "source": [
    "y_true = LTR_df['R600_HD'].values\n",
    "HoV_test_data = LTR_df['HoV'].values"
   ]
  },
  {
   "cell_type": "code",
   "execution_count": 22,
   "metadata": {},
   "outputs": [
    {
     "name": "stdout",
     "output_type": "stream",
     "text": [
      "No. of Test HoVs: 34 \n",
      "HoVs of Test Points: ['A1' 'A2' 'A3' 'A4' 'A5' 'A6' 'C1' 'C2' 'C3' 'C4' 'C5' 'C6' 'D1' 'D2' 'E1' 'E2' 'F1' 'F2' 'F3' 'H1' 'I1' 'J1' 'M1' 'M2' 'P1' 'Q1' 'Q2' 'S1' 'S2' 'S3' 'S4' 'S5' 'T1' 'T2']\n",
      "Test Points-Org Y: [148 149 152 154 148 148 148 153 152 150 152 154 151 148 148 148 146 146 148 148 152 148 154 154 154 148 148 155 148 150 150 160 148 148]\n"
     ]
    }
   ],
   "source": [
    "print('No. of Test HoVs:',len(HoV_test_data),'\\nHoVs of Test Points:',HoV_test_data)\n",
    "print('Test Points-Org Y:', y_true)"
   ]
  },
  {
   "cell_type": "markdown",
   "metadata": {},
   "source": [
    "### Plot BNN Predictions with Mean and Error Bars"
   ]
  },
  {
   "cell_type": "code",
   "execution_count": 23,
   "metadata": {},
   "outputs": [
    {
     "data": {
      "text/html": [
       "\n",
       "    <div class=\"bk-root\">\n",
       "        <a href=\"https://bokeh.pydata.org\" target=\"_blank\" class=\"bk-logo bk-logo-small bk-logo-notebook\"></a>\n",
       "        <span id=\"aa689ad9-f8e7-430f-9af0-95d296ed7a54\">Loading BokehJS ...</span>\n",
       "    </div>"
      ]
     },
     "metadata": {},
     "output_type": "display_data"
    },
    {
     "data": {
      "application/javascript": [
       "\n",
       "(function(root) {\n",
       "  function now() {\n",
       "    return new Date();\n",
       "  }\n",
       "\n",
       "  var force = true;\n",
       "\n",
       "  if (typeof (root._bokeh_onload_callbacks) === \"undefined\" || force === true) {\n",
       "    root._bokeh_onload_callbacks = [];\n",
       "    root._bokeh_is_loading = undefined;\n",
       "  }\n",
       "\n",
       "  var JS_MIME_TYPE = 'application/javascript';\n",
       "  var HTML_MIME_TYPE = 'text/html';\n",
       "  var EXEC_MIME_TYPE = 'application/vnd.bokehjs_exec.v0+json';\n",
       "  var CLASS_NAME = 'output_bokeh rendered_html';\n",
       "\n",
       "  /**\n",
       "   * Render data to the DOM node\n",
       "   */\n",
       "  function render(props, node) {\n",
       "    var script = document.createElement(\"script\");\n",
       "    node.appendChild(script);\n",
       "  }\n",
       "\n",
       "  /**\n",
       "   * Handle when an output is cleared or removed\n",
       "   */\n",
       "  function handleClearOutput(event, handle) {\n",
       "    var cell = handle.cell;\n",
       "\n",
       "    var id = cell.output_area._bokeh_element_id;\n",
       "    var server_id = cell.output_area._bokeh_server_id;\n",
       "    // Clean up Bokeh references\n",
       "    if (id != null && id in Bokeh.index) {\n",
       "      Bokeh.index[id].model.document.clear();\n",
       "      delete Bokeh.index[id];\n",
       "    }\n",
       "\n",
       "    if (server_id !== undefined) {\n",
       "      // Clean up Bokeh references\n",
       "      var cmd = \"from bokeh.io.state import curstate; print(curstate().uuid_to_server['\" + server_id + \"'].get_sessions()[0].document.roots[0]._id)\";\n",
       "      cell.notebook.kernel.execute(cmd, {\n",
       "        iopub: {\n",
       "          output: function(msg) {\n",
       "            var id = msg.content.text.trim();\n",
       "            if (id in Bokeh.index) {\n",
       "              Bokeh.index[id].model.document.clear();\n",
       "              delete Bokeh.index[id];\n",
       "            }\n",
       "          }\n",
       "        }\n",
       "      });\n",
       "      // Destroy server and session\n",
       "      var cmd = \"import bokeh.io.notebook as ion; ion.destroy_server('\" + server_id + \"')\";\n",
       "      cell.notebook.kernel.execute(cmd);\n",
       "    }\n",
       "  }\n",
       "\n",
       "  /**\n",
       "   * Handle when a new output is added\n",
       "   */\n",
       "  function handleAddOutput(event, handle) {\n",
       "    var output_area = handle.output_area;\n",
       "    var output = handle.output;\n",
       "\n",
       "    // limit handleAddOutput to display_data with EXEC_MIME_TYPE content only\n",
       "    if ((output.output_type != \"display_data\") || (!output.data.hasOwnProperty(EXEC_MIME_TYPE))) {\n",
       "      return\n",
       "    }\n",
       "\n",
       "    var toinsert = output_area.element.find(\".\" + CLASS_NAME.split(' ')[0]);\n",
       "\n",
       "    if (output.metadata[EXEC_MIME_TYPE][\"id\"] !== undefined) {\n",
       "      toinsert[toinsert.length - 1].firstChild.textContent = output.data[JS_MIME_TYPE];\n",
       "      // store reference to embed id on output_area\n",
       "      output_area._bokeh_element_id = output.metadata[EXEC_MIME_TYPE][\"id\"];\n",
       "    }\n",
       "    if (output.metadata[EXEC_MIME_TYPE][\"server_id\"] !== undefined) {\n",
       "      var bk_div = document.createElement(\"div\");\n",
       "      bk_div.innerHTML = output.data[HTML_MIME_TYPE];\n",
       "      var script_attrs = bk_div.children[0].attributes;\n",
       "      for (var i = 0; i < script_attrs.length; i++) {\n",
       "        toinsert[toinsert.length - 1].firstChild.setAttribute(script_attrs[i].name, script_attrs[i].value);\n",
       "      }\n",
       "      // store reference to server id on output_area\n",
       "      output_area._bokeh_server_id = output.metadata[EXEC_MIME_TYPE][\"server_id\"];\n",
       "    }\n",
       "  }\n",
       "\n",
       "  function register_renderer(events, OutputArea) {\n",
       "\n",
       "    function append_mime(data, metadata, element) {\n",
       "      // create a DOM node to render to\n",
       "      var toinsert = this.create_output_subarea(\n",
       "        metadata,\n",
       "        CLASS_NAME,\n",
       "        EXEC_MIME_TYPE\n",
       "      );\n",
       "      this.keyboard_manager.register_events(toinsert);\n",
       "      // Render to node\n",
       "      var props = {data: data, metadata: metadata[EXEC_MIME_TYPE]};\n",
       "      render(props, toinsert[toinsert.length - 1]);\n",
       "      element.append(toinsert);\n",
       "      return toinsert\n",
       "    }\n",
       "\n",
       "    /* Handle when an output is cleared or removed */\n",
       "    events.on('clear_output.CodeCell', handleClearOutput);\n",
       "    events.on('delete.Cell', handleClearOutput);\n",
       "\n",
       "    /* Handle when a new output is added */\n",
       "    events.on('output_added.OutputArea', handleAddOutput);\n",
       "\n",
       "    /**\n",
       "     * Register the mime type and append_mime function with output_area\n",
       "     */\n",
       "    OutputArea.prototype.register_mime_type(EXEC_MIME_TYPE, append_mime, {\n",
       "      /* Is output safe? */\n",
       "      safe: true,\n",
       "      /* Index of renderer in `output_area.display_order` */\n",
       "      index: 0\n",
       "    });\n",
       "  }\n",
       "\n",
       "  // register the mime type if in Jupyter Notebook environment and previously unregistered\n",
       "  if (root.Jupyter !== undefined) {\n",
       "    var events = require('base/js/events');\n",
       "    var OutputArea = require('notebook/js/outputarea').OutputArea;\n",
       "\n",
       "    if (OutputArea.prototype.mime_types().indexOf(EXEC_MIME_TYPE) == -1) {\n",
       "      register_renderer(events, OutputArea);\n",
       "    }\n",
       "  }\n",
       "\n",
       "  \n",
       "  if (typeof (root._bokeh_timeout) === \"undefined\" || force === true) {\n",
       "    root._bokeh_timeout = Date.now() + 5000;\n",
       "    root._bokeh_failed_load = false;\n",
       "  }\n",
       "\n",
       "  var NB_LOAD_WARNING = {'data': {'text/html':\n",
       "     \"<div style='background-color: #fdd'>\\n\"+\n",
       "     \"<p>\\n\"+\n",
       "     \"BokehJS does not appear to have successfully loaded. If loading BokehJS from CDN, this \\n\"+\n",
       "     \"may be due to a slow or bad network connection. Possible fixes:\\n\"+\n",
       "     \"</p>\\n\"+\n",
       "     \"<ul>\\n\"+\n",
       "     \"<li>re-rerun `output_notebook()` to attempt to load from CDN again, or</li>\\n\"+\n",
       "     \"<li>use INLINE resources instead, as so:</li>\\n\"+\n",
       "     \"</ul>\\n\"+\n",
       "     \"<code>\\n\"+\n",
       "     \"from bokeh.resources import INLINE\\n\"+\n",
       "     \"output_notebook(resources=INLINE)\\n\"+\n",
       "     \"</code>\\n\"+\n",
       "     \"</div>\"}};\n",
       "\n",
       "  function display_loaded() {\n",
       "    var el = document.getElementById(\"aa689ad9-f8e7-430f-9af0-95d296ed7a54\");\n",
       "    if (el != null) {\n",
       "      el.textContent = \"BokehJS is loading...\";\n",
       "    }\n",
       "    if (root.Bokeh !== undefined) {\n",
       "      if (el != null) {\n",
       "        el.textContent = \"BokehJS \" + root.Bokeh.version + \" successfully loaded.\";\n",
       "      }\n",
       "    } else if (Date.now() < root._bokeh_timeout) {\n",
       "      setTimeout(display_loaded, 100)\n",
       "    }\n",
       "  }\n",
       "\n",
       "\n",
       "  function run_callbacks() {\n",
       "    try {\n",
       "      root._bokeh_onload_callbacks.forEach(function(callback) { callback() });\n",
       "    }\n",
       "    finally {\n",
       "      delete root._bokeh_onload_callbacks\n",
       "    }\n",
       "    console.info(\"Bokeh: all callbacks have finished\");\n",
       "  }\n",
       "\n",
       "  function load_libs(js_urls, callback) {\n",
       "    root._bokeh_onload_callbacks.push(callback);\n",
       "    if (root._bokeh_is_loading > 0) {\n",
       "      console.log(\"Bokeh: BokehJS is being loaded, scheduling callback at\", now());\n",
       "      return null;\n",
       "    }\n",
       "    if (js_urls == null || js_urls.length === 0) {\n",
       "      run_callbacks();\n",
       "      return null;\n",
       "    }\n",
       "    console.log(\"Bokeh: BokehJS not loaded, scheduling load and callback at\", now());\n",
       "    root._bokeh_is_loading = js_urls.length;\n",
       "    for (var i = 0; i < js_urls.length; i++) {\n",
       "      var url = js_urls[i];\n",
       "      var s = document.createElement('script');\n",
       "      s.src = url;\n",
       "      s.async = false;\n",
       "      s.onreadystatechange = s.onload = function() {\n",
       "        root._bokeh_is_loading--;\n",
       "        if (root._bokeh_is_loading === 0) {\n",
       "          console.log(\"Bokeh: all BokehJS libraries loaded\");\n",
       "          run_callbacks()\n",
       "        }\n",
       "      };\n",
       "      s.onerror = function() {\n",
       "        console.warn(\"failed to load library \" + url);\n",
       "      };\n",
       "      console.log(\"Bokeh: injecting script tag for BokehJS library: \", url);\n",
       "      document.getElementsByTagName(\"head\")[0].appendChild(s);\n",
       "    }\n",
       "  };var element = document.getElementById(\"aa689ad9-f8e7-430f-9af0-95d296ed7a54\");\n",
       "  if (element == null) {\n",
       "    console.log(\"Bokeh: ERROR: autoload.js configured with elementid 'aa689ad9-f8e7-430f-9af0-95d296ed7a54' but no matching script tag was found. \")\n",
       "    return false;\n",
       "  }\n",
       "\n",
       "  var js_urls = [\"https://cdn.pydata.org/bokeh/release/bokeh-0.13.0.min.js\", \"https://cdn.pydata.org/bokeh/release/bokeh-widgets-0.13.0.min.js\", \"https://cdn.pydata.org/bokeh/release/bokeh-tables-0.13.0.min.js\", \"https://cdn.pydata.org/bokeh/release/bokeh-gl-0.13.0.min.js\"];\n",
       "\n",
       "  var inline_js = [\n",
       "    function(Bokeh) {\n",
       "      Bokeh.set_log_level(\"info\");\n",
       "    },\n",
       "    \n",
       "    function(Bokeh) {\n",
       "      \n",
       "    },\n",
       "    function(Bokeh) {\n",
       "      console.log(\"Bokeh: injecting CSS: https://cdn.pydata.org/bokeh/release/bokeh-0.13.0.min.css\");\n",
       "      Bokeh.embed.inject_css(\"https://cdn.pydata.org/bokeh/release/bokeh-0.13.0.min.css\");\n",
       "      console.log(\"Bokeh: injecting CSS: https://cdn.pydata.org/bokeh/release/bokeh-widgets-0.13.0.min.css\");\n",
       "      Bokeh.embed.inject_css(\"https://cdn.pydata.org/bokeh/release/bokeh-widgets-0.13.0.min.css\");\n",
       "      console.log(\"Bokeh: injecting CSS: https://cdn.pydata.org/bokeh/release/bokeh-tables-0.13.0.min.css\");\n",
       "      Bokeh.embed.inject_css(\"https://cdn.pydata.org/bokeh/release/bokeh-tables-0.13.0.min.css\");\n",
       "    }\n",
       "  ];\n",
       "\n",
       "  function run_inline_js() {\n",
       "    \n",
       "    if ((root.Bokeh !== undefined) || (force === true)) {\n",
       "      for (var i = 0; i < inline_js.length; i++) {\n",
       "        inline_js[i].call(root, root.Bokeh);\n",
       "      }if (force === true) {\n",
       "        display_loaded();\n",
       "      }} else if (Date.now() < root._bokeh_timeout) {\n",
       "      setTimeout(run_inline_js, 100);\n",
       "    } else if (!root._bokeh_failed_load) {\n",
       "      console.log(\"Bokeh: BokehJS failed to load within specified timeout.\");\n",
       "      root._bokeh_failed_load = true;\n",
       "    } else if (force !== true) {\n",
       "      var cell = $(document.getElementById(\"aa689ad9-f8e7-430f-9af0-95d296ed7a54\")).parents('.cell').data().cell;\n",
       "      cell.output_area.append_execute_result(NB_LOAD_WARNING)\n",
       "    }\n",
       "\n",
       "  }\n",
       "\n",
       "  if (root._bokeh_is_loading === 0) {\n",
       "    console.log(\"Bokeh: BokehJS loaded, going straight to plotting\");\n",
       "    run_inline_js();\n",
       "  } else {\n",
       "    load_libs(js_urls, function() {\n",
       "      console.log(\"Bokeh: BokehJS plotting callback run at\", now());\n",
       "      run_inline_js();\n",
       "    });\n",
       "  }\n",
       "}(window));"
      ],
      "application/vnd.bokehjs_load.v0+json": "\n(function(root) {\n  function now() {\n    return new Date();\n  }\n\n  var force = true;\n\n  if (typeof (root._bokeh_onload_callbacks) === \"undefined\" || force === true) {\n    root._bokeh_onload_callbacks = [];\n    root._bokeh_is_loading = undefined;\n  }\n\n  \n\n  \n  if (typeof (root._bokeh_timeout) === \"undefined\" || force === true) {\n    root._bokeh_timeout = Date.now() + 5000;\n    root._bokeh_failed_load = false;\n  }\n\n  var NB_LOAD_WARNING = {'data': {'text/html':\n     \"<div style='background-color: #fdd'>\\n\"+\n     \"<p>\\n\"+\n     \"BokehJS does not appear to have successfully loaded. If loading BokehJS from CDN, this \\n\"+\n     \"may be due to a slow or bad network connection. Possible fixes:\\n\"+\n     \"</p>\\n\"+\n     \"<ul>\\n\"+\n     \"<li>re-rerun `output_notebook()` to attempt to load from CDN again, or</li>\\n\"+\n     \"<li>use INLINE resources instead, as so:</li>\\n\"+\n     \"</ul>\\n\"+\n     \"<code>\\n\"+\n     \"from bokeh.resources import INLINE\\n\"+\n     \"output_notebook(resources=INLINE)\\n\"+\n     \"</code>\\n\"+\n     \"</div>\"}};\n\n  function display_loaded() {\n    var el = document.getElementById(\"aa689ad9-f8e7-430f-9af0-95d296ed7a54\");\n    if (el != null) {\n      el.textContent = \"BokehJS is loading...\";\n    }\n    if (root.Bokeh !== undefined) {\n      if (el != null) {\n        el.textContent = \"BokehJS \" + root.Bokeh.version + \" successfully loaded.\";\n      }\n    } else if (Date.now() < root._bokeh_timeout) {\n      setTimeout(display_loaded, 100)\n    }\n  }\n\n\n  function run_callbacks() {\n    try {\n      root._bokeh_onload_callbacks.forEach(function(callback) { callback() });\n    }\n    finally {\n      delete root._bokeh_onload_callbacks\n    }\n    console.info(\"Bokeh: all callbacks have finished\");\n  }\n\n  function load_libs(js_urls, callback) {\n    root._bokeh_onload_callbacks.push(callback);\n    if (root._bokeh_is_loading > 0) {\n      console.log(\"Bokeh: BokehJS is being loaded, scheduling callback at\", now());\n      return null;\n    }\n    if (js_urls == null || js_urls.length === 0) {\n      run_callbacks();\n      return null;\n    }\n    console.log(\"Bokeh: BokehJS not loaded, scheduling load and callback at\", now());\n    root._bokeh_is_loading = js_urls.length;\n    for (var i = 0; i < js_urls.length; i++) {\n      var url = js_urls[i];\n      var s = document.createElement('script');\n      s.src = url;\n      s.async = false;\n      s.onreadystatechange = s.onload = function() {\n        root._bokeh_is_loading--;\n        if (root._bokeh_is_loading === 0) {\n          console.log(\"Bokeh: all BokehJS libraries loaded\");\n          run_callbacks()\n        }\n      };\n      s.onerror = function() {\n        console.warn(\"failed to load library \" + url);\n      };\n      console.log(\"Bokeh: injecting script tag for BokehJS library: \", url);\n      document.getElementsByTagName(\"head\")[0].appendChild(s);\n    }\n  };var element = document.getElementById(\"aa689ad9-f8e7-430f-9af0-95d296ed7a54\");\n  if (element == null) {\n    console.log(\"Bokeh: ERROR: autoload.js configured with elementid 'aa689ad9-f8e7-430f-9af0-95d296ed7a54' but no matching script tag was found. \")\n    return false;\n  }\n\n  var js_urls = [\"https://cdn.pydata.org/bokeh/release/bokeh-0.13.0.min.js\", \"https://cdn.pydata.org/bokeh/release/bokeh-widgets-0.13.0.min.js\", \"https://cdn.pydata.org/bokeh/release/bokeh-tables-0.13.0.min.js\", \"https://cdn.pydata.org/bokeh/release/bokeh-gl-0.13.0.min.js\"];\n\n  var inline_js = [\n    function(Bokeh) {\n      Bokeh.set_log_level(\"info\");\n    },\n    \n    function(Bokeh) {\n      \n    },\n    function(Bokeh) {\n      console.log(\"Bokeh: injecting CSS: https://cdn.pydata.org/bokeh/release/bokeh-0.13.0.min.css\");\n      Bokeh.embed.inject_css(\"https://cdn.pydata.org/bokeh/release/bokeh-0.13.0.min.css\");\n      console.log(\"Bokeh: injecting CSS: https://cdn.pydata.org/bokeh/release/bokeh-widgets-0.13.0.min.css\");\n      Bokeh.embed.inject_css(\"https://cdn.pydata.org/bokeh/release/bokeh-widgets-0.13.0.min.css\");\n      console.log(\"Bokeh: injecting CSS: https://cdn.pydata.org/bokeh/release/bokeh-tables-0.13.0.min.css\");\n      Bokeh.embed.inject_css(\"https://cdn.pydata.org/bokeh/release/bokeh-tables-0.13.0.min.css\");\n    }\n  ];\n\n  function run_inline_js() {\n    \n    if ((root.Bokeh !== undefined) || (force === true)) {\n      for (var i = 0; i < inline_js.length; i++) {\n        inline_js[i].call(root, root.Bokeh);\n      }if (force === true) {\n        display_loaded();\n      }} else if (Date.now() < root._bokeh_timeout) {\n      setTimeout(run_inline_js, 100);\n    } else if (!root._bokeh_failed_load) {\n      console.log(\"Bokeh: BokehJS failed to load within specified timeout.\");\n      root._bokeh_failed_load = true;\n    } else if (force !== true) {\n      var cell = $(document.getElementById(\"aa689ad9-f8e7-430f-9af0-95d296ed7a54\")).parents('.cell').data().cell;\n      cell.output_area.append_execute_result(NB_LOAD_WARNING)\n    }\n\n  }\n\n  if (root._bokeh_is_loading === 0) {\n    console.log(\"Bokeh: BokehJS loaded, going straight to plotting\");\n    run_inline_js();\n  } else {\n    load_libs(js_urls, function() {\n      console.log(\"Bokeh: BokehJS plotting callback run at\", now());\n      run_inline_js();\n    });\n  }\n}(window));"
     },
     "metadata": {},
     "output_type": "display_data"
    }
   ],
   "source": [
    "from bokeh.models import HoverTool,ColumnDataSource,Label,Range1d\n",
    "from bokeh.plotting import figure, show, output_file,output_notebook\n",
    "from bokeh.models.markers import CircleX\n",
    "output_notebook()"
   ]
  },
  {
   "cell_type": "code",
   "execution_count": 24,
   "metadata": {},
   "outputs": [],
   "source": [
    "# create the coordinates for the errorbars\n",
    "y_xs = []\n",
    "ys_std = []\n",
    "y_ys = []\n",
    "\n",
    "for x, y_mean,std,min_dia, max_dia in zip(HoV_test_data,y_means,y_std,y_mins,y_maxes):\n",
    "    y_xs.append((x, x))\n",
    "    ys_std.append((y_mean - std, y_mean + std))\n",
    "    y_ys.append((y_mean - (y_mean - min_dia), y_mean + (max_dia - y_mean)))"
   ]
  },
  {
   "cell_type": "code",
   "execution_count": 25,
   "metadata": {},
   "outputs": [],
   "source": [
    "# plot the points\n",
    "f = figure(x_range=HoV_test_data, title='BNN MC DropOut - Dia Predictions with Confidence Interval', width=1400)\n",
    "dot_hover_tooltips = HoverTool(names=['DiaPoints'],tooltips=[(\"HoV\",\"@x\"),(\"Dia\", \"@y mm\")])\n",
    "whisker_hover_tooltips = HoverTool(names=['Whiskers'],tooltips=[(\"Dia\", \"@y mm\")])\n",
    "multiline_hover_tooltips = HoverTool(names=['LinePlot'],tooltips=[(\"Dia\", \"$y mm\")])\n",
    "\n",
    "f.add_tools(dot_hover_tooltips,whisker_hover_tooltips,multiline_hover_tooltips)\n",
    "\n",
    "f.xaxis.axis_label = 'Head of Versions'\n",
    "f.yaxis.axis_label = 'Diameter Predictions (mm)'\n",
    "\n",
    "f.multi_line(y_xs, ys_std, color='blue', line_width = 3, legend = 'Mean Prediction +/- Std.Dev')\n",
    "f.multi_line(y_xs, y_ys, color='deepskyblue',name='LinePlot',legend = 'Mean Prediction +/- Min & Max Value')\n",
    "f.diamond(HoV_test_data, y_true, color='red', size=12, line_alpha=0,name='DiaPoints', legend = 'True Dia')\n",
    "f.circle(HoV_test_data, y_means, color='blue', size=9, line_alpha=0,name='DiaPoints', legend = 'Predicted Dia (Mean)')\n",
    "\n",
    "# whiskers (almost-0 height rects simpler than segments)\n",
    "for i in range(len(y_xs)):\n",
    "    f.rect(y_xs[i], y_ys[i], 0.2, 0.001, line_color=\"deepskyblue\",name='Whiskers')\n",
    "\n",
    "# f.y_range=Range1d(135, 165)\n",
    "f.legend.location = \"top_center\"\n",
    "f.legend.click_policy=\"hide\"\n",
    "\n",
    "# output_file('plots/BNN_MCDropOut_v3_ASD_LTR_Predictions.html', mode='inline')"
   ]
  },
  {
   "cell_type": "code",
   "execution_count": 26,
   "metadata": {},
   "outputs": [
    {
     "data": {
      "text/html": [
       "\n",
       "\n",
       "\n",
       "\n",
       "\n",
       "\n",
       "  <div class=\"bk-root\" id=\"3058ca17-e6fc-4e2c-a5d4-b540e9105035\"></div>\n"
      ]
     },
     "metadata": {},
     "output_type": "display_data"
    },
    {
     "data": {
      "application/javascript": [
       "(function(root) {\n",
       "  function embed_document(root) {\n",
       "    \n",
       "  var docs_json = {\"7f840729-8803-43d8-b1ac-477d93085e95\":{\"roots\":{\"references\":[{\"attributes\":{\"fill_alpha\":{\"value\":0.1},\"fill_color\":{\"value\":\"#1f77b4\"},\"height\":{\"units\":\"data\",\"value\":0.001},\"line_alpha\":{\"value\":0.1},\"line_color\":{\"value\":\"#1f77b4\"},\"width\":{\"units\":\"data\",\"value\":0.2},\"x\":{\"field\":\"x\"},\"y\":{\"field\":\"y\"}},\"id\":\"bcf9a3c3-984f-438f-86ef-b33bb86aa4ea\",\"type\":\"Rect\"},{\"attributes\":{\"data_source\":{\"id\":\"fae0bc68-be66-4b79-90a2-7ea88857cc91\",\"type\":\"ColumnDataSource\"},\"glyph\":{\"id\":\"78ec3d58-a900-4fc4-bfc6-89a18da30d97\",\"type\":\"Rect\"},\"hover_glyph\":null,\"muted_glyph\":null,\"name\":\"Whiskers\",\"nonselection_glyph\":{\"id\":\"af753980-8cb2-45e3-b2fb-6c1de689e08a\",\"type\":\"Rect\"},\"selection_glyph\":null,\"view\":{\"id\":\"81c23711-c53e-4803-8509-6c5412790028\",\"type\":\"CDSView\"}},\"id\":\"9432184b-1f2c-4da2-8063-5feb2c958677\",\"type\":\"GlyphRenderer\"},{\"attributes\":{\"data_source\":{\"id\":\"45e39572-1b0d-46d4-83b4-c57bc4930078\",\"type\":\"ColumnDataSource\"},\"glyph\":{\"id\":\"53fe6396-9583-4bec-b602-f9c980538966\",\"type\":\"Rect\"},\"hover_glyph\":null,\"muted_glyph\":null,\"name\":\"Whiskers\",\"nonselection_glyph\":{\"id\":\"bcf9a3c3-984f-438f-86ef-b33bb86aa4ea\",\"type\":\"Rect\"},\"selection_glyph\":null,\"view\":{\"id\":\"0dc2c942-6a2e-420e-ad57-23ba84ff6de9\",\"type\":\"CDSView\"}},\"id\":\"1e8a42b9-149c-402a-9d83-746fbc6a7dcc\",\"type\":\"GlyphRenderer\"},{\"attributes\":{\"source\":{\"id\":\"45e39572-1b0d-46d4-83b4-c57bc4930078\",\"type\":\"ColumnDataSource\"}},\"id\":\"0dc2c942-6a2e-420e-ad57-23ba84ff6de9\",\"type\":\"CDSView\"},{\"attributes\":{\"callback\":null,\"data\":{\"x\":[\"E2\",\"E2\"],\"y\":[149.0260009765625,151.77105712890625]},\"selected\":{\"id\":\"1bfc8d0e-3acd-43a5-93c8-3c48a6cd1cd1\",\"type\":\"Selection\"},\"selection_policy\":{\"id\":\"ee884ef7-14ab-4e4e-9ed4-db688255ad07\",\"type\":\"UnionRenderers\"}},\"id\":\"79e08f8d-6144-4114-bb79-3d2ca55ddea2\",\"type\":\"ColumnDataSource\"},{\"attributes\":{\"fill_color\":{\"value\":\"#1f77b4\"},\"height\":{\"units\":\"data\",\"value\":0.001},\"line_color\":{\"value\":\"deepskyblue\"},\"width\":{\"units\":\"data\",\"value\":0.2},\"x\":{\"field\":\"x\"},\"y\":{\"field\":\"y\"}},\"id\":\"6c4bc78c-3103-4210-b838-db99a36f82c6\",\"type\":\"Rect\"},{\"attributes\":{},\"id\":\"69aef4c4-d49b-4d53-91a9-bee40a05006d\",\"type\":\"UnionRenderers\"},{\"attributes\":{\"fill_alpha\":{\"value\":0.1},\"fill_color\":{\"value\":\"#1f77b4\"},\"height\":{\"units\":\"data\",\"value\":0.001},\"line_alpha\":{\"value\":0.1},\"line_color\":{\"value\":\"#1f77b4\"},\"width\":{\"units\":\"data\",\"value\":0.2},\"x\":{\"field\":\"x\"},\"y\":{\"field\":\"y\"}},\"id\":\"250f9369-bc36-4cb0-baa3-f8efc6b50f4e\",\"type\":\"Rect\"},{\"attributes\":{\"data_source\":{\"id\":\"79e08f8d-6144-4114-bb79-3d2ca55ddea2\",\"type\":\"ColumnDataSource\"},\"glyph\":{\"id\":\"6c4bc78c-3103-4210-b838-db99a36f82c6\",\"type\":\"Rect\"},\"hover_glyph\":null,\"muted_glyph\":null,\"name\":\"Whiskers\",\"nonselection_glyph\":{\"id\":\"250f9369-bc36-4cb0-baa3-f8efc6b50f4e\",\"type\":\"Rect\"},\"selection_glyph\":null,\"view\":{\"id\":\"33cec79f-d6b8-46eb-b0de-2e311a25ac9b\",\"type\":\"CDSView\"}},\"id\":\"e93ce923-91e0-4594-ac83-a329726cf6ec\",\"type\":\"GlyphRenderer\"},{\"attributes\":{\"callback\":null,\"names\":[\"Whiskers\"],\"renderers\":\"auto\",\"tooltips\":[[\"Dia\",\"@y mm\"]]},\"id\":\"90f7428c-82f3-4d29-a65a-018f73a813e9\",\"type\":\"HoverTool\"},{\"attributes\":{\"below\":[{\"id\":\"d5735ebe-9d0a-47c2-8356-a14c36623e04\",\"type\":\"CategoricalAxis\"}],\"left\":[{\"id\":\"842cd7c7-acd6-4b08-933c-6d925f0ff6ea\",\"type\":\"LinearAxis\"}],\"plot_width\":1400,\"renderers\":[{\"id\":\"d5735ebe-9d0a-47c2-8356-a14c36623e04\",\"type\":\"CategoricalAxis\"},{\"id\":\"46f359a6-f231-43e9-885f-3fec3d6078ba\",\"type\":\"Grid\"},{\"id\":\"842cd7c7-acd6-4b08-933c-6d925f0ff6ea\",\"type\":\"LinearAxis\"},{\"id\":\"70bf4462-2063-4748-bc30-8da64cf3ede7\",\"type\":\"Grid\"},{\"id\":\"d431efaf-290f-4345-8b87-8b0e447c7431\",\"type\":\"BoxAnnotation\"},{\"id\":\"780f12ed-03d2-4338-be69-0bc7087a550b\",\"type\":\"Legend\"},{\"id\":\"81d5d6b4-cc00-4688-9de3-8b60cc350c33\",\"type\":\"GlyphRenderer\"},{\"id\":\"b2362191-c57d-4376-a344-ccf4a5bba083\",\"type\":\"GlyphRenderer\"},{\"id\":\"cae7e855-d6ec-4442-b3bc-c5afb3cf3f64\",\"type\":\"GlyphRenderer\"},{\"id\":\"c0a9ad6f-560f-47e0-b3ca-9a52e35e026a\",\"type\":\"GlyphRenderer\"},{\"id\":\"57629a75-e2f1-468c-9832-a0146e5ffe89\",\"type\":\"GlyphRenderer\"},{\"id\":\"87c07dfa-ef90-4afa-9ad0-dd8ac547e5d8\",\"type\":\"GlyphRenderer\"},{\"id\":\"33fddcf6-9914-4d56-956f-3f6c8f8afc79\",\"type\":\"GlyphRenderer\"},{\"id\":\"d759479a-f021-42b6-b229-b61fa0bea1d5\",\"type\":\"GlyphRenderer\"},{\"id\":\"02a00cd7-4f2e-4bb7-8293-e1b23470dcf3\",\"type\":\"GlyphRenderer\"},{\"id\":\"7865b3f9-56cc-41b7-99d4-f8a729a234e1\",\"type\":\"GlyphRenderer\"},{\"id\":\"5ff31a77-6242-4791-97f4-52a20064a383\",\"type\":\"GlyphRenderer\"},{\"id\":\"d9c885f2-6e18-4609-abcf-319be51b9a3c\",\"type\":\"GlyphRenderer\"},{\"id\":\"569341b4-aae6-4c6d-9fc8-829817c5f58a\",\"type\":\"GlyphRenderer\"},{\"id\":\"dac92823-eac8-4195-8dee-5cb174d9a065\",\"type\":\"GlyphRenderer\"},{\"id\":\"e7f3e8b1-0334-47e5-b0df-bc159f853aaa\",\"type\":\"GlyphRenderer\"},{\"id\":\"16243104-f059-41b9-aea7-9fdc0b3bcda8\",\"type\":\"GlyphRenderer\"},{\"id\":\"cb917bdd-a200-4c83-9f50-4cf50d0ba565\",\"type\":\"GlyphRenderer\"},{\"id\":\"2af9df44-3fe0-4212-9265-7ba9e167bc70\",\"type\":\"GlyphRenderer\"},{\"id\":\"1e8a42b9-149c-402a-9d83-746fbc6a7dcc\",\"type\":\"GlyphRenderer\"},{\"id\":\"e93ce923-91e0-4594-ac83-a329726cf6ec\",\"type\":\"GlyphRenderer\"},{\"id\":\"aaf4bc88-e3aa-40c7-8c16-630f0d4f4e56\",\"type\":\"GlyphRenderer\"},{\"id\":\"0f85126b-a3ca-4267-9411-e95c963951c8\",\"type\":\"GlyphRenderer\"},{\"id\":\"4dd61a0c-f3bb-4bd7-bae7-4244101d023d\",\"type\":\"GlyphRenderer\"},{\"id\":\"8a8db96c-c291-462c-a78a-22c6f94d53ca\",\"type\":\"GlyphRenderer\"},{\"id\":\"76cd774c-9386-40ec-855a-e5d9bc59677b\",\"type\":\"GlyphRenderer\"},{\"id\":\"f749962a-d9e2-4506-a73f-481b46dca5b0\",\"type\":\"GlyphRenderer\"},{\"id\":\"887f3245-4b29-4c29-81de-28561c05754a\",\"type\":\"GlyphRenderer\"},{\"id\":\"a380718f-c38c-42cd-8f59-fef4ff3b7ed6\",\"type\":\"GlyphRenderer\"},{\"id\":\"d89cdda0-42d4-4146-83e4-2f84496316eb\",\"type\":\"GlyphRenderer\"},{\"id\":\"d73dae05-4748-4bae-81e5-fe2ab5faa6dd\",\"type\":\"GlyphRenderer\"},{\"id\":\"21139545-ea55-4000-bc72-003c71ca8b38\",\"type\":\"GlyphRenderer\"},{\"id\":\"0892b05d-41fd-49c1-a931-f7a07c137319\",\"type\":\"GlyphRenderer\"},{\"id\":\"9432184b-1f2c-4da2-8063-5feb2c958677\",\"type\":\"GlyphRenderer\"},{\"id\":\"44fea8ed-9728-4182-b58f-56220a13ed1e\",\"type\":\"GlyphRenderer\"},{\"id\":\"92220033-0a3f-48be-b0a7-7e781056e35c\",\"type\":\"GlyphRenderer\"},{\"id\":\"76ed106e-9b6e-427a-b8f7-5c3410440f2e\",\"type\":\"GlyphRenderer\"},{\"id\":\"671bd99d-0089-4260-8d4b-6c7ad7580412\",\"type\":\"GlyphRenderer\"},{\"id\":\"c0a0006d-2cc1-437f-8cf5-76e7300ef9c3\",\"type\":\"GlyphRenderer\"}],\"title\":{\"id\":\"22457fd8-ff3c-4a24-bf6b-42ffb61f662d\",\"type\":\"Title\"},\"toolbar\":{\"id\":\"31d4a5d6-9764-4dc4-9f2e-6c05eee8a161\",\"type\":\"Toolbar\"},\"x_range\":{\"id\":\"797ce721-f2b3-4078-8961-4aec7c1b5dae\",\"type\":\"FactorRange\"},\"x_scale\":{\"id\":\"31637db5-b1a7-4fb0-ae65-7751a34ccc02\",\"type\":\"CategoricalScale\"},\"y_range\":{\"id\":\"52525f2d-d195-4a64-af3b-4ffb6bdb4371\",\"type\":\"DataRange1d\"},\"y_scale\":{\"id\":\"0f3b5a1f-58c8-40c4-a388-a627f7eec496\",\"type\":\"LinearScale\"}},\"id\":\"3656b4b0-4d6f-4bb8-8bc0-73ee43bad44c\",\"subtype\":\"Figure\",\"type\":\"Plot\"},{\"attributes\":{\"source\":{\"id\":\"79e08f8d-6144-4114-bb79-3d2ca55ddea2\",\"type\":\"ColumnDataSource\"}},\"id\":\"33cec79f-d6b8-46eb-b0de-2e311a25ac9b\",\"type\":\"CDSView\"},{\"attributes\":{\"callback\":null,\"data\":{\"x\":[\"F1\",\"F1\"],\"y\":[145.31243896484375,152.22840881347656]},\"selected\":{\"id\":\"3dadc8a5-ed1d-4a33-bd67-0a59dbd759fb\",\"type\":\"Selection\"},\"selection_policy\":{\"id\":\"5c4cfc14-42bf-4afc-9ac8-65bc140bcb77\",\"type\":\"UnionRenderers\"}},\"id\":\"b72c248e-57ed-498a-b612-3f8ae021175a\",\"type\":\"ColumnDataSource\"},{\"attributes\":{\"fill_color\":{\"value\":\"#1f77b4\"},\"height\":{\"units\":\"data\",\"value\":0.001},\"line_color\":{\"value\":\"deepskyblue\"},\"width\":{\"units\":\"data\",\"value\":0.2},\"x\":{\"field\":\"x\"},\"y\":{\"field\":\"y\"}},\"id\":\"4cfc7c48-ab72-4beb-85fd-cc68ac91aeef\",\"type\":\"Rect\"},{\"attributes\":{\"callback\":null,\"names\":[\"DiaPoints\"],\"renderers\":\"auto\",\"tooltips\":[[\"HoV\",\"@x\"],[\"Dia\",\"@y mm\"]]},\"id\":\"72d357e1-a9c0-4a54-ba79-027cdc5d9e79\",\"type\":\"HoverTool\"},{\"attributes\":{\"plot\":null,\"text\":\"BNN MC DropOut - Dia Predictions with Confidence Interval\"},\"id\":\"22457fd8-ff3c-4a24-bf6b-42ffb61f662d\",\"type\":\"Title\"},{\"attributes\":{\"fill_alpha\":{\"value\":0.1},\"fill_color\":{\"value\":\"#1f77b4\"},\"height\":{\"units\":\"data\",\"value\":0.001},\"line_alpha\":{\"value\":0.1},\"line_color\":{\"value\":\"#1f77b4\"},\"width\":{\"units\":\"data\",\"value\":0.2},\"x\":{\"field\":\"x\"},\"y\":{\"field\":\"y\"}},\"id\":\"4d2abf44-f43f-4d74-ad54-2c4808c9c292\",\"type\":\"Rect\"},{\"attributes\":{\"data_source\":{\"id\":\"b72c248e-57ed-498a-b612-3f8ae021175a\",\"type\":\"ColumnDataSource\"},\"glyph\":{\"id\":\"4cfc7c48-ab72-4beb-85fd-cc68ac91aeef\",\"type\":\"Rect\"},\"hover_glyph\":null,\"muted_glyph\":null,\"name\":\"Whiskers\",\"nonselection_glyph\":{\"id\":\"4d2abf44-f43f-4d74-ad54-2c4808c9c292\",\"type\":\"Rect\"},\"selection_glyph\":null,\"view\":{\"id\":\"0d47742e-2d5a-47ed-a425-f1045537197c\",\"type\":\"CDSView\"}},\"id\":\"aaf4bc88-e3aa-40c7-8c16-630f0d4f4e56\",\"type\":\"GlyphRenderer\"},{\"attributes\":{\"source\":{\"id\":\"b72c248e-57ed-498a-b612-3f8ae021175a\",\"type\":\"ColumnDataSource\"}},\"id\":\"0d47742e-2d5a-47ed-a425-f1045537197c\",\"type\":\"CDSView\"},{\"attributes\":{\"active_drag\":\"auto\",\"active_inspect\":\"auto\",\"active_multi\":null,\"active_scroll\":\"auto\",\"active_tap\":\"auto\",\"tools\":[{\"id\":\"09b12688-2c70-469a-a747-247ae043bdde\",\"type\":\"PanTool\"},{\"id\":\"de23685c-6208-462a-b275-787436b1f167\",\"type\":\"WheelZoomTool\"},{\"id\":\"6a4d2e52-fc4d-472c-99d9-aa886cd1e2e1\",\"type\":\"BoxZoomTool\"},{\"id\":\"0ffe59cb-4865-4961-8eab-e482df14ba81\",\"type\":\"SaveTool\"},{\"id\":\"99654de4-aef3-4a31-a0b3-9f1739f3d876\",\"type\":\"ResetTool\"},{\"id\":\"c54f4458-a71e-4a46-9c3f-968af4ba9c7c\",\"type\":\"HelpTool\"},{\"id\":\"72d357e1-a9c0-4a54-ba79-027cdc5d9e79\",\"type\":\"HoverTool\"},{\"id\":\"90f7428c-82f3-4d29-a65a-018f73a813e9\",\"type\":\"HoverTool\"},{\"id\":\"813874c9-9417-4d32-9bec-bc662b6361f8\",\"type\":\"HoverTool\"}]},\"id\":\"31d4a5d6-9764-4dc4-9f2e-6c05eee8a161\",\"type\":\"Toolbar\"},{\"attributes\":{\"callback\":null,\"data\":{\"x\":[\"F2\",\"F2\"],\"y\":[145.6858367919922,150.91265869140625]},\"selected\":{\"id\":\"45ad3f05-07d5-49a6-83a7-8359fbac59f4\",\"type\":\"Selection\"},\"selection_policy\":{\"id\":\"cd0bb47a-0f68-4a64-8ff6-56538a3b8de9\",\"type\":\"UnionRenderers\"}},\"id\":\"bf014a00-49d1-40a4-bfab-a3f9284f3ee5\",\"type\":\"ColumnDataSource\"},{\"attributes\":{\"fill_color\":{\"value\":\"#1f77b4\"},\"height\":{\"units\":\"data\",\"value\":0.001},\"line_color\":{\"value\":\"deepskyblue\"},\"width\":{\"units\":\"data\",\"value\":0.2},\"x\":{\"field\":\"x\"},\"y\":{\"field\":\"y\"}},\"id\":\"6d1f3256-1e5b-4d6f-99b2-f7a9f407c735\",\"type\":\"Rect\"},{\"attributes\":{},\"id\":\"11bbc88a-5ab1-40b8-847e-4e36b3047324\",\"type\":\"UnionRenderers\"},{\"attributes\":{\"fill_alpha\":{\"value\":0.1},\"fill_color\":{\"value\":\"#1f77b4\"},\"height\":{\"units\":\"data\",\"value\":0.001},\"line_alpha\":{\"value\":0.1},\"line_color\":{\"value\":\"#1f77b4\"},\"width\":{\"units\":\"data\",\"value\":0.2},\"x\":{\"field\":\"x\"},\"y\":{\"field\":\"y\"}},\"id\":\"5575cf85-4b81-40cf-8f81-f43a2b320cea\",\"type\":\"Rect\"},{\"attributes\":{\"data_source\":{\"id\":\"bf014a00-49d1-40a4-bfab-a3f9284f3ee5\",\"type\":\"ColumnDataSource\"},\"glyph\":{\"id\":\"6d1f3256-1e5b-4d6f-99b2-f7a9f407c735\",\"type\":\"Rect\"},\"hover_glyph\":null,\"muted_glyph\":null,\"name\":\"Whiskers\",\"nonselection_glyph\":{\"id\":\"5575cf85-4b81-40cf-8f81-f43a2b320cea\",\"type\":\"Rect\"},\"selection_glyph\":null,\"view\":{\"id\":\"2aeec707-d5a8-4c79-b5c3-440c52ff2378\",\"type\":\"CDSView\"}},\"id\":\"0f85126b-a3ca-4267-9411-e95c963951c8\",\"type\":\"GlyphRenderer\"},{\"attributes\":{\"source\":{\"id\":\"bf014a00-49d1-40a4-bfab-a3f9284f3ee5\",\"type\":\"ColumnDataSource\"}},\"id\":\"2aeec707-d5a8-4c79-b5c3-440c52ff2378\",\"type\":\"CDSView\"},{\"attributes\":{\"click_policy\":\"hide\",\"items\":[{\"id\":\"adc07b7e-d277-4ac5-a915-6f40caa123f5\",\"type\":\"LegendItem\"},{\"id\":\"aa6b57f5-3797-482f-93e7-1a721f63e14a\",\"type\":\"LegendItem\"},{\"id\":\"681cb186-0adc-490f-a952-bfcf88d86ff4\",\"type\":\"LegendItem\"},{\"id\":\"6cb722b6-2e84-4566-bd59-0eb3a15e5b21\",\"type\":\"LegendItem\"}],\"location\":\"top_center\",\"plot\":{\"id\":\"3656b4b0-4d6f-4bb8-8bc0-73ee43bad44c\",\"subtype\":\"Figure\",\"type\":\"Plot\"}},\"id\":\"780f12ed-03d2-4338-be69-0bc7087a550b\",\"type\":\"Legend\"},{\"attributes\":{\"callback\":null,\"data\":{\"x\":[\"F3\",\"F3\"],\"y\":[147.52989196777344,155.57383728027344]},\"selected\":{\"id\":\"69c1f25a-2ea2-492d-be2a-dd0aee3ff1e5\",\"type\":\"Selection\"},\"selection_policy\":{\"id\":\"164c537e-9b0b-4fcf-9928-daa4890b2e15\",\"type\":\"UnionRenderers\"}},\"id\":\"1d83d4bf-edcc-48d7-9aba-9aa1ec34e14a\",\"type\":\"ColumnDataSource\"},{\"attributes\":{\"axis_label\":\"Diameter Predictions (mm)\",\"formatter\":{\"id\":\"f2eeeff0-bc7f-4d1a-b4ed-4b940bb44509\",\"type\":\"BasicTickFormatter\"},\"plot\":{\"id\":\"3656b4b0-4d6f-4bb8-8bc0-73ee43bad44c\",\"subtype\":\"Figure\",\"type\":\"Plot\"},\"ticker\":{\"id\":\"12336e10-81b4-40f9-acdb-5f8ec77c2c5d\",\"type\":\"BasicTicker\"}},\"id\":\"842cd7c7-acd6-4b08-933c-6d925f0ff6ea\",\"type\":\"LinearAxis\"},{\"attributes\":{\"fill_color\":{\"value\":\"#1f77b4\"},\"height\":{\"units\":\"data\",\"value\":0.001},\"line_color\":{\"value\":\"deepskyblue\"},\"width\":{\"units\":\"data\",\"value\":0.2},\"x\":{\"field\":\"x\"},\"y\":{\"field\":\"y\"}},\"id\":\"e9704033-78b5-4a7a-b907-67f896f602c3\",\"type\":\"Rect\"},{\"attributes\":{\"axis_label\":\"Head of Versions\",\"formatter\":{\"id\":\"2e5df0d7-a1a9-4f20-9962-2c866087c12c\",\"type\":\"CategoricalTickFormatter\"},\"plot\":{\"id\":\"3656b4b0-4d6f-4bb8-8bc0-73ee43bad44c\",\"subtype\":\"Figure\",\"type\":\"Plot\"},\"ticker\":{\"id\":\"4be203c0-74f1-4fc7-8be7-68540115c6ed\",\"type\":\"CategoricalTicker\"}},\"id\":\"d5735ebe-9d0a-47c2-8356-a14c36623e04\",\"type\":\"CategoricalAxis\"},{\"attributes\":{\"fill_alpha\":{\"value\":0.1},\"fill_color\":{\"value\":\"#1f77b4\"},\"height\":{\"units\":\"data\",\"value\":0.001},\"line_alpha\":{\"value\":0.1},\"line_color\":{\"value\":\"#1f77b4\"},\"width\":{\"units\":\"data\",\"value\":0.2},\"x\":{\"field\":\"x\"},\"y\":{\"field\":\"y\"}},\"id\":\"a9e26e18-e213-4570-830b-888d252ca93b\",\"type\":\"Rect\"},{\"attributes\":{\"data_source\":{\"id\":\"1d83d4bf-edcc-48d7-9aba-9aa1ec34e14a\",\"type\":\"ColumnDataSource\"},\"glyph\":{\"id\":\"e9704033-78b5-4a7a-b907-67f896f602c3\",\"type\":\"Rect\"},\"hover_glyph\":null,\"muted_glyph\":null,\"name\":\"Whiskers\",\"nonselection_glyph\":{\"id\":\"a9e26e18-e213-4570-830b-888d252ca93b\",\"type\":\"Rect\"},\"selection_glyph\":null,\"view\":{\"id\":\"d8e6ce1f-49ba-4265-a3f1-9e91950de65d\",\"type\":\"CDSView\"}},\"id\":\"4dd61a0c-f3bb-4bd7-bae7-4244101d023d\",\"type\":\"GlyphRenderer\"},{\"attributes\":{},\"id\":\"4be203c0-74f1-4fc7-8be7-68540115c6ed\",\"type\":\"CategoricalTicker\"},{\"attributes\":{\"plot\":{\"id\":\"3656b4b0-4d6f-4bb8-8bc0-73ee43bad44c\",\"subtype\":\"Figure\",\"type\":\"Plot\"},\"ticker\":{\"id\":\"4be203c0-74f1-4fc7-8be7-68540115c6ed\",\"type\":\"CategoricalTicker\"}},\"id\":\"46f359a6-f231-43e9-885f-3fec3d6078ba\",\"type\":\"Grid\"},{\"attributes\":{\"source\":{\"id\":\"1d83d4bf-edcc-48d7-9aba-9aa1ec34e14a\",\"type\":\"ColumnDataSource\"}},\"id\":\"d8e6ce1f-49ba-4265-a3f1-9e91950de65d\",\"type\":\"CDSView\"},{\"attributes\":{\"callback\":null,\"data\":{\"xs\":[[\"A1\",\"A1\"],[\"A2\",\"A2\"],[\"A3\",\"A3\"],[\"A4\",\"A4\"],[\"A5\",\"A5\"],[\"A6\",\"A6\"],[\"C1\",\"C1\"],[\"C2\",\"C2\"],[\"C3\",\"C3\"],[\"C4\",\"C4\"],[\"C5\",\"C5\"],[\"C6\",\"C6\"],[\"D1\",\"D1\"],[\"D2\",\"D2\"],[\"E1\",\"E1\"],[\"E2\",\"E2\"],[\"F1\",\"F1\"],[\"F2\",\"F2\"],[\"F3\",\"F3\"],[\"H1\",\"H1\"],[\"I1\",\"I1\"],[\"J1\",\"J1\"],[\"M1\",\"M1\"],[\"M2\",\"M2\"],[\"P1\",\"P1\"],[\"Q1\",\"Q1\"],[\"Q2\",\"Q2\"],[\"S1\",\"S1\"],[\"S2\",\"S2\"],[\"S3\",\"S3\"],[\"S4\",\"S4\"],[\"S5\",\"S5\"],[\"T1\",\"T1\"],[\"T2\",\"T2\"]],\"ys\":[[148.1375274658203,151.1905975341797],[148.1639404296875,151.1243438720703],[150.8431854248047,155.7587432861328],[150.35140991210938,155.18760681152344],[145.45294189453125,152.34715270996094],[147.50942993164062,150.65049743652344],[147.4407501220703,151.15634155273438],[151.49266052246094,154.74720764160156],[150.3904571533203,153.12661743164062],[148.07901000976562,152.7500457763672],[150.38034057617188,154.1722869873047],[151.37979125976562,156.9951934814453],[149.92007446289062,151.46253967285156],[147.0724639892578,151.52755737304688],[147.9278106689453,151.423095703125],[149.0260009765625,151.77105712890625],[145.31243896484375,152.22840881347656],[145.6858367919922,150.91265869140625],[147.52989196777344,155.57383728027344],[145.4483184814453,161.35391235351562],[150.2334442138672,152.8231964111328],[147.42117309570312,151.0707244873047],[150.6992645263672,158.22406005859375],[151.56320190429688,155.60243225097656],[149.81329345703125,155.71617126464844],[143.758056640625,154.0477752685547],[148.1434783935547,151.00779724121094],[150.6898651123047,155.55661010742188],[147.93765258789062,151.4568328857422],[149.20425415039062,151.72158813476562],[149.60479736328125,153.35128784179688],[154.5840606689453,160.6728057861328],[146.53074645996094,151.1573944091797],[148.26441955566406,151.9889373779297]]},\"selected\":{\"id\":\"8090f6ca-b30b-4220-bdc0-b387eccc41bb\",\"type\":\"Selection\"},\"selection_policy\":{\"id\":\"cc6619fb-6825-4b7d-a5fb-e47b213820c9\",\"type\":\"UnionRenderers\"}},\"id\":\"3594ebbe-fa58-429e-859d-f1b05aea4e04\",\"type\":\"ColumnDataSource\"},{\"attributes\":{\"callback\":null,\"data\":{\"x\":[\"H1\",\"H1\"],\"y\":[145.4483184814453,161.35391235351562]},\"selected\":{\"id\":\"778b06fb-367d-4828-bdcf-66227cbf27be\",\"type\":\"Selection\"},\"selection_policy\":{\"id\":\"44739c0e-88c8-4770-99b5-76b244f3f284\",\"type\":\"UnionRenderers\"}},\"id\":\"c657c2a6-12ee-4d17-8425-7809015e7fec\",\"type\":\"ColumnDataSource\"},{\"attributes\":{},\"id\":\"12336e10-81b4-40f9-acdb-5f8ec77c2c5d\",\"type\":\"BasicTicker\"},{\"attributes\":{\"fill_color\":{\"value\":\"#1f77b4\"},\"height\":{\"units\":\"data\",\"value\":0.001},\"line_color\":{\"value\":\"deepskyblue\"},\"width\":{\"units\":\"data\",\"value\":0.2},\"x\":{\"field\":\"x\"},\"y\":{\"field\":\"y\"}},\"id\":\"fec3cced-2a20-4d1c-9cc6-b44ab21250ea\",\"type\":\"Rect\"},{\"attributes\":{\"dimension\":1,\"plot\":{\"id\":\"3656b4b0-4d6f-4bb8-8bc0-73ee43bad44c\",\"subtype\":\"Figure\",\"type\":\"Plot\"},\"ticker\":{\"id\":\"12336e10-81b4-40f9-acdb-5f8ec77c2c5d\",\"type\":\"BasicTicker\"}},\"id\":\"70bf4462-2063-4748-bc30-8da64cf3ede7\",\"type\":\"Grid\"},{\"attributes\":{\"fill_alpha\":{\"value\":0.1},\"fill_color\":{\"value\":\"#1f77b4\"},\"height\":{\"units\":\"data\",\"value\":0.001},\"line_alpha\":{\"value\":0.1},\"line_color\":{\"value\":\"#1f77b4\"},\"width\":{\"units\":\"data\",\"value\":0.2},\"x\":{\"field\":\"x\"},\"y\":{\"field\":\"y\"}},\"id\":\"341ef051-f6ad-4966-86a7-bba4506a36eb\",\"type\":\"Rect\"},{\"attributes\":{\"bottom_units\":\"screen\",\"fill_alpha\":{\"value\":0.5},\"fill_color\":{\"value\":\"lightgrey\"},\"left_units\":\"screen\",\"level\":\"overlay\",\"line_alpha\":{\"value\":1.0},\"line_color\":{\"value\":\"black\"},\"line_dash\":[4,4],\"line_width\":{\"value\":2},\"plot\":null,\"render_mode\":\"css\",\"right_units\":\"screen\",\"top_units\":\"screen\"},\"id\":\"d431efaf-290f-4345-8b87-8b0e447c7431\",\"type\":\"BoxAnnotation\"},{\"attributes\":{\"data_source\":{\"id\":\"c657c2a6-12ee-4d17-8425-7809015e7fec\",\"type\":\"ColumnDataSource\"},\"glyph\":{\"id\":\"fec3cced-2a20-4d1c-9cc6-b44ab21250ea\",\"type\":\"Rect\"},\"hover_glyph\":null,\"muted_glyph\":null,\"name\":\"Whiskers\",\"nonselection_glyph\":{\"id\":\"341ef051-f6ad-4966-86a7-bba4506a36eb\",\"type\":\"Rect\"},\"selection_glyph\":null,\"view\":{\"id\":\"7d6a28b4-c299-45a0-8af5-ff6403258f61\",\"type\":\"CDSView\"}},\"id\":\"8a8db96c-c291-462c-a78a-22c6f94d53ca\",\"type\":\"GlyphRenderer\"},{\"attributes\":{\"callback\":null,\"data\":{\"xs\":[[\"A1\",\"A1\"],[\"A2\",\"A2\"],[\"A3\",\"A3\"],[\"A4\",\"A4\"],[\"A5\",\"A5\"],[\"A6\",\"A6\"],[\"C1\",\"C1\"],[\"C2\",\"C2\"],[\"C3\",\"C3\"],[\"C4\",\"C4\"],[\"C5\",\"C5\"],[\"C6\",\"C6\"],[\"D1\",\"D1\"],[\"D2\",\"D2\"],[\"E1\",\"E1\"],[\"E2\",\"E2\"],[\"F1\",\"F1\"],[\"F2\",\"F2\"],[\"F3\",\"F3\"],[\"H1\",\"H1\"],[\"I1\",\"I1\"],[\"J1\",\"J1\"],[\"M1\",\"M1\"],[\"M2\",\"M2\"],[\"P1\",\"P1\"],[\"Q1\",\"Q1\"],[\"Q2\",\"Q2\"],[\"S1\",\"S1\"],[\"S2\",\"S2\"],[\"S3\",\"S3\"],[\"S4\",\"S4\"],[\"S5\",\"S5\"],[\"T1\",\"T1\"],[\"T2\",\"T2\"]],\"ys\":[[148.50817218733764,149.5684500965979],[148.5269953077199,149.54366490956525],[151.57017134169917,152.7126375877442],[152.85453164014862,154.4755618351932],[147.2067253049597,148.5745907350794],[147.38479632771583,148.49238729655173],[147.50280025641126,148.65775766595203],[152.58329029207124,153.38747725553617],[151.61898289972805,152.32596799748876],[149.34425733850904,150.63136299230152],[151.5319413977346,152.2890664147654],[153.3381879390464,154.24572450602193],[150.71831651598671,150.92285517590784],[147.6670973980771,149.11082746764555],[147.69030426972185,148.9761682034227],[148.9551737035764,149.86385025272244],[145.12455143831332,147.80542909147184],[145.43862829747718,147.2857511886068],[147.3010103174677,149.14574657950496],[147.09614718126545,149.08103992200603],[151.52017880740885,152.19338872799153],[147.41221842985468,148.74426661653203],[152.86070013965886,154.68094307933526],[153.45705878742226,154.4486692399215],[153.11440525729378,154.94842475979604],[147.16903891587415,149.1835828492626],[148.17154587232557,149.24123342454942],[154.27892830761175,155.34306738940973],[147.98626363198002,149.1437981661157],[149.58741626483524,150.22089898174679],[149.74731358766002,150.84014576292594],[158.43743304030593,160.55266458542647],[147.04727891569823,148.61400511140138],[148.09923660499882,149.29432540671993]]},\"selected\":{\"id\":\"6bbad0c7-5f34-4894-bfe4-b450f6de29ef\",\"type\":\"Selection\"},\"selection_policy\":{\"id\":\"54db9221-b361-4219-a0b0-7940b0a82199\",\"type\":\"UnionRenderers\"}},\"id\":\"da2297d1-03f1-4ed3-94d2-7f50bc70425e\",\"type\":\"ColumnDataSource\"},{\"attributes\":{\"source\":{\"id\":\"c657c2a6-12ee-4d17-8425-7809015e7fec\",\"type\":\"ColumnDataSource\"}},\"id\":\"7d6a28b4-c299-45a0-8af5-ff6403258f61\",\"type\":\"CDSView\"},{\"attributes\":{\"callback\":null,\"data\":{\"x\":[\"I1\",\"I1\"],\"y\":[150.2334442138672,152.8231964111328]},\"selected\":{\"id\":\"cdefee6e-5e11-4f79-8b6d-a0bd127ffe89\",\"type\":\"Selection\"},\"selection_policy\":{\"id\":\"2d716295-c1f4-4b94-81d9-9a1f52974f36\",\"type\":\"UnionRenderers\"}},\"id\":\"29430749-d1de-40ad-9141-8909c2b05c14\",\"type\":\"ColumnDataSource\"},{\"attributes\":{\"fill_color\":{\"value\":\"#1f77b4\"},\"height\":{\"units\":\"data\",\"value\":0.001},\"line_color\":{\"value\":\"deepskyblue\"},\"width\":{\"units\":\"data\",\"value\":0.2},\"x\":{\"field\":\"x\"},\"y\":{\"field\":\"y\"}},\"id\":\"17e759cc-ff06-4c4d-a0f3-8ff5a304e701\",\"type\":\"Rect\"},{\"attributes\":{\"callback\":null,\"names\":[\"LinePlot\"],\"renderers\":\"auto\",\"tooltips\":[[\"Dia\",\"$y mm\"]]},\"id\":\"813874c9-9417-4d32-9bec-bc662b6361f8\",\"type\":\"HoverTool\"},{\"attributes\":{\"fill_alpha\":{\"value\":0.1},\"fill_color\":{\"value\":\"#1f77b4\"},\"height\":{\"units\":\"data\",\"value\":0.001},\"line_alpha\":{\"value\":0.1},\"line_color\":{\"value\":\"#1f77b4\"},\"width\":{\"units\":\"data\",\"value\":0.2},\"x\":{\"field\":\"x\"},\"y\":{\"field\":\"y\"}},\"id\":\"34dfb04a-4514-454b-bf66-6a87e4d48b04\",\"type\":\"Rect\"},{\"attributes\":{},\"id\":\"09b12688-2c70-469a-a747-247ae043bdde\",\"type\":\"PanTool\"},{\"attributes\":{\"data_source\":{\"id\":\"29430749-d1de-40ad-9141-8909c2b05c14\",\"type\":\"ColumnDataSource\"},\"glyph\":{\"id\":\"17e759cc-ff06-4c4d-a0f3-8ff5a304e701\",\"type\":\"Rect\"},\"hover_glyph\":null,\"muted_glyph\":null,\"name\":\"Whiskers\",\"nonselection_glyph\":{\"id\":\"34dfb04a-4514-454b-bf66-6a87e4d48b04\",\"type\":\"Rect\"},\"selection_glyph\":null,\"view\":{\"id\":\"db374db9-2263-49ca-aad4-6072fc112f03\",\"type\":\"CDSView\"}},\"id\":\"76cd774c-9386-40ec-855a-e5d9bc59677b\",\"type\":\"GlyphRenderer\"},{\"attributes\":{\"source\":{\"id\":\"29430749-d1de-40ad-9141-8909c2b05c14\",\"type\":\"ColumnDataSource\"}},\"id\":\"db374db9-2263-49ca-aad4-6072fc112f03\",\"type\":\"CDSView\"},{\"attributes\":{},\"id\":\"de23685c-6208-462a-b275-787436b1f167\",\"type\":\"WheelZoomTool\"},{\"attributes\":{\"callback\":null,\"data\":{\"x\":[\"J1\",\"J1\"],\"y\":[147.42117309570312,151.0707244873047]},\"selected\":{\"id\":\"18b87b14-09ad-4726-be1d-a1aad7c1aa43\",\"type\":\"Selection\"},\"selection_policy\":{\"id\":\"ef89934b-41a0-4538-8a72-cd9dc93b6e2f\",\"type\":\"UnionRenderers\"}},\"id\":\"7694fcb2-d055-4332-a740-a15631dffdf0\",\"type\":\"ColumnDataSource\"},{\"attributes\":{\"overlay\":{\"id\":\"d431efaf-290f-4345-8b87-8b0e447c7431\",\"type\":\"BoxAnnotation\"}},\"id\":\"6a4d2e52-fc4d-472c-99d9-aa886cd1e2e1\",\"type\":\"BoxZoomTool\"},{\"attributes\":{\"fill_color\":{\"value\":\"#1f77b4\"},\"height\":{\"units\":\"data\",\"value\":0.001},\"line_color\":{\"value\":\"deepskyblue\"},\"width\":{\"units\":\"data\",\"value\":0.2},\"x\":{\"field\":\"x\"},\"y\":{\"field\":\"y\"}},\"id\":\"b2d0bfb6-7205-4644-a04c-b09e2897fcc5\",\"type\":\"Rect\"},{\"attributes\":{},\"id\":\"0ffe59cb-4865-4961-8eab-e482df14ba81\",\"type\":\"SaveTool\"},{\"attributes\":{\"fill_alpha\":{\"value\":0.1},\"fill_color\":{\"value\":\"#1f77b4\"},\"height\":{\"units\":\"data\",\"value\":0.001},\"line_alpha\":{\"value\":0.1},\"line_color\":{\"value\":\"#1f77b4\"},\"width\":{\"units\":\"data\",\"value\":0.2},\"x\":{\"field\":\"x\"},\"y\":{\"field\":\"y\"}},\"id\":\"b4fc9e13-3e5b-4b15-b428-4daff9b3b404\",\"type\":\"Rect\"},{\"attributes\":{},\"id\":\"99654de4-aef3-4a31-a0b3-9f1739f3d876\",\"type\":\"ResetTool\"},{\"attributes\":{\"data_source\":{\"id\":\"7694fcb2-d055-4332-a740-a15631dffdf0\",\"type\":\"ColumnDataSource\"},\"glyph\":{\"id\":\"b2d0bfb6-7205-4644-a04c-b09e2897fcc5\",\"type\":\"Rect\"},\"hover_glyph\":null,\"muted_glyph\":null,\"name\":\"Whiskers\",\"nonselection_glyph\":{\"id\":\"b4fc9e13-3e5b-4b15-b428-4daff9b3b404\",\"type\":\"Rect\"},\"selection_glyph\":null,\"view\":{\"id\":\"a12f3b74-ca0b-4e7b-979a-0d0068da59d0\",\"type\":\"CDSView\"}},\"id\":\"f749962a-d9e2-4506-a73f-481b46dca5b0\",\"type\":\"GlyphRenderer\"},{\"attributes\":{},\"id\":\"c54f4458-a71e-4a46-9c3f-968af4ba9c7c\",\"type\":\"HelpTool\"},{\"attributes\":{\"source\":{\"id\":\"7694fcb2-d055-4332-a740-a15631dffdf0\",\"type\":\"ColumnDataSource\"}},\"id\":\"a12f3b74-ca0b-4e7b-979a-0d0068da59d0\",\"type\":\"CDSView\"},{\"attributes\":{\"callback\":null,\"data\":{\"x\":[\"M1\",\"M1\"],\"y\":[150.6992645263672,158.22406005859375]},\"selected\":{\"id\":\"ed79794c-f6db-4747-bf9b-451dba614745\",\"type\":\"Selection\"},\"selection_policy\":{\"id\":\"3f52d579-3d4c-4b67-a727-e8042b0bfdf2\",\"type\":\"UnionRenderers\"}},\"id\":\"ccd33a62-3a64-4b7b-8bf2-4ccf14b3218c\",\"type\":\"ColumnDataSource\"},{\"attributes\":{\"fill_color\":{\"value\":\"#1f77b4\"},\"height\":{\"units\":\"data\",\"value\":0.001},\"line_color\":{\"value\":\"deepskyblue\"},\"width\":{\"units\":\"data\",\"value\":0.2},\"x\":{\"field\":\"x\"},\"y\":{\"field\":\"y\"}},\"id\":\"40719cb4-a8f0-45ac-b480-638ad73662e2\",\"type\":\"Rect\"},{\"attributes\":{\"fill_alpha\":{\"value\":0.1},\"fill_color\":{\"value\":\"#1f77b4\"},\"height\":{\"units\":\"data\",\"value\":0.001},\"line_alpha\":{\"value\":0.1},\"line_color\":{\"value\":\"#1f77b4\"},\"width\":{\"units\":\"data\",\"value\":0.2},\"x\":{\"field\":\"x\"},\"y\":{\"field\":\"y\"}},\"id\":\"afe759ad-07ba-4541-a61a-46655a9a7064\",\"type\":\"Rect\"},{\"attributes\":{\"data_source\":{\"id\":\"ccd33a62-3a64-4b7b-8bf2-4ccf14b3218c\",\"type\":\"ColumnDataSource\"},\"glyph\":{\"id\":\"40719cb4-a8f0-45ac-b480-638ad73662e2\",\"type\":\"Rect\"},\"hover_glyph\":null,\"muted_glyph\":null,\"name\":\"Whiskers\",\"nonselection_glyph\":{\"id\":\"afe759ad-07ba-4541-a61a-46655a9a7064\",\"type\":\"Rect\"},\"selection_glyph\":null,\"view\":{\"id\":\"3be3d845-048d-4828-8a72-a2a12f7cfc15\",\"type\":\"CDSView\"}},\"id\":\"887f3245-4b29-4c29-81de-28561c05754a\",\"type\":\"GlyphRenderer\"},{\"attributes\":{\"source\":{\"id\":\"ccd33a62-3a64-4b7b-8bf2-4ccf14b3218c\",\"type\":\"ColumnDataSource\"}},\"id\":\"3be3d845-048d-4828-8a72-a2a12f7cfc15\",\"type\":\"CDSView\"},{\"attributes\":{\"callback\":null,\"data\":{\"x\":[\"M2\",\"M2\"],\"y\":[151.56320190429688,155.60243225097656]},\"selected\":{\"id\":\"0b9ac051-3011-45c5-98d0-bb6f619c2840\",\"type\":\"Selection\"},\"selection_policy\":{\"id\":\"7dd90927-ab3f-448c-8b3b-918cf79249df\",\"type\":\"UnionRenderers\"}},\"id\":\"7bd08be2-4660-453b-9171-89cfa446e785\",\"type\":\"ColumnDataSource\"},{\"attributes\":{\"fill_color\":{\"value\":\"#1f77b4\"},\"height\":{\"units\":\"data\",\"value\":0.001},\"line_color\":{\"value\":\"deepskyblue\"},\"width\":{\"units\":\"data\",\"value\":0.2},\"x\":{\"field\":\"x\"},\"y\":{\"field\":\"y\"}},\"id\":\"cfe65b65-4616-4dc9-8d29-521cf4cbbc8a\",\"type\":\"Rect\"},{\"attributes\":{\"fill_alpha\":{\"value\":0.1},\"fill_color\":{\"value\":\"#1f77b4\"},\"height\":{\"units\":\"data\",\"value\":0.001},\"line_alpha\":{\"value\":0.1},\"line_color\":{\"value\":\"#1f77b4\"},\"width\":{\"units\":\"data\",\"value\":0.2},\"x\":{\"field\":\"x\"},\"y\":{\"field\":\"y\"}},\"id\":\"28fae3dc-6239-4842-8d86-07cfef107831\",\"type\":\"Rect\"},{\"attributes\":{\"data_source\":{\"id\":\"7bd08be2-4660-453b-9171-89cfa446e785\",\"type\":\"ColumnDataSource\"},\"glyph\":{\"id\":\"cfe65b65-4616-4dc9-8d29-521cf4cbbc8a\",\"type\":\"Rect\"},\"hover_glyph\":null,\"muted_glyph\":null,\"name\":\"Whiskers\",\"nonselection_glyph\":{\"id\":\"28fae3dc-6239-4842-8d86-07cfef107831\",\"type\":\"Rect\"},\"selection_glyph\":null,\"view\":{\"id\":\"9ee89c6b-24a9-419d-b5e9-112f27a8251c\",\"type\":\"CDSView\"}},\"id\":\"a380718f-c38c-42cd-8f59-fef4ff3b7ed6\",\"type\":\"GlyphRenderer\"},{\"attributes\":{\"label\":{\"value\":\"Mean Prediction +/- Std.Dev\"},\"renderers\":[{\"id\":\"81d5d6b4-cc00-4688-9de3-8b60cc350c33\",\"type\":\"GlyphRenderer\"}]},\"id\":\"adc07b7e-d277-4ac5-a915-6f40caa123f5\",\"type\":\"LegendItem\"},{\"attributes\":{\"source\":{\"id\":\"7bd08be2-4660-453b-9171-89cfa446e785\",\"type\":\"ColumnDataSource\"}},\"id\":\"9ee89c6b-24a9-419d-b5e9-112f27a8251c\",\"type\":\"CDSView\"},{\"attributes\":{\"callback\":null,\"data\":{\"x\":[\"P1\",\"P1\"],\"y\":[149.81329345703125,155.71617126464844]},\"selected\":{\"id\":\"700444a6-c6e8-41d9-b0e2-6aded83e406c\",\"type\":\"Selection\"},\"selection_policy\":{\"id\":\"5c3dc059-ee1c-4cee-b7ae-94fdb395e8df\",\"type\":\"UnionRenderers\"}},\"id\":\"7e64167c-9626-4940-b37a-19c729e578f2\",\"type\":\"ColumnDataSource\"},{\"attributes\":{},\"id\":\"54db9221-b361-4219-a0b0-7940b0a82199\",\"type\":\"UnionRenderers\"},{\"attributes\":{\"fill_color\":{\"value\":\"#1f77b4\"},\"height\":{\"units\":\"data\",\"value\":0.001},\"line_color\":{\"value\":\"deepskyblue\"},\"width\":{\"units\":\"data\",\"value\":0.2},\"x\":{\"field\":\"x\"},\"y\":{\"field\":\"y\"}},\"id\":\"5901c0b1-e388-43ea-86a4-c8aca1e7c816\",\"type\":\"Rect\"},{\"attributes\":{},\"id\":\"6bbad0c7-5f34-4894-bfe4-b450f6de29ef\",\"type\":\"Selection\"},{\"attributes\":{\"callback\":null,\"data\":{\"x\":[\"A1\",\"A2\",\"A3\",\"A4\",\"A5\",\"A6\",\"C1\",\"C2\",\"C3\",\"C4\",\"C5\",\"C6\",\"D1\",\"D2\",\"E1\",\"E2\",\"F1\",\"F2\",\"F3\",\"H1\",\"I1\",\"J1\",\"M1\",\"M2\",\"P1\",\"Q1\",\"Q2\",\"S1\",\"S2\",\"S3\",\"S4\",\"S5\",\"T1\",\"T2\"],\"y\":[148,149,152,154,148,148,148,153,152,150,152,154,151,148,148,148,146,146,148,148,152,148,154,154,154,148,148,155,148,150,150,160,148,148]},\"selected\":{\"id\":\"95313e85-bc42-4d71-8c22-5af15e576cab\",\"type\":\"Selection\"},\"selection_policy\":{\"id\":\"11bbc88a-5ab1-40b8-847e-4e36b3047324\",\"type\":\"UnionRenderers\"}},\"id\":\"489509a5-47cc-440e-8f5b-e2430a0f4ad2\",\"type\":\"ColumnDataSource\"},{\"attributes\":{\"fill_alpha\":{\"value\":0.1},\"fill_color\":{\"value\":\"#1f77b4\"},\"height\":{\"units\":\"data\",\"value\":0.001},\"line_alpha\":{\"value\":0.1},\"line_color\":{\"value\":\"#1f77b4\"},\"width\":{\"units\":\"data\",\"value\":0.2},\"x\":{\"field\":\"x\"},\"y\":{\"field\":\"y\"}},\"id\":\"4b5478c6-2a27-4363-906e-d3f84f492d05\",\"type\":\"Rect\"},{\"attributes\":{\"data_source\":{\"id\":\"7e64167c-9626-4940-b37a-19c729e578f2\",\"type\":\"ColumnDataSource\"},\"glyph\":{\"id\":\"5901c0b1-e388-43ea-86a4-c8aca1e7c816\",\"type\":\"Rect\"},\"hover_glyph\":null,\"muted_glyph\":null,\"name\":\"Whiskers\",\"nonselection_glyph\":{\"id\":\"4b5478c6-2a27-4363-906e-d3f84f492d05\",\"type\":\"Rect\"},\"selection_glyph\":null,\"view\":{\"id\":\"84106661-603b-4068-88ea-d6b98f181082\",\"type\":\"CDSView\"}},\"id\":\"d89cdda0-42d4-4146-83e4-2f84496316eb\",\"type\":\"GlyphRenderer\"},{\"attributes\":{\"line_color\":{\"value\":\"deepskyblue\"},\"xs\":{\"field\":\"xs\"},\"ys\":{\"field\":\"ys\"}},\"id\":\"b9d7d723-69fa-4536-ba06-83be9bc023ad\",\"type\":\"MultiLine\"},{\"attributes\":{\"line_alpha\":{\"value\":0.1},\"line_color\":{\"value\":\"#1f77b4\"},\"xs\":{\"field\":\"xs\"},\"ys\":{\"field\":\"ys\"}},\"id\":\"422b2161-948e-4dac-83bc-5e6962e49d44\",\"type\":\"MultiLine\"},{\"attributes\":{\"source\":{\"id\":\"7e64167c-9626-4940-b37a-19c729e578f2\",\"type\":\"ColumnDataSource\"}},\"id\":\"84106661-603b-4068-88ea-d6b98f181082\",\"type\":\"CDSView\"},{\"attributes\":{\"data_source\":{\"id\":\"3594ebbe-fa58-429e-859d-f1b05aea4e04\",\"type\":\"ColumnDataSource\"},\"glyph\":{\"id\":\"b9d7d723-69fa-4536-ba06-83be9bc023ad\",\"type\":\"MultiLine\"},\"hover_glyph\":null,\"muted_glyph\":null,\"name\":\"LinePlot\",\"nonselection_glyph\":{\"id\":\"422b2161-948e-4dac-83bc-5e6962e49d44\",\"type\":\"MultiLine\"},\"selection_glyph\":null,\"view\":{\"id\":\"a1dfd1d2-2c90-42b4-8313-b3b303d523a3\",\"type\":\"CDSView\"}},\"id\":\"b2362191-c57d-4376-a344-ccf4a5bba083\",\"type\":\"GlyphRenderer\"},{\"attributes\":{\"callback\":null,\"data\":{\"x\":[\"Q1\",\"Q1\"],\"y\":[143.758056640625,154.0477752685547]},\"selected\":{\"id\":\"c5a7e75a-56b2-4f48-ae89-bd0e80fbb86a\",\"type\":\"Selection\"},\"selection_policy\":{\"id\":\"41eae09a-90fe-4e31-b925-1d204a64c602\",\"type\":\"UnionRenderers\"}},\"id\":\"7a251adf-38cf-4462-ae1b-fb191be0cdb3\",\"type\":\"ColumnDataSource\"},{\"attributes\":{\"source\":{\"id\":\"3594ebbe-fa58-429e-859d-f1b05aea4e04\",\"type\":\"ColumnDataSource\"}},\"id\":\"a1dfd1d2-2c90-42b4-8313-b3b303d523a3\",\"type\":\"CDSView\"},{\"attributes\":{\"fill_color\":{\"value\":\"#1f77b4\"},\"height\":{\"units\":\"data\",\"value\":0.001},\"line_color\":{\"value\":\"deepskyblue\"},\"width\":{\"units\":\"data\",\"value\":0.2},\"x\":{\"field\":\"x\"},\"y\":{\"field\":\"y\"}},\"id\":\"2465a121-eeaa-45ad-b5f4-47aef3270f5c\",\"type\":\"Rect\"},{\"attributes\":{\"callback\":null,\"data\":{\"x\":[\"A1\",\"A2\",\"A3\",\"A4\",\"A5\",\"A6\",\"C1\",\"C2\",\"C3\",\"C4\",\"C5\",\"C6\",\"D1\",\"D2\",\"E1\",\"E2\",\"F1\",\"F2\",\"F3\",\"H1\",\"I1\",\"J1\",\"M1\",\"M2\",\"P1\",\"Q1\",\"Q2\",\"S1\",\"S2\",\"S3\",\"S4\",\"S5\",\"T1\",\"T2\"],\"y\":[149.03831114196777,149.03533010864257,152.1414044647217,153.6650467376709,147.89065802001954,147.93859181213378,148.08027896118165,152.9853837738037,151.9724754486084,149.98781016540528,151.91050390625,153.79195622253417,150.82058584594728,148.38896243286132,148.33323623657228,149.40951197814942,146.46499026489258,146.362189743042,148.22337844848633,148.08859355163574,151.8567837677002,148.07824252319335,153.77082160949706,153.95286401367187,154.0314150085449,148.17631088256837,148.7063896484375,154.81099784851074,148.56503089904785,149.904157623291,150.29372967529298,159.4950488128662,147.8306420135498,148.69678100585938]},\"selected\":{\"id\":\"7f5c82dd-a815-4a71-a405-bfac716ad33b\",\"type\":\"Selection\"},\"selection_policy\":{\"id\":\"69aef4c4-d49b-4d53-91a9-bee40a05006d\",\"type\":\"UnionRenderers\"}},\"id\":\"119e83b7-2fa7-43f0-883d-9a12db9ab7d0\",\"type\":\"ColumnDataSource\"},{\"attributes\":{\"fill_alpha\":{\"value\":0.1},\"fill_color\":{\"value\":\"#1f77b4\"},\"height\":{\"units\":\"data\",\"value\":0.001},\"line_alpha\":{\"value\":0.1},\"line_color\":{\"value\":\"#1f77b4\"},\"width\":{\"units\":\"data\",\"value\":0.2},\"x\":{\"field\":\"x\"},\"y\":{\"field\":\"y\"}},\"id\":\"ed0c8a17-644e-4e10-822d-db7e76c789d6\",\"type\":\"Rect\"},{\"attributes\":{\"data_source\":{\"id\":\"7a251adf-38cf-4462-ae1b-fb191be0cdb3\",\"type\":\"ColumnDataSource\"},\"glyph\":{\"id\":\"2465a121-eeaa-45ad-b5f4-47aef3270f5c\",\"type\":\"Rect\"},\"hover_glyph\":null,\"muted_glyph\":null,\"name\":\"Whiskers\",\"nonselection_glyph\":{\"id\":\"ed0c8a17-644e-4e10-822d-db7e76c789d6\",\"type\":\"Rect\"},\"selection_glyph\":null,\"view\":{\"id\":\"a13aaa44-83d1-4b5f-b261-c074b3784899\",\"type\":\"CDSView\"}},\"id\":\"d73dae05-4748-4bae-81e5-fe2ab5faa6dd\",\"type\":\"GlyphRenderer\"},{\"attributes\":{\"label\":{\"value\":\"Mean Prediction +/- Min & Max Value\"},\"renderers\":[{\"id\":\"b2362191-c57d-4376-a344-ccf4a5bba083\",\"type\":\"GlyphRenderer\"}]},\"id\":\"aa6b57f5-3797-482f-93e7-1a721f63e14a\",\"type\":\"LegendItem\"},{\"attributes\":{\"source\":{\"id\":\"7a251adf-38cf-4462-ae1b-fb191be0cdb3\",\"type\":\"ColumnDataSource\"}},\"id\":\"a13aaa44-83d1-4b5f-b261-c074b3784899\",\"type\":\"CDSView\"},{\"attributes\":{\"callback\":null,\"data\":{\"x\":[\"A1\",\"A1\"],\"y\":[148.1375274658203,151.1905975341797]},\"selected\":{\"id\":\"6e18d1f6-e87e-4daa-ae5b-99b6f4292b6b\",\"type\":\"Selection\"},\"selection_policy\":{\"id\":\"7a8f5868-f6db-495a-a88b-e8df44cd7198\",\"type\":\"UnionRenderers\"}},\"id\":\"fcfeebac-11e5-4167-8328-81b8a520e69f\",\"type\":\"ColumnDataSource\"},{\"attributes\":{\"callback\":null,\"data\":{\"x\":[\"Q2\",\"Q2\"],\"y\":[148.1434783935547,151.00779724121094]},\"selected\":{\"id\":\"d1da158b-65fb-443b-a6bf-4e8f20191656\",\"type\":\"Selection\"},\"selection_policy\":{\"id\":\"3a71d4dd-15ea-405c-be04-3bcb0f0d088b\",\"type\":\"UnionRenderers\"}},\"id\":\"889b29ca-e351-41cf-8277-071673f2f364\",\"type\":\"ColumnDataSource\"},{\"attributes\":{\"fill_color\":{\"value\":\"#1f77b4\"},\"height\":{\"units\":\"data\",\"value\":0.001},\"line_color\":{\"value\":\"deepskyblue\"},\"width\":{\"units\":\"data\",\"value\":0.2},\"x\":{\"field\":\"x\"},\"y\":{\"field\":\"y\"}},\"id\":\"b5d5ad90-2a20-4d63-858c-28fe06d38cce\",\"type\":\"Rect\"},{\"attributes\":{\"fill_alpha\":{\"value\":0.1},\"fill_color\":{\"value\":\"#1f77b4\"},\"line_alpha\":{\"value\":0.1},\"line_color\":{\"value\":\"#1f77b4\"},\"size\":{\"units\":\"screen\",\"value\":12},\"x\":{\"field\":\"x\"},\"y\":{\"field\":\"y\"}},\"id\":\"2eeda80a-be6a-497b-89f3-2c645db930da\",\"type\":\"Diamond\"},{\"attributes\":{\"fill_alpha\":{\"value\":0.1},\"fill_color\":{\"value\":\"#1f77b4\"},\"height\":{\"units\":\"data\",\"value\":0.001},\"line_alpha\":{\"value\":0.1},\"line_color\":{\"value\":\"#1f77b4\"},\"width\":{\"units\":\"data\",\"value\":0.2},\"x\":{\"field\":\"x\"},\"y\":{\"field\":\"y\"}},\"id\":\"028abf6c-9af7-4572-9e1b-9e34ffa5d09f\",\"type\":\"Rect\"},{\"attributes\":{\"data_source\":{\"id\":\"489509a5-47cc-440e-8f5b-e2430a0f4ad2\",\"type\":\"ColumnDataSource\"},\"glyph\":{\"id\":\"3fe73405-6443-41fa-b0b8-8a15f4406676\",\"type\":\"Diamond\"},\"hover_glyph\":null,\"muted_glyph\":null,\"name\":\"DiaPoints\",\"nonselection_glyph\":{\"id\":\"2eeda80a-be6a-497b-89f3-2c645db930da\",\"type\":\"Diamond\"},\"selection_glyph\":null,\"view\":{\"id\":\"5459d5b7-b8bd-474d-a991-51df9b7d12f5\",\"type\":\"CDSView\"}},\"id\":\"cae7e855-d6ec-4442-b3bc-c5afb3cf3f64\",\"type\":\"GlyphRenderer\"},{\"attributes\":{\"data_source\":{\"id\":\"889b29ca-e351-41cf-8277-071673f2f364\",\"type\":\"ColumnDataSource\"},\"glyph\":{\"id\":\"b5d5ad90-2a20-4d63-858c-28fe06d38cce\",\"type\":\"Rect\"},\"hover_glyph\":null,\"muted_glyph\":null,\"name\":\"Whiskers\",\"nonselection_glyph\":{\"id\":\"028abf6c-9af7-4572-9e1b-9e34ffa5d09f\",\"type\":\"Rect\"},\"selection_glyph\":null,\"view\":{\"id\":\"e5b00ffc-3665-4431-8bd8-c8b4b4850a6c\",\"type\":\"CDSView\"}},\"id\":\"21139545-ea55-4000-bc72-003c71ca8b38\",\"type\":\"GlyphRenderer\"},{\"attributes\":{\"source\":{\"id\":\"489509a5-47cc-440e-8f5b-e2430a0f4ad2\",\"type\":\"ColumnDataSource\"}},\"id\":\"5459d5b7-b8bd-474d-a991-51df9b7d12f5\",\"type\":\"CDSView\"},{\"attributes\":{\"source\":{\"id\":\"889b29ca-e351-41cf-8277-071673f2f364\",\"type\":\"ColumnDataSource\"}},\"id\":\"e5b00ffc-3665-4431-8bd8-c8b4b4850a6c\",\"type\":\"CDSView\"},{\"attributes\":{\"callback\":null,\"data\":{\"x\":[\"S1\",\"S1\"],\"y\":[150.6898651123047,155.55661010742188]},\"selected\":{\"id\":\"9a3578bf-d20b-4be9-b4a2-1f0ac64f6ec1\",\"type\":\"Selection\"},\"selection_policy\":{\"id\":\"2d0c2f09-e75d-47bb-9ecc-ebe7778e4792\",\"type\":\"UnionRenderers\"}},\"id\":\"0d959ab9-776f-4e6e-b8e2-46e1300983a8\",\"type\":\"ColumnDataSource\"},{\"attributes\":{},\"id\":\"cc6619fb-6825-4b7d-a5fb-e47b213820c9\",\"type\":\"UnionRenderers\"},{\"attributes\":{\"fill_color\":{\"value\":\"#1f77b4\"},\"height\":{\"units\":\"data\",\"value\":0.001},\"line_color\":{\"value\":\"deepskyblue\"},\"width\":{\"units\":\"data\",\"value\":0.2},\"x\":{\"field\":\"x\"},\"y\":{\"field\":\"y\"}},\"id\":\"4136bcac-62b0-4129-9025-8e3125baaf64\",\"type\":\"Rect\"},{\"attributes\":{},\"id\":\"8090f6ca-b30b-4220-bdc0-b387eccc41bb\",\"type\":\"Selection\"},{\"attributes\":{\"label\":{\"value\":\"True Dia\"},\"renderers\":[{\"id\":\"cae7e855-d6ec-4442-b3bc-c5afb3cf3f64\",\"type\":\"GlyphRenderer\"}]},\"id\":\"681cb186-0adc-490f-a952-bfcf88d86ff4\",\"type\":\"LegendItem\"},{\"attributes\":{\"fill_alpha\":{\"value\":0.1},\"fill_color\":{\"value\":\"#1f77b4\"},\"height\":{\"units\":\"data\",\"value\":0.001},\"line_alpha\":{\"value\":0.1},\"line_color\":{\"value\":\"#1f77b4\"},\"width\":{\"units\":\"data\",\"value\":0.2},\"x\":{\"field\":\"x\"},\"y\":{\"field\":\"y\"}},\"id\":\"39872fe8-aa71-437d-ab32-d7c25a4acd5f\",\"type\":\"Rect\"},{\"attributes\":{\"data_source\":{\"id\":\"0d959ab9-776f-4e6e-b8e2-46e1300983a8\",\"type\":\"ColumnDataSource\"},\"glyph\":{\"id\":\"4136bcac-62b0-4129-9025-8e3125baaf64\",\"type\":\"Rect\"},\"hover_glyph\":null,\"muted_glyph\":null,\"name\":\"Whiskers\",\"nonselection_glyph\":{\"id\":\"39872fe8-aa71-437d-ab32-d7c25a4acd5f\",\"type\":\"Rect\"},\"selection_glyph\":null,\"view\":{\"id\":\"85149539-2496-4929-ac82-238bbe8879d3\",\"type\":\"CDSView\"}},\"id\":\"0892b05d-41fd-49c1-a931-f7a07c137319\",\"type\":\"GlyphRenderer\"},{\"attributes\":{\"label\":{\"value\":\"Predicted Dia (Mean)\"},\"renderers\":[{\"id\":\"c0a9ad6f-560f-47e0-b3ca-9a52e35e026a\",\"type\":\"GlyphRenderer\"}]},\"id\":\"6cb722b6-2e84-4566-bd59-0eb3a15e5b21\",\"type\":\"LegendItem\"},{\"attributes\":{\"fill_color\":{\"value\":\"blue\"},\"line_alpha\":{\"value\":0},\"line_color\":{\"value\":\"blue\"},\"size\":{\"units\":\"screen\",\"value\":9},\"x\":{\"field\":\"x\"},\"y\":{\"field\":\"y\"}},\"id\":\"88d88b44-83b5-4678-bae3-e51a74cfc31a\",\"type\":\"Circle\"},{\"attributes\":{\"source\":{\"id\":\"0d959ab9-776f-4e6e-b8e2-46e1300983a8\",\"type\":\"ColumnDataSource\"}},\"id\":\"85149539-2496-4929-ac82-238bbe8879d3\",\"type\":\"CDSView\"},{\"attributes\":{\"fill_alpha\":{\"value\":0.1},\"fill_color\":{\"value\":\"#1f77b4\"},\"line_alpha\":{\"value\":0.1},\"line_color\":{\"value\":\"#1f77b4\"},\"size\":{\"units\":\"screen\",\"value\":9},\"x\":{\"field\":\"x\"},\"y\":{\"field\":\"y\"}},\"id\":\"f8964660-6ac6-49da-9dc7-d1f6952db761\",\"type\":\"Circle\"},{\"attributes\":{\"callback\":null,\"data\":{\"x\":[\"S2\",\"S2\"],\"y\":[147.93765258789062,151.4568328857422]},\"selected\":{\"id\":\"00e45ccb-2885-480c-9d9f-647b9cc4d832\",\"type\":\"Selection\"},\"selection_policy\":{\"id\":\"53c665ea-0237-483e-b184-57936a9e5f79\",\"type\":\"UnionRenderers\"}},\"id\":\"fae0bc68-be66-4b79-90a2-7ea88857cc91\",\"type\":\"ColumnDataSource\"},{\"attributes\":{\"data_source\":{\"id\":\"119e83b7-2fa7-43f0-883d-9a12db9ab7d0\",\"type\":\"ColumnDataSource\"},\"glyph\":{\"id\":\"88d88b44-83b5-4678-bae3-e51a74cfc31a\",\"type\":\"Circle\"},\"hover_glyph\":null,\"muted_glyph\":null,\"name\":\"DiaPoints\",\"nonselection_glyph\":{\"id\":\"f8964660-6ac6-49da-9dc7-d1f6952db761\",\"type\":\"Circle\"},\"selection_glyph\":null,\"view\":{\"id\":\"74429e31-02a3-4a18-8d82-29452986f085\",\"type\":\"CDSView\"}},\"id\":\"c0a9ad6f-560f-47e0-b3ca-9a52e35e026a\",\"type\":\"GlyphRenderer\"},{\"attributes\":{\"fill_color\":{\"value\":\"#1f77b4\"},\"height\":{\"units\":\"data\",\"value\":0.001},\"line_color\":{\"value\":\"deepskyblue\"},\"width\":{\"units\":\"data\",\"value\":0.2},\"x\":{\"field\":\"x\"},\"y\":{\"field\":\"y\"}},\"id\":\"78ec3d58-a900-4fc4-bfc6-89a18da30d97\",\"type\":\"Rect\"},{\"attributes\":{\"source\":{\"id\":\"119e83b7-2fa7-43f0-883d-9a12db9ab7d0\",\"type\":\"ColumnDataSource\"}},\"id\":\"74429e31-02a3-4a18-8d82-29452986f085\",\"type\":\"CDSView\"},{\"attributes\":{\"fill_alpha\":{\"value\":0.1},\"fill_color\":{\"value\":\"#1f77b4\"},\"height\":{\"units\":\"data\",\"value\":0.001},\"line_alpha\":{\"value\":0.1},\"line_color\":{\"value\":\"#1f77b4\"},\"width\":{\"units\":\"data\",\"value\":0.2},\"x\":{\"field\":\"x\"},\"y\":{\"field\":\"y\"}},\"id\":\"af753980-8cb2-45e3-b2fb-6c1de689e08a\",\"type\":\"Rect\"},{\"attributes\":{\"callback\":null,\"factors\":[\"A1\",\"A2\",\"A3\",\"A4\",\"A5\",\"A6\",\"C1\",\"C2\",\"C3\",\"C4\",\"C5\",\"C6\",\"D1\",\"D2\",\"E1\",\"E2\",\"F1\",\"F2\",\"F3\",\"H1\",\"I1\",\"J1\",\"M1\",\"M2\",\"P1\",\"Q1\",\"Q2\",\"S1\",\"S2\",\"S3\",\"S4\",\"S5\",\"T1\",\"T2\"]},\"id\":\"797ce721-f2b3-4078-8961-4aec7c1b5dae\",\"type\":\"FactorRange\"},{\"attributes\":{\"fill_color\":{\"value\":\"#1f77b4\"},\"height\":{\"units\":\"data\",\"value\":0.001},\"line_color\":{\"value\":\"deepskyblue\"},\"width\":{\"units\":\"data\",\"value\":0.2},\"x\":{\"field\":\"x\"},\"y\":{\"field\":\"y\"}},\"id\":\"53fe6396-9583-4bec-b602-f9c980538966\",\"type\":\"Rect\"},{\"attributes\":{},\"id\":\"0f3b5a1f-58c8-40c4-a388-a627f7eec496\",\"type\":\"LinearScale\"},{\"attributes\":{\"fill_color\":{\"value\":\"#1f77b4\"},\"height\":{\"units\":\"data\",\"value\":0.001},\"line_color\":{\"value\":\"deepskyblue\"},\"width\":{\"units\":\"data\",\"value\":0.2},\"x\":{\"field\":\"x\"},\"y\":{\"field\":\"y\"}},\"id\":\"15b36c0a-dd94-466b-ad25-b992ca32ed9c\",\"type\":\"Rect\"},{\"attributes\":{\"fill_alpha\":{\"value\":0.1},\"fill_color\":{\"value\":\"#1f77b4\"},\"height\":{\"units\":\"data\",\"value\":0.001},\"line_alpha\":{\"value\":0.1},\"line_color\":{\"value\":\"#1f77b4\"},\"width\":{\"units\":\"data\",\"value\":0.2},\"x\":{\"field\":\"x\"},\"y\":{\"field\":\"y\"}},\"id\":\"a730678d-2844-458a-9249-2f2260065180\",\"type\":\"Rect\"},{\"attributes\":{\"data_source\":{\"id\":\"fcfeebac-11e5-4167-8328-81b8a520e69f\",\"type\":\"ColumnDataSource\"},\"glyph\":{\"id\":\"15b36c0a-dd94-466b-ad25-b992ca32ed9c\",\"type\":\"Rect\"},\"hover_glyph\":null,\"muted_glyph\":null,\"name\":\"Whiskers\",\"nonselection_glyph\":{\"id\":\"a730678d-2844-458a-9249-2f2260065180\",\"type\":\"Rect\"},\"selection_glyph\":null,\"view\":{\"id\":\"6e045c74-a2bf-4a6c-9817-03071f2720ed\",\"type\":\"CDSView\"}},\"id\":\"57629a75-e2f1-468c-9832-a0146e5ffe89\",\"type\":\"GlyphRenderer\"},{\"attributes\":{\"source\":{\"id\":\"fcfeebac-11e5-4167-8328-81b8a520e69f\",\"type\":\"ColumnDataSource\"}},\"id\":\"6e045c74-a2bf-4a6c-9817-03071f2720ed\",\"type\":\"CDSView\"},{\"attributes\":{\"callback\":null,\"data\":{\"x\":[\"A2\",\"A2\"],\"y\":[148.1639404296875,151.1243438720703]},\"selected\":{\"id\":\"256f956f-5433-4303-8559-c0bbf8dc8a5f\",\"type\":\"Selection\"},\"selection_policy\":{\"id\":\"b253ed70-a0fd-43c4-9387-8fb2cd3af945\",\"type\":\"UnionRenderers\"}},\"id\":\"fef65b21-688e-40b7-af10-99c2ad2b201f\",\"type\":\"ColumnDataSource\"},{\"attributes\":{\"fill_color\":{\"value\":\"#1f77b4\"},\"height\":{\"units\":\"data\",\"value\":0.001},\"line_color\":{\"value\":\"deepskyblue\"},\"width\":{\"units\":\"data\",\"value\":0.2},\"x\":{\"field\":\"x\"},\"y\":{\"field\":\"y\"}},\"id\":\"0c3d90ce-22fe-4904-bd39-35656c1a0c41\",\"type\":\"Rect\"},{\"attributes\":{\"fill_alpha\":{\"value\":0.1},\"fill_color\":{\"value\":\"#1f77b4\"},\"height\":{\"units\":\"data\",\"value\":0.001},\"line_alpha\":{\"value\":0.1},\"line_color\":{\"value\":\"#1f77b4\"},\"width\":{\"units\":\"data\",\"value\":0.2},\"x\":{\"field\":\"x\"},\"y\":{\"field\":\"y\"}},\"id\":\"5f4b1ea4-c4d5-47bd-845a-83bf08336881\",\"type\":\"Rect\"},{\"attributes\":{\"data_source\":{\"id\":\"fef65b21-688e-40b7-af10-99c2ad2b201f\",\"type\":\"ColumnDataSource\"},\"glyph\":{\"id\":\"0c3d90ce-22fe-4904-bd39-35656c1a0c41\",\"type\":\"Rect\"},\"hover_glyph\":null,\"muted_glyph\":null,\"name\":\"Whiskers\",\"nonselection_glyph\":{\"id\":\"5f4b1ea4-c4d5-47bd-845a-83bf08336881\",\"type\":\"Rect\"},\"selection_glyph\":null,\"view\":{\"id\":\"ac012d72-f330-435a-8954-cbe09aebd044\",\"type\":\"CDSView\"}},\"id\":\"87c07dfa-ef90-4afa-9ad0-dd8ac547e5d8\",\"type\":\"GlyphRenderer\"},{\"attributes\":{\"source\":{\"id\":\"fef65b21-688e-40b7-af10-99c2ad2b201f\",\"type\":\"ColumnDataSource\"}},\"id\":\"ac012d72-f330-435a-8954-cbe09aebd044\",\"type\":\"CDSView\"},{\"attributes\":{\"callback\":null,\"data\":{\"x\":[\"A3\",\"A3\"],\"y\":[150.8431854248047,155.7587432861328]},\"selected\":{\"id\":\"8ceff4ab-315a-4bef-8300-5c0fc5f018b4\",\"type\":\"Selection\"},\"selection_policy\":{\"id\":\"543d1620-6e61-465d-8c31-262417a0cfa4\",\"type\":\"UnionRenderers\"}},\"id\":\"e84c7b66-081a-4d76-ba45-816ed3f49e1a\",\"type\":\"ColumnDataSource\"},{\"attributes\":{\"fill_color\":{\"value\":\"#1f77b4\"},\"height\":{\"units\":\"data\",\"value\":0.001},\"line_color\":{\"value\":\"deepskyblue\"},\"width\":{\"units\":\"data\",\"value\":0.2},\"x\":{\"field\":\"x\"},\"y\":{\"field\":\"y\"}},\"id\":\"f518a28c-f706-47f9-a4d6-afa24a97012d\",\"type\":\"Rect\"},{\"attributes\":{\"line_color\":{\"value\":\"blue\"},\"line_width\":{\"value\":3},\"xs\":{\"field\":\"xs\"},\"ys\":{\"field\":\"ys\"}},\"id\":\"9651c0a9-ed23-43e5-a499-5014747a4036\",\"type\":\"MultiLine\"},{\"attributes\":{\"fill_alpha\":{\"value\":0.1},\"fill_color\":{\"value\":\"#1f77b4\"},\"height\":{\"units\":\"data\",\"value\":0.001},\"line_alpha\":{\"value\":0.1},\"line_color\":{\"value\":\"#1f77b4\"},\"width\":{\"units\":\"data\",\"value\":0.2},\"x\":{\"field\":\"x\"},\"y\":{\"field\":\"y\"}},\"id\":\"a02daced-552b-4640-8be4-61af04d7e23f\",\"type\":\"Rect\"},{\"attributes\":{\"data_source\":{\"id\":\"e84c7b66-081a-4d76-ba45-816ed3f49e1a\",\"type\":\"ColumnDataSource\"},\"glyph\":{\"id\":\"f518a28c-f706-47f9-a4d6-afa24a97012d\",\"type\":\"Rect\"},\"hover_glyph\":null,\"muted_glyph\":null,\"name\":\"Whiskers\",\"nonselection_glyph\":{\"id\":\"a02daced-552b-4640-8be4-61af04d7e23f\",\"type\":\"Rect\"},\"selection_glyph\":null,\"view\":{\"id\":\"7a49bdf1-b87f-413f-9687-8fd86a36014c\",\"type\":\"CDSView\"}},\"id\":\"33fddcf6-9914-4d56-956f-3f6c8f8afc79\",\"type\":\"GlyphRenderer\"},{\"attributes\":{\"source\":{\"id\":\"e84c7b66-081a-4d76-ba45-816ed3f49e1a\",\"type\":\"ColumnDataSource\"}},\"id\":\"7a49bdf1-b87f-413f-9687-8fd86a36014c\",\"type\":\"CDSView\"},{\"attributes\":{\"callback\":null,\"data\":{\"x\":[\"A4\",\"A4\"],\"y\":[150.35140991210938,155.18760681152344]},\"selected\":{\"id\":\"5619ec1d-e57e-45c7-a605-8d899d1726bc\",\"type\":\"Selection\"},\"selection_policy\":{\"id\":\"dc0958e9-8843-4300-8d47-8119dc8c969e\",\"type\":\"UnionRenderers\"}},\"id\":\"9b6001d2-b3d8-42eb-bbbb-1d31990532a6\",\"type\":\"ColumnDataSource\"},{\"attributes\":{\"fill_color\":{\"value\":\"#1f77b4\"},\"height\":{\"units\":\"data\",\"value\":0.001},\"line_color\":{\"value\":\"deepskyblue\"},\"width\":{\"units\":\"data\",\"value\":0.2},\"x\":{\"field\":\"x\"},\"y\":{\"field\":\"y\"}},\"id\":\"6f96289b-88ab-4740-8270-15032422f8dc\",\"type\":\"Rect\"},{\"attributes\":{\"fill_alpha\":{\"value\":0.1},\"fill_color\":{\"value\":\"#1f77b4\"},\"height\":{\"units\":\"data\",\"value\":0.001},\"line_alpha\":{\"value\":0.1},\"line_color\":{\"value\":\"#1f77b4\"},\"width\":{\"units\":\"data\",\"value\":0.2},\"x\":{\"field\":\"x\"},\"y\":{\"field\":\"y\"}},\"id\":\"e20d1477-f4dd-45dd-aa28-665ef33e21ca\",\"type\":\"Rect\"},{\"attributes\":{\"data_source\":{\"id\":\"9b6001d2-b3d8-42eb-bbbb-1d31990532a6\",\"type\":\"ColumnDataSource\"},\"glyph\":{\"id\":\"6f96289b-88ab-4740-8270-15032422f8dc\",\"type\":\"Rect\"},\"hover_glyph\":null,\"muted_glyph\":null,\"name\":\"Whiskers\",\"nonselection_glyph\":{\"id\":\"e20d1477-f4dd-45dd-aa28-665ef33e21ca\",\"type\":\"Rect\"},\"selection_glyph\":null,\"view\":{\"id\":\"2dd931f6-9c84-4a61-bce8-5e59af59ddcf\",\"type\":\"CDSView\"}},\"id\":\"d759479a-f021-42b6-b229-b61fa0bea1d5\",\"type\":\"GlyphRenderer\"},{\"attributes\":{\"source\":{\"id\":\"9b6001d2-b3d8-42eb-bbbb-1d31990532a6\",\"type\":\"ColumnDataSource\"}},\"id\":\"2dd931f6-9c84-4a61-bce8-5e59af59ddcf\",\"type\":\"CDSView\"},{\"attributes\":{\"line_alpha\":{\"value\":0.1},\"line_color\":{\"value\":\"#1f77b4\"},\"line_width\":{\"value\":3},\"xs\":{\"field\":\"xs\"},\"ys\":{\"field\":\"ys\"}},\"id\":\"62867d30-8f10-4b42-993e-7b691596fa82\",\"type\":\"MultiLine\"},{\"attributes\":{\"callback\":null,\"data\":{\"x\":[\"A5\",\"A5\"],\"y\":[145.45294189453125,152.34715270996094]},\"selected\":{\"id\":\"ec87fa83-348e-4bb8-90ed-55dcbe168122\",\"type\":\"Selection\"},\"selection_policy\":{\"id\":\"fbefb993-ee27-4016-bc71-4b2434cb8bd9\",\"type\":\"UnionRenderers\"}},\"id\":\"4ee460ec-acac-4c2b-a5f6-ae448671bc61\",\"type\":\"ColumnDataSource\"},{\"attributes\":{\"fill_color\":{\"value\":\"#1f77b4\"},\"height\":{\"units\":\"data\",\"value\":0.001},\"line_color\":{\"value\":\"deepskyblue\"},\"width\":{\"units\":\"data\",\"value\":0.2},\"x\":{\"field\":\"x\"},\"y\":{\"field\":\"y\"}},\"id\":\"809c8b4b-3549-46cd-bdc1-adb7a9b3452e\",\"type\":\"Rect\"},{\"attributes\":{\"fill_alpha\":{\"value\":0.1},\"fill_color\":{\"value\":\"#1f77b4\"},\"height\":{\"units\":\"data\",\"value\":0.001},\"line_alpha\":{\"value\":0.1},\"line_color\":{\"value\":\"#1f77b4\"},\"width\":{\"units\":\"data\",\"value\":0.2},\"x\":{\"field\":\"x\"},\"y\":{\"field\":\"y\"}},\"id\":\"3a4aaf9b-3db5-491c-b5e6-59621ddbecb4\",\"type\":\"Rect\"},{\"attributes\":{\"data_source\":{\"id\":\"4ee460ec-acac-4c2b-a5f6-ae448671bc61\",\"type\":\"ColumnDataSource\"},\"glyph\":{\"id\":\"809c8b4b-3549-46cd-bdc1-adb7a9b3452e\",\"type\":\"Rect\"},\"hover_glyph\":null,\"muted_glyph\":null,\"name\":\"Whiskers\",\"nonselection_glyph\":{\"id\":\"3a4aaf9b-3db5-491c-b5e6-59621ddbecb4\",\"type\":\"Rect\"},\"selection_glyph\":null,\"view\":{\"id\":\"7f1ea992-9571-4876-9217-ad05d3da6993\",\"type\":\"CDSView\"}},\"id\":\"02a00cd7-4f2e-4bb7-8293-e1b23470dcf3\",\"type\":\"GlyphRenderer\"},{\"attributes\":{\"source\":{\"id\":\"4ee460ec-acac-4c2b-a5f6-ae448671bc61\",\"type\":\"ColumnDataSource\"}},\"id\":\"7f1ea992-9571-4876-9217-ad05d3da6993\",\"type\":\"CDSView\"},{\"attributes\":{\"callback\":null,\"data\":{\"x\":[\"A6\",\"A6\"],\"y\":[147.50942993164062,150.65049743652344]},\"selected\":{\"id\":\"96f88661-4414-46fa-9409-0c2adf6794d6\",\"type\":\"Selection\"},\"selection_policy\":{\"id\":\"04664846-b429-43e0-8d40-ae251027a5f5\",\"type\":\"UnionRenderers\"}},\"id\":\"6dd3b714-0e01-44a5-8369-6fc6a512ae1b\",\"type\":\"ColumnDataSource\"},{\"attributes\":{\"fill_color\":{\"value\":\"#1f77b4\"},\"height\":{\"units\":\"data\",\"value\":0.001},\"line_color\":{\"value\":\"deepskyblue\"},\"width\":{\"units\":\"data\",\"value\":0.2},\"x\":{\"field\":\"x\"},\"y\":{\"field\":\"y\"}},\"id\":\"c4631959-72d7-4122-a531-d81d7ef36d78\",\"type\":\"Rect\"},{\"attributes\":{\"fill_alpha\":{\"value\":0.1},\"fill_color\":{\"value\":\"#1f77b4\"},\"height\":{\"units\":\"data\",\"value\":0.001},\"line_alpha\":{\"value\":0.1},\"line_color\":{\"value\":\"#1f77b4\"},\"width\":{\"units\":\"data\",\"value\":0.2},\"x\":{\"field\":\"x\"},\"y\":{\"field\":\"y\"}},\"id\":\"468b53a1-fcc7-43a9-ba95-1311b6d54735\",\"type\":\"Rect\"},{\"attributes\":{\"data_source\":{\"id\":\"6dd3b714-0e01-44a5-8369-6fc6a512ae1b\",\"type\":\"ColumnDataSource\"},\"glyph\":{\"id\":\"c4631959-72d7-4122-a531-d81d7ef36d78\",\"type\":\"Rect\"},\"hover_glyph\":null,\"muted_glyph\":null,\"name\":\"Whiskers\",\"nonselection_glyph\":{\"id\":\"468b53a1-fcc7-43a9-ba95-1311b6d54735\",\"type\":\"Rect\"},\"selection_glyph\":null,\"view\":{\"id\":\"00f45fb9-24b8-428a-834b-8034818efdea\",\"type\":\"CDSView\"}},\"id\":\"7865b3f9-56cc-41b7-99d4-f8a729a234e1\",\"type\":\"GlyphRenderer\"},{\"attributes\":{\"source\":{\"id\":\"6dd3b714-0e01-44a5-8369-6fc6a512ae1b\",\"type\":\"ColumnDataSource\"}},\"id\":\"00f45fb9-24b8-428a-834b-8034818efdea\",\"type\":\"CDSView\"},{\"attributes\":{\"callback\":null,\"data\":{\"x\":[\"C1\",\"C1\"],\"y\":[147.4407501220703,151.15634155273438]},\"selected\":{\"id\":\"2374a44c-3ce9-4ce3-9944-a7ab28243712\",\"type\":\"Selection\"},\"selection_policy\":{\"id\":\"c87d925e-3850-4f6d-a72a-0dcd0d385249\",\"type\":\"UnionRenderers\"}},\"id\":\"700719b2-fa77-48df-8716-a19964d17a3b\",\"type\":\"ColumnDataSource\"},{\"attributes\":{\"fill_color\":{\"value\":\"#1f77b4\"},\"height\":{\"units\":\"data\",\"value\":0.001},\"line_color\":{\"value\":\"deepskyblue\"},\"width\":{\"units\":\"data\",\"value\":0.2},\"x\":{\"field\":\"x\"},\"y\":{\"field\":\"y\"}},\"id\":\"3dbbe2b9-61b8-4b54-8749-d5762d74f339\",\"type\":\"Rect\"},{\"attributes\":{\"fill_alpha\":{\"value\":0.1},\"fill_color\":{\"value\":\"#1f77b4\"},\"height\":{\"units\":\"data\",\"value\":0.001},\"line_alpha\":{\"value\":0.1},\"line_color\":{\"value\":\"#1f77b4\"},\"width\":{\"units\":\"data\",\"value\":0.2},\"x\":{\"field\":\"x\"},\"y\":{\"field\":\"y\"}},\"id\":\"10ceb6a3-f3aa-4f0e-8fbd-69c0e3d64bbd\",\"type\":\"Rect\"},{\"attributes\":{\"data_source\":{\"id\":\"700719b2-fa77-48df-8716-a19964d17a3b\",\"type\":\"ColumnDataSource\"},\"glyph\":{\"id\":\"3dbbe2b9-61b8-4b54-8749-d5762d74f339\",\"type\":\"Rect\"},\"hover_glyph\":null,\"muted_glyph\":null,\"name\":\"Whiskers\",\"nonselection_glyph\":{\"id\":\"10ceb6a3-f3aa-4f0e-8fbd-69c0e3d64bbd\",\"type\":\"Rect\"},\"selection_glyph\":null,\"view\":{\"id\":\"c336d6be-e15b-45f4-a4fd-84bd263f670b\",\"type\":\"CDSView\"}},\"id\":\"5ff31a77-6242-4791-97f4-52a20064a383\",\"type\":\"GlyphRenderer\"},{\"attributes\":{\"source\":{\"id\":\"700719b2-fa77-48df-8716-a19964d17a3b\",\"type\":\"ColumnDataSource\"}},\"id\":\"c336d6be-e15b-45f4-a4fd-84bd263f670b\",\"type\":\"CDSView\"},{\"attributes\":{\"callback\":null,\"data\":{\"x\":[\"C2\",\"C2\"],\"y\":[151.49266052246094,154.74720764160156]},\"selected\":{\"id\":\"70809ab9-96dc-4b4a-be0a-970947cde9c9\",\"type\":\"Selection\"},\"selection_policy\":{\"id\":\"3f827423-3ccc-455b-8ff0-8c5528d35145\",\"type\":\"UnionRenderers\"}},\"id\":\"77f8a085-68c0-4c21-b9e2-c9aac17f295f\",\"type\":\"ColumnDataSource\"},{\"attributes\":{\"source\":{\"id\":\"da2297d1-03f1-4ed3-94d2-7f50bc70425e\",\"type\":\"ColumnDataSource\"}},\"id\":\"eed1cd57-db7b-45d3-9c83-7af5b9a6360c\",\"type\":\"CDSView\"},{\"attributes\":{\"fill_color\":{\"value\":\"#1f77b4\"},\"height\":{\"units\":\"data\",\"value\":0.001},\"line_color\":{\"value\":\"deepskyblue\"},\"width\":{\"units\":\"data\",\"value\":0.2},\"x\":{\"field\":\"x\"},\"y\":{\"field\":\"y\"}},\"id\":\"7e8792dc-1341-48b1-b987-accb0ed586df\",\"type\":\"Rect\"},{\"attributes\":{\"fill_alpha\":{\"value\":0.1},\"fill_color\":{\"value\":\"#1f77b4\"},\"height\":{\"units\":\"data\",\"value\":0.001},\"line_alpha\":{\"value\":0.1},\"line_color\":{\"value\":\"#1f77b4\"},\"width\":{\"units\":\"data\",\"value\":0.2},\"x\":{\"field\":\"x\"},\"y\":{\"field\":\"y\"}},\"id\":\"1616e5f3-ef75-4ef8-b6f8-34b86411b9fd\",\"type\":\"Rect\"},{\"attributes\":{\"data_source\":{\"id\":\"da2297d1-03f1-4ed3-94d2-7f50bc70425e\",\"type\":\"ColumnDataSource\"},\"glyph\":{\"id\":\"9651c0a9-ed23-43e5-a499-5014747a4036\",\"type\":\"MultiLine\"},\"hover_glyph\":null,\"muted_glyph\":null,\"nonselection_glyph\":{\"id\":\"62867d30-8f10-4b42-993e-7b691596fa82\",\"type\":\"MultiLine\"},\"selection_glyph\":null,\"view\":{\"id\":\"eed1cd57-db7b-45d3-9c83-7af5b9a6360c\",\"type\":\"CDSView\"}},\"id\":\"81d5d6b4-cc00-4688-9de3-8b60cc350c33\",\"type\":\"GlyphRenderer\"},{\"attributes\":{\"data_source\":{\"id\":\"77f8a085-68c0-4c21-b9e2-c9aac17f295f\",\"type\":\"ColumnDataSource\"},\"glyph\":{\"id\":\"7e8792dc-1341-48b1-b987-accb0ed586df\",\"type\":\"Rect\"},\"hover_glyph\":null,\"muted_glyph\":null,\"name\":\"Whiskers\",\"nonselection_glyph\":{\"id\":\"1616e5f3-ef75-4ef8-b6f8-34b86411b9fd\",\"type\":\"Rect\"},\"selection_glyph\":null,\"view\":{\"id\":\"618a0815-54bd-4492-bb3b-185eb4345536\",\"type\":\"CDSView\"}},\"id\":\"d9c885f2-6e18-4609-abcf-319be51b9a3c\",\"type\":\"GlyphRenderer\"},{\"attributes\":{\"source\":{\"id\":\"77f8a085-68c0-4c21-b9e2-c9aac17f295f\",\"type\":\"ColumnDataSource\"}},\"id\":\"618a0815-54bd-4492-bb3b-185eb4345536\",\"type\":\"CDSView\"},{\"attributes\":{\"fill_color\":{\"value\":\"red\"},\"line_alpha\":{\"value\":0},\"line_color\":{\"value\":\"red\"},\"size\":{\"units\":\"screen\",\"value\":12},\"x\":{\"field\":\"x\"},\"y\":{\"field\":\"y\"}},\"id\":\"3fe73405-6443-41fa-b0b8-8a15f4406676\",\"type\":\"Diamond\"},{\"attributes\":{\"callback\":null,\"data\":{\"x\":[\"C3\",\"C3\"],\"y\":[150.3904571533203,153.12661743164062]},\"selected\":{\"id\":\"49dad3e3-444b-4460-a62c-ff120a7c2a96\",\"type\":\"Selection\"},\"selection_policy\":{\"id\":\"8241d6b9-3c77-4770-a749-3e536cf4e370\",\"type\":\"UnionRenderers\"}},\"id\":\"6b043ef0-cd5a-43ee-9b19-c229a7c2da72\",\"type\":\"ColumnDataSource\"},{\"attributes\":{\"fill_color\":{\"value\":\"#1f77b4\"},\"height\":{\"units\":\"data\",\"value\":0.001},\"line_color\":{\"value\":\"deepskyblue\"},\"width\":{\"units\":\"data\",\"value\":0.2},\"x\":{\"field\":\"x\"},\"y\":{\"field\":\"y\"}},\"id\":\"c4e04fe8-dd06-4c0b-adbc-4f4847772603\",\"type\":\"Rect\"},{\"attributes\":{\"fill_alpha\":{\"value\":0.1},\"fill_color\":{\"value\":\"#1f77b4\"},\"height\":{\"units\":\"data\",\"value\":0.001},\"line_alpha\":{\"value\":0.1},\"line_color\":{\"value\":\"#1f77b4\"},\"width\":{\"units\":\"data\",\"value\":0.2},\"x\":{\"field\":\"x\"},\"y\":{\"field\":\"y\"}},\"id\":\"0381918e-2391-4ab2-8c8f-f79e3818826c\",\"type\":\"Rect\"},{\"attributes\":{\"data_source\":{\"id\":\"6b043ef0-cd5a-43ee-9b19-c229a7c2da72\",\"type\":\"ColumnDataSource\"},\"glyph\":{\"id\":\"c4e04fe8-dd06-4c0b-adbc-4f4847772603\",\"type\":\"Rect\"},\"hover_glyph\":null,\"muted_glyph\":null,\"name\":\"Whiskers\",\"nonselection_glyph\":{\"id\":\"0381918e-2391-4ab2-8c8f-f79e3818826c\",\"type\":\"Rect\"},\"selection_glyph\":null,\"view\":{\"id\":\"ffb199cd-edf5-4dc5-b628-b73c7bd2c980\",\"type\":\"CDSView\"}},\"id\":\"569341b4-aae6-4c6d-9fc8-829817c5f58a\",\"type\":\"GlyphRenderer\"},{\"attributes\":{\"source\":{\"id\":\"6b043ef0-cd5a-43ee-9b19-c229a7c2da72\",\"type\":\"ColumnDataSource\"}},\"id\":\"ffb199cd-edf5-4dc5-b628-b73c7bd2c980\",\"type\":\"CDSView\"},{\"attributes\":{\"callback\":null,\"data\":{\"x\":[\"C4\",\"C4\"],\"y\":[148.07901000976562,152.7500457763672]},\"selected\":{\"id\":\"77354caa-e692-4ec2-8d51-c482138a1aee\",\"type\":\"Selection\"},\"selection_policy\":{\"id\":\"affa30bf-a3fd-456d-9c14-68367631e81f\",\"type\":\"UnionRenderers\"}},\"id\":\"800b4b00-8312-45d3-b5ed-45df0e65c967\",\"type\":\"ColumnDataSource\"},{\"attributes\":{\"fill_color\":{\"value\":\"#1f77b4\"},\"height\":{\"units\":\"data\",\"value\":0.001},\"line_color\":{\"value\":\"deepskyblue\"},\"width\":{\"units\":\"data\",\"value\":0.2},\"x\":{\"field\":\"x\"},\"y\":{\"field\":\"y\"}},\"id\":\"845d7118-dada-4bef-a85b-e49a4e83c8f0\",\"type\":\"Rect\"},{\"attributes\":{\"fill_alpha\":{\"value\":0.1},\"fill_color\":{\"value\":\"#1f77b4\"},\"height\":{\"units\":\"data\",\"value\":0.001},\"line_alpha\":{\"value\":0.1},\"line_color\":{\"value\":\"#1f77b4\"},\"width\":{\"units\":\"data\",\"value\":0.2},\"x\":{\"field\":\"x\"},\"y\":{\"field\":\"y\"}},\"id\":\"dd761a1a-3c85-42e0-8dd5-71eca1ca9e4d\",\"type\":\"Rect\"},{\"attributes\":{\"data_source\":{\"id\":\"800b4b00-8312-45d3-b5ed-45df0e65c967\",\"type\":\"ColumnDataSource\"},\"glyph\":{\"id\":\"845d7118-dada-4bef-a85b-e49a4e83c8f0\",\"type\":\"Rect\"},\"hover_glyph\":null,\"muted_glyph\":null,\"name\":\"Whiskers\",\"nonselection_glyph\":{\"id\":\"dd761a1a-3c85-42e0-8dd5-71eca1ca9e4d\",\"type\":\"Rect\"},\"selection_glyph\":null,\"view\":{\"id\":\"608df0be-451b-4c36-9cef-1f982ecde5af\",\"type\":\"CDSView\"}},\"id\":\"dac92823-eac8-4195-8dee-5cb174d9a065\",\"type\":\"GlyphRenderer\"},{\"attributes\":{\"source\":{\"id\":\"800b4b00-8312-45d3-b5ed-45df0e65c967\",\"type\":\"ColumnDataSource\"}},\"id\":\"608df0be-451b-4c36-9cef-1f982ecde5af\",\"type\":\"CDSView\"},{\"attributes\":{\"callback\":null,\"data\":{\"x\":[\"C5\",\"C5\"],\"y\":[150.38034057617188,154.1722869873047]},\"selected\":{\"id\":\"c29cbe07-7d4a-4bc9-a997-5e23b83e9ccf\",\"type\":\"Selection\"},\"selection_policy\":{\"id\":\"c937a03c-1c1c-4b05-b84c-4350a199e875\",\"type\":\"UnionRenderers\"}},\"id\":\"c7c5571d-9895-46e8-9211-78638eb8362f\",\"type\":\"ColumnDataSource\"},{\"attributes\":{\"fill_color\":{\"value\":\"#1f77b4\"},\"height\":{\"units\":\"data\",\"value\":0.001},\"line_color\":{\"value\":\"deepskyblue\"},\"width\":{\"units\":\"data\",\"value\":0.2},\"x\":{\"field\":\"x\"},\"y\":{\"field\":\"y\"}},\"id\":\"ed147971-6cb3-4d45-9b4d-2f3663e21ce1\",\"type\":\"Rect\"},{\"attributes\":{\"fill_alpha\":{\"value\":0.1},\"fill_color\":{\"value\":\"#1f77b4\"},\"height\":{\"units\":\"data\",\"value\":0.001},\"line_alpha\":{\"value\":0.1},\"line_color\":{\"value\":\"#1f77b4\"},\"width\":{\"units\":\"data\",\"value\":0.2},\"x\":{\"field\":\"x\"},\"y\":{\"field\":\"y\"}},\"id\":\"0a2f2d6a-a0b2-467e-a1f7-a3b39f202ac3\",\"type\":\"Rect\"},{\"attributes\":{\"data_source\":{\"id\":\"c7c5571d-9895-46e8-9211-78638eb8362f\",\"type\":\"ColumnDataSource\"},\"glyph\":{\"id\":\"ed147971-6cb3-4d45-9b4d-2f3663e21ce1\",\"type\":\"Rect\"},\"hover_glyph\":null,\"muted_glyph\":null,\"name\":\"Whiskers\",\"nonselection_glyph\":{\"id\":\"0a2f2d6a-a0b2-467e-a1f7-a3b39f202ac3\",\"type\":\"Rect\"},\"selection_glyph\":null,\"view\":{\"id\":\"aed84fc8-9bea-4ef7-a032-07760c5f8d94\",\"type\":\"CDSView\"}},\"id\":\"e7f3e8b1-0334-47e5-b0df-bc159f853aaa\",\"type\":\"GlyphRenderer\"},{\"attributes\":{},\"id\":\"f2eeeff0-bc7f-4d1a-b4ed-4b940bb44509\",\"type\":\"BasicTickFormatter\"},{\"attributes\":{\"source\":{\"id\":\"c7c5571d-9895-46e8-9211-78638eb8362f\",\"type\":\"ColumnDataSource\"}},\"id\":\"aed84fc8-9bea-4ef7-a032-07760c5f8d94\",\"type\":\"CDSView\"},{\"attributes\":{\"callback\":null,\"data\":{\"x\":[\"C6\",\"C6\"],\"y\":[151.37979125976562,156.9951934814453]},\"selected\":{\"id\":\"e0bf85b7-fb7c-425e-bced-00a5bf32987b\",\"type\":\"Selection\"},\"selection_policy\":{\"id\":\"79f795c9-1ca7-4b47-a3de-5cbd5e4d77c1\",\"type\":\"UnionRenderers\"}},\"id\":\"8d15affd-5b57-4bca-a12f-721d73f56873\",\"type\":\"ColumnDataSource\"},{\"attributes\":{\"fill_color\":{\"value\":\"#1f77b4\"},\"height\":{\"units\":\"data\",\"value\":0.001},\"line_color\":{\"value\":\"deepskyblue\"},\"width\":{\"units\":\"data\",\"value\":0.2},\"x\":{\"field\":\"x\"},\"y\":{\"field\":\"y\"}},\"id\":\"3ef46224-c3d9-4395-ad8b-c9ed3e1057c2\",\"type\":\"Rect\"},{\"attributes\":{\"fill_alpha\":{\"value\":0.1},\"fill_color\":{\"value\":\"#1f77b4\"},\"height\":{\"units\":\"data\",\"value\":0.001},\"line_alpha\":{\"value\":0.1},\"line_color\":{\"value\":\"#1f77b4\"},\"width\":{\"units\":\"data\",\"value\":0.2},\"x\":{\"field\":\"x\"},\"y\":{\"field\":\"y\"}},\"id\":\"f3de531b-4ce4-40be-bda1-c378a472434d\",\"type\":\"Rect\"},{\"attributes\":{\"data_source\":{\"id\":\"8d15affd-5b57-4bca-a12f-721d73f56873\",\"type\":\"ColumnDataSource\"},\"glyph\":{\"id\":\"3ef46224-c3d9-4395-ad8b-c9ed3e1057c2\",\"type\":\"Rect\"},\"hover_glyph\":null,\"muted_glyph\":null,\"name\":\"Whiskers\",\"nonselection_glyph\":{\"id\":\"f3de531b-4ce4-40be-bda1-c378a472434d\",\"type\":\"Rect\"},\"selection_glyph\":null,\"view\":{\"id\":\"627625ae-ad2f-4b1c-98c5-b4a75f4665fd\",\"type\":\"CDSView\"}},\"id\":\"16243104-f059-41b9-aea7-9fdc0b3bcda8\",\"type\":\"GlyphRenderer\"},{\"attributes\":{\"source\":{\"id\":\"8d15affd-5b57-4bca-a12f-721d73f56873\",\"type\":\"ColumnDataSource\"}},\"id\":\"627625ae-ad2f-4b1c-98c5-b4a75f4665fd\",\"type\":\"CDSView\"},{\"attributes\":{\"callback\":null,\"data\":{\"x\":[\"D1\",\"D1\"],\"y\":[149.92007446289062,151.46253967285156]},\"selected\":{\"id\":\"3c578bd3-8462-4074-9c58-6513c5154f2e\",\"type\":\"Selection\"},\"selection_policy\":{\"id\":\"b356b5b5-e7e0-4235-9208-b6b350c24fe9\",\"type\":\"UnionRenderers\"}},\"id\":\"0ab058e0-c031-4bde-ba51-d00b0068ca7c\",\"type\":\"ColumnDataSource\"},{\"attributes\":{\"fill_color\":{\"value\":\"#1f77b4\"},\"height\":{\"units\":\"data\",\"value\":0.001},\"line_color\":{\"value\":\"deepskyblue\"},\"width\":{\"units\":\"data\",\"value\":0.2},\"x\":{\"field\":\"x\"},\"y\":{\"field\":\"y\"}},\"id\":\"b40f5ad9-e6de-453e-9870-bd7bfb7c67a2\",\"type\":\"Rect\"},{\"attributes\":{\"fill_alpha\":{\"value\":0.1},\"fill_color\":{\"value\":\"#1f77b4\"},\"height\":{\"units\":\"data\",\"value\":0.001},\"line_alpha\":{\"value\":0.1},\"line_color\":{\"value\":\"#1f77b4\"},\"width\":{\"units\":\"data\",\"value\":0.2},\"x\":{\"field\":\"x\"},\"y\":{\"field\":\"y\"}},\"id\":\"3c91afcf-ee69-406f-9b09-4c5a9509ecfb\",\"type\":\"Rect\"},{\"attributes\":{\"data_source\":{\"id\":\"0ab058e0-c031-4bde-ba51-d00b0068ca7c\",\"type\":\"ColumnDataSource\"},\"glyph\":{\"id\":\"b40f5ad9-e6de-453e-9870-bd7bfb7c67a2\",\"type\":\"Rect\"},\"hover_glyph\":null,\"muted_glyph\":null,\"name\":\"Whiskers\",\"nonselection_glyph\":{\"id\":\"3c91afcf-ee69-406f-9b09-4c5a9509ecfb\",\"type\":\"Rect\"},\"selection_glyph\":null,\"view\":{\"id\":\"fc9d7e5f-25be-4bca-a8a0-4ad69fc5f915\",\"type\":\"CDSView\"}},\"id\":\"cb917bdd-a200-4c83-9f50-4cf50d0ba565\",\"type\":\"GlyphRenderer\"},{\"attributes\":{\"source\":{\"id\":\"0ab058e0-c031-4bde-ba51-d00b0068ca7c\",\"type\":\"ColumnDataSource\"}},\"id\":\"fc9d7e5f-25be-4bca-a8a0-4ad69fc5f915\",\"type\":\"CDSView\"},{\"attributes\":{\"callback\":null,\"data\":{\"x\":[\"D2\",\"D2\"],\"y\":[147.0724639892578,151.52755737304688]},\"selected\":{\"id\":\"c1862abc-f646-44b5-848a-a83fd6b27aca\",\"type\":\"Selection\"},\"selection_policy\":{\"id\":\"06c337dc-3caa-44f2-abde-d14edff3aa44\",\"type\":\"UnionRenderers\"}},\"id\":\"a3dc9e65-14e7-4407-a06c-aa9c09ac6768\",\"type\":\"ColumnDataSource\"},{\"attributes\":{},\"id\":\"95313e85-bc42-4d71-8c22-5af15e576cab\",\"type\":\"Selection\"},{\"attributes\":{\"fill_color\":{\"value\":\"#1f77b4\"},\"height\":{\"units\":\"data\",\"value\":0.001},\"line_color\":{\"value\":\"deepskyblue\"},\"width\":{\"units\":\"data\",\"value\":0.2},\"x\":{\"field\":\"x\"},\"y\":{\"field\":\"y\"}},\"id\":\"19f71e53-415f-4780-bef4-241e08edbd20\",\"type\":\"Rect\"},{\"attributes\":{\"fill_alpha\":{\"value\":0.1},\"fill_color\":{\"value\":\"#1f77b4\"},\"height\":{\"units\":\"data\",\"value\":0.001},\"line_alpha\":{\"value\":0.1},\"line_color\":{\"value\":\"#1f77b4\"},\"width\":{\"units\":\"data\",\"value\":0.2},\"x\":{\"field\":\"x\"},\"y\":{\"field\":\"y\"}},\"id\":\"5eb8481e-f89b-444b-b28a-59d494ec9dd6\",\"type\":\"Rect\"},{\"attributes\":{\"data_source\":{\"id\":\"a3dc9e65-14e7-4407-a06c-aa9c09ac6768\",\"type\":\"ColumnDataSource\"},\"glyph\":{\"id\":\"19f71e53-415f-4780-bef4-241e08edbd20\",\"type\":\"Rect\"},\"hover_glyph\":null,\"muted_glyph\":null,\"name\":\"Whiskers\",\"nonselection_glyph\":{\"id\":\"5eb8481e-f89b-444b-b28a-59d494ec9dd6\",\"type\":\"Rect\"},\"selection_glyph\":null,\"view\":{\"id\":\"c5303aca-0694-470a-9227-da6579db2e04\",\"type\":\"CDSView\"}},\"id\":\"2af9df44-3fe0-4212-9265-7ba9e167bc70\",\"type\":\"GlyphRenderer\"},{\"attributes\":{\"source\":{\"id\":\"a3dc9e65-14e7-4407-a06c-aa9c09ac6768\",\"type\":\"ColumnDataSource\"}},\"id\":\"c5303aca-0694-470a-9227-da6579db2e04\",\"type\":\"CDSView\"},{\"attributes\":{\"callback\":null,\"data\":{\"x\":[\"E1\",\"E1\"],\"y\":[147.9278106689453,151.423095703125]},\"selected\":{\"id\":\"11e084d7-2423-4588-af0b-1f72099d3437\",\"type\":\"Selection\"},\"selection_policy\":{\"id\":\"eeb7a257-6484-4669-b4fc-300a3f3e0b6c\",\"type\":\"UnionRenderers\"}},\"id\":\"45e39572-1b0d-46d4-83b4-c57bc4930078\",\"type\":\"ColumnDataSource\"},{\"attributes\":{},\"id\":\"2e5df0d7-a1a9-4f20-9962-2c866087c12c\",\"type\":\"CategoricalTickFormatter\"},{\"attributes\":{},\"id\":\"31637db5-b1a7-4fb0-ae65-7751a34ccc02\",\"type\":\"CategoricalScale\"},{\"attributes\":{},\"id\":\"7f5c82dd-a815-4a71-a405-bfac716ad33b\",\"type\":\"Selection\"},{\"attributes\":{},\"id\":\"ed79794c-f6db-4747-bf9b-451dba614745\",\"type\":\"Selection\"},{\"attributes\":{\"source\":{\"id\":\"fae0bc68-be66-4b79-90a2-7ea88857cc91\",\"type\":\"ColumnDataSource\"}},\"id\":\"81c23711-c53e-4803-8509-6c5412790028\",\"type\":\"CDSView\"},{\"attributes\":{\"callback\":null,\"data\":{\"x\":[\"S3\",\"S3\"],\"y\":[149.20425415039062,151.72158813476562]},\"selected\":{\"id\":\"09e900c0-c006-4777-a4f9-c81a0785850d\",\"type\":\"Selection\"},\"selection_policy\":{\"id\":\"36524f08-8261-45c3-a256-9ee03e4d3be7\",\"type\":\"UnionRenderers\"}},\"id\":\"c72a6b44-b8a8-4101-9c86-d09617dc947e\",\"type\":\"ColumnDataSource\"},{\"attributes\":{},\"id\":\"7dd90927-ab3f-448c-8b3b-918cf79249df\",\"type\":\"UnionRenderers\"},{\"attributes\":{\"fill_color\":{\"value\":\"#1f77b4\"},\"height\":{\"units\":\"data\",\"value\":0.001},\"line_color\":{\"value\":\"deepskyblue\"},\"width\":{\"units\":\"data\",\"value\":0.2},\"x\":{\"field\":\"x\"},\"y\":{\"field\":\"y\"}},\"id\":\"a80ea5bf-8a48-4a02-a881-3998458b0773\",\"type\":\"Rect\"},{\"attributes\":{},\"id\":\"0b9ac051-3011-45c5-98d0-bb6f619c2840\",\"type\":\"Selection\"},{\"attributes\":{\"fill_alpha\":{\"value\":0.1},\"fill_color\":{\"value\":\"#1f77b4\"},\"height\":{\"units\":\"data\",\"value\":0.001},\"line_alpha\":{\"value\":0.1},\"line_color\":{\"value\":\"#1f77b4\"},\"width\":{\"units\":\"data\",\"value\":0.2},\"x\":{\"field\":\"x\"},\"y\":{\"field\":\"y\"}},\"id\":\"b2590b0e-5275-45b6-b1c0-17f9a4a6dc22\",\"type\":\"Rect\"},{\"attributes\":{},\"id\":\"5c3dc059-ee1c-4cee-b7ae-94fdb395e8df\",\"type\":\"UnionRenderers\"},{\"attributes\":{\"data_source\":{\"id\":\"c72a6b44-b8a8-4101-9c86-d09617dc947e\",\"type\":\"ColumnDataSource\"},\"glyph\":{\"id\":\"a80ea5bf-8a48-4a02-a881-3998458b0773\",\"type\":\"Rect\"},\"hover_glyph\":null,\"muted_glyph\":null,\"name\":\"Whiskers\",\"nonselection_glyph\":{\"id\":\"b2590b0e-5275-45b6-b1c0-17f9a4a6dc22\",\"type\":\"Rect\"},\"selection_glyph\":null,\"view\":{\"id\":\"1b3c2f00-0e15-4d30-8c87-8e7817f502cc\",\"type\":\"CDSView\"}},\"id\":\"44fea8ed-9728-4182-b58f-56220a13ed1e\",\"type\":\"GlyphRenderer\"},{\"attributes\":{},\"id\":\"700444a6-c6e8-41d9-b0e2-6aded83e406c\",\"type\":\"Selection\"},{\"attributes\":{\"source\":{\"id\":\"c72a6b44-b8a8-4101-9c86-d09617dc947e\",\"type\":\"ColumnDataSource\"}},\"id\":\"1b3c2f00-0e15-4d30-8c87-8e7817f502cc\",\"type\":\"CDSView\"},{\"attributes\":{},\"id\":\"41eae09a-90fe-4e31-b925-1d204a64c602\",\"type\":\"UnionRenderers\"},{\"attributes\":{\"callback\":null,\"data\":{\"x\":[\"S4\",\"S4\"],\"y\":[149.60479736328125,153.35128784179688]},\"selected\":{\"id\":\"e46bc8d6-1cc1-45f9-9e27-ae87f43de912\",\"type\":\"Selection\"},\"selection_policy\":{\"id\":\"43adc2ab-6f81-4fa2-9949-20cd13bd5a66\",\"type\":\"UnionRenderers\"}},\"id\":\"7bf4df00-957f-4d9f-ad5c-8e594974e17b\",\"type\":\"ColumnDataSource\"},{\"attributes\":{},\"id\":\"c5a7e75a-56b2-4f48-ae89-bd0e80fbb86a\",\"type\":\"Selection\"},{\"attributes\":{\"fill_color\":{\"value\":\"#1f77b4\"},\"height\":{\"units\":\"data\",\"value\":0.001},\"line_color\":{\"value\":\"deepskyblue\"},\"width\":{\"units\":\"data\",\"value\":0.2},\"x\":{\"field\":\"x\"},\"y\":{\"field\":\"y\"}},\"id\":\"fd4f6a52-badb-4eb7-9de8-95dacd1a0885\",\"type\":\"Rect\"},{\"attributes\":{},\"id\":\"3a71d4dd-15ea-405c-be04-3bcb0f0d088b\",\"type\":\"UnionRenderers\"},{\"attributes\":{\"fill_alpha\":{\"value\":0.1},\"fill_color\":{\"value\":\"#1f77b4\"},\"height\":{\"units\":\"data\",\"value\":0.001},\"line_alpha\":{\"value\":0.1},\"line_color\":{\"value\":\"#1f77b4\"},\"width\":{\"units\":\"data\",\"value\":0.2},\"x\":{\"field\":\"x\"},\"y\":{\"field\":\"y\"}},\"id\":\"d40339b6-ca60-4d3a-b127-c74772a95251\",\"type\":\"Rect\"},{\"attributes\":{},\"id\":\"d1da158b-65fb-443b-a6bf-4e8f20191656\",\"type\":\"Selection\"},{\"attributes\":{\"data_source\":{\"id\":\"7bf4df00-957f-4d9f-ad5c-8e594974e17b\",\"type\":\"ColumnDataSource\"},\"glyph\":{\"id\":\"fd4f6a52-badb-4eb7-9de8-95dacd1a0885\",\"type\":\"Rect\"},\"hover_glyph\":null,\"muted_glyph\":null,\"name\":\"Whiskers\",\"nonselection_glyph\":{\"id\":\"d40339b6-ca60-4d3a-b127-c74772a95251\",\"type\":\"Rect\"},\"selection_glyph\":null,\"view\":{\"id\":\"598298ce-2378-4e49-b17b-3a60e84c0a87\",\"type\":\"CDSView\"}},\"id\":\"92220033-0a3f-48be-b0a7-7e781056e35c\",\"type\":\"GlyphRenderer\"},{\"attributes\":{},\"id\":\"2d0c2f09-e75d-47bb-9ecc-ebe7778e4792\",\"type\":\"UnionRenderers\"},{\"attributes\":{\"source\":{\"id\":\"7bf4df00-957f-4d9f-ad5c-8e594974e17b\",\"type\":\"ColumnDataSource\"}},\"id\":\"598298ce-2378-4e49-b17b-3a60e84c0a87\",\"type\":\"CDSView\"},{\"attributes\":{},\"id\":\"9a3578bf-d20b-4be9-b4a2-1f0ac64f6ec1\",\"type\":\"Selection\"},{\"attributes\":{\"callback\":null,\"data\":{\"x\":[\"S5\",\"S5\"],\"y\":[154.5840606689453,160.6728057861328]},\"selected\":{\"id\":\"0fdabdaf-2474-4101-9a83-ad04f2d43efd\",\"type\":\"Selection\"},\"selection_policy\":{\"id\":\"6c03cc8a-ca40-46e4-8d86-553cf8ee3079\",\"type\":\"UnionRenderers\"}},\"id\":\"1f8530ef-b843-411e-a7af-32bf028a7a2e\",\"type\":\"ColumnDataSource\"},{\"attributes\":{},\"id\":\"53c665ea-0237-483e-b184-57936a9e5f79\",\"type\":\"UnionRenderers\"},{\"attributes\":{\"fill_color\":{\"value\":\"#1f77b4\"},\"height\":{\"units\":\"data\",\"value\":0.001},\"line_color\":{\"value\":\"deepskyblue\"},\"width\":{\"units\":\"data\",\"value\":0.2},\"x\":{\"field\":\"x\"},\"y\":{\"field\":\"y\"}},\"id\":\"2fd2cb7a-9268-4fed-90e0-a9d5c55abde7\",\"type\":\"Rect\"},{\"attributes\":{},\"id\":\"00e45ccb-2885-480c-9d9f-647b9cc4d832\",\"type\":\"Selection\"},{\"attributes\":{\"fill_alpha\":{\"value\":0.1},\"fill_color\":{\"value\":\"#1f77b4\"},\"height\":{\"units\":\"data\",\"value\":0.001},\"line_alpha\":{\"value\":0.1},\"line_color\":{\"value\":\"#1f77b4\"},\"width\":{\"units\":\"data\",\"value\":0.2},\"x\":{\"field\":\"x\"},\"y\":{\"field\":\"y\"}},\"id\":\"984a8020-603f-4ea0-a17b-b02432fd4480\",\"type\":\"Rect\"},{\"attributes\":{},\"id\":\"36524f08-8261-45c3-a256-9ee03e4d3be7\",\"type\":\"UnionRenderers\"},{\"attributes\":{\"data_source\":{\"id\":\"1f8530ef-b843-411e-a7af-32bf028a7a2e\",\"type\":\"ColumnDataSource\"},\"glyph\":{\"id\":\"2fd2cb7a-9268-4fed-90e0-a9d5c55abde7\",\"type\":\"Rect\"},\"hover_glyph\":null,\"muted_glyph\":null,\"name\":\"Whiskers\",\"nonselection_glyph\":{\"id\":\"984a8020-603f-4ea0-a17b-b02432fd4480\",\"type\":\"Rect\"},\"selection_glyph\":null,\"view\":{\"id\":\"8311f338-4856-433f-8841-65a95374579a\",\"type\":\"CDSView\"}},\"id\":\"76ed106e-9b6e-427a-b8f7-5c3410440f2e\",\"type\":\"GlyphRenderer\"},{\"attributes\":{},\"id\":\"09e900c0-c006-4777-a4f9-c81a0785850d\",\"type\":\"Selection\"},{\"attributes\":{\"source\":{\"id\":\"1f8530ef-b843-411e-a7af-32bf028a7a2e\",\"type\":\"ColumnDataSource\"}},\"id\":\"8311f338-4856-433f-8841-65a95374579a\",\"type\":\"CDSView\"},{\"attributes\":{},\"id\":\"43adc2ab-6f81-4fa2-9949-20cd13bd5a66\",\"type\":\"UnionRenderers\"},{\"attributes\":{\"callback\":null,\"data\":{\"x\":[\"T1\",\"T1\"],\"y\":[146.53074645996094,151.1573944091797]},\"selected\":{\"id\":\"2211eb55-1a94-4332-85d1-1007555c8897\",\"type\":\"Selection\"},\"selection_policy\":{\"id\":\"1413516d-eea1-4de0-81a1-36ee7b1e746a\",\"type\":\"UnionRenderers\"}},\"id\":\"728c1255-c70b-410e-b157-02e7501b252b\",\"type\":\"ColumnDataSource\"},{\"attributes\":{},\"id\":\"e46bc8d6-1cc1-45f9-9e27-ae87f43de912\",\"type\":\"Selection\"},{\"attributes\":{\"fill_color\":{\"value\":\"#1f77b4\"},\"height\":{\"units\":\"data\",\"value\":0.001},\"line_color\":{\"value\":\"deepskyblue\"},\"width\":{\"units\":\"data\",\"value\":0.2},\"x\":{\"field\":\"x\"},\"y\":{\"field\":\"y\"}},\"id\":\"6a6e4059-337b-44a1-aa39-7c15ae2a98bf\",\"type\":\"Rect\"},{\"attributes\":{},\"id\":\"6c03cc8a-ca40-46e4-8d86-553cf8ee3079\",\"type\":\"UnionRenderers\"},{\"attributes\":{\"fill_alpha\":{\"value\":0.1},\"fill_color\":{\"value\":\"#1f77b4\"},\"height\":{\"units\":\"data\",\"value\":0.001},\"line_alpha\":{\"value\":0.1},\"line_color\":{\"value\":\"#1f77b4\"},\"width\":{\"units\":\"data\",\"value\":0.2},\"x\":{\"field\":\"x\"},\"y\":{\"field\":\"y\"}},\"id\":\"f2a917a4-8af7-47bc-931a-9045a9e5af11\",\"type\":\"Rect\"},{\"attributes\":{},\"id\":\"0fdabdaf-2474-4101-9a83-ad04f2d43efd\",\"type\":\"Selection\"},{\"attributes\":{\"data_source\":{\"id\":\"728c1255-c70b-410e-b157-02e7501b252b\",\"type\":\"ColumnDataSource\"},\"glyph\":{\"id\":\"6a6e4059-337b-44a1-aa39-7c15ae2a98bf\",\"type\":\"Rect\"},\"hover_glyph\":null,\"muted_glyph\":null,\"name\":\"Whiskers\",\"nonselection_glyph\":{\"id\":\"f2a917a4-8af7-47bc-931a-9045a9e5af11\",\"type\":\"Rect\"},\"selection_glyph\":null,\"view\":{\"id\":\"b36873e8-c1c4-4aca-b265-31c170d7d7c2\",\"type\":\"CDSView\"}},\"id\":\"671bd99d-0089-4260-8d4b-6c7ad7580412\",\"type\":\"GlyphRenderer\"},{\"attributes\":{},\"id\":\"1413516d-eea1-4de0-81a1-36ee7b1e746a\",\"type\":\"UnionRenderers\"},{\"attributes\":{\"source\":{\"id\":\"728c1255-c70b-410e-b157-02e7501b252b\",\"type\":\"ColumnDataSource\"}},\"id\":\"b36873e8-c1c4-4aca-b265-31c170d7d7c2\",\"type\":\"CDSView\"},{\"attributes\":{},\"id\":\"2211eb55-1a94-4332-85d1-1007555c8897\",\"type\":\"Selection\"},{\"attributes\":{\"callback\":null,\"data\":{\"x\":[\"T2\",\"T2\"],\"y\":[148.26441955566406,151.9889373779297]},\"selected\":{\"id\":\"0f0d23d7-d109-4ec3-af6c-d813722eb214\",\"type\":\"Selection\"},\"selection_policy\":{\"id\":\"73214abd-865e-4a44-8bf2-34c0f9b54a6f\",\"type\":\"UnionRenderers\"}},\"id\":\"5264f2ec-89ba-454e-9b8a-fd797db52c71\",\"type\":\"ColumnDataSource\"},{\"attributes\":{},\"id\":\"73214abd-865e-4a44-8bf2-34c0f9b54a6f\",\"type\":\"UnionRenderers\"},{\"attributes\":{\"callback\":null},\"id\":\"52525f2d-d195-4a64-af3b-4ffb6bdb4371\",\"type\":\"DataRange1d\"},{\"attributes\":{\"fill_color\":{\"value\":\"#1f77b4\"},\"height\":{\"units\":\"data\",\"value\":0.001},\"line_color\":{\"value\":\"deepskyblue\"},\"width\":{\"units\":\"data\",\"value\":0.2},\"x\":{\"field\":\"x\"},\"y\":{\"field\":\"y\"}},\"id\":\"256629d4-2154-456b-bd9e-c4af24df7985\",\"type\":\"Rect\"},{\"attributes\":{},\"id\":\"0f0d23d7-d109-4ec3-af6c-d813722eb214\",\"type\":\"Selection\"},{\"attributes\":{\"fill_alpha\":{\"value\":0.1},\"fill_color\":{\"value\":\"#1f77b4\"},\"height\":{\"units\":\"data\",\"value\":0.001},\"line_alpha\":{\"value\":0.1},\"line_color\":{\"value\":\"#1f77b4\"},\"width\":{\"units\":\"data\",\"value\":0.2},\"x\":{\"field\":\"x\"},\"y\":{\"field\":\"y\"}},\"id\":\"3f89ab16-c0f1-416f-ae6f-ec82f01d24f9\",\"type\":\"Rect\"},{\"attributes\":{\"data_source\":{\"id\":\"5264f2ec-89ba-454e-9b8a-fd797db52c71\",\"type\":\"ColumnDataSource\"},\"glyph\":{\"id\":\"256629d4-2154-456b-bd9e-c4af24df7985\",\"type\":\"Rect\"},\"hover_glyph\":null,\"muted_glyph\":null,\"name\":\"Whiskers\",\"nonselection_glyph\":{\"id\":\"3f89ab16-c0f1-416f-ae6f-ec82f01d24f9\",\"type\":\"Rect\"},\"selection_glyph\":null,\"view\":{\"id\":\"732e58f0-9e0c-4034-84e4-75371fea6579\",\"type\":\"CDSView\"}},\"id\":\"c0a0006d-2cc1-437f-8cf5-76e7300ef9c3\",\"type\":\"GlyphRenderer\"},{\"attributes\":{\"source\":{\"id\":\"5264f2ec-89ba-454e-9b8a-fd797db52c71\",\"type\":\"ColumnDataSource\"}},\"id\":\"732e58f0-9e0c-4034-84e4-75371fea6579\",\"type\":\"CDSView\"},{\"attributes\":{},\"id\":\"3f52d579-3d4c-4b67-a727-e8042b0bfdf2\",\"type\":\"UnionRenderers\"},{\"attributes\":{},\"id\":\"7a8f5868-f6db-495a-a88b-e8df44cd7198\",\"type\":\"UnionRenderers\"},{\"attributes\":{},\"id\":\"6e18d1f6-e87e-4daa-ae5b-99b6f4292b6b\",\"type\":\"Selection\"},{\"attributes\":{},\"id\":\"b253ed70-a0fd-43c4-9387-8fb2cd3af945\",\"type\":\"UnionRenderers\"},{\"attributes\":{},\"id\":\"256f956f-5433-4303-8559-c0bbf8dc8a5f\",\"type\":\"Selection\"},{\"attributes\":{},\"id\":\"543d1620-6e61-465d-8c31-262417a0cfa4\",\"type\":\"UnionRenderers\"},{\"attributes\":{},\"id\":\"8ceff4ab-315a-4bef-8300-5c0fc5f018b4\",\"type\":\"Selection\"},{\"attributes\":{},\"id\":\"dc0958e9-8843-4300-8d47-8119dc8c969e\",\"type\":\"UnionRenderers\"},{\"attributes\":{},\"id\":\"5619ec1d-e57e-45c7-a605-8d899d1726bc\",\"type\":\"Selection\"},{\"attributes\":{},\"id\":\"fbefb993-ee27-4016-bc71-4b2434cb8bd9\",\"type\":\"UnionRenderers\"},{\"attributes\":{},\"id\":\"ec87fa83-348e-4bb8-90ed-55dcbe168122\",\"type\":\"Selection\"},{\"attributes\":{},\"id\":\"04664846-b429-43e0-8d40-ae251027a5f5\",\"type\":\"UnionRenderers\"},{\"attributes\":{},\"id\":\"96f88661-4414-46fa-9409-0c2adf6794d6\",\"type\":\"Selection\"},{\"attributes\":{},\"id\":\"c87d925e-3850-4f6d-a72a-0dcd0d385249\",\"type\":\"UnionRenderers\"},{\"attributes\":{},\"id\":\"2374a44c-3ce9-4ce3-9944-a7ab28243712\",\"type\":\"Selection\"},{\"attributes\":{},\"id\":\"3f827423-3ccc-455b-8ff0-8c5528d35145\",\"type\":\"UnionRenderers\"},{\"attributes\":{},\"id\":\"70809ab9-96dc-4b4a-be0a-970947cde9c9\",\"type\":\"Selection\"},{\"attributes\":{},\"id\":\"8241d6b9-3c77-4770-a749-3e536cf4e370\",\"type\":\"UnionRenderers\"},{\"attributes\":{},\"id\":\"49dad3e3-444b-4460-a62c-ff120a7c2a96\",\"type\":\"Selection\"},{\"attributes\":{},\"id\":\"affa30bf-a3fd-456d-9c14-68367631e81f\",\"type\":\"UnionRenderers\"},{\"attributes\":{},\"id\":\"77354caa-e692-4ec2-8d51-c482138a1aee\",\"type\":\"Selection\"},{\"attributes\":{},\"id\":\"c937a03c-1c1c-4b05-b84c-4350a199e875\",\"type\":\"UnionRenderers\"},{\"attributes\":{},\"id\":\"c29cbe07-7d4a-4bc9-a997-5e23b83e9ccf\",\"type\":\"Selection\"},{\"attributes\":{},\"id\":\"79f795c9-1ca7-4b47-a3de-5cbd5e4d77c1\",\"type\":\"UnionRenderers\"},{\"attributes\":{},\"id\":\"e0bf85b7-fb7c-425e-bced-00a5bf32987b\",\"type\":\"Selection\"},{\"attributes\":{},\"id\":\"b356b5b5-e7e0-4235-9208-b6b350c24fe9\",\"type\":\"UnionRenderers\"},{\"attributes\":{},\"id\":\"3c578bd3-8462-4074-9c58-6513c5154f2e\",\"type\":\"Selection\"},{\"attributes\":{},\"id\":\"06c337dc-3caa-44f2-abde-d14edff3aa44\",\"type\":\"UnionRenderers\"},{\"attributes\":{},\"id\":\"c1862abc-f646-44b5-848a-a83fd6b27aca\",\"type\":\"Selection\"},{\"attributes\":{},\"id\":\"eeb7a257-6484-4669-b4fc-300a3f3e0b6c\",\"type\":\"UnionRenderers\"},{\"attributes\":{},\"id\":\"11e084d7-2423-4588-af0b-1f72099d3437\",\"type\":\"Selection\"},{\"attributes\":{},\"id\":\"ee884ef7-14ab-4e4e-9ed4-db688255ad07\",\"type\":\"UnionRenderers\"},{\"attributes\":{},\"id\":\"1bfc8d0e-3acd-43a5-93c8-3c48a6cd1cd1\",\"type\":\"Selection\"},{\"attributes\":{},\"id\":\"5c4cfc14-42bf-4afc-9ac8-65bc140bcb77\",\"type\":\"UnionRenderers\"},{\"attributes\":{},\"id\":\"3dadc8a5-ed1d-4a33-bd67-0a59dbd759fb\",\"type\":\"Selection\"},{\"attributes\":{},\"id\":\"cd0bb47a-0f68-4a64-8ff6-56538a3b8de9\",\"type\":\"UnionRenderers\"},{\"attributes\":{},\"id\":\"45ad3f05-07d5-49a6-83a7-8359fbac59f4\",\"type\":\"Selection\"},{\"attributes\":{},\"id\":\"164c537e-9b0b-4fcf-9928-daa4890b2e15\",\"type\":\"UnionRenderers\"},{\"attributes\":{},\"id\":\"69c1f25a-2ea2-492d-be2a-dd0aee3ff1e5\",\"type\":\"Selection\"},{\"attributes\":{},\"id\":\"44739c0e-88c8-4770-99b5-76b244f3f284\",\"type\":\"UnionRenderers\"},{\"attributes\":{},\"id\":\"778b06fb-367d-4828-bdcf-66227cbf27be\",\"type\":\"Selection\"},{\"attributes\":{},\"id\":\"2d716295-c1f4-4b94-81d9-9a1f52974f36\",\"type\":\"UnionRenderers\"},{\"attributes\":{},\"id\":\"cdefee6e-5e11-4f79-8b6d-a0bd127ffe89\",\"type\":\"Selection\"},{\"attributes\":{},\"id\":\"ef89934b-41a0-4538-8a72-cd9dc93b6e2f\",\"type\":\"UnionRenderers\"},{\"attributes\":{},\"id\":\"18b87b14-09ad-4726-be1d-a1aad7c1aa43\",\"type\":\"Selection\"}],\"root_ids\":[\"3656b4b0-4d6f-4bb8-8bc0-73ee43bad44c\"]},\"title\":\"Bokeh Application\",\"version\":\"0.13.0\"}};\n",
       "  var render_items = [{\"docid\":\"7f840729-8803-43d8-b1ac-477d93085e95\",\"roots\":{\"3656b4b0-4d6f-4bb8-8bc0-73ee43bad44c\":\"3058ca17-e6fc-4e2c-a5d4-b540e9105035\"}}];\n",
       "  root.Bokeh.embed.embed_items_notebook(docs_json, render_items);\n",
       "\n",
       "  }\n",
       "  if (root.Bokeh !== undefined) {\n",
       "    embed_document(root);\n",
       "  } else {\n",
       "    var attempts = 0;\n",
       "    var timer = setInterval(function(root) {\n",
       "      if (root.Bokeh !== undefined) {\n",
       "        embed_document(root);\n",
       "        clearInterval(timer);\n",
       "      }\n",
       "      attempts++;\n",
       "      if (attempts > 100) {\n",
       "        console.log(\"Bokeh: ERROR: Unable to run BokehJS code because BokehJS library is missing\")\n",
       "        clearInterval(timer);\n",
       "      }\n",
       "    }, 10, root)\n",
       "  }\n",
       "})(window);"
      ],
      "application/vnd.bokehjs_exec.v0+json": ""
     },
     "metadata": {
      "application/vnd.bokehjs_exec.v0+json": {
       "id": "3656b4b0-4d6f-4bb8-8bc0-73ee43bad44c"
      }
     },
     "output_type": "display_data"
    }
   ],
   "source": [
    "show(f)"
   ]
  }
 ],
 "metadata": {
  "kernelspec": {
   "display_name": "Python 3",
   "language": "python",
   "name": "python3"
  },
  "language_info": {
   "codemirror_mode": {
    "name": "ipython",
    "version": 3
   },
   "file_extension": ".py",
   "mimetype": "text/x-python",
   "name": "python",
   "nbconvert_exporter": "python",
   "pygments_lexer": "ipython3",
   "version": "3.6.6"
  }
 },
 "nbformat": 4,
 "nbformat_minor": 2
}
