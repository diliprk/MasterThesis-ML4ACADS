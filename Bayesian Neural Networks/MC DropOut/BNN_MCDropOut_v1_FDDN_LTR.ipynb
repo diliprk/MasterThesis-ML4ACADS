{
 "cells": [
  {
   "cell_type": "markdown",
   "metadata": {},
   "source": [
    "## Version Description:\n",
    " * In this version - we predict just the __R600 Hole Diameter__ (`R600_HD`)in TZ6 using [Bayesian Neural Network with MC DropOut](https://github.com/valyome/Neural-Networks-with-MC-Dropout/). \n",
    " * Artificial data points synthesised from FDDN are used to train the ML model\n",
    " * The input features are `TZ6_Flow`,`MIXP`,`AMBP`,`AMBT` and the TZ6 CLR Restrictors."
   ]
  },
  {
   "cell_type": "code",
   "execution_count": 1,
   "metadata": {},
   "outputs": [
    {
     "data": {
      "text/html": [
       "<style>.container { width:95% !important; }</style>"
      ],
      "text/plain": [
       "<IPython.core.display.HTML object>"
      ]
     },
     "metadata": {},
     "output_type": "display_data"
    }
   ],
   "source": [
    "from IPython.core.display import display, HTML\n",
    "display(HTML(\"<style>.container { width:95% !important; }</style>\"))"
   ]
  },
  {
   "cell_type": "code",
   "execution_count": 2,
   "metadata": {},
   "outputs": [],
   "source": [
    "import pandas as pd\n",
    "import numpy as np\n",
    "\n",
    "#Set some numpy print options for displaying numpy arrays to fit maximum width of cell\n",
    "np.set_printoptions(precision=3, edgeitems=30, linewidth=1000,formatter=dict(float=lambda x: \"%.6g\" % x)) \n",
    "from functools import reduce\n",
    "\n",
    "from sklearn.preprocessing import MinMaxScaler\n",
    "from sklearn.metrics import mean_squared_error, r2_score"
   ]
  },
  {
   "cell_type": "code",
   "execution_count": 3,
   "metadata": {},
   "outputs": [],
   "source": [
    "import matplotlib.pyplot as plt\n",
    "%matplotlib inline\n",
    "%config InlineBackend.figure_format = 'svg' \n",
    "plt.style.use('seaborn-whitegrid')"
   ]
  },
  {
   "cell_type": "markdown",
   "metadata": {},
   "source": [
    "### Loading Data"
   ]
  },
  {
   "cell_type": "code",
   "execution_count": 4,
   "metadata": {},
   "outputs": [],
   "source": [
    "input_features = ['TZ_Flow','MIXP','AMBP','AMBT','R610_HS1','R611_HS1','R612_HS1','R613_HS1']\n",
    "usecols = ['HoV']+input_features+['R600_HD']"
   ]
  },
  {
   "cell_type": "code",
   "execution_count": 5,
   "metadata": {},
   "outputs": [
    {
     "data": {
      "text/html": [
       "<div>\n",
       "<style scoped>\n",
       "    .dataframe tbody tr th:only-of-type {\n",
       "        vertical-align: middle;\n",
       "    }\n",
       "\n",
       "    .dataframe tbody tr th {\n",
       "        vertical-align: top;\n",
       "    }\n",
       "\n",
       "    .dataframe thead th {\n",
       "        text-align: right;\n",
       "    }\n",
       "</style>\n",
       "<table border=\"1\" class=\"dataframe\">\n",
       "  <thead>\n",
       "    <tr style=\"text-align: right;\">\n",
       "      <th></th>\n",
       "      <th>HoV</th>\n",
       "      <th>TZ_Flow</th>\n",
       "      <th>MIXP</th>\n",
       "      <th>AMBP</th>\n",
       "      <th>AMBT</th>\n",
       "      <th>R610_HS1</th>\n",
       "      <th>R611_HS1</th>\n",
       "      <th>R612_HS1</th>\n",
       "      <th>R613_HS1</th>\n",
       "      <th>R600_HD</th>\n",
       "    </tr>\n",
       "  </thead>\n",
       "  <tbody>\n",
       "    <tr>\n",
       "      <th>0</th>\n",
       "      <td>FDDN_ASD0</td>\n",
       "      <td>720.292743</td>\n",
       "      <td>1800</td>\n",
       "      <td>102926</td>\n",
       "      <td>297.15</td>\n",
       "      <td>131</td>\n",
       "      <td>136</td>\n",
       "      <td>120</td>\n",
       "      <td>120</td>\n",
       "      <td>146</td>\n",
       "    </tr>\n",
       "    <tr>\n",
       "      <th>1</th>\n",
       "      <td>FDDN_ASD1</td>\n",
       "      <td>871.403000</td>\n",
       "      <td>2600</td>\n",
       "      <td>102426</td>\n",
       "      <td>299.15</td>\n",
       "      <td>131</td>\n",
       "      <td>136</td>\n",
       "      <td>120</td>\n",
       "      <td>120</td>\n",
       "      <td>146</td>\n",
       "    </tr>\n",
       "    <tr>\n",
       "      <th>2</th>\n",
       "      <td>FDDN_ASD2</td>\n",
       "      <td>985.488429</td>\n",
       "      <td>3400</td>\n",
       "      <td>103127</td>\n",
       "      <td>294.15</td>\n",
       "      <td>131</td>\n",
       "      <td>136</td>\n",
       "      <td>120</td>\n",
       "      <td>120</td>\n",
       "      <td>146</td>\n",
       "    </tr>\n",
       "    <tr>\n",
       "      <th>3</th>\n",
       "      <td>FDDN_ASD3</td>\n",
       "      <td>722.824643</td>\n",
       "      <td>1800</td>\n",
       "      <td>101825</td>\n",
       "      <td>295.15</td>\n",
       "      <td>131</td>\n",
       "      <td>136</td>\n",
       "      <td>120</td>\n",
       "      <td>120</td>\n",
       "      <td>146</td>\n",
       "    </tr>\n",
       "    <tr>\n",
       "      <th>4</th>\n",
       "      <td>FDDN_ASD4</td>\n",
       "      <td>875.039489</td>\n",
       "      <td>2600</td>\n",
       "      <td>100523</td>\n",
       "      <td>295.15</td>\n",
       "      <td>131</td>\n",
       "      <td>136</td>\n",
       "      <td>120</td>\n",
       "      <td>120</td>\n",
       "      <td>146</td>\n",
       "    </tr>\n",
       "  </tbody>\n",
       "</table>\n",
       "</div>"
      ],
      "text/plain": [
       "         HoV     TZ_Flow  MIXP    AMBP    AMBT  R610_HS1  R611_HS1  R612_HS1  \\\n",
       "0  FDDN_ASD0  720.292743  1800  102926  297.15       131       136       120   \n",
       "1  FDDN_ASD1  871.403000  2600  102426  299.15       131       136       120   \n",
       "2  FDDN_ASD2  985.488429  3400  103127  294.15       131       136       120   \n",
       "3  FDDN_ASD3  722.824643  1800  101825  295.15       131       136       120   \n",
       "4  FDDN_ASD4  875.039489  2600  100523  295.15       131       136       120   \n",
       "\n",
       "   R613_HS1  R600_HD  \n",
       "0       120      146  \n",
       "1       120      146  \n",
       "2       120      146  \n",
       "3       120      146  \n",
       "4       120      146  "
      ]
     },
     "execution_count": 5,
     "metadata": {},
     "output_type": "execute_result"
    }
   ],
   "source": [
    "FDDN_df = pd.read_csv('../../data/Simulation_dataset.csv', usecols = usecols)[usecols]\n",
    "FDDN_df.head()"
   ]
  },
  {
   "cell_type": "code",
   "execution_count": 6,
   "metadata": {},
   "outputs": [
    {
     "data": {
      "text/html": [
       "<div>\n",
       "<style scoped>\n",
       "    .dataframe tbody tr th:only-of-type {\n",
       "        vertical-align: middle;\n",
       "    }\n",
       "\n",
       "    .dataframe tbody tr th {\n",
       "        vertical-align: top;\n",
       "    }\n",
       "\n",
       "    .dataframe thead th {\n",
       "        text-align: right;\n",
       "    }\n",
       "</style>\n",
       "<table border=\"1\" class=\"dataframe\">\n",
       "  <thead>\n",
       "    <tr style=\"text-align: right;\">\n",
       "      <th></th>\n",
       "      <th>HoV</th>\n",
       "      <th>TZ_Flow</th>\n",
       "      <th>MIXP</th>\n",
       "      <th>AMBP</th>\n",
       "      <th>AMBT</th>\n",
       "      <th>R610_HS1</th>\n",
       "      <th>R611_HS1</th>\n",
       "      <th>R612_HS1</th>\n",
       "      <th>R613_HS1</th>\n",
       "      <th>R600_HD</th>\n",
       "    </tr>\n",
       "  </thead>\n",
       "  <tbody>\n",
       "    <tr>\n",
       "      <th>0</th>\n",
       "      <td>A1</td>\n",
       "      <td>887.134249</td>\n",
       "      <td>2600.0000</td>\n",
       "      <td>101401.6000</td>\n",
       "      <td>299.386667</td>\n",
       "      <td>131</td>\n",
       "      <td>136</td>\n",
       "      <td>120</td>\n",
       "      <td>120</td>\n",
       "      <td>148</td>\n",
       "    </tr>\n",
       "    <tr>\n",
       "      <th>1</th>\n",
       "      <td>A2</td>\n",
       "      <td>886.764050</td>\n",
       "      <td>2600.0000</td>\n",
       "      <td>101576.3000</td>\n",
       "      <td>298.448667</td>\n",
       "      <td>131</td>\n",
       "      <td>136</td>\n",
       "      <td>120</td>\n",
       "      <td>120</td>\n",
       "      <td>149</td>\n",
       "    </tr>\n",
       "    <tr>\n",
       "      <th>2</th>\n",
       "      <td>A3</td>\n",
       "      <td>926.224856</td>\n",
       "      <td>2606.1928</td>\n",
       "      <td>102136.6035</td>\n",
       "      <td>297.109024</td>\n",
       "      <td>131</td>\n",
       "      <td>136</td>\n",
       "      <td>114</td>\n",
       "      <td>120</td>\n",
       "      <td>152</td>\n",
       "    </tr>\n",
       "    <tr>\n",
       "      <th>3</th>\n",
       "      <td>A4</td>\n",
       "      <td>915.139474</td>\n",
       "      <td>2599.8998</td>\n",
       "      <td>103195.6642</td>\n",
       "      <td>295.060027</td>\n",
       "      <td>131</td>\n",
       "      <td>136</td>\n",
       "      <td>120</td>\n",
       "      <td>120</td>\n",
       "      <td>154</td>\n",
       "    </tr>\n",
       "    <tr>\n",
       "      <th>4</th>\n",
       "      <td>A5</td>\n",
       "      <td>891.635528</td>\n",
       "      <td>2600.0000</td>\n",
       "      <td>102856.2000</td>\n",
       "      <td>294.755833</td>\n",
       "      <td>145</td>\n",
       "      <td>153</td>\n",
       "      <td>130</td>\n",
       "      <td>130</td>\n",
       "      <td>148</td>\n",
       "    </tr>\n",
       "  </tbody>\n",
       "</table>\n",
       "</div>"
      ],
      "text/plain": [
       "  HoV     TZ_Flow       MIXP         AMBP        AMBT  R610_HS1  R611_HS1  \\\n",
       "0  A1  887.134249  2600.0000  101401.6000  299.386667       131       136   \n",
       "1  A2  886.764050  2600.0000  101576.3000  298.448667       131       136   \n",
       "2  A3  926.224856  2606.1928  102136.6035  297.109024       131       136   \n",
       "3  A4  915.139474  2599.8998  103195.6642  295.060027       131       136   \n",
       "4  A5  891.635528  2600.0000  102856.2000  294.755833       145       153   \n",
       "\n",
       "   R612_HS1  R613_HS1  R600_HD  \n",
       "0       120       120      148  \n",
       "1       120       120      149  \n",
       "2       114       120      152  \n",
       "3       120       120      154  \n",
       "4       130       130      148  "
      ]
     },
     "execution_count": 6,
     "metadata": {},
     "output_type": "execute_result"
    }
   ],
   "source": [
    "LTR_df = pd.read_csv('../../data/LTR_dataset.csv', usecols = usecols)[usecols]\n",
    "LTR_df.head()"
   ]
  },
  {
   "cell_type": "markdown",
   "metadata": {},
   "source": [
    "### Train BNN with FDDN (Simulation) data:"
   ]
  },
  {
   "cell_type": "code",
   "execution_count": 7,
   "metadata": {},
   "outputs": [
    {
     "name": "stdout",
     "output_type": "stream",
     "text": [
      "Number of training samples: 1080\n",
      "\n",
      "Number of testing samples: 34\n"
     ]
    }
   ],
   "source": [
    "# Extract pandas dataframe values to numpy array\n",
    "train_data = FDDN_df[input_features+['R600_HD']].values\n",
    "test_data  = LTR_df[input_features+['R600_HD']].values\n",
    "print(\"Number of training samples:\", len(train_data))\n",
    "print(\"\\nNumber of testing samples:\", len(test_data))\n",
    "\n",
    "# Separate arrays into input and output components (predictors and response variables)\n",
    "x_train, y_train  = train_data[:,:-1] ,train_data[:,-1:]\n",
    "x_test, y_test = test_data[:,:-1] ,test_data[:,-1:]"
   ]
  },
  {
   "cell_type": "code",
   "execution_count": 8,
   "metadata": {},
   "outputs": [
    {
     "name": "stdout",
     "output_type": "stream",
     "text": [
      "X_train Shape: (1080, 8) Y_Train Shape: (1080, 1)\n",
      "X_test Shape: (34, 8) Y_Test Shape: (34, 1)\n"
     ]
    }
   ],
   "source": [
    "print('X_train Shape:',x_train.shape,'Y_Train Shape:', y_train.shape)\n",
    "print('X_test Shape:',x_test.shape,'Y_Test Shape:', y_test.shape)"
   ]
  },
  {
   "cell_type": "markdown",
   "metadata": {},
   "source": [
    "### Bayesian Neural Network using MC DropOut"
   ]
  },
  {
   "cell_type": "code",
   "execution_count": 9,
   "metadata": {},
   "outputs": [
    {
     "name": "stderr",
     "output_type": "stream",
     "text": [
      "Using TensorFlow backend.\n"
     ]
    }
   ],
   "source": [
    "import BNN_MonteCarlo_Dropout"
   ]
  },
  {
   "cell_type": "code",
   "execution_count": 10,
   "metadata": {},
   "outputs": [
    {
     "name": "stdout",
     "output_type": "stream",
     "text": [
      "Wall time: 19.8 s\n"
     ]
    }
   ],
   "source": [
    "%%time\n",
    "# Train the BNN\n",
    "bnn = BNN_MonteCarlo_Dropout.net(x_train, y_train, n_epochs=2000, n_hidden=[24,12], normalize=True)"
   ]
  },
  {
   "cell_type": "code",
   "execution_count": 11,
   "metadata": {},
   "outputs": [
    {
     "name": "stdout",
     "output_type": "stream",
     "text": [
      "34/34 [==============================] - 0s 2ms/step\n",
      "Standard rmse 1.498152\n",
      "MC rmse 1.519688\n",
      "test_ll -4.784226\n",
      "Wall time: 571 ms\n"
     ]
    }
   ],
   "source": [
    "%%time\n",
    "# Test on ~25% of the data.\n",
    "rmse, Yt_hat, MC_pred, predictive_variance = bnn.predict(x_test, y_test)"
   ]
  },
  {
   "cell_type": "code",
   "execution_count": 12,
   "metadata": {},
   "outputs": [
    {
     "name": "stdout",
     "output_type": "stream",
     "text": [
      "Shape of Predictions: (1000, 1, 34, 1)\n"
     ]
    }
   ],
   "source": [
    "print('Shape of Predictions:',Yt_hat.shape)"
   ]
  },
  {
   "cell_type": "code",
   "execution_count": 13,
   "metadata": {},
   "outputs": [
    {
     "data": {
      "text/plain": [
       "34"
      ]
     },
     "execution_count": 13,
     "metadata": {},
     "output_type": "execute_result"
    }
   ],
   "source": [
    "Yt_hat.shape[2]"
   ]
  },
  {
   "cell_type": "code",
   "execution_count": 14,
   "metadata": {},
   "outputs": [],
   "source": [
    "y_preds = np.zeros((Yt_hat.shape[2], Yt_hat.shape[0])) # empty array to be populated\n",
    "y_means = [] # save mean for each predicted point\n",
    "y_std=[] # save standard dev for each predicted\n",
    "y_mins = [] \n",
    "y_maxes = []\n",
    "\n",
    "for j in range(Yt_hat.shape[2]):\n",
    "    for i in range(Yt_hat.shape[0]):\n",
    "        y_preds[j][i] = Yt_hat[i][0][j] # convert the predictions into a more readable format\n",
    "    y_means.append(y_preds[j].mean()) # get the mean for each prediction\n",
    "    y_std.append(y_preds[j].std()) # get the standard deviation\n",
    "    y_mins.append(np.amin(y_preds[j],axis = 0)) # get the min value in the array\n",
    "    y_maxes.append(np.amax(y_preds[j],axis = 0)) # get the min value in the array"
   ]
  },
  {
   "cell_type": "code",
   "execution_count": 15,
   "metadata": {},
   "outputs": [
    {
     "name": "stdout",
     "output_type": "stream",
     "text": [
      "Length of Y_Predictions: 34\n",
      "Nr. of Predictions by BNN per test point: 1000\n"
     ]
    }
   ],
   "source": [
    "print('Length of Y_Predictions:',len(y_preds))\n",
    "print('Nr. of Predictions by BNN per test point:',len(y_preds[0]))"
   ]
  },
  {
   "cell_type": "code",
   "execution_count": 16,
   "metadata": {},
   "outputs": [
    {
     "name": "stdout",
     "output_type": "stream",
     "text": [
      "[147.7510035095215, 147.82408934020995, 152.32389736938475, 151.71386547851563, 147.95722723388673, 148.84778080749513, 148.14743395996095, 151.49361070251464, 151.12886154174805, 148.568497756958, 150.31457704162597, 152.85678744506836, 149.53960081481932, 148.1717176361084, 147.7981405181885, 149.22716041564942, 147.36155004882812, 147.22509704589845, 147.91888717651366, 147.4055891265869, 149.21772203063964, 147.8469543762207, 154.02765951538086, 153.03716255187987, 153.17583160400392, 147.98364697265626, 148.33501470947266, 152.46110702514648, 148.1733798828125, 149.43469929504394, 151.63404008483886, 154.05608343505858, 148.19926899719238, 148.19942529296875]\n"
     ]
    }
   ],
   "source": [
    "print(y_means)"
   ]
  },
  {
   "cell_type": "code",
   "execution_count": 17,
   "metadata": {},
   "outputs": [
    {
     "name": "stdout",
     "output_type": "stream",
     "text": [
      "[1.1188019731182601, 1.0430637606736033, 0.5832835305282, 0.6753795478915626, 0.9875512184370727, 0.9308466741178297, 1.0289461382357497, 0.5691830294826473, 0.59027528623263, 0.9427972228536936, 0.7528585675579436, 0.7046503320538889, 0.7894661924533118, 1.0210591619473537, 1.174526785394548, 0.835794220511231, 1.4962840104044302, 1.5190505322172114, 0.9999762820163506, 1.1691882145638994, 0.7686008187916766, 1.1371649582320815, 0.690346088131122, 0.8066034100874662, 0.6286982654636992, 1.4023405380756035, 0.9289010410030724, 0.619032355951114, 1.059841194472623, 0.7942826076600596, 0.6027248351929183, 0.7609186484949854, 1.2060302796514848, 1.0336761746199625]\n"
     ]
    }
   ],
   "source": [
    "print(y_std)"
   ]
  },
  {
   "cell_type": "code",
   "execution_count": 18,
   "metadata": {},
   "outputs": [
    {
     "name": "stdout",
     "output_type": "stream",
     "text": [
      "[146.7043914794922, 146.75148010253906, 148.52662658691406, 148.62384033203125, 146.64593505859375, 147.05821228027344, 146.739501953125, 148.65643310546875, 148.5222930908203, 146.9248046875, 147.5689239501953, 148.743896484375, 147.69241333007812, 146.84117126464844, 146.47373962402344, 146.9357452392578, 146.23757934570312, 146.22845458984375, 146.80491638183594, 146.38604736328125, 147.119140625, 146.65924072265625, 149.5700225830078, 149.11758422851562, 148.847900390625, 146.5411376953125, 146.59861755371094, 148.5593719482422, 146.6545867919922, 147.08810424804688, 149.92359924316406, 149.62057495117188, 146.29067993164062, 146.4927215576172]\n"
     ]
    }
   ],
   "source": [
    "print(y_mins)"
   ]
  },
  {
   "cell_type": "code",
   "execution_count": 19,
   "metadata": {},
   "outputs": [
    {
     "name": "stdout",
     "output_type": "stream",
     "text": [
      "[153.34384155273438, 153.53700256347656, 154.9805145263672, 154.45899963378906, 152.8528594970703, 153.478515625, 153.2069091796875, 154.1299591064453, 153.43756103515625, 153.61607360839844, 153.4003448486328, 155.74240112304688, 153.28895568847656, 153.98341369628906, 153.23362731933594, 154.3544464111328, 154.69329833984375, 154.05093383789062, 152.98350524902344, 153.16567993164062, 152.75877380371094, 153.82838439941406, 156.02435302734375, 156.5202178955078, 155.1416015625, 154.79408264160156, 152.58303833007812, 154.5173797607422, 153.3324432373047, 153.93548583984375, 153.91091918945312, 158.1661376953125, 153.3626708984375, 153.76260375976562]\n"
     ]
    }
   ],
   "source": [
    "print(y_maxes)"
   ]
  },
  {
   "cell_type": "code",
   "execution_count": 20,
   "metadata": {},
   "outputs": [],
   "source": [
    "y_true = LTR_df['R600_HD'].values\n",
    "HoV_test_data = LTR_df['HoV'].values"
   ]
  },
  {
   "cell_type": "code",
   "execution_count": 21,
   "metadata": {},
   "outputs": [
    {
     "name": "stdout",
     "output_type": "stream",
     "text": [
      "No. of Test HoVs: 34 \n",
      "HoVs of Test Points: ['A1' 'A2' 'A3' 'A4' 'A5' 'A6' 'C1' 'C2' 'C3' 'C4' 'C5' 'C6' 'D1' 'D2' 'E1' 'E2' 'F1' 'F2' 'F3' 'H1' 'I1' 'J1' 'M1' 'M2' 'P1' 'Q1' 'Q2' 'S1' 'S2' 'S3' 'S4' 'S5' 'T1' 'T2']\n",
      "Test Points-Org Y: [148 149 152 154 148 148 148 153 152 150 152 154 151 148 148 148 146 146 148 148 152 148 154 154 154 148 148 155 148 150 150 160 148 148]\n"
     ]
    }
   ],
   "source": [
    "print('No. of Test HoVs:',len(HoV_test_data),'\\nHoVs of Test Points:',HoV_test_data)\n",
    "print('Test Points-Org Y:', y_true)"
   ]
  },
  {
   "cell_type": "markdown",
   "metadata": {},
   "source": [
    "### Plot BNN Predictions with Mean and Error Bars"
   ]
  },
  {
   "cell_type": "code",
   "execution_count": 22,
   "metadata": {},
   "outputs": [
    {
     "data": {
      "text/html": [
       "\n",
       "    <div class=\"bk-root\">\n",
       "        <a href=\"https://bokeh.pydata.org\" target=\"_blank\" class=\"bk-logo bk-logo-small bk-logo-notebook\"></a>\n",
       "        <span id=\"6f63cb18-4a2d-4075-9745-72dcb317446f\">Loading BokehJS ...</span>\n",
       "    </div>"
      ]
     },
     "metadata": {},
     "output_type": "display_data"
    },
    {
     "data": {
      "application/javascript": [
       "\n",
       "(function(root) {\n",
       "  function now() {\n",
       "    return new Date();\n",
       "  }\n",
       "\n",
       "  var force = true;\n",
       "\n",
       "  if (typeof (root._bokeh_onload_callbacks) === \"undefined\" || force === true) {\n",
       "    root._bokeh_onload_callbacks = [];\n",
       "    root._bokeh_is_loading = undefined;\n",
       "  }\n",
       "\n",
       "  var JS_MIME_TYPE = 'application/javascript';\n",
       "  var HTML_MIME_TYPE = 'text/html';\n",
       "  var EXEC_MIME_TYPE = 'application/vnd.bokehjs_exec.v0+json';\n",
       "  var CLASS_NAME = 'output_bokeh rendered_html';\n",
       "\n",
       "  /**\n",
       "   * Render data to the DOM node\n",
       "   */\n",
       "  function render(props, node) {\n",
       "    var script = document.createElement(\"script\");\n",
       "    node.appendChild(script);\n",
       "  }\n",
       "\n",
       "  /**\n",
       "   * Handle when an output is cleared or removed\n",
       "   */\n",
       "  function handleClearOutput(event, handle) {\n",
       "    var cell = handle.cell;\n",
       "\n",
       "    var id = cell.output_area._bokeh_element_id;\n",
       "    var server_id = cell.output_area._bokeh_server_id;\n",
       "    // Clean up Bokeh references\n",
       "    if (id != null && id in Bokeh.index) {\n",
       "      Bokeh.index[id].model.document.clear();\n",
       "      delete Bokeh.index[id];\n",
       "    }\n",
       "\n",
       "    if (server_id !== undefined) {\n",
       "      // Clean up Bokeh references\n",
       "      var cmd = \"from bokeh.io.state import curstate; print(curstate().uuid_to_server['\" + server_id + \"'].get_sessions()[0].document.roots[0]._id)\";\n",
       "      cell.notebook.kernel.execute(cmd, {\n",
       "        iopub: {\n",
       "          output: function(msg) {\n",
       "            var id = msg.content.text.trim();\n",
       "            if (id in Bokeh.index) {\n",
       "              Bokeh.index[id].model.document.clear();\n",
       "              delete Bokeh.index[id];\n",
       "            }\n",
       "          }\n",
       "        }\n",
       "      });\n",
       "      // Destroy server and session\n",
       "      var cmd = \"import bokeh.io.notebook as ion; ion.destroy_server('\" + server_id + \"')\";\n",
       "      cell.notebook.kernel.execute(cmd);\n",
       "    }\n",
       "  }\n",
       "\n",
       "  /**\n",
       "   * Handle when a new output is added\n",
       "   */\n",
       "  function handleAddOutput(event, handle) {\n",
       "    var output_area = handle.output_area;\n",
       "    var output = handle.output;\n",
       "\n",
       "    // limit handleAddOutput to display_data with EXEC_MIME_TYPE content only\n",
       "    if ((output.output_type != \"display_data\") || (!output.data.hasOwnProperty(EXEC_MIME_TYPE))) {\n",
       "      return\n",
       "    }\n",
       "\n",
       "    var toinsert = output_area.element.find(\".\" + CLASS_NAME.split(' ')[0]);\n",
       "\n",
       "    if (output.metadata[EXEC_MIME_TYPE][\"id\"] !== undefined) {\n",
       "      toinsert[toinsert.length - 1].firstChild.textContent = output.data[JS_MIME_TYPE];\n",
       "      // store reference to embed id on output_area\n",
       "      output_area._bokeh_element_id = output.metadata[EXEC_MIME_TYPE][\"id\"];\n",
       "    }\n",
       "    if (output.metadata[EXEC_MIME_TYPE][\"server_id\"] !== undefined) {\n",
       "      var bk_div = document.createElement(\"div\");\n",
       "      bk_div.innerHTML = output.data[HTML_MIME_TYPE];\n",
       "      var script_attrs = bk_div.children[0].attributes;\n",
       "      for (var i = 0; i < script_attrs.length; i++) {\n",
       "        toinsert[toinsert.length - 1].firstChild.setAttribute(script_attrs[i].name, script_attrs[i].value);\n",
       "      }\n",
       "      // store reference to server id on output_area\n",
       "      output_area._bokeh_server_id = output.metadata[EXEC_MIME_TYPE][\"server_id\"];\n",
       "    }\n",
       "  }\n",
       "\n",
       "  function register_renderer(events, OutputArea) {\n",
       "\n",
       "    function append_mime(data, metadata, element) {\n",
       "      // create a DOM node to render to\n",
       "      var toinsert = this.create_output_subarea(\n",
       "        metadata,\n",
       "        CLASS_NAME,\n",
       "        EXEC_MIME_TYPE\n",
       "      );\n",
       "      this.keyboard_manager.register_events(toinsert);\n",
       "      // Render to node\n",
       "      var props = {data: data, metadata: metadata[EXEC_MIME_TYPE]};\n",
       "      render(props, toinsert[toinsert.length - 1]);\n",
       "      element.append(toinsert);\n",
       "      return toinsert\n",
       "    }\n",
       "\n",
       "    /* Handle when an output is cleared or removed */\n",
       "    events.on('clear_output.CodeCell', handleClearOutput);\n",
       "    events.on('delete.Cell', handleClearOutput);\n",
       "\n",
       "    /* Handle when a new output is added */\n",
       "    events.on('output_added.OutputArea', handleAddOutput);\n",
       "\n",
       "    /**\n",
       "     * Register the mime type and append_mime function with output_area\n",
       "     */\n",
       "    OutputArea.prototype.register_mime_type(EXEC_MIME_TYPE, append_mime, {\n",
       "      /* Is output safe? */\n",
       "      safe: true,\n",
       "      /* Index of renderer in `output_area.display_order` */\n",
       "      index: 0\n",
       "    });\n",
       "  }\n",
       "\n",
       "  // register the mime type if in Jupyter Notebook environment and previously unregistered\n",
       "  if (root.Jupyter !== undefined) {\n",
       "    var events = require('base/js/events');\n",
       "    var OutputArea = require('notebook/js/outputarea').OutputArea;\n",
       "\n",
       "    if (OutputArea.prototype.mime_types().indexOf(EXEC_MIME_TYPE) == -1) {\n",
       "      register_renderer(events, OutputArea);\n",
       "    }\n",
       "  }\n",
       "\n",
       "  \n",
       "  if (typeof (root._bokeh_timeout) === \"undefined\" || force === true) {\n",
       "    root._bokeh_timeout = Date.now() + 5000;\n",
       "    root._bokeh_failed_load = false;\n",
       "  }\n",
       "\n",
       "  var NB_LOAD_WARNING = {'data': {'text/html':\n",
       "     \"<div style='background-color: #fdd'>\\n\"+\n",
       "     \"<p>\\n\"+\n",
       "     \"BokehJS does not appear to have successfully loaded. If loading BokehJS from CDN, this \\n\"+\n",
       "     \"may be due to a slow or bad network connection. Possible fixes:\\n\"+\n",
       "     \"</p>\\n\"+\n",
       "     \"<ul>\\n\"+\n",
       "     \"<li>re-rerun `output_notebook()` to attempt to load from CDN again, or</li>\\n\"+\n",
       "     \"<li>use INLINE resources instead, as so:</li>\\n\"+\n",
       "     \"</ul>\\n\"+\n",
       "     \"<code>\\n\"+\n",
       "     \"from bokeh.resources import INLINE\\n\"+\n",
       "     \"output_notebook(resources=INLINE)\\n\"+\n",
       "     \"</code>\\n\"+\n",
       "     \"</div>\"}};\n",
       "\n",
       "  function display_loaded() {\n",
       "    var el = document.getElementById(\"6f63cb18-4a2d-4075-9745-72dcb317446f\");\n",
       "    if (el != null) {\n",
       "      el.textContent = \"BokehJS is loading...\";\n",
       "    }\n",
       "    if (root.Bokeh !== undefined) {\n",
       "      if (el != null) {\n",
       "        el.textContent = \"BokehJS \" + root.Bokeh.version + \" successfully loaded.\";\n",
       "      }\n",
       "    } else if (Date.now() < root._bokeh_timeout) {\n",
       "      setTimeout(display_loaded, 100)\n",
       "    }\n",
       "  }\n",
       "\n",
       "\n",
       "  function run_callbacks() {\n",
       "    try {\n",
       "      root._bokeh_onload_callbacks.forEach(function(callback) { callback() });\n",
       "    }\n",
       "    finally {\n",
       "      delete root._bokeh_onload_callbacks\n",
       "    }\n",
       "    console.info(\"Bokeh: all callbacks have finished\");\n",
       "  }\n",
       "\n",
       "  function load_libs(js_urls, callback) {\n",
       "    root._bokeh_onload_callbacks.push(callback);\n",
       "    if (root._bokeh_is_loading > 0) {\n",
       "      console.log(\"Bokeh: BokehJS is being loaded, scheduling callback at\", now());\n",
       "      return null;\n",
       "    }\n",
       "    if (js_urls == null || js_urls.length === 0) {\n",
       "      run_callbacks();\n",
       "      return null;\n",
       "    }\n",
       "    console.log(\"Bokeh: BokehJS not loaded, scheduling load and callback at\", now());\n",
       "    root._bokeh_is_loading = js_urls.length;\n",
       "    for (var i = 0; i < js_urls.length; i++) {\n",
       "      var url = js_urls[i];\n",
       "      var s = document.createElement('script');\n",
       "      s.src = url;\n",
       "      s.async = false;\n",
       "      s.onreadystatechange = s.onload = function() {\n",
       "        root._bokeh_is_loading--;\n",
       "        if (root._bokeh_is_loading === 0) {\n",
       "          console.log(\"Bokeh: all BokehJS libraries loaded\");\n",
       "          run_callbacks()\n",
       "        }\n",
       "      };\n",
       "      s.onerror = function() {\n",
       "        console.warn(\"failed to load library \" + url);\n",
       "      };\n",
       "      console.log(\"Bokeh: injecting script tag for BokehJS library: \", url);\n",
       "      document.getElementsByTagName(\"head\")[0].appendChild(s);\n",
       "    }\n",
       "  };var element = document.getElementById(\"6f63cb18-4a2d-4075-9745-72dcb317446f\");\n",
       "  if (element == null) {\n",
       "    console.log(\"Bokeh: ERROR: autoload.js configured with elementid '6f63cb18-4a2d-4075-9745-72dcb317446f' but no matching script tag was found. \")\n",
       "    return false;\n",
       "  }\n",
       "\n",
       "  var js_urls = [\"https://cdn.pydata.org/bokeh/release/bokeh-0.13.0.min.js\", \"https://cdn.pydata.org/bokeh/release/bokeh-widgets-0.13.0.min.js\", \"https://cdn.pydata.org/bokeh/release/bokeh-tables-0.13.0.min.js\", \"https://cdn.pydata.org/bokeh/release/bokeh-gl-0.13.0.min.js\"];\n",
       "\n",
       "  var inline_js = [\n",
       "    function(Bokeh) {\n",
       "      Bokeh.set_log_level(\"info\");\n",
       "    },\n",
       "    \n",
       "    function(Bokeh) {\n",
       "      \n",
       "    },\n",
       "    function(Bokeh) {\n",
       "      console.log(\"Bokeh: injecting CSS: https://cdn.pydata.org/bokeh/release/bokeh-0.13.0.min.css\");\n",
       "      Bokeh.embed.inject_css(\"https://cdn.pydata.org/bokeh/release/bokeh-0.13.0.min.css\");\n",
       "      console.log(\"Bokeh: injecting CSS: https://cdn.pydata.org/bokeh/release/bokeh-widgets-0.13.0.min.css\");\n",
       "      Bokeh.embed.inject_css(\"https://cdn.pydata.org/bokeh/release/bokeh-widgets-0.13.0.min.css\");\n",
       "      console.log(\"Bokeh: injecting CSS: https://cdn.pydata.org/bokeh/release/bokeh-tables-0.13.0.min.css\");\n",
       "      Bokeh.embed.inject_css(\"https://cdn.pydata.org/bokeh/release/bokeh-tables-0.13.0.min.css\");\n",
       "    }\n",
       "  ];\n",
       "\n",
       "  function run_inline_js() {\n",
       "    \n",
       "    if ((root.Bokeh !== undefined) || (force === true)) {\n",
       "      for (var i = 0; i < inline_js.length; i++) {\n",
       "        inline_js[i].call(root, root.Bokeh);\n",
       "      }if (force === true) {\n",
       "        display_loaded();\n",
       "      }} else if (Date.now() < root._bokeh_timeout) {\n",
       "      setTimeout(run_inline_js, 100);\n",
       "    } else if (!root._bokeh_failed_load) {\n",
       "      console.log(\"Bokeh: BokehJS failed to load within specified timeout.\");\n",
       "      root._bokeh_failed_load = true;\n",
       "    } else if (force !== true) {\n",
       "      var cell = $(document.getElementById(\"6f63cb18-4a2d-4075-9745-72dcb317446f\")).parents('.cell').data().cell;\n",
       "      cell.output_area.append_execute_result(NB_LOAD_WARNING)\n",
       "    }\n",
       "\n",
       "  }\n",
       "\n",
       "  if (root._bokeh_is_loading === 0) {\n",
       "    console.log(\"Bokeh: BokehJS loaded, going straight to plotting\");\n",
       "    run_inline_js();\n",
       "  } else {\n",
       "    load_libs(js_urls, function() {\n",
       "      console.log(\"Bokeh: BokehJS plotting callback run at\", now());\n",
       "      run_inline_js();\n",
       "    });\n",
       "  }\n",
       "}(window));"
      ],
      "application/vnd.bokehjs_load.v0+json": "\n(function(root) {\n  function now() {\n    return new Date();\n  }\n\n  var force = true;\n\n  if (typeof (root._bokeh_onload_callbacks) === \"undefined\" || force === true) {\n    root._bokeh_onload_callbacks = [];\n    root._bokeh_is_loading = undefined;\n  }\n\n  \n\n  \n  if (typeof (root._bokeh_timeout) === \"undefined\" || force === true) {\n    root._bokeh_timeout = Date.now() + 5000;\n    root._bokeh_failed_load = false;\n  }\n\n  var NB_LOAD_WARNING = {'data': {'text/html':\n     \"<div style='background-color: #fdd'>\\n\"+\n     \"<p>\\n\"+\n     \"BokehJS does not appear to have successfully loaded. If loading BokehJS from CDN, this \\n\"+\n     \"may be due to a slow or bad network connection. Possible fixes:\\n\"+\n     \"</p>\\n\"+\n     \"<ul>\\n\"+\n     \"<li>re-rerun `output_notebook()` to attempt to load from CDN again, or</li>\\n\"+\n     \"<li>use INLINE resources instead, as so:</li>\\n\"+\n     \"</ul>\\n\"+\n     \"<code>\\n\"+\n     \"from bokeh.resources import INLINE\\n\"+\n     \"output_notebook(resources=INLINE)\\n\"+\n     \"</code>\\n\"+\n     \"</div>\"}};\n\n  function display_loaded() {\n    var el = document.getElementById(\"6f63cb18-4a2d-4075-9745-72dcb317446f\");\n    if (el != null) {\n      el.textContent = \"BokehJS is loading...\";\n    }\n    if (root.Bokeh !== undefined) {\n      if (el != null) {\n        el.textContent = \"BokehJS \" + root.Bokeh.version + \" successfully loaded.\";\n      }\n    } else if (Date.now() < root._bokeh_timeout) {\n      setTimeout(display_loaded, 100)\n    }\n  }\n\n\n  function run_callbacks() {\n    try {\n      root._bokeh_onload_callbacks.forEach(function(callback) { callback() });\n    }\n    finally {\n      delete root._bokeh_onload_callbacks\n    }\n    console.info(\"Bokeh: all callbacks have finished\");\n  }\n\n  function load_libs(js_urls, callback) {\n    root._bokeh_onload_callbacks.push(callback);\n    if (root._bokeh_is_loading > 0) {\n      console.log(\"Bokeh: BokehJS is being loaded, scheduling callback at\", now());\n      return null;\n    }\n    if (js_urls == null || js_urls.length === 0) {\n      run_callbacks();\n      return null;\n    }\n    console.log(\"Bokeh: BokehJS not loaded, scheduling load and callback at\", now());\n    root._bokeh_is_loading = js_urls.length;\n    for (var i = 0; i < js_urls.length; i++) {\n      var url = js_urls[i];\n      var s = document.createElement('script');\n      s.src = url;\n      s.async = false;\n      s.onreadystatechange = s.onload = function() {\n        root._bokeh_is_loading--;\n        if (root._bokeh_is_loading === 0) {\n          console.log(\"Bokeh: all BokehJS libraries loaded\");\n          run_callbacks()\n        }\n      };\n      s.onerror = function() {\n        console.warn(\"failed to load library \" + url);\n      };\n      console.log(\"Bokeh: injecting script tag for BokehJS library: \", url);\n      document.getElementsByTagName(\"head\")[0].appendChild(s);\n    }\n  };var element = document.getElementById(\"6f63cb18-4a2d-4075-9745-72dcb317446f\");\n  if (element == null) {\n    console.log(\"Bokeh: ERROR: autoload.js configured with elementid '6f63cb18-4a2d-4075-9745-72dcb317446f' but no matching script tag was found. \")\n    return false;\n  }\n\n  var js_urls = [\"https://cdn.pydata.org/bokeh/release/bokeh-0.13.0.min.js\", \"https://cdn.pydata.org/bokeh/release/bokeh-widgets-0.13.0.min.js\", \"https://cdn.pydata.org/bokeh/release/bokeh-tables-0.13.0.min.js\", \"https://cdn.pydata.org/bokeh/release/bokeh-gl-0.13.0.min.js\"];\n\n  var inline_js = [\n    function(Bokeh) {\n      Bokeh.set_log_level(\"info\");\n    },\n    \n    function(Bokeh) {\n      \n    },\n    function(Bokeh) {\n      console.log(\"Bokeh: injecting CSS: https://cdn.pydata.org/bokeh/release/bokeh-0.13.0.min.css\");\n      Bokeh.embed.inject_css(\"https://cdn.pydata.org/bokeh/release/bokeh-0.13.0.min.css\");\n      console.log(\"Bokeh: injecting CSS: https://cdn.pydata.org/bokeh/release/bokeh-widgets-0.13.0.min.css\");\n      Bokeh.embed.inject_css(\"https://cdn.pydata.org/bokeh/release/bokeh-widgets-0.13.0.min.css\");\n      console.log(\"Bokeh: injecting CSS: https://cdn.pydata.org/bokeh/release/bokeh-tables-0.13.0.min.css\");\n      Bokeh.embed.inject_css(\"https://cdn.pydata.org/bokeh/release/bokeh-tables-0.13.0.min.css\");\n    }\n  ];\n\n  function run_inline_js() {\n    \n    if ((root.Bokeh !== undefined) || (force === true)) {\n      for (var i = 0; i < inline_js.length; i++) {\n        inline_js[i].call(root, root.Bokeh);\n      }if (force === true) {\n        display_loaded();\n      }} else if (Date.now() < root._bokeh_timeout) {\n      setTimeout(run_inline_js, 100);\n    } else if (!root._bokeh_failed_load) {\n      console.log(\"Bokeh: BokehJS failed to load within specified timeout.\");\n      root._bokeh_failed_load = true;\n    } else if (force !== true) {\n      var cell = $(document.getElementById(\"6f63cb18-4a2d-4075-9745-72dcb317446f\")).parents('.cell').data().cell;\n      cell.output_area.append_execute_result(NB_LOAD_WARNING)\n    }\n\n  }\n\n  if (root._bokeh_is_loading === 0) {\n    console.log(\"Bokeh: BokehJS loaded, going straight to plotting\");\n    run_inline_js();\n  } else {\n    load_libs(js_urls, function() {\n      console.log(\"Bokeh: BokehJS plotting callback run at\", now());\n      run_inline_js();\n    });\n  }\n}(window));"
     },
     "metadata": {},
     "output_type": "display_data"
    }
   ],
   "source": [
    "from bokeh.models import HoverTool,ColumnDataSource,Label,Range1d\n",
    "from bokeh.plotting import figure, show, output_file,output_notebook\n",
    "from bokeh.models.markers import CircleX\n",
    "output_notebook()"
   ]
  },
  {
   "cell_type": "code",
   "execution_count": 23,
   "metadata": {},
   "outputs": [],
   "source": [
    "# create the coordinates for the errorbars\n",
    "y_xs = []\n",
    "ys_std = []\n",
    "y_ys = []\n",
    "\n",
    "for x, y_mean,std,min_dia, max_dia in zip(HoV_test_data,y_means,y_std,y_mins,y_maxes):\n",
    "    y_xs.append((x, x))\n",
    "    ys_std.append((y_mean - std, y_mean + std))\n",
    "    y_ys.append((y_mean - (y_mean - min_dia), y_mean + (max_dia - y_mean)))"
   ]
  },
  {
   "cell_type": "code",
   "execution_count": 24,
   "metadata": {},
   "outputs": [],
   "source": [
    "# plot the points\n",
    "f = figure(x_range=HoV_test_data, title='BNN MC DropOut - Dia Predictions with Confidence Interval', width=1400)\n",
    "dot_hover_tooltips = HoverTool(names=['DiaPoints'],tooltips=[(\"HoV\",\"@x\"),(\"Dia\", \"@y mm\")])\n",
    "whisker_hover_tooltips = HoverTool(names=['Whiskers'],tooltips=[(\"Dia\", \"@y mm\")])\n",
    "multiline_hover_tooltips = HoverTool(names=['LinePlot'],tooltips=[(\"Dia\", \"$y mm\")])\n",
    "\n",
    "f.add_tools(dot_hover_tooltips,whisker_hover_tooltips,multiline_hover_tooltips)\n",
    "\n",
    "f.xaxis.axis_label = 'Head of Versions'\n",
    "f.yaxis.axis_label = 'Diameter Predictions (mm)'\n",
    "\n",
    "f.multi_line(y_xs, ys_std, color='blue', line_width = 3, legend = 'Mean Prediction +/- Std.Dev')\n",
    "f.multi_line(y_xs, y_ys, color='deepskyblue',name='LinePlot',legend = 'Mean Prediction +/- Min & Max Value')\n",
    "f.diamond(HoV_test_data, y_true, color='red', size=12, line_alpha=0,name='DiaPoints', legend = 'True Dia')\n",
    "f.circle(HoV_test_data, y_means, color='blue', size=9, line_alpha=0,name='DiaPoints', legend = 'Predicted Dia (Mean)')\n",
    "\n",
    "# whiskers (almost-0 height rects simpler than segments)\n",
    "for i in range(len(y_xs)):\n",
    "    f.rect(y_xs[i], y_ys[i], 0.2, 0.001, line_color=\"deepskyblue\",name='Whiskers')\n",
    "\n",
    "f.y_range=Range1d(135, 175)\n",
    "f.legend.location = \"top_center\"\n",
    "f.legend.click_policy=\"hide\"\n",
    "\n",
    "output_file('plots/BNN_MCDropOut_v1_FDDN_LTR_Predictions.html', mode='inline')"
   ]
  },
  {
   "cell_type": "code",
   "execution_count": 25,
   "metadata": {},
   "outputs": [
    {
     "data": {
      "text/html": [
       "\n",
       "\n",
       "\n",
       "\n",
       "\n",
       "\n",
       "  <div class=\"bk-root\" id=\"b20fa985-cf29-49ec-96d9-486bb262e715\"></div>\n"
      ]
     },
     "metadata": {},
     "output_type": "display_data"
    },
    {
     "data": {
      "application/javascript": [
       "(function(root) {\n",
       "  function embed_document(root) {\n",
       "    \n",
       "  var docs_json = {\"47808923-52f5-4c73-b4f0-072413f411d9\":{\"roots\":{\"references\":[{\"attributes\":{\"fill_alpha\":{\"value\":0.1},\"fill_color\":{\"value\":\"#1f77b4\"},\"height\":{\"units\":\"data\",\"value\":0.001},\"line_alpha\":{\"value\":0.1},\"line_color\":{\"value\":\"#1f77b4\"},\"width\":{\"units\":\"data\",\"value\":0.2},\"x\":{\"field\":\"x\"},\"y\":{\"field\":\"y\"}},\"id\":\"897f8715-3a82-41ce-9a5e-4d502c7837cd\",\"type\":\"Rect\"},{\"attributes\":{\"data_source\":{\"id\":\"296575f8-1787-4533-aab4-61c7977ebacc\",\"type\":\"ColumnDataSource\"},\"glyph\":{\"id\":\"57da3f3b-8ae2-4880-8c01-a61c248dbcd1\",\"type\":\"Rect\"},\"hover_glyph\":null,\"muted_glyph\":null,\"name\":\"Whiskers\",\"nonselection_glyph\":{\"id\":\"e3f0e8ca-6a54-401e-a9ff-75d24267e86c\",\"type\":\"Rect\"},\"selection_glyph\":null,\"view\":{\"id\":\"195e2ef9-baaa-4c5e-97fe-3174f5eda708\",\"type\":\"CDSView\"}},\"id\":\"6e8aed52-62ff-4661-9653-1ce5f9523c2a\",\"type\":\"GlyphRenderer\"},{\"attributes\":{\"data_source\":{\"id\":\"9d9f535a-aaa2-429b-9a72-87209f16faf8\",\"type\":\"ColumnDataSource\"},\"glyph\":{\"id\":\"0ac0c68c-bc2f-47d4-8c94-7b41c90358af\",\"type\":\"Rect\"},\"hover_glyph\":null,\"muted_glyph\":null,\"name\":\"Whiskers\",\"nonselection_glyph\":{\"id\":\"897f8715-3a82-41ce-9a5e-4d502c7837cd\",\"type\":\"Rect\"},\"selection_glyph\":null,\"view\":{\"id\":\"9e81f74a-ace8-4a35-9479-3dea1556a15d\",\"type\":\"CDSView\"}},\"id\":\"2b120223-87d5-4f21-b01b-d48b2a7f6e15\",\"type\":\"GlyphRenderer\"},{\"attributes\":{\"source\":{\"id\":\"9d9f535a-aaa2-429b-9a72-87209f16faf8\",\"type\":\"ColumnDataSource\"}},\"id\":\"9e81f74a-ace8-4a35-9479-3dea1556a15d\",\"type\":\"CDSView\"},{\"attributes\":{\"callback\":null,\"data\":{\"x\":[\"F1\",\"F1\"],\"y\":[146.23757934570312,154.69329833984375]},\"selected\":{\"id\":\"37c8eeb2-a853-44c4-94d7-8dba881e544d\",\"type\":\"Selection\"},\"selection_policy\":{\"id\":\"bf7d6d01-ff3d-4fe1-8c7b-1c55e6534910\",\"type\":\"UnionRenderers\"}},\"id\":\"a0afbfd0-397c-4bc9-9815-028fd4f9351a\",\"type\":\"ColumnDataSource\"},{\"attributes\":{\"fill_color\":{\"value\":\"#1f77b4\"},\"height\":{\"units\":\"data\",\"value\":0.001},\"line_color\":{\"value\":\"deepskyblue\"},\"width\":{\"units\":\"data\",\"value\":0.2},\"x\":{\"field\":\"x\"},\"y\":{\"field\":\"y\"}},\"id\":\"c3234dce-63d4-4806-b3fe-49974bf297a6\",\"type\":\"Rect\"},{\"attributes\":{\"click_policy\":\"hide\",\"items\":[{\"id\":\"200660c5-1378-49db-b830-18e8c69413e1\",\"type\":\"LegendItem\"},{\"id\":\"c856d978-4456-4252-b286-96df2ef74f03\",\"type\":\"LegendItem\"},{\"id\":\"83c91ad4-827d-431a-929c-aa68803a53e5\",\"type\":\"LegendItem\"},{\"id\":\"b93c171c-b258-4865-a50c-0639d72cc51d\",\"type\":\"LegendItem\"}],\"location\":\"top_center\",\"plot\":{\"id\":\"7d81963b-40c2-409a-a8fe-c556cd07658f\",\"subtype\":\"Figure\",\"type\":\"Plot\"}},\"id\":\"4665401f-9f01-40f0-8969-b87d68179a49\",\"type\":\"Legend\"},{\"attributes\":{\"fill_alpha\":{\"value\":0.1},\"fill_color\":{\"value\":\"#1f77b4\"},\"height\":{\"units\":\"data\",\"value\":0.001},\"line_alpha\":{\"value\":0.1},\"line_color\":{\"value\":\"#1f77b4\"},\"width\":{\"units\":\"data\",\"value\":0.2},\"x\":{\"field\":\"x\"},\"y\":{\"field\":\"y\"}},\"id\":\"2aa56fae-8863-4aac-8061-be98df697b50\",\"type\":\"Rect\"},{\"attributes\":{\"data_source\":{\"id\":\"a0afbfd0-397c-4bc9-9815-028fd4f9351a\",\"type\":\"ColumnDataSource\"},\"glyph\":{\"id\":\"c3234dce-63d4-4806-b3fe-49974bf297a6\",\"type\":\"Rect\"},\"hover_glyph\":null,\"muted_glyph\":null,\"name\":\"Whiskers\",\"nonselection_glyph\":{\"id\":\"2aa56fae-8863-4aac-8061-be98df697b50\",\"type\":\"Rect\"},\"selection_glyph\":null,\"view\":{\"id\":\"14375859-469d-4d41-b1ea-b71aa3ecc381\",\"type\":\"CDSView\"}},\"id\":\"2ae32237-59c5-4a94-a399-d1931926addf\",\"type\":\"GlyphRenderer\"},{\"attributes\":{\"line_alpha\":{\"value\":0.1},\"line_color\":{\"value\":\"#1f77b4\"},\"line_width\":{\"value\":3},\"xs\":{\"field\":\"xs\"},\"ys\":{\"field\":\"ys\"}},\"id\":\"f0f25397-d18c-4eff-8e2a-0f178644dd1a\",\"type\":\"MultiLine\"},{\"attributes\":{\"source\":{\"id\":\"a0afbfd0-397c-4bc9-9815-028fd4f9351a\",\"type\":\"ColumnDataSource\"}},\"id\":\"14375859-469d-4d41-b1ea-b71aa3ecc381\",\"type\":\"CDSView\"},{\"attributes\":{\"callback\":null,\"factors\":[\"A1\",\"A2\",\"A3\",\"A4\",\"A5\",\"A6\",\"C1\",\"C2\",\"C3\",\"C4\",\"C5\",\"C6\",\"D1\",\"D2\",\"E1\",\"E2\",\"F1\",\"F2\",\"F3\",\"H1\",\"I1\",\"J1\",\"M1\",\"M2\",\"P1\",\"Q1\",\"Q2\",\"S1\",\"S2\",\"S3\",\"S4\",\"S5\",\"T1\",\"T2\"]},\"id\":\"507bf744-f309-4da8-882b-c8940cafd447\",\"type\":\"FactorRange\"},{\"attributes\":{\"callback\":null,\"data\":{\"x\":[\"F2\",\"F2\"],\"y\":[146.22845458984375,154.05093383789062]},\"selected\":{\"id\":\"c93d77b4-541f-4279-bf13-68f1a8dc1045\",\"type\":\"Selection\"},\"selection_policy\":{\"id\":\"cfb84720-207f-46f8-81cf-d95dd9b38b11\",\"type\":\"UnionRenderers\"}},\"id\":\"4d613560-912f-4bde-843b-fc116382fca9\",\"type\":\"ColumnDataSource\"},{\"attributes\":{\"line_color\":{\"value\":\"blue\"},\"line_width\":{\"value\":3},\"xs\":{\"field\":\"xs\"},\"ys\":{\"field\":\"ys\"}},\"id\":\"43b278c2-307b-4ea3-ba16-3f8f9cc6d159\",\"type\":\"MultiLine\"},{\"attributes\":{\"fill_color\":{\"value\":\"#1f77b4\"},\"height\":{\"units\":\"data\",\"value\":0.001},\"line_color\":{\"value\":\"deepskyblue\"},\"width\":{\"units\":\"data\",\"value\":0.2},\"x\":{\"field\":\"x\"},\"y\":{\"field\":\"y\"}},\"id\":\"d355ab4d-55b9-4873-adc2-df13613b2c76\",\"type\":\"Rect\"},{\"attributes\":{\"fill_alpha\":{\"value\":0.1},\"fill_color\":{\"value\":\"#1f77b4\"},\"height\":{\"units\":\"data\",\"value\":0.001},\"line_alpha\":{\"value\":0.1},\"line_color\":{\"value\":\"#1f77b4\"},\"width\":{\"units\":\"data\",\"value\":0.2},\"x\":{\"field\":\"x\"},\"y\":{\"field\":\"y\"}},\"id\":\"38772aa6-05fe-4448-bd77-1601fa3f98b6\",\"type\":\"Rect\"},{\"attributes\":{\"data_source\":{\"id\":\"4d613560-912f-4bde-843b-fc116382fca9\",\"type\":\"ColumnDataSource\"},\"glyph\":{\"id\":\"d355ab4d-55b9-4873-adc2-df13613b2c76\",\"type\":\"Rect\"},\"hover_glyph\":null,\"muted_glyph\":null,\"name\":\"Whiskers\",\"nonselection_glyph\":{\"id\":\"38772aa6-05fe-4448-bd77-1601fa3f98b6\",\"type\":\"Rect\"},\"selection_glyph\":null,\"view\":{\"id\":\"9acb4c72-2eb5-4a7b-96a6-f60cc7d0b08e\",\"type\":\"CDSView\"}},\"id\":\"590cc779-ccd6-4186-9c2c-a62784163c1e\",\"type\":\"GlyphRenderer\"},{\"attributes\":{\"source\":{\"id\":\"4d613560-912f-4bde-843b-fc116382fca9\",\"type\":\"ColumnDataSource\"}},\"id\":\"9acb4c72-2eb5-4a7b-96a6-f60cc7d0b08e\",\"type\":\"CDSView\"},{\"attributes\":{\"callback\":null,\"data\":{\"x\":[\"F3\",\"F3\"],\"y\":[146.80491638183594,152.98350524902344]},\"selected\":{\"id\":\"f97060e2-29c9-42cf-94fd-434fcb4bdc8f\",\"type\":\"Selection\"},\"selection_policy\":{\"id\":\"7bd39985-c302-448a-99c3-49d58df11f0e\",\"type\":\"UnionRenderers\"}},\"id\":\"f8dd052f-7bd3-465c-9f70-e7161514749d\",\"type\":\"ColumnDataSource\"},{\"attributes\":{\"fill_color\":{\"value\":\"#1f77b4\"},\"height\":{\"units\":\"data\",\"value\":0.001},\"line_color\":{\"value\":\"deepskyblue\"},\"width\":{\"units\":\"data\",\"value\":0.2},\"x\":{\"field\":\"x\"},\"y\":{\"field\":\"y\"}},\"id\":\"5fbffb36-0f7d-4ca4-b232-3f200dc15523\",\"type\":\"Rect\"},{\"attributes\":{\"fill_alpha\":{\"value\":0.1},\"fill_color\":{\"value\":\"#1f77b4\"},\"height\":{\"units\":\"data\",\"value\":0.001},\"line_alpha\":{\"value\":0.1},\"line_color\":{\"value\":\"#1f77b4\"},\"width\":{\"units\":\"data\",\"value\":0.2},\"x\":{\"field\":\"x\"},\"y\":{\"field\":\"y\"}},\"id\":\"14d21137-b479-49bd-92f8-951432374faa\",\"type\":\"Rect\"},{\"attributes\":{\"data_source\":{\"id\":\"f8dd052f-7bd3-465c-9f70-e7161514749d\",\"type\":\"ColumnDataSource\"},\"glyph\":{\"id\":\"5fbffb36-0f7d-4ca4-b232-3f200dc15523\",\"type\":\"Rect\"},\"hover_glyph\":null,\"muted_glyph\":null,\"name\":\"Whiskers\",\"nonselection_glyph\":{\"id\":\"14d21137-b479-49bd-92f8-951432374faa\",\"type\":\"Rect\"},\"selection_glyph\":null,\"view\":{\"id\":\"8ece15c1-825c-4321-8269-c313b32890d7\",\"type\":\"CDSView\"}},\"id\":\"5eb75f52-af76-47b0-8e07-e140026c3e75\",\"type\":\"GlyphRenderer\"},{\"attributes\":{\"source\":{\"id\":\"f8dd052f-7bd3-465c-9f70-e7161514749d\",\"type\":\"ColumnDataSource\"}},\"id\":\"8ece15c1-825c-4321-8269-c313b32890d7\",\"type\":\"CDSView\"},{\"attributes\":{\"callback\":null,\"data\":{\"x\":[\"H1\",\"H1\"],\"y\":[146.38604736328125,153.16567993164062]},\"selected\":{\"id\":\"5132d296-d952-47ad-be00-ff4d54b9c4e5\",\"type\":\"Selection\"},\"selection_policy\":{\"id\":\"7e54df2c-b1bc-4995-9c94-390dbdfd0399\",\"type\":\"UnionRenderers\"}},\"id\":\"42461fcc-39ea-4b10-9913-a12e109102ee\",\"type\":\"ColumnDataSource\"},{\"attributes\":{\"fill_color\":{\"value\":\"#1f77b4\"},\"height\":{\"units\":\"data\",\"value\":0.001},\"line_color\":{\"value\":\"deepskyblue\"},\"width\":{\"units\":\"data\",\"value\":0.2},\"x\":{\"field\":\"x\"},\"y\":{\"field\":\"y\"}},\"id\":\"8c80af3a-d3fd-4601-b951-adfff671e16a\",\"type\":\"Rect\"},{\"attributes\":{\"fill_alpha\":{\"value\":0.1},\"fill_color\":{\"value\":\"#1f77b4\"},\"height\":{\"units\":\"data\",\"value\":0.001},\"line_alpha\":{\"value\":0.1},\"line_color\":{\"value\":\"#1f77b4\"},\"width\":{\"units\":\"data\",\"value\":0.2},\"x\":{\"field\":\"x\"},\"y\":{\"field\":\"y\"}},\"id\":\"9d53eecb-7f92-4e32-bf67-f5a643e588fa\",\"type\":\"Rect\"},{\"attributes\":{\"data_source\":{\"id\":\"42461fcc-39ea-4b10-9913-a12e109102ee\",\"type\":\"ColumnDataSource\"},\"glyph\":{\"id\":\"8c80af3a-d3fd-4601-b951-adfff671e16a\",\"type\":\"Rect\"},\"hover_glyph\":null,\"muted_glyph\":null,\"name\":\"Whiskers\",\"nonselection_glyph\":{\"id\":\"9d53eecb-7f92-4e32-bf67-f5a643e588fa\",\"type\":\"Rect\"},\"selection_glyph\":null,\"view\":{\"id\":\"363e428f-67b4-4149-b805-b2b141be467a\",\"type\":\"CDSView\"}},\"id\":\"06e770b6-a974-4ad6-8076-59fb82b024e3\",\"type\":\"GlyphRenderer\"},{\"attributes\":{\"source\":{\"id\":\"42461fcc-39ea-4b10-9913-a12e109102ee\",\"type\":\"ColumnDataSource\"}},\"id\":\"363e428f-67b4-4149-b805-b2b141be467a\",\"type\":\"CDSView\"},{\"attributes\":{\"callback\":null,\"data\":{\"x\":[\"I1\",\"I1\"],\"y\":[147.119140625,152.75877380371094]},\"selected\":{\"id\":\"3f70e5c2-54b0-47b2-9ecf-73479abd627c\",\"type\":\"Selection\"},\"selection_policy\":{\"id\":\"5f668459-58d5-4c1c-9f28-0d0877a795ab\",\"type\":\"UnionRenderers\"}},\"id\":\"4ad80fc6-5b69-46fe-8916-57d16e67318b\",\"type\":\"ColumnDataSource\"},{\"attributes\":{\"fill_color\":{\"value\":\"#1f77b4\"},\"height\":{\"units\":\"data\",\"value\":0.001},\"line_color\":{\"value\":\"deepskyblue\"},\"width\":{\"units\":\"data\",\"value\":0.2},\"x\":{\"field\":\"x\"},\"y\":{\"field\":\"y\"}},\"id\":\"36015ec6-ca8b-4c7b-b438-44689399d282\",\"type\":\"Rect\"},{\"attributes\":{\"fill_alpha\":{\"value\":0.1},\"fill_color\":{\"value\":\"#1f77b4\"},\"height\":{\"units\":\"data\",\"value\":0.001},\"line_alpha\":{\"value\":0.1},\"line_color\":{\"value\":\"#1f77b4\"},\"width\":{\"units\":\"data\",\"value\":0.2},\"x\":{\"field\":\"x\"},\"y\":{\"field\":\"y\"}},\"id\":\"cd80248f-3acb-4a4d-9b1b-b3e40888956e\",\"type\":\"Rect\"},{\"attributes\":{\"data_source\":{\"id\":\"4ad80fc6-5b69-46fe-8916-57d16e67318b\",\"type\":\"ColumnDataSource\"},\"glyph\":{\"id\":\"36015ec6-ca8b-4c7b-b438-44689399d282\",\"type\":\"Rect\"},\"hover_glyph\":null,\"muted_glyph\":null,\"name\":\"Whiskers\",\"nonselection_glyph\":{\"id\":\"cd80248f-3acb-4a4d-9b1b-b3e40888956e\",\"type\":\"Rect\"},\"selection_glyph\":null,\"view\":{\"id\":\"88922a60-57a0-4d7a-a1c6-860f92ed9505\",\"type\":\"CDSView\"}},\"id\":\"30a3aede-9c58-48b9-bfde-e5a7ca9f3d63\",\"type\":\"GlyphRenderer\"},{\"attributes\":{\"source\":{\"id\":\"4ad80fc6-5b69-46fe-8916-57d16e67318b\",\"type\":\"ColumnDataSource\"}},\"id\":\"88922a60-57a0-4d7a-a1c6-860f92ed9505\",\"type\":\"CDSView\"},{\"attributes\":{\"callback\":null,\"data\":{\"x\":[\"J1\",\"J1\"],\"y\":[146.65924072265625,153.82838439941406]},\"selected\":{\"id\":\"fe6b2e00-726d-4d3a-b0e3-db5ff4ca7af1\",\"type\":\"Selection\"},\"selection_policy\":{\"id\":\"dd78a1c8-4c9f-4f35-bfc8-feab9ea5cf76\",\"type\":\"UnionRenderers\"}},\"id\":\"db34edd6-69ba-4781-947e-fa65860e6daf\",\"type\":\"ColumnDataSource\"},{\"attributes\":{\"fill_color\":{\"value\":\"#1f77b4\"},\"height\":{\"units\":\"data\",\"value\":0.001},\"line_color\":{\"value\":\"deepskyblue\"},\"width\":{\"units\":\"data\",\"value\":0.2},\"x\":{\"field\":\"x\"},\"y\":{\"field\":\"y\"}},\"id\":\"6a292da5-0cb7-4e8d-9179-07de86a596ab\",\"type\":\"Rect\"},{\"attributes\":{\"fill_alpha\":{\"value\":0.1},\"fill_color\":{\"value\":\"#1f77b4\"},\"height\":{\"units\":\"data\",\"value\":0.001},\"line_alpha\":{\"value\":0.1},\"line_color\":{\"value\":\"#1f77b4\"},\"width\":{\"units\":\"data\",\"value\":0.2},\"x\":{\"field\":\"x\"},\"y\":{\"field\":\"y\"}},\"id\":\"26750579-c435-4900-96ba-97fe52910c6c\",\"type\":\"Rect\"},{\"attributes\":{\"data_source\":{\"id\":\"db34edd6-69ba-4781-947e-fa65860e6daf\",\"type\":\"ColumnDataSource\"},\"glyph\":{\"id\":\"6a292da5-0cb7-4e8d-9179-07de86a596ab\",\"type\":\"Rect\"},\"hover_glyph\":null,\"muted_glyph\":null,\"name\":\"Whiskers\",\"nonselection_glyph\":{\"id\":\"26750579-c435-4900-96ba-97fe52910c6c\",\"type\":\"Rect\"},\"selection_glyph\":null,\"view\":{\"id\":\"a72b1cfc-9f76-46bb-a21e-2b5d84e3f65a\",\"type\":\"CDSView\"}},\"id\":\"e92967d5-0bd9-4a01-89b1-45bc6d15e143\",\"type\":\"GlyphRenderer\"},{\"attributes\":{\"source\":{\"id\":\"db34edd6-69ba-4781-947e-fa65860e6daf\",\"type\":\"ColumnDataSource\"}},\"id\":\"a72b1cfc-9f76-46bb-a21e-2b5d84e3f65a\",\"type\":\"CDSView\"},{\"attributes\":{\"callback\":null,\"data\":{\"x\":[\"M1\",\"M1\"],\"y\":[149.5700225830078,156.02435302734375]},\"selected\":{\"id\":\"c4e246be-a54e-4ec3-897c-ed1ba094d082\",\"type\":\"Selection\"},\"selection_policy\":{\"id\":\"8e664b12-c633-43df-8347-cfac04ba130e\",\"type\":\"UnionRenderers\"}},\"id\":\"68d24437-7f50-4930-9cfd-b9ca53219edb\",\"type\":\"ColumnDataSource\"},{\"attributes\":{},\"id\":\"d55f483a-33e3-4463-b3cf-c4eaecaced20\",\"type\":\"CategoricalScale\"},{\"attributes\":{\"fill_color\":{\"value\":\"#1f77b4\"},\"height\":{\"units\":\"data\",\"value\":0.001},\"line_color\":{\"value\":\"deepskyblue\"},\"width\":{\"units\":\"data\",\"value\":0.2},\"x\":{\"field\":\"x\"},\"y\":{\"field\":\"y\"}},\"id\":\"262bcf42-c367-4a95-b96b-d474d2eae42f\",\"type\":\"Rect\"},{\"attributes\":{\"fill_alpha\":{\"value\":0.1},\"fill_color\":{\"value\":\"#1f77b4\"},\"height\":{\"units\":\"data\",\"value\":0.001},\"line_alpha\":{\"value\":0.1},\"line_color\":{\"value\":\"#1f77b4\"},\"width\":{\"units\":\"data\",\"value\":0.2},\"x\":{\"field\":\"x\"},\"y\":{\"field\":\"y\"}},\"id\":\"5e216188-e060-4fad-aa99-d220104282d7\",\"type\":\"Rect\"},{\"attributes\":{\"data_source\":{\"id\":\"68d24437-7f50-4930-9cfd-b9ca53219edb\",\"type\":\"ColumnDataSource\"},\"glyph\":{\"id\":\"262bcf42-c367-4a95-b96b-d474d2eae42f\",\"type\":\"Rect\"},\"hover_glyph\":null,\"muted_glyph\":null,\"name\":\"Whiskers\",\"nonselection_glyph\":{\"id\":\"5e216188-e060-4fad-aa99-d220104282d7\",\"type\":\"Rect\"},\"selection_glyph\":null,\"view\":{\"id\":\"756cadd2-0e3f-49bd-9c8e-306d45e3d3af\",\"type\":\"CDSView\"}},\"id\":\"b350fd4c-51d2-4169-83db-bff1668a0bd1\",\"type\":\"GlyphRenderer\"},{\"attributes\":{\"source\":{\"id\":\"68d24437-7f50-4930-9cfd-b9ca53219edb\",\"type\":\"ColumnDataSource\"}},\"id\":\"756cadd2-0e3f-49bd-9c8e-306d45e3d3af\",\"type\":\"CDSView\"},{\"attributes\":{\"callback\":null,\"data\":{\"x\":[\"M2\",\"M2\"],\"y\":[149.11758422851562,156.5202178955078]},\"selected\":{\"id\":\"c9d8ab1b-6411-4e14-b21f-6d17269d4671\",\"type\":\"Selection\"},\"selection_policy\":{\"id\":\"e7b9a781-bf4d-4485-9856-40c23d088a37\",\"type\":\"UnionRenderers\"}},\"id\":\"b4ced319-0ffd-4185-a083-e6303926e482\",\"type\":\"ColumnDataSource\"},{\"attributes\":{\"fill_color\":{\"value\":\"#1f77b4\"},\"height\":{\"units\":\"data\",\"value\":0.001},\"line_color\":{\"value\":\"deepskyblue\"},\"width\":{\"units\":\"data\",\"value\":0.2},\"x\":{\"field\":\"x\"},\"y\":{\"field\":\"y\"}},\"id\":\"1c81c41f-1ae1-452b-9ced-8f44a8783ace\",\"type\":\"Rect\"},{\"attributes\":{\"fill_alpha\":{\"value\":0.1},\"fill_color\":{\"value\":\"#1f77b4\"},\"height\":{\"units\":\"data\",\"value\":0.001},\"line_alpha\":{\"value\":0.1},\"line_color\":{\"value\":\"#1f77b4\"},\"width\":{\"units\":\"data\",\"value\":0.2},\"x\":{\"field\":\"x\"},\"y\":{\"field\":\"y\"}},\"id\":\"219d99a0-e777-4ceb-aa65-f48ed9348157\",\"type\":\"Rect\"},{\"attributes\":{\"data_source\":{\"id\":\"b4ced319-0ffd-4185-a083-e6303926e482\",\"type\":\"ColumnDataSource\"},\"glyph\":{\"id\":\"1c81c41f-1ae1-452b-9ced-8f44a8783ace\",\"type\":\"Rect\"},\"hover_glyph\":null,\"muted_glyph\":null,\"name\":\"Whiskers\",\"nonselection_glyph\":{\"id\":\"219d99a0-e777-4ceb-aa65-f48ed9348157\",\"type\":\"Rect\"},\"selection_glyph\":null,\"view\":{\"id\":\"0eb14d1b-4210-4c8f-85dd-3b88d212cfc1\",\"type\":\"CDSView\"}},\"id\":\"153a450c-58a1-4115-b4c4-322efeec26de\",\"type\":\"GlyphRenderer\"},{\"attributes\":{\"source\":{\"id\":\"b4ced319-0ffd-4185-a083-e6303926e482\",\"type\":\"ColumnDataSource\"}},\"id\":\"0eb14d1b-4210-4c8f-85dd-3b88d212cfc1\",\"type\":\"CDSView\"},{\"attributes\":{\"callback\":null,\"data\":{\"x\":[\"P1\",\"P1\"],\"y\":[148.847900390625,155.1416015625]},\"selected\":{\"id\":\"563534cf-6501-4662-81d4-5c75206d3197\",\"type\":\"Selection\"},\"selection_policy\":{\"id\":\"95966d26-bacf-4373-8acf-cac55ea862cf\",\"type\":\"UnionRenderers\"}},\"id\":\"a6ff2f06-6b73-4bda-9bd4-8666806f2569\",\"type\":\"ColumnDataSource\"},{\"attributes\":{\"fill_color\":{\"value\":\"#1f77b4\"},\"height\":{\"units\":\"data\",\"value\":0.001},\"line_color\":{\"value\":\"deepskyblue\"},\"width\":{\"units\":\"data\",\"value\":0.2},\"x\":{\"field\":\"x\"},\"y\":{\"field\":\"y\"}},\"id\":\"1e7bff4f-03cc-408c-b8b8-e5244ed2648a\",\"type\":\"Rect\"},{\"attributes\":{\"fill_alpha\":{\"value\":0.1},\"fill_color\":{\"value\":\"#1f77b4\"},\"height\":{\"units\":\"data\",\"value\":0.001},\"line_alpha\":{\"value\":0.1},\"line_color\":{\"value\":\"#1f77b4\"},\"width\":{\"units\":\"data\",\"value\":0.2},\"x\":{\"field\":\"x\"},\"y\":{\"field\":\"y\"}},\"id\":\"701579a6-58af-4f94-86e4-50888397d933\",\"type\":\"Rect\"},{\"attributes\":{\"data_source\":{\"id\":\"a6ff2f06-6b73-4bda-9bd4-8666806f2569\",\"type\":\"ColumnDataSource\"},\"glyph\":{\"id\":\"1e7bff4f-03cc-408c-b8b8-e5244ed2648a\",\"type\":\"Rect\"},\"hover_glyph\":null,\"muted_glyph\":null,\"name\":\"Whiskers\",\"nonselection_glyph\":{\"id\":\"701579a6-58af-4f94-86e4-50888397d933\",\"type\":\"Rect\"},\"selection_glyph\":null,\"view\":{\"id\":\"ded79029-f700-4b92-ba71-fd07150da1b1\",\"type\":\"CDSView\"}},\"id\":\"8fe7950b-a6d6-44b9-92d0-e6ebc5556356\",\"type\":\"GlyphRenderer\"},{\"attributes\":{\"source\":{\"id\":\"a6ff2f06-6b73-4bda-9bd4-8666806f2569\",\"type\":\"ColumnDataSource\"}},\"id\":\"ded79029-f700-4b92-ba71-fd07150da1b1\",\"type\":\"CDSView\"},{\"attributes\":{\"callback\":null,\"data\":{\"x\":[\"Q1\",\"Q1\"],\"y\":[146.5411376953125,154.79408264160156]},\"selected\":{\"id\":\"440a629a-6028-425e-a5d7-347a5e0802ff\",\"type\":\"Selection\"},\"selection_policy\":{\"id\":\"9fdd4ffb-d192-4a2a-93bd-e2e97d401884\",\"type\":\"UnionRenderers\"}},\"id\":\"3604697b-5173-43f3-8283-845dc7a511e1\",\"type\":\"ColumnDataSource\"},{\"attributes\":{\"fill_color\":{\"value\":\"#1f77b4\"},\"height\":{\"units\":\"data\",\"value\":0.001},\"line_color\":{\"value\":\"deepskyblue\"},\"width\":{\"units\":\"data\",\"value\":0.2},\"x\":{\"field\":\"x\"},\"y\":{\"field\":\"y\"}},\"id\":\"35475d77-5dcb-4eb8-955a-b37e32bb779d\",\"type\":\"Rect\"},{\"attributes\":{\"fill_alpha\":{\"value\":0.1},\"fill_color\":{\"value\":\"#1f77b4\"},\"height\":{\"units\":\"data\",\"value\":0.001},\"line_alpha\":{\"value\":0.1},\"line_color\":{\"value\":\"#1f77b4\"},\"width\":{\"units\":\"data\",\"value\":0.2},\"x\":{\"field\":\"x\"},\"y\":{\"field\":\"y\"}},\"id\":\"7b38938e-4e08-49db-bf8b-16750d46a24e\",\"type\":\"Rect\"},{\"attributes\":{\"data_source\":{\"id\":\"3604697b-5173-43f3-8283-845dc7a511e1\",\"type\":\"ColumnDataSource\"},\"glyph\":{\"id\":\"35475d77-5dcb-4eb8-955a-b37e32bb779d\",\"type\":\"Rect\"},\"hover_glyph\":null,\"muted_glyph\":null,\"name\":\"Whiskers\",\"nonselection_glyph\":{\"id\":\"7b38938e-4e08-49db-bf8b-16750d46a24e\",\"type\":\"Rect\"},\"selection_glyph\":null,\"view\":{\"id\":\"e0fdedba-0d5e-4894-ad1e-1420712b86ea\",\"type\":\"CDSView\"}},\"id\":\"6ef0f3a0-c168-467f-ab3a-334501494256\",\"type\":\"GlyphRenderer\"},{\"attributes\":{\"source\":{\"id\":\"3604697b-5173-43f3-8283-845dc7a511e1\",\"type\":\"ColumnDataSource\"}},\"id\":\"e0fdedba-0d5e-4894-ad1e-1420712b86ea\",\"type\":\"CDSView\"},{\"attributes\":{\"callback\":null,\"data\":{\"x\":[\"Q2\",\"Q2\"],\"y\":[146.59861755371094,152.58303833007812]},\"selected\":{\"id\":\"bd930644-f1c0-4f42-a7f1-eb69d4c2581e\",\"type\":\"Selection\"},\"selection_policy\":{\"id\":\"43540d37-d4e1-419a-b65c-a7fed73d0312\",\"type\":\"UnionRenderers\"}},\"id\":\"6f82dbf8-a2ed-46db-a9c0-4eee66fdf6c3\",\"type\":\"ColumnDataSource\"},{\"attributes\":{\"fill_color\":{\"value\":\"#1f77b4\"},\"height\":{\"units\":\"data\",\"value\":0.001},\"line_color\":{\"value\":\"deepskyblue\"},\"width\":{\"units\":\"data\",\"value\":0.2},\"x\":{\"field\":\"x\"},\"y\":{\"field\":\"y\"}},\"id\":\"515bae9c-c7db-4698-9ad4-14f4b2d19449\",\"type\":\"Rect\"},{\"attributes\":{\"fill_alpha\":{\"value\":0.1},\"fill_color\":{\"value\":\"#1f77b4\"},\"height\":{\"units\":\"data\",\"value\":0.001},\"line_alpha\":{\"value\":0.1},\"line_color\":{\"value\":\"#1f77b4\"},\"width\":{\"units\":\"data\",\"value\":0.2},\"x\":{\"field\":\"x\"},\"y\":{\"field\":\"y\"}},\"id\":\"37d8c8a1-13cc-4494-887b-aaada7118e58\",\"type\":\"Rect\"},{\"attributes\":{\"data_source\":{\"id\":\"6f82dbf8-a2ed-46db-a9c0-4eee66fdf6c3\",\"type\":\"ColumnDataSource\"},\"glyph\":{\"id\":\"515bae9c-c7db-4698-9ad4-14f4b2d19449\",\"type\":\"Rect\"},\"hover_glyph\":null,\"muted_glyph\":null,\"name\":\"Whiskers\",\"nonselection_glyph\":{\"id\":\"37d8c8a1-13cc-4494-887b-aaada7118e58\",\"type\":\"Rect\"},\"selection_glyph\":null,\"view\":{\"id\":\"8f2ee739-4c9b-44e1-a270-b1d586292bb5\",\"type\":\"CDSView\"}},\"id\":\"4078143a-5d0a-4832-a638-afbe27fa217d\",\"type\":\"GlyphRenderer\"},{\"attributes\":{\"source\":{\"id\":\"6f82dbf8-a2ed-46db-a9c0-4eee66fdf6c3\",\"type\":\"ColumnDataSource\"}},\"id\":\"8f2ee739-4c9b-44e1-a270-b1d586292bb5\",\"type\":\"CDSView\"},{\"attributes\":{\"callback\":null,\"data\":{\"x\":[\"S1\",\"S1\"],\"y\":[148.5593719482422,154.5173797607422]},\"selected\":{\"id\":\"01908fa1-dd1b-4f20-9a33-19f3d7783213\",\"type\":\"Selection\"},\"selection_policy\":{\"id\":\"34d96835-1bd7-4907-8f7f-1e27b35b7da8\",\"type\":\"UnionRenderers\"}},\"id\":\"09ac28ba-c06f-4962-9100-590efe3b11e8\",\"type\":\"ColumnDataSource\"},{\"attributes\":{\"fill_color\":{\"value\":\"#1f77b4\"},\"height\":{\"units\":\"data\",\"value\":0.001},\"line_color\":{\"value\":\"deepskyblue\"},\"width\":{\"units\":\"data\",\"value\":0.2},\"x\":{\"field\":\"x\"},\"y\":{\"field\":\"y\"}},\"id\":\"bd4eeb13-fa34-47f2-8430-dd7d7a670da1\",\"type\":\"Rect\"},{\"attributes\":{\"fill_alpha\":{\"value\":0.1},\"fill_color\":{\"value\":\"#1f77b4\"},\"height\":{\"units\":\"data\",\"value\":0.001},\"line_alpha\":{\"value\":0.1},\"line_color\":{\"value\":\"#1f77b4\"},\"width\":{\"units\":\"data\",\"value\":0.2},\"x\":{\"field\":\"x\"},\"y\":{\"field\":\"y\"}},\"id\":\"a807d3ad-45ec-4c49-8bc0-7a12bec5fe24\",\"type\":\"Rect\"},{\"attributes\":{\"data_source\":{\"id\":\"09ac28ba-c06f-4962-9100-590efe3b11e8\",\"type\":\"ColumnDataSource\"},\"glyph\":{\"id\":\"bd4eeb13-fa34-47f2-8430-dd7d7a670da1\",\"type\":\"Rect\"},\"hover_glyph\":null,\"muted_glyph\":null,\"name\":\"Whiskers\",\"nonselection_glyph\":{\"id\":\"a807d3ad-45ec-4c49-8bc0-7a12bec5fe24\",\"type\":\"Rect\"},\"selection_glyph\":null,\"view\":{\"id\":\"89e4d4a7-c3a7-41f5-b96e-3955361fc31a\",\"type\":\"CDSView\"}},\"id\":\"02f69a78-a195-4ffa-9be1-ba673c92619c\",\"type\":\"GlyphRenderer\"},{\"attributes\":{},\"id\":\"96ab1236-5f50-4ba7-bcb2-6dc13a5f6f17\",\"type\":\"LinearScale\"},{\"attributes\":{\"source\":{\"id\":\"09ac28ba-c06f-4962-9100-590efe3b11e8\",\"type\":\"ColumnDataSource\"}},\"id\":\"89e4d4a7-c3a7-41f5-b96e-3955361fc31a\",\"type\":\"CDSView\"},{\"attributes\":{\"axis_label\":\"Head of Versions\",\"formatter\":{\"id\":\"d2ecb2e4-73a7-4f24-8ec7-947f3740af49\",\"type\":\"CategoricalTickFormatter\"},\"plot\":{\"id\":\"7d81963b-40c2-409a-a8fe-c556cd07658f\",\"subtype\":\"Figure\",\"type\":\"Plot\"},\"ticker\":{\"id\":\"fb8bb561-4401-41e1-b63b-8d46b1c9e6ba\",\"type\":\"CategoricalTicker\"}},\"id\":\"a00abe20-9667-498d-912b-798d5ef01f57\",\"type\":\"CategoricalAxis\"},{\"attributes\":{\"callback\":null,\"data\":{\"x\":[\"S2\",\"S2\"],\"y\":[146.6545867919922,153.3324432373047]},\"selected\":{\"id\":\"bfadda09-dc26-40b3-929e-ea7e169940d7\",\"type\":\"Selection\"},\"selection_policy\":{\"id\":\"99327988-63b2-4bb2-924b-406e2e338520\",\"type\":\"UnionRenderers\"}},\"id\":\"59915eff-fb7c-4405-bc4c-58ae0789f9fd\",\"type\":\"ColumnDataSource\"},{\"attributes\":{\"fill_color\":{\"value\":\"#1f77b4\"},\"height\":{\"units\":\"data\",\"value\":0.001},\"line_color\":{\"value\":\"deepskyblue\"},\"width\":{\"units\":\"data\",\"value\":0.2},\"x\":{\"field\":\"x\"},\"y\":{\"field\":\"y\"}},\"id\":\"e00c4b94-6038-4260-97d7-cb8b8067ba70\",\"type\":\"Rect\"},{\"attributes\":{\"fill_alpha\":{\"value\":0.1},\"fill_color\":{\"value\":\"#1f77b4\"},\"height\":{\"units\":\"data\",\"value\":0.001},\"line_alpha\":{\"value\":0.1},\"line_color\":{\"value\":\"#1f77b4\"},\"width\":{\"units\":\"data\",\"value\":0.2},\"x\":{\"field\":\"x\"},\"y\":{\"field\":\"y\"}},\"id\":\"75e49300-52e0-4ac6-a59e-731ac6a70535\",\"type\":\"Rect\"},{\"attributes\":{\"data_source\":{\"id\":\"59915eff-fb7c-4405-bc4c-58ae0789f9fd\",\"type\":\"ColumnDataSource\"},\"glyph\":{\"id\":\"e00c4b94-6038-4260-97d7-cb8b8067ba70\",\"type\":\"Rect\"},\"hover_glyph\":null,\"muted_glyph\":null,\"name\":\"Whiskers\",\"nonselection_glyph\":{\"id\":\"75e49300-52e0-4ac6-a59e-731ac6a70535\",\"type\":\"Rect\"},\"selection_glyph\":null,\"view\":{\"id\":\"335a1463-ece6-4c59-8004-630c17ac6e72\",\"type\":\"CDSView\"}},\"id\":\"59fa1efb-d24c-4dcf-8246-9d5921b24ee0\",\"type\":\"GlyphRenderer\"},{\"attributes\":{\"source\":{\"id\":\"59915eff-fb7c-4405-bc4c-58ae0789f9fd\",\"type\":\"ColumnDataSource\"}},\"id\":\"335a1463-ece6-4c59-8004-630c17ac6e72\",\"type\":\"CDSView\"},{\"attributes\":{\"callback\":null,\"data\":{\"x\":[\"S3\",\"S3\"],\"y\":[147.08810424804688,153.93548583984375]},\"selected\":{\"id\":\"391c9ce6-cbaf-47e3-bf10-88e92546925b\",\"type\":\"Selection\"},\"selection_policy\":{\"id\":\"25e3cbae-524e-4c97-88b6-339bc0f2f515\",\"type\":\"UnionRenderers\"}},\"id\":\"296575f8-1787-4533-aab4-61c7977ebacc\",\"type\":\"ColumnDataSource\"},{\"attributes\":{\"fill_color\":{\"value\":\"#1f77b4\"},\"height\":{\"units\":\"data\",\"value\":0.001},\"line_color\":{\"value\":\"deepskyblue\"},\"width\":{\"units\":\"data\",\"value\":0.2},\"x\":{\"field\":\"x\"},\"y\":{\"field\":\"y\"}},\"id\":\"57da3f3b-8ae2-4880-8c01-a61c248dbcd1\",\"type\":\"Rect\"},{\"attributes\":{\"fill_alpha\":{\"value\":0.1},\"fill_color\":{\"value\":\"#1f77b4\"},\"height\":{\"units\":\"data\",\"value\":0.001},\"line_alpha\":{\"value\":0.1},\"line_color\":{\"value\":\"#1f77b4\"},\"width\":{\"units\":\"data\",\"value\":0.2},\"x\":{\"field\":\"x\"},\"y\":{\"field\":\"y\"}},\"id\":\"e3f0e8ca-6a54-401e-a9ff-75d24267e86c\",\"type\":\"Rect\"},{\"attributes\":{\"source\":{\"id\":\"296575f8-1787-4533-aab4-61c7977ebacc\",\"type\":\"ColumnDataSource\"}},\"id\":\"195e2ef9-baaa-4c5e-97fe-3174f5eda708\",\"type\":\"CDSView\"},{\"attributes\":{\"callback\":null,\"data\":{\"x\":[\"S4\",\"S4\"],\"y\":[149.92359924316406,153.91091918945312]},\"selected\":{\"id\":\"4ceabed8-3ceb-4865-aaae-78e955afe6b8\",\"type\":\"Selection\"},\"selection_policy\":{\"id\":\"0df323ec-5857-4281-9358-c9c13b7d23a1\",\"type\":\"UnionRenderers\"}},\"id\":\"80c8a91b-e695-4413-8473-fcadc586f238\",\"type\":\"ColumnDataSource\"},{\"attributes\":{\"fill_color\":{\"value\":\"#1f77b4\"},\"height\":{\"units\":\"data\",\"value\":0.001},\"line_color\":{\"value\":\"deepskyblue\"},\"width\":{\"units\":\"data\",\"value\":0.2},\"x\":{\"field\":\"x\"},\"y\":{\"field\":\"y\"}},\"id\":\"e1f7ce21-9c96-450c-82c0-8b7207c0bdca\",\"type\":\"Rect\"},{\"attributes\":{\"fill_alpha\":{\"value\":0.1},\"fill_color\":{\"value\":\"#1f77b4\"},\"height\":{\"units\":\"data\",\"value\":0.001},\"line_alpha\":{\"value\":0.1},\"line_color\":{\"value\":\"#1f77b4\"},\"width\":{\"units\":\"data\",\"value\":0.2},\"x\":{\"field\":\"x\"},\"y\":{\"field\":\"y\"}},\"id\":\"c8b45a3f-94be-4aa5-8ffc-a25c5ead96bb\",\"type\":\"Rect\"},{\"attributes\":{\"data_source\":{\"id\":\"80c8a91b-e695-4413-8473-fcadc586f238\",\"type\":\"ColumnDataSource\"},\"glyph\":{\"id\":\"e1f7ce21-9c96-450c-82c0-8b7207c0bdca\",\"type\":\"Rect\"},\"hover_glyph\":null,\"muted_glyph\":null,\"name\":\"Whiskers\",\"nonselection_glyph\":{\"id\":\"c8b45a3f-94be-4aa5-8ffc-a25c5ead96bb\",\"type\":\"Rect\"},\"selection_glyph\":null,\"view\":{\"id\":\"d4618493-721d-4943-a0cd-3b6813b0c0d3\",\"type\":\"CDSView\"}},\"id\":\"682dce41-847b-4f17-b494-3a6e2b70db8e\",\"type\":\"GlyphRenderer\"},{\"attributes\":{\"source\":{\"id\":\"80c8a91b-e695-4413-8473-fcadc586f238\",\"type\":\"ColumnDataSource\"}},\"id\":\"d4618493-721d-4943-a0cd-3b6813b0c0d3\",\"type\":\"CDSView\"},{\"attributes\":{\"callback\":null,\"data\":{\"x\":[\"S5\",\"S5\"],\"y\":[149.62057495117188,158.1661376953125]},\"selected\":{\"id\":\"fd246f8b-9b3f-4ec1-8996-ed91e2f54efa\",\"type\":\"Selection\"},\"selection_policy\":{\"id\":\"f68e1b25-605a-4a72-aa03-5a6e4e0b877b\",\"type\":\"UnionRenderers\"}},\"id\":\"238ef0b7-b497-409f-9887-0608c28e74ef\",\"type\":\"ColumnDataSource\"},{\"attributes\":{\"fill_color\":{\"value\":\"#1f77b4\"},\"height\":{\"units\":\"data\",\"value\":0.001},\"line_color\":{\"value\":\"deepskyblue\"},\"width\":{\"units\":\"data\",\"value\":0.2},\"x\":{\"field\":\"x\"},\"y\":{\"field\":\"y\"}},\"id\":\"8e6e2a11-cf4d-4704-87f6-6e5aacf6cfc8\",\"type\":\"Rect\"},{\"attributes\":{\"fill_alpha\":{\"value\":0.1},\"fill_color\":{\"value\":\"#1f77b4\"},\"height\":{\"units\":\"data\",\"value\":0.001},\"line_alpha\":{\"value\":0.1},\"line_color\":{\"value\":\"#1f77b4\"},\"width\":{\"units\":\"data\",\"value\":0.2},\"x\":{\"field\":\"x\"},\"y\":{\"field\":\"y\"}},\"id\":\"363fa4bb-0216-42e7-a685-98d741f0a22f\",\"type\":\"Rect\"},{\"attributes\":{\"data_source\":{\"id\":\"238ef0b7-b497-409f-9887-0608c28e74ef\",\"type\":\"ColumnDataSource\"},\"glyph\":{\"id\":\"8e6e2a11-cf4d-4704-87f6-6e5aacf6cfc8\",\"type\":\"Rect\"},\"hover_glyph\":null,\"muted_glyph\":null,\"name\":\"Whiskers\",\"nonselection_glyph\":{\"id\":\"363fa4bb-0216-42e7-a685-98d741f0a22f\",\"type\":\"Rect\"},\"selection_glyph\":null,\"view\":{\"id\":\"c0a70d97-6a60-454c-8b08-64a6c3060456\",\"type\":\"CDSView\"}},\"id\":\"e8c5bdb0-b32a-4c61-b977-7d0f65549f6d\",\"type\":\"GlyphRenderer\"},{\"attributes\":{\"source\":{\"id\":\"238ef0b7-b497-409f-9887-0608c28e74ef\",\"type\":\"ColumnDataSource\"}},\"id\":\"c0a70d97-6a60-454c-8b08-64a6c3060456\",\"type\":\"CDSView\"},{\"attributes\":{\"callback\":null,\"data\":{\"x\":[\"T1\",\"T1\"],\"y\":[146.29067993164062,153.3626708984375]},\"selected\":{\"id\":\"63c0f74d-277b-4598-a89f-4aee2da7e797\",\"type\":\"Selection\"},\"selection_policy\":{\"id\":\"607fa909-27c3-4b5d-a15d-f3c91e56d317\",\"type\":\"UnionRenderers\"}},\"id\":\"d0180374-4576-4df9-acf0-0dcc783fe519\",\"type\":\"ColumnDataSource\"},{\"attributes\":{\"fill_color\":{\"value\":\"#1f77b4\"},\"height\":{\"units\":\"data\",\"value\":0.001},\"line_color\":{\"value\":\"deepskyblue\"},\"width\":{\"units\":\"data\",\"value\":0.2},\"x\":{\"field\":\"x\"},\"y\":{\"field\":\"y\"}},\"id\":\"6c331c34-0961-4c87-8e17-104b2c02c689\",\"type\":\"Rect\"},{\"attributes\":{\"fill_alpha\":{\"value\":0.1},\"fill_color\":{\"value\":\"#1f77b4\"},\"height\":{\"units\":\"data\",\"value\":0.001},\"line_alpha\":{\"value\":0.1},\"line_color\":{\"value\":\"#1f77b4\"},\"width\":{\"units\":\"data\",\"value\":0.2},\"x\":{\"field\":\"x\"},\"y\":{\"field\":\"y\"}},\"id\":\"5371d157-ba9d-4149-aa27-5d81a6fc9803\",\"type\":\"Rect\"},{\"attributes\":{\"data_source\":{\"id\":\"d0180374-4576-4df9-acf0-0dcc783fe519\",\"type\":\"ColumnDataSource\"},\"glyph\":{\"id\":\"6c331c34-0961-4c87-8e17-104b2c02c689\",\"type\":\"Rect\"},\"hover_glyph\":null,\"muted_glyph\":null,\"name\":\"Whiskers\",\"nonselection_glyph\":{\"id\":\"5371d157-ba9d-4149-aa27-5d81a6fc9803\",\"type\":\"Rect\"},\"selection_glyph\":null,\"view\":{\"id\":\"b4c981f5-b7a4-408b-85bd-9ddb13fe0240\",\"type\":\"CDSView\"}},\"id\":\"51eeb368-1b5e-4b4d-9fb6-63f3b78e84ec\",\"type\":\"GlyphRenderer\"},{\"attributes\":{\"source\":{\"id\":\"d0180374-4576-4df9-acf0-0dcc783fe519\",\"type\":\"ColumnDataSource\"}},\"id\":\"b4c981f5-b7a4-408b-85bd-9ddb13fe0240\",\"type\":\"CDSView\"},{\"attributes\":{\"callback\":null,\"data\":{\"x\":[\"T2\",\"T2\"],\"y\":[146.4927215576172,153.76260375976562]},\"selected\":{\"id\":\"c3b83b9c-b0c4-4160-bf94-9d81364acc5f\",\"type\":\"Selection\"},\"selection_policy\":{\"id\":\"780c06b3-5507-4b12-80a6-5b5da02cbf14\",\"type\":\"UnionRenderers\"}},\"id\":\"207b8db3-c396-4caf-ab2a-0c4664f41805\",\"type\":\"ColumnDataSource\"},{\"attributes\":{\"fill_color\":{\"value\":\"#1f77b4\"},\"height\":{\"units\":\"data\",\"value\":0.001},\"line_color\":{\"value\":\"deepskyblue\"},\"width\":{\"units\":\"data\",\"value\":0.2},\"x\":{\"field\":\"x\"},\"y\":{\"field\":\"y\"}},\"id\":\"05f9351f-bd47-44ce-9223-f7933e400799\",\"type\":\"Rect\"},{\"attributes\":{\"fill_alpha\":{\"value\":0.1},\"fill_color\":{\"value\":\"#1f77b4\"},\"height\":{\"units\":\"data\",\"value\":0.001},\"line_alpha\":{\"value\":0.1},\"line_color\":{\"value\":\"#1f77b4\"},\"width\":{\"units\":\"data\",\"value\":0.2},\"x\":{\"field\":\"x\"},\"y\":{\"field\":\"y\"}},\"id\":\"0ae9b464-43b8-44cd-a333-d0d17916a608\",\"type\":\"Rect\"},{\"attributes\":{\"data_source\":{\"id\":\"207b8db3-c396-4caf-ab2a-0c4664f41805\",\"type\":\"ColumnDataSource\"},\"glyph\":{\"id\":\"05f9351f-bd47-44ce-9223-f7933e400799\",\"type\":\"Rect\"},\"hover_glyph\":null,\"muted_glyph\":null,\"name\":\"Whiskers\",\"nonselection_glyph\":{\"id\":\"0ae9b464-43b8-44cd-a333-d0d17916a608\",\"type\":\"Rect\"},\"selection_glyph\":null,\"view\":{\"id\":\"b2109907-f094-44ac-b19e-7f2bca0ae238\",\"type\":\"CDSView\"}},\"id\":\"17ebc445-e8bd-42fe-b907-74c9c11538ec\",\"type\":\"GlyphRenderer\"},{\"attributes\":{\"source\":{\"id\":\"207b8db3-c396-4caf-ab2a-0c4664f41805\",\"type\":\"ColumnDataSource\"}},\"id\":\"b2109907-f094-44ac-b19e-7f2bca0ae238\",\"type\":\"CDSView\"},{\"attributes\":{},\"id\":\"b1ac574c-aac7-4d43-a2a3-f5c37fa4a314\",\"type\":\"Selection\"},{\"attributes\":{},\"id\":\"01908fa1-dd1b-4f20-9a33-19f3d7783213\",\"type\":\"Selection\"},{\"attributes\":{},\"id\":\"cb6a7921-327d-4969-a75d-299904dbf5f6\",\"type\":\"UnionRenderers\"},{\"attributes\":{},\"id\":\"a1ca3e79-dfb2-48a1-ab17-64c3dbfcd3a5\",\"type\":\"UnionRenderers\"},{\"attributes\":{},\"id\":\"00fd70f1-94da-440a-bc5b-390069614cb2\",\"type\":\"Selection\"},{\"attributes\":{},\"id\":\"af36bbf0-80df-4a79-96ac-d117ec9b0b5c\",\"type\":\"UnionRenderers\"},{\"attributes\":{},\"id\":\"e390a3ab-2460-47bf-a04f-64a186bf6bf4\",\"type\":\"Selection\"},{\"attributes\":{},\"id\":\"72621393-8f39-4b5d-8203-fa2310cc17ae\",\"type\":\"UnionRenderers\"},{\"attributes\":{},\"id\":\"46205d0e-058b-4a1c-b4a0-f72d22651dda\",\"type\":\"Selection\"},{\"attributes\":{},\"id\":\"05dc6977-b17d-4cdf-be36-07cb284ad633\",\"type\":\"UnionRenderers\"},{\"attributes\":{},\"id\":\"4434bf57-36a2-4e5e-9603-99a5127cba46\",\"type\":\"Selection\"},{\"attributes\":{},\"id\":\"03d35f81-eb6c-47f9-94ad-f520434f478d\",\"type\":\"UnionRenderers\"},{\"attributes\":{\"source\":{\"id\":\"10dc0de2-58df-44c3-9181-f239dc380904\",\"type\":\"ColumnDataSource\"}},\"id\":\"c15ee7a8-4476-479b-a626-ad95d207fa46\",\"type\":\"CDSView\"},{\"attributes\":{},\"id\":\"3f4fa47b-66a9-4956-ac10-7c935673de88\",\"type\":\"Selection\"},{\"attributes\":{},\"id\":\"2361987a-f883-4f88-935a-5bb445cb6f1c\",\"type\":\"UnionRenderers\"},{\"attributes\":{\"data_source\":{\"id\":\"10dc0de2-58df-44c3-9181-f239dc380904\",\"type\":\"ColumnDataSource\"},\"glyph\":{\"id\":\"43b278c2-307b-4ea3-ba16-3f8f9cc6d159\",\"type\":\"MultiLine\"},\"hover_glyph\":null,\"muted_glyph\":null,\"nonselection_glyph\":{\"id\":\"f0f25397-d18c-4eff-8e2a-0f178644dd1a\",\"type\":\"MultiLine\"},\"selection_glyph\":null,\"view\":{\"id\":\"c15ee7a8-4476-479b-a626-ad95d207fa46\",\"type\":\"CDSView\"}},\"id\":\"a3beedc2-a285-469f-b508-e63f8d1abaf3\",\"type\":\"GlyphRenderer\"},{\"attributes\":{},\"id\":\"aab91e64-0ff8-4241-b4a2-9f97842f83cf\",\"type\":\"Selection\"},{\"attributes\":{},\"id\":\"c6837cd1-6d74-400f-bd84-d4015ecea55e\",\"type\":\"UnionRenderers\"},{\"attributes\":{\"fill_color\":{\"value\":\"red\"},\"line_alpha\":{\"value\":0},\"line_color\":{\"value\":\"red\"},\"size\":{\"units\":\"screen\",\"value\":12},\"x\":{\"field\":\"x\"},\"y\":{\"field\":\"y\"}},\"id\":\"aac5643e-880f-46a1-8d5e-efe6016c1658\",\"type\":\"Diamond\"},{\"attributes\":{},\"id\":\"ba738e5d-8773-4560-baa4-584daab66495\",\"type\":\"Selection\"},{\"attributes\":{},\"id\":\"85aac2fa-9cf8-47f8-86ce-b6e0b6b7fced\",\"type\":\"UnionRenderers\"},{\"attributes\":{},\"id\":\"c91e99ce-9b31-492e-850c-b7ff3db511d6\",\"type\":\"Selection\"},{\"attributes\":{},\"id\":\"e947e1f0-13fe-4ff7-a8df-630b8872e745\",\"type\":\"UnionRenderers\"},{\"attributes\":{},\"id\":\"558f5593-c226-45d8-9fa2-e9a0d457332a\",\"type\":\"Selection\"},{\"attributes\":{},\"id\":\"59f82f37-b3b2-4a03-bacc-4b8318f061a1\",\"type\":\"UnionRenderers\"},{\"attributes\":{},\"id\":\"c245ad21-460c-4468-bc9f-94134e50a9ed\",\"type\":\"Selection\"},{\"attributes\":{},\"id\":\"1ffb9f17-12d6-4e9a-90fe-6606633964d1\",\"type\":\"UnionRenderers\"},{\"attributes\":{},\"id\":\"a383df5d-8a23-430a-aa2a-f0093a50fcdd\",\"type\":\"Selection\"},{\"attributes\":{},\"id\":\"448255c6-8dec-4b1e-a33b-719bb4ae4dad\",\"type\":\"UnionRenderers\"},{\"attributes\":{},\"id\":\"1536ccfa-098d-4924-9b8b-20b074f2ea79\",\"type\":\"Selection\"},{\"attributes\":{},\"id\":\"fcd19cd3-0c91-4610-860d-94b7c4d65394\",\"type\":\"UnionRenderers\"},{\"attributes\":{},\"id\":\"37c8eeb2-a853-44c4-94d7-8dba881e544d\",\"type\":\"Selection\"},{\"attributes\":{},\"id\":\"bf7d6d01-ff3d-4fe1-8c7b-1c55e6534910\",\"type\":\"UnionRenderers\"},{\"attributes\":{},\"id\":\"d2ecb2e4-73a7-4f24-8ec7-947f3740af49\",\"type\":\"CategoricalTickFormatter\"},{\"attributes\":{},\"id\":\"c93d77b4-541f-4279-bf13-68f1a8dc1045\",\"type\":\"Selection\"},{\"attributes\":{},\"id\":\"cfb84720-207f-46f8-81cf-d95dd9b38b11\",\"type\":\"UnionRenderers\"},{\"attributes\":{},\"id\":\"f97060e2-29c9-42cf-94fd-434fcb4bdc8f\",\"type\":\"Selection\"},{\"attributes\":{},\"id\":\"7bd39985-c302-448a-99c3-49d58df11f0e\",\"type\":\"UnionRenderers\"},{\"attributes\":{},\"id\":\"5132d296-d952-47ad-be00-ff4d54b9c4e5\",\"type\":\"Selection\"},{\"attributes\":{},\"id\":\"7e54df2c-b1bc-4995-9c94-390dbdfd0399\",\"type\":\"UnionRenderers\"},{\"attributes\":{},\"id\":\"3f70e5c2-54b0-47b2-9ecf-73479abd627c\",\"type\":\"Selection\"},{\"attributes\":{},\"id\":\"5f668459-58d5-4c1c-9f28-0d0877a795ab\",\"type\":\"UnionRenderers\"},{\"attributes\":{},\"id\":\"fe6b2e00-726d-4d3a-b0e3-db5ff4ca7af1\",\"type\":\"Selection\"},{\"attributes\":{},\"id\":\"dd78a1c8-4c9f-4f35-bfc8-feab9ea5cf76\",\"type\":\"UnionRenderers\"},{\"attributes\":{},\"id\":\"c4e246be-a54e-4ec3-897c-ed1ba094d082\",\"type\":\"Selection\"},{\"attributes\":{},\"id\":\"8e664b12-c633-43df-8347-cfac04ba130e\",\"type\":\"UnionRenderers\"},{\"attributes\":{},\"id\":\"c9d8ab1b-6411-4e14-b21f-6d17269d4671\",\"type\":\"Selection\"},{\"attributes\":{},\"id\":\"e7b9a781-bf4d-4485-9856-40c23d088a37\",\"type\":\"UnionRenderers\"},{\"attributes\":{},\"id\":\"563534cf-6501-4662-81d4-5c75206d3197\",\"type\":\"Selection\"},{\"attributes\":{},\"id\":\"95966d26-bacf-4373-8acf-cac55ea862cf\",\"type\":\"UnionRenderers\"},{\"attributes\":{\"label\":{\"value\":\"Mean Prediction +/- Std.Dev\"},\"renderers\":[{\"id\":\"a3beedc2-a285-469f-b508-e63f8d1abaf3\",\"type\":\"GlyphRenderer\"}]},\"id\":\"200660c5-1378-49db-b830-18e8c69413e1\",\"type\":\"LegendItem\"},{\"attributes\":{},\"id\":\"440a629a-6028-425e-a5d7-347a5e0802ff\",\"type\":\"Selection\"},{\"attributes\":{},\"id\":\"9fdd4ffb-d192-4a2a-93bd-e2e97d401884\",\"type\":\"UnionRenderers\"},{\"attributes\":{},\"id\":\"bd930644-f1c0-4f42-a7f1-eb69d4c2581e\",\"type\":\"Selection\"},{\"attributes\":{},\"id\":\"43540d37-d4e1-419a-b65c-a7fed73d0312\",\"type\":\"UnionRenderers\"},{\"attributes\":{\"callback\":null,\"data\":{\"x\":[\"A2\",\"A2\"],\"y\":[146.75148010253906,153.53700256347656]},\"selected\":{\"id\":\"3f6a514a-bc7f-432c-a56b-012cf655ca39\",\"type\":\"Selection\"},\"selection_policy\":{\"id\":\"0dac3b5f-adbb-4396-b4f1-260f5f95d48a\",\"type\":\"UnionRenderers\"}},\"id\":\"031dbcc6-525e-44e1-b039-0ffb40b3e0e1\",\"type\":\"ColumnDataSource\"},{\"attributes\":{},\"id\":\"ad366a05-9d67-4c85-b44d-09931b06afb6\",\"type\":\"Selection\"},{\"attributes\":{\"fill_color\":{\"value\":\"#1f77b4\"},\"height\":{\"units\":\"data\",\"value\":0.001},\"line_color\":{\"value\":\"deepskyblue\"},\"width\":{\"units\":\"data\",\"value\":0.2},\"x\":{\"field\":\"x\"},\"y\":{\"field\":\"y\"}},\"id\":\"0ac0c68c-bc2f-47d4-8c94-7b41c90358af\",\"type\":\"Rect\"},{\"attributes\":{\"fill_color\":{\"value\":\"#1f77b4\"},\"height\":{\"units\":\"data\",\"value\":0.001},\"line_color\":{\"value\":\"deepskyblue\"},\"width\":{\"units\":\"data\",\"value\":0.2},\"x\":{\"field\":\"x\"},\"y\":{\"field\":\"y\"}},\"id\":\"927fbd38-af69-4e98-9dc8-d36052a5b197\",\"type\":\"Rect\"},{\"attributes\":{},\"id\":\"4424de9c-2b74-480e-b2d0-5f7e132e7928\",\"type\":\"UnionRenderers\"},{\"attributes\":{\"fill_alpha\":{\"value\":0.1},\"fill_color\":{\"value\":\"#1f77b4\"},\"height\":{\"units\":\"data\",\"value\":0.001},\"line_alpha\":{\"value\":0.1},\"line_color\":{\"value\":\"#1f77b4\"},\"width\":{\"units\":\"data\",\"value\":0.2},\"x\":{\"field\":\"x\"},\"y\":{\"field\":\"y\"}},\"id\":\"6dee46ff-0cf1-421d-ac05-fb40347b74da\",\"type\":\"Rect\"},{\"attributes\":{},\"id\":\"ad246fc2-9436-4318-ba66-0a52ad51ae23\",\"type\":\"Selection\"},{\"attributes\":{\"data_source\":{\"id\":\"031dbcc6-525e-44e1-b039-0ffb40b3e0e1\",\"type\":\"ColumnDataSource\"},\"glyph\":{\"id\":\"927fbd38-af69-4e98-9dc8-d36052a5b197\",\"type\":\"Rect\"},\"hover_glyph\":null,\"muted_glyph\":null,\"name\":\"Whiskers\",\"nonselection_glyph\":{\"id\":\"6dee46ff-0cf1-421d-ac05-fb40347b74da\",\"type\":\"Rect\"},\"selection_glyph\":null,\"view\":{\"id\":\"c783f39e-698f-4bbb-bcb9-308effddd03c\",\"type\":\"CDSView\"}},\"id\":\"8ef6851d-93c0-4724-938b-19fd205752f0\",\"type\":\"GlyphRenderer\"},{\"attributes\":{},\"id\":\"0dac3b5f-adbb-4396-b4f1-260f5f95d48a\",\"type\":\"UnionRenderers\"},{\"attributes\":{\"source\":{\"id\":\"031dbcc6-525e-44e1-b039-0ffb40b3e0e1\",\"type\":\"ColumnDataSource\"}},\"id\":\"c783f39e-698f-4bbb-bcb9-308effddd03c\",\"type\":\"CDSView\"},{\"attributes\":{},\"id\":\"a28faca1-6a34-4837-8dd2-5ebc95dcd414\",\"type\":\"UnionRenderers\"},{\"attributes\":{\"callback\":null,\"data\":{\"x\":[\"A3\",\"A3\"],\"y\":[148.52662658691406,154.9805145263672]},\"selected\":{\"id\":\"9483e5fa-979b-439a-a225-4b50ad92f207\",\"type\":\"Selection\"},\"selection_policy\":{\"id\":\"cb6a7921-327d-4969-a75d-299904dbf5f6\",\"type\":\"UnionRenderers\"}},\"id\":\"2b37fff9-c72a-45a8-8b96-a710878e2769\",\"type\":\"ColumnDataSource\"},{\"attributes\":{},\"id\":\"9483e5fa-979b-439a-a225-4b50ad92f207\",\"type\":\"Selection\"},{\"attributes\":{\"fill_color\":{\"value\":\"#1f77b4\"},\"height\":{\"units\":\"data\",\"value\":0.001},\"line_color\":{\"value\":\"deepskyblue\"},\"width\":{\"units\":\"data\",\"value\":0.2},\"x\":{\"field\":\"x\"},\"y\":{\"field\":\"y\"}},\"id\":\"d61d3d7b-1c7f-4d80-9df0-632b811f0579\",\"type\":\"Rect\"},{\"attributes\":{\"callback\":null,\"names\":[\"Whiskers\"],\"renderers\":\"auto\",\"tooltips\":[[\"Dia\",\"@y mm\"]]},\"id\":\"c5ae8d87-be6b-4607-9e21-7bede33818d8\",\"type\":\"HoverTool\"},{\"attributes\":{\"below\":[{\"id\":\"a00abe20-9667-498d-912b-798d5ef01f57\",\"type\":\"CategoricalAxis\"}],\"left\":[{\"id\":\"5ae5a784-e3e0-4e89-bf81-e3c0489b0130\",\"type\":\"LinearAxis\"}],\"plot_width\":1400,\"renderers\":[{\"id\":\"a00abe20-9667-498d-912b-798d5ef01f57\",\"type\":\"CategoricalAxis\"},{\"id\":\"6b0f8807-1ca2-4618-a31d-7dfbc7c5a401\",\"type\":\"Grid\"},{\"id\":\"5ae5a784-e3e0-4e89-bf81-e3c0489b0130\",\"type\":\"LinearAxis\"},{\"id\":\"f1c7fabf-4de1-42c9-87d8-df6a50f109a7\",\"type\":\"Grid\"},{\"id\":\"bd9fe0b1-1a3f-4bbc-9880-3c92f9f93e9b\",\"type\":\"BoxAnnotation\"},{\"id\":\"4665401f-9f01-40f0-8969-b87d68179a49\",\"type\":\"Legend\"},{\"id\":\"a3beedc2-a285-469f-b508-e63f8d1abaf3\",\"type\":\"GlyphRenderer\"},{\"id\":\"9082b366-d2a3-4912-9285-75bdc8417249\",\"type\":\"GlyphRenderer\"},{\"id\":\"e0104001-7058-4953-9ae4-c3c0d82cd0b3\",\"type\":\"GlyphRenderer\"},{\"id\":\"90b12394-9fa7-4be1-ad9b-7a9f259bdcea\",\"type\":\"GlyphRenderer\"},{\"id\":\"fed6e736-4c51-4515-8d6c-3d01ed048c8e\",\"type\":\"GlyphRenderer\"},{\"id\":\"8ef6851d-93c0-4724-938b-19fd205752f0\",\"type\":\"GlyphRenderer\"},{\"id\":\"9619d429-a2b4-40e9-b689-ff5442dccd2f\",\"type\":\"GlyphRenderer\"},{\"id\":\"ab3b2806-bd92-417e-b64e-257d844164d6\",\"type\":\"GlyphRenderer\"},{\"id\":\"58f040d2-dc78-4970-bf07-ac60ecdb600f\",\"type\":\"GlyphRenderer\"},{\"id\":\"cb831529-1243-4d24-9833-1208f763138e\",\"type\":\"GlyphRenderer\"},{\"id\":\"05514ca4-24c5-444c-9b34-8143fd7c8156\",\"type\":\"GlyphRenderer\"},{\"id\":\"3341225d-47a2-4d53-a4c7-6908bdee31fc\",\"type\":\"GlyphRenderer\"},{\"id\":\"5af2c779-7d9b-47da-9107-ee1542237be5\",\"type\":\"GlyphRenderer\"},{\"id\":\"81085472-9a21-4dab-8fe5-97190086f88c\",\"type\":\"GlyphRenderer\"},{\"id\":\"24e10dd6-7fc9-487b-a0a4-11c5b8e24831\",\"type\":\"GlyphRenderer\"},{\"id\":\"98aa7642-273f-4511-974a-32b8589dd224\",\"type\":\"GlyphRenderer\"},{\"id\":\"389b2db8-c24a-47f3-903f-15ffa0ceb7d7\",\"type\":\"GlyphRenderer\"},{\"id\":\"f02d3c7a-8fc6-4e03-9cea-596cf331ae56\",\"type\":\"GlyphRenderer\"},{\"id\":\"b3f1e87b-71d7-49a3-9313-9f99e59526af\",\"type\":\"GlyphRenderer\"},{\"id\":\"2b120223-87d5-4f21-b01b-d48b2a7f6e15\",\"type\":\"GlyphRenderer\"},{\"id\":\"2ae32237-59c5-4a94-a399-d1931926addf\",\"type\":\"GlyphRenderer\"},{\"id\":\"590cc779-ccd6-4186-9c2c-a62784163c1e\",\"type\":\"GlyphRenderer\"},{\"id\":\"5eb75f52-af76-47b0-8e07-e140026c3e75\",\"type\":\"GlyphRenderer\"},{\"id\":\"06e770b6-a974-4ad6-8076-59fb82b024e3\",\"type\":\"GlyphRenderer\"},{\"id\":\"30a3aede-9c58-48b9-bfde-e5a7ca9f3d63\",\"type\":\"GlyphRenderer\"},{\"id\":\"e92967d5-0bd9-4a01-89b1-45bc6d15e143\",\"type\":\"GlyphRenderer\"},{\"id\":\"b350fd4c-51d2-4169-83db-bff1668a0bd1\",\"type\":\"GlyphRenderer\"},{\"id\":\"153a450c-58a1-4115-b4c4-322efeec26de\",\"type\":\"GlyphRenderer\"},{\"id\":\"8fe7950b-a6d6-44b9-92d0-e6ebc5556356\",\"type\":\"GlyphRenderer\"},{\"id\":\"6ef0f3a0-c168-467f-ab3a-334501494256\",\"type\":\"GlyphRenderer\"},{\"id\":\"4078143a-5d0a-4832-a638-afbe27fa217d\",\"type\":\"GlyphRenderer\"},{\"id\":\"02f69a78-a195-4ffa-9be1-ba673c92619c\",\"type\":\"GlyphRenderer\"},{\"id\":\"59fa1efb-d24c-4dcf-8246-9d5921b24ee0\",\"type\":\"GlyphRenderer\"},{\"id\":\"6e8aed52-62ff-4661-9653-1ce5f9523c2a\",\"type\":\"GlyphRenderer\"},{\"id\":\"682dce41-847b-4f17-b494-3a6e2b70db8e\",\"type\":\"GlyphRenderer\"},{\"id\":\"e8c5bdb0-b32a-4c61-b977-7d0f65549f6d\",\"type\":\"GlyphRenderer\"},{\"id\":\"51eeb368-1b5e-4b4d-9fb6-63f3b78e84ec\",\"type\":\"GlyphRenderer\"},{\"id\":\"17ebc445-e8bd-42fe-b907-74c9c11538ec\",\"type\":\"GlyphRenderer\"}],\"title\":{\"id\":\"f5d7736d-4921-4d0c-9041-eca1378d44ea\",\"type\":\"Title\"},\"toolbar\":{\"id\":\"95857384-f5fa-4030-84f3-3f213029454b\",\"type\":\"Toolbar\"},\"x_range\":{\"id\":\"507bf744-f309-4da8-882b-c8940cafd447\",\"type\":\"FactorRange\"},\"x_scale\":{\"id\":\"d55f483a-33e3-4463-b3cf-c4eaecaced20\",\"type\":\"CategoricalScale\"},\"y_range\":{\"id\":\"26a4fa38-5d3d-4f86-bf8e-5f3a2cd988fb\",\"type\":\"Range1d\"},\"y_scale\":{\"id\":\"96ab1236-5f50-4ba7-bcb2-6dc13a5f6f17\",\"type\":\"LinearScale\"}},\"id\":\"7d81963b-40c2-409a-a8fe-c556cd07658f\",\"subtype\":\"Figure\",\"type\":\"Plot\"},{\"attributes\":{\"fill_alpha\":{\"value\":0.1},\"fill_color\":{\"value\":\"#1f77b4\"},\"height\":{\"units\":\"data\",\"value\":0.001},\"line_alpha\":{\"value\":0.1},\"line_color\":{\"value\":\"#1f77b4\"},\"width\":{\"units\":\"data\",\"value\":0.2},\"x\":{\"field\":\"x\"},\"y\":{\"field\":\"y\"}},\"id\":\"4ecdd018-79ca-4571-be59-beb137bdd8ab\",\"type\":\"Rect\"},{\"attributes\":{\"data_source\":{\"id\":\"2b37fff9-c72a-45a8-8b96-a710878e2769\",\"type\":\"ColumnDataSource\"},\"glyph\":{\"id\":\"d61d3d7b-1c7f-4d80-9df0-632b811f0579\",\"type\":\"Rect\"},\"hover_glyph\":null,\"muted_glyph\":null,\"name\":\"Whiskers\",\"nonselection_glyph\":{\"id\":\"4ecdd018-79ca-4571-be59-beb137bdd8ab\",\"type\":\"Rect\"},\"selection_glyph\":null,\"view\":{\"id\":\"439c6bd0-16cd-4d5c-8023-888df1646eb0\",\"type\":\"CDSView\"}},\"id\":\"9619d429-a2b4-40e9-b689-ff5442dccd2f\",\"type\":\"GlyphRenderer\"},{\"attributes\":{\"source\":{\"id\":\"2b37fff9-c72a-45a8-8b96-a710878e2769\",\"type\":\"ColumnDataSource\"}},\"id\":\"439c6bd0-16cd-4d5c-8023-888df1646eb0\",\"type\":\"CDSView\"},{\"attributes\":{\"callback\":null,\"names\":[\"DiaPoints\"],\"renderers\":\"auto\",\"tooltips\":[[\"HoV\",\"@x\"],[\"Dia\",\"@y mm\"]]},\"id\":\"33c931e9-88a4-4bbf-9e80-1d0b1ce495e1\",\"type\":\"HoverTool\"},{\"attributes\":{\"plot\":null,\"text\":\"BNN MC DropOut - Dia Predictions with Confidence Interval\"},\"id\":\"f5d7736d-4921-4d0c-9041-eca1378d44ea\",\"type\":\"Title\"},{\"attributes\":{\"callback\":null,\"data\":{\"x\":[\"A4\",\"A4\"],\"y\":[148.62384033203125,154.45899963378906]},\"selected\":{\"id\":\"b1ac574c-aac7-4d43-a2a3-f5c37fa4a314\",\"type\":\"Selection\"},\"selection_policy\":{\"id\":\"a1ca3e79-dfb2-48a1-ab17-64c3dbfcd3a5\",\"type\":\"UnionRenderers\"}},\"id\":\"190cfd42-54e9-4d97-bfc0-a2df39dcce1a\",\"type\":\"ColumnDataSource\"},{\"attributes\":{\"fill_color\":{\"value\":\"#1f77b4\"},\"height\":{\"units\":\"data\",\"value\":0.001},\"line_color\":{\"value\":\"deepskyblue\"},\"width\":{\"units\":\"data\",\"value\":0.2},\"x\":{\"field\":\"x\"},\"y\":{\"field\":\"y\"}},\"id\":\"00f087e3-9234-46ff-9a47-0c90ca43134b\",\"type\":\"Rect\"},{\"attributes\":{\"active_drag\":\"auto\",\"active_inspect\":\"auto\",\"active_multi\":null,\"active_scroll\":\"auto\",\"active_tap\":\"auto\",\"tools\":[{\"id\":\"144be86d-0909-4ed6-958e-05302580f9f3\",\"type\":\"PanTool\"},{\"id\":\"a32df3b5-f367-4996-a379-75d74e1d0d83\",\"type\":\"WheelZoomTool\"},{\"id\":\"f0530936-f9f2-46fb-b98a-b0a1efd1b3ae\",\"type\":\"BoxZoomTool\"},{\"id\":\"6f863c28-fd83-412c-8575-e44416939b16\",\"type\":\"SaveTool\"},{\"id\":\"d32b5819-ea3c-4020-8592-341407c735f0\",\"type\":\"ResetTool\"},{\"id\":\"9f40997c-fc48-4c11-8663-1e7be378fa48\",\"type\":\"HelpTool\"},{\"id\":\"33c931e9-88a4-4bbf-9e80-1d0b1ce495e1\",\"type\":\"HoverTool\"},{\"id\":\"c5ae8d87-be6b-4607-9e21-7bede33818d8\",\"type\":\"HoverTool\"},{\"id\":\"04d71962-2e41-40fb-900d-ed19e87b9ae4\",\"type\":\"HoverTool\"}]},\"id\":\"95857384-f5fa-4030-84f3-3f213029454b\",\"type\":\"Toolbar\"},{\"attributes\":{\"fill_alpha\":{\"value\":0.1},\"fill_color\":{\"value\":\"#1f77b4\"},\"height\":{\"units\":\"data\",\"value\":0.001},\"line_alpha\":{\"value\":0.1},\"line_color\":{\"value\":\"#1f77b4\"},\"width\":{\"units\":\"data\",\"value\":0.2},\"x\":{\"field\":\"x\"},\"y\":{\"field\":\"y\"}},\"id\":\"76c95358-1bf6-42e6-bcd7-908341e63f14\",\"type\":\"Rect\"},{\"attributes\":{\"data_source\":{\"id\":\"190cfd42-54e9-4d97-bfc0-a2df39dcce1a\",\"type\":\"ColumnDataSource\"},\"glyph\":{\"id\":\"00f087e3-9234-46ff-9a47-0c90ca43134b\",\"type\":\"Rect\"},\"hover_glyph\":null,\"muted_glyph\":null,\"name\":\"Whiskers\",\"nonselection_glyph\":{\"id\":\"76c95358-1bf6-42e6-bcd7-908341e63f14\",\"type\":\"Rect\"},\"selection_glyph\":null,\"view\":{\"id\":\"9276bab7-356d-4f66-b5f2-665e82162231\",\"type\":\"CDSView\"}},\"id\":\"ab3b2806-bd92-417e-b64e-257d844164d6\",\"type\":\"GlyphRenderer\"},{\"attributes\":{\"source\":{\"id\":\"190cfd42-54e9-4d97-bfc0-a2df39dcce1a\",\"type\":\"ColumnDataSource\"}},\"id\":\"9276bab7-356d-4f66-b5f2-665e82162231\",\"type\":\"CDSView\"},{\"attributes\":{\"callback\":null,\"data\":{\"x\":[\"A5\",\"A5\"],\"y\":[146.64593505859375,152.8528594970703]},\"selected\":{\"id\":\"00fd70f1-94da-440a-bc5b-390069614cb2\",\"type\":\"Selection\"},\"selection_policy\":{\"id\":\"af36bbf0-80df-4a79-96ac-d117ec9b0b5c\",\"type\":\"UnionRenderers\"}},\"id\":\"a41ca264-b5db-4a1e-9ac4-1fd2b1ed364d\",\"type\":\"ColumnDataSource\"},{\"attributes\":{\"axis_label\":\"Diameter Predictions (mm)\",\"formatter\":{\"id\":\"6b678d23-b4ea-47b4-b293-a7ff1fca48e9\",\"type\":\"BasicTickFormatter\"},\"plot\":{\"id\":\"7d81963b-40c2-409a-a8fe-c556cd07658f\",\"subtype\":\"Figure\",\"type\":\"Plot\"},\"ticker\":{\"id\":\"bdec9867-46c1-4aaa-a9d2-dc75f5b42992\",\"type\":\"BasicTicker\"}},\"id\":\"5ae5a784-e3e0-4e89-bf81-e3c0489b0130\",\"type\":\"LinearAxis\"},{\"attributes\":{\"fill_color\":{\"value\":\"#1f77b4\"},\"height\":{\"units\":\"data\",\"value\":0.001},\"line_color\":{\"value\":\"deepskyblue\"},\"width\":{\"units\":\"data\",\"value\":0.2},\"x\":{\"field\":\"x\"},\"y\":{\"field\":\"y\"}},\"id\":\"46b7eb25-be87-40e2-8356-55d049a6028e\",\"type\":\"Rect\"},{\"attributes\":{\"bottom_units\":\"screen\",\"fill_alpha\":{\"value\":0.5},\"fill_color\":{\"value\":\"lightgrey\"},\"left_units\":\"screen\",\"level\":\"overlay\",\"line_alpha\":{\"value\":1.0},\"line_color\":{\"value\":\"black\"},\"line_dash\":[4,4],\"line_width\":{\"value\":2},\"plot\":null,\"render_mode\":\"css\",\"right_units\":\"screen\",\"top_units\":\"screen\"},\"id\":\"bd9fe0b1-1a3f-4bbc-9880-3c92f9f93e9b\",\"type\":\"BoxAnnotation\"},{\"attributes\":{\"fill_alpha\":{\"value\":0.1},\"fill_color\":{\"value\":\"#1f77b4\"},\"height\":{\"units\":\"data\",\"value\":0.001},\"line_alpha\":{\"value\":0.1},\"line_color\":{\"value\":\"#1f77b4\"},\"width\":{\"units\":\"data\",\"value\":0.2},\"x\":{\"field\":\"x\"},\"y\":{\"field\":\"y\"}},\"id\":\"650d5954-d892-4100-a5f8-4d942d83fd73\",\"type\":\"Rect\"},{\"attributes\":{\"data_source\":{\"id\":\"a41ca264-b5db-4a1e-9ac4-1fd2b1ed364d\",\"type\":\"ColumnDataSource\"},\"glyph\":{\"id\":\"46b7eb25-be87-40e2-8356-55d049a6028e\",\"type\":\"Rect\"},\"hover_glyph\":null,\"muted_glyph\":null,\"name\":\"Whiskers\",\"nonselection_glyph\":{\"id\":\"650d5954-d892-4100-a5f8-4d942d83fd73\",\"type\":\"Rect\"},\"selection_glyph\":null,\"view\":{\"id\":\"9b78b8f1-a639-48bd-85c4-1e9b73eb3c85\",\"type\":\"CDSView\"}},\"id\":\"58f040d2-dc78-4970-bf07-ac60ecdb600f\",\"type\":\"GlyphRenderer\"},{\"attributes\":{},\"id\":\"fb8bb561-4401-41e1-b63b-8d46b1c9e6ba\",\"type\":\"CategoricalTicker\"},{\"attributes\":{\"plot\":{\"id\":\"7d81963b-40c2-409a-a8fe-c556cd07658f\",\"subtype\":\"Figure\",\"type\":\"Plot\"},\"ticker\":{\"id\":\"fb8bb561-4401-41e1-b63b-8d46b1c9e6ba\",\"type\":\"CategoricalTicker\"}},\"id\":\"6b0f8807-1ca2-4618-a31d-7dfbc7c5a401\",\"type\":\"Grid\"},{\"attributes\":{\"source\":{\"id\":\"a41ca264-b5db-4a1e-9ac4-1fd2b1ed364d\",\"type\":\"ColumnDataSource\"}},\"id\":\"9b78b8f1-a639-48bd-85c4-1e9b73eb3c85\",\"type\":\"CDSView\"},{\"attributes\":{\"callback\":null,\"data\":{\"x\":[\"A6\",\"A6\"],\"y\":[147.05821228027344,153.478515625]},\"selected\":{\"id\":\"e390a3ab-2460-47bf-a04f-64a186bf6bf4\",\"type\":\"Selection\"},\"selection_policy\":{\"id\":\"72621393-8f39-4b5d-8203-fa2310cc17ae\",\"type\":\"UnionRenderers\"}},\"id\":\"2ab1ded9-8e34-42e1-be09-5d087bffed90\",\"type\":\"ColumnDataSource\"},{\"attributes\":{},\"id\":\"bdec9867-46c1-4aaa-a9d2-dc75f5b42992\",\"type\":\"BasicTicker\"},{\"attributes\":{\"fill_color\":{\"value\":\"#1f77b4\"},\"height\":{\"units\":\"data\",\"value\":0.001},\"line_color\":{\"value\":\"deepskyblue\"},\"width\":{\"units\":\"data\",\"value\":0.2},\"x\":{\"field\":\"x\"},\"y\":{\"field\":\"y\"}},\"id\":\"3998f18c-5acc-45e3-9625-be593af1c24d\",\"type\":\"Rect\"},{\"attributes\":{\"dimension\":1,\"plot\":{\"id\":\"7d81963b-40c2-409a-a8fe-c556cd07658f\",\"subtype\":\"Figure\",\"type\":\"Plot\"},\"ticker\":{\"id\":\"bdec9867-46c1-4aaa-a9d2-dc75f5b42992\",\"type\":\"BasicTicker\"}},\"id\":\"f1c7fabf-4de1-42c9-87d8-df6a50f109a7\",\"type\":\"Grid\"},{\"attributes\":{\"fill_alpha\":{\"value\":0.1},\"fill_color\":{\"value\":\"#1f77b4\"},\"height\":{\"units\":\"data\",\"value\":0.001},\"line_alpha\":{\"value\":0.1},\"line_color\":{\"value\":\"#1f77b4\"},\"width\":{\"units\":\"data\",\"value\":0.2},\"x\":{\"field\":\"x\"},\"y\":{\"field\":\"y\"}},\"id\":\"9e6ca64c-cffc-4886-acf0-282cf5041c35\",\"type\":\"Rect\"},{\"attributes\":{\"data_source\":{\"id\":\"2ab1ded9-8e34-42e1-be09-5d087bffed90\",\"type\":\"ColumnDataSource\"},\"glyph\":{\"id\":\"3998f18c-5acc-45e3-9625-be593af1c24d\",\"type\":\"Rect\"},\"hover_glyph\":null,\"muted_glyph\":null,\"name\":\"Whiskers\",\"nonselection_glyph\":{\"id\":\"9e6ca64c-cffc-4886-acf0-282cf5041c35\",\"type\":\"Rect\"},\"selection_glyph\":null,\"view\":{\"id\":\"8d0740d1-956a-40ae-882d-4adfaf91a55a\",\"type\":\"CDSView\"}},\"id\":\"cb831529-1243-4d24-9833-1208f763138e\",\"type\":\"GlyphRenderer\"},{\"attributes\":{\"callback\":null,\"data\":{\"x\":[\"A1\",\"A2\",\"A3\",\"A4\",\"A5\",\"A6\",\"C1\",\"C2\",\"C3\",\"C4\",\"C5\",\"C6\",\"D1\",\"D2\",\"E1\",\"E2\",\"F1\",\"F2\",\"F3\",\"H1\",\"I1\",\"J1\",\"M1\",\"M2\",\"P1\",\"Q1\",\"Q2\",\"S1\",\"S2\",\"S3\",\"S4\",\"S5\",\"T1\",\"T2\"],\"y\":[147.7510035095215,147.82408934020995,152.32389736938475,151.71386547851563,147.95722723388673,148.84778080749513,148.14743395996095,151.49361070251464,151.12886154174805,148.568497756958,150.31457704162597,152.85678744506836,149.53960081481932,148.1717176361084,147.7981405181885,149.22716041564942,147.36155004882812,147.22509704589845,147.91888717651366,147.4055891265869,149.21772203063964,147.8469543762207,154.02765951538086,153.03716255187987,153.17583160400392,147.98364697265626,148.33501470947266,152.46110702514648,148.1733798828125,149.43469929504394,151.63404008483886,154.05608343505858,148.19926899719238,148.19942529296875]},\"selected\":{\"id\":\"ad366a05-9d67-4c85-b44d-09931b06afb6\",\"type\":\"Selection\"},\"selection_policy\":{\"id\":\"a28faca1-6a34-4837-8dd2-5ebc95dcd414\",\"type\":\"UnionRenderers\"}},\"id\":\"90b652a8-8b30-4263-b6b8-404f72b7c30b\",\"type\":\"ColumnDataSource\"},{\"attributes\":{\"source\":{\"id\":\"2ab1ded9-8e34-42e1-be09-5d087bffed90\",\"type\":\"ColumnDataSource\"}},\"id\":\"8d0740d1-956a-40ae-882d-4adfaf91a55a\",\"type\":\"CDSView\"},{\"attributes\":{\"callback\":null,\"data\":{\"xs\":[[\"A1\",\"A1\"],[\"A2\",\"A2\"],[\"A3\",\"A3\"],[\"A4\",\"A4\"],[\"A5\",\"A5\"],[\"A6\",\"A6\"],[\"C1\",\"C1\"],[\"C2\",\"C2\"],[\"C3\",\"C3\"],[\"C4\",\"C4\"],[\"C5\",\"C5\"],[\"C6\",\"C6\"],[\"D1\",\"D1\"],[\"D2\",\"D2\"],[\"E1\",\"E1\"],[\"E2\",\"E2\"],[\"F1\",\"F1\"],[\"F2\",\"F2\"],[\"F3\",\"F3\"],[\"H1\",\"H1\"],[\"I1\",\"I1\"],[\"J1\",\"J1\"],[\"M1\",\"M1\"],[\"M2\",\"M2\"],[\"P1\",\"P1\"],[\"Q1\",\"Q1\"],[\"Q2\",\"Q2\"],[\"S1\",\"S1\"],[\"S2\",\"S2\"],[\"S3\",\"S3\"],[\"S4\",\"S4\"],[\"S5\",\"S5\"],[\"T1\",\"T1\"],[\"T2\",\"T2\"]],\"ys\":[[146.7043914794922,153.34384155273438],[146.75148010253906,153.53700256347656],[148.52662658691406,154.9805145263672],[148.62384033203125,154.45899963378906],[146.64593505859375,152.8528594970703],[147.05821228027344,153.478515625],[146.739501953125,153.2069091796875],[148.65643310546875,154.1299591064453],[148.5222930908203,153.43756103515625],[146.9248046875,153.61607360839844],[147.5689239501953,153.4003448486328],[148.743896484375,155.74240112304688],[147.69241333007812,153.28895568847656],[146.84117126464844,153.98341369628906],[146.47373962402344,153.23362731933594],[146.9357452392578,154.3544464111328],[146.23757934570312,154.69329833984375],[146.22845458984375,154.05093383789062],[146.80491638183594,152.98350524902344],[146.38604736328125,153.16567993164062],[147.119140625,152.75877380371094],[146.65924072265625,153.82838439941406],[149.5700225830078,156.02435302734375],[149.11758422851562,156.5202178955078],[148.847900390625,155.1416015625],[146.5411376953125,154.79408264160156],[146.59861755371094,152.58303833007812],[148.5593719482422,154.5173797607422],[146.6545867919922,153.3324432373047],[147.08810424804688,153.93548583984375],[149.92359924316406,153.91091918945312],[149.62057495117188,158.1661376953125],[146.29067993164062,153.3626708984375],[146.4927215576172,153.76260375976562]]},\"selected\":{\"id\":\"5fc86bf7-e708-4dcc-be17-78b4a906f4bc\",\"type\":\"Selection\"},\"selection_policy\":{\"id\":\"58f3a347-c085-43be-b5e7-ec66dd3cf558\",\"type\":\"UnionRenderers\"}},\"id\":\"d685fa4f-903b-4949-b611-1f791af85d17\",\"type\":\"ColumnDataSource\"},{\"attributes\":{\"callback\":null,\"data\":{\"x\":[\"C1\",\"C1\"],\"y\":[146.739501953125,153.2069091796875]},\"selected\":{\"id\":\"46205d0e-058b-4a1c-b4a0-f72d22651dda\",\"type\":\"Selection\"},\"selection_policy\":{\"id\":\"05dc6977-b17d-4cdf-be36-07cb284ad633\",\"type\":\"UnionRenderers\"}},\"id\":\"1bb204b0-cb79-4e3c-994a-c87ad08b0d66\",\"type\":\"ColumnDataSource\"},{\"attributes\":{\"callback\":null,\"data\":{\"xs\":[[\"A1\",\"A1\"],[\"A2\",\"A2\"],[\"A3\",\"A3\"],[\"A4\",\"A4\"],[\"A5\",\"A5\"],[\"A6\",\"A6\"],[\"C1\",\"C1\"],[\"C2\",\"C2\"],[\"C3\",\"C3\"],[\"C4\",\"C4\"],[\"C5\",\"C5\"],[\"C6\",\"C6\"],[\"D1\",\"D1\"],[\"D2\",\"D2\"],[\"E1\",\"E1\"],[\"E2\",\"E2\"],[\"F1\",\"F1\"],[\"F2\",\"F2\"],[\"F3\",\"F3\"],[\"H1\",\"H1\"],[\"I1\",\"I1\"],[\"J1\",\"J1\"],[\"M1\",\"M1\"],[\"M2\",\"M2\"],[\"P1\",\"P1\"],[\"Q1\",\"Q1\"],[\"Q2\",\"Q2\"],[\"S1\",\"S1\"],[\"S2\",\"S2\"],[\"S3\",\"S3\"],[\"S4\",\"S4\"],[\"S5\",\"S5\"],[\"T1\",\"T1\"],[\"T2\",\"T2\"]],\"ys\":[[146.63220153640324,148.86980548263975],[146.78102557953636,148.86715310088354],[151.74061383885655,152.90718089991296],[151.03848593062406,152.3892450264072],[146.96967601544966,148.9447784523238],[147.9169341333773,149.77862748161294],[147.1184878217252,149.1763800981967],[150.924427673032,152.0627937319973],[150.5385862555154,151.7191368279807],[147.6257005341043,149.5112949798117],[149.56171847406802,151.06743560918392],[152.15213711301448,153.56143777712225],[148.750134622366,150.32906700727264],[147.15065847416105,149.19277679805577],[146.62361373279393,148.97266730358305],[148.3913661951382,150.06295463616064],[145.8652660384237,148.85783405923254],[145.70604651368123,148.74414757811567],[146.91891089449732,148.91886345853],[146.23640091202302,148.5747773411508],[148.44912121184797,149.9863228494313],[146.70978941798862,148.9841193344528],[153.33731342724974,154.71800560351198],[152.2305591417924,153.84376596196734],[152.54713333854022,153.80452986946761],[146.58130643458065,149.38598751073187],[147.4061136684696,149.26391575047572],[151.84207466919537,153.08013938109758],[147.11353868833987,149.23322107728512],[148.6404166873839,150.228981902704],[151.03131524964593,152.2367649200318],[153.2951647865636,154.81700208355358],[146.9932387175409,149.40529927684386],[147.1657491183488,149.2331014675887]]},\"selected\":{\"id\":\"42a3740f-7aac-4045-9c6e-1448a78f0ce7\",\"type\":\"Selection\"},\"selection_policy\":{\"id\":\"750d70df-3370-46fe-8c42-15eb84d21734\",\"type\":\"UnionRenderers\"}},\"id\":\"10dc0de2-58df-44c3-9181-f239dc380904\",\"type\":\"ColumnDataSource\"},{\"attributes\":{\"fill_color\":{\"value\":\"#1f77b4\"},\"height\":{\"units\":\"data\",\"value\":0.001},\"line_color\":{\"value\":\"deepskyblue\"},\"width\":{\"units\":\"data\",\"value\":0.2},\"x\":{\"field\":\"x\"},\"y\":{\"field\":\"y\"}},\"id\":\"cbe02774-52af-4283-b42b-e6f787c58511\",\"type\":\"Rect\"},{\"attributes\":{\"fill_alpha\":{\"value\":0.1},\"fill_color\":{\"value\":\"#1f77b4\"},\"height\":{\"units\":\"data\",\"value\":0.001},\"line_alpha\":{\"value\":0.1},\"line_color\":{\"value\":\"#1f77b4\"},\"width\":{\"units\":\"data\",\"value\":0.2},\"x\":{\"field\":\"x\"},\"y\":{\"field\":\"y\"}},\"id\":\"e0cf2bc9-7139-4802-a6d0-21a71b5b775d\",\"type\":\"Rect\"},{\"attributes\":{\"data_source\":{\"id\":\"1bb204b0-cb79-4e3c-994a-c87ad08b0d66\",\"type\":\"ColumnDataSource\"},\"glyph\":{\"id\":\"cbe02774-52af-4283-b42b-e6f787c58511\",\"type\":\"Rect\"},\"hover_glyph\":null,\"muted_glyph\":null,\"name\":\"Whiskers\",\"nonselection_glyph\":{\"id\":\"e0cf2bc9-7139-4802-a6d0-21a71b5b775d\",\"type\":\"Rect\"},\"selection_glyph\":null,\"view\":{\"id\":\"2c2a2c20-d782-4e0a-9367-848a33818b46\",\"type\":\"CDSView\"}},\"id\":\"05514ca4-24c5-444c-9b34-8143fd7c8156\",\"type\":\"GlyphRenderer\"},{\"attributes\":{\"callback\":null,\"names\":[\"LinePlot\"],\"renderers\":\"auto\",\"tooltips\":[[\"Dia\",\"$y mm\"]]},\"id\":\"04d71962-2e41-40fb-900d-ed19e87b9ae4\",\"type\":\"HoverTool\"},{\"attributes\":{\"source\":{\"id\":\"1bb204b0-cb79-4e3c-994a-c87ad08b0d66\",\"type\":\"ColumnDataSource\"}},\"id\":\"2c2a2c20-d782-4e0a-9367-848a33818b46\",\"type\":\"CDSView\"},{\"attributes\":{},\"id\":\"144be86d-0909-4ed6-958e-05302580f9f3\",\"type\":\"PanTool\"},{\"attributes\":{\"callback\":null,\"data\":{\"x\":[\"C2\",\"C2\"],\"y\":[148.65643310546875,154.1299591064453]},\"selected\":{\"id\":\"4434bf57-36a2-4e5e-9603-99a5127cba46\",\"type\":\"Selection\"},\"selection_policy\":{\"id\":\"03d35f81-eb6c-47f9-94ad-f520434f478d\",\"type\":\"UnionRenderers\"}},\"id\":\"095bd2dc-ba6d-47f6-82c8-4f2b0cdf77fe\",\"type\":\"ColumnDataSource\"},{\"attributes\":{\"fill_color\":{\"value\":\"#1f77b4\"},\"height\":{\"units\":\"data\",\"value\":0.001},\"line_color\":{\"value\":\"deepskyblue\"},\"width\":{\"units\":\"data\",\"value\":0.2},\"x\":{\"field\":\"x\"},\"y\":{\"field\":\"y\"}},\"id\":\"68861164-e734-4408-83ba-44ecf7563347\",\"type\":\"Rect\"},{\"attributes\":{},\"id\":\"a32df3b5-f367-4996-a379-75d74e1d0d83\",\"type\":\"WheelZoomTool\"},{\"attributes\":{\"fill_alpha\":{\"value\":0.1},\"fill_color\":{\"value\":\"#1f77b4\"},\"height\":{\"units\":\"data\",\"value\":0.001},\"line_alpha\":{\"value\":0.1},\"line_color\":{\"value\":\"#1f77b4\"},\"width\":{\"units\":\"data\",\"value\":0.2},\"x\":{\"field\":\"x\"},\"y\":{\"field\":\"y\"}},\"id\":\"c43d7c5d-47d8-4c51-97c7-e1688323ccc4\",\"type\":\"Rect\"},{\"attributes\":{\"overlay\":{\"id\":\"bd9fe0b1-1a3f-4bbc-9880-3c92f9f93e9b\",\"type\":\"BoxAnnotation\"}},\"id\":\"f0530936-f9f2-46fb-b98a-b0a1efd1b3ae\",\"type\":\"BoxZoomTool\"},{\"attributes\":{\"data_source\":{\"id\":\"095bd2dc-ba6d-47f6-82c8-4f2b0cdf77fe\",\"type\":\"ColumnDataSource\"},\"glyph\":{\"id\":\"68861164-e734-4408-83ba-44ecf7563347\",\"type\":\"Rect\"},\"hover_glyph\":null,\"muted_glyph\":null,\"name\":\"Whiskers\",\"nonselection_glyph\":{\"id\":\"c43d7c5d-47d8-4c51-97c7-e1688323ccc4\",\"type\":\"Rect\"},\"selection_glyph\":null,\"view\":{\"id\":\"9d1c51b3-870d-4395-9c66-d70816124f97\",\"type\":\"CDSView\"}},\"id\":\"3341225d-47a2-4d53-a4c7-6908bdee31fc\",\"type\":\"GlyphRenderer\"},{\"attributes\":{},\"id\":\"6f863c28-fd83-412c-8575-e44416939b16\",\"type\":\"SaveTool\"},{\"attributes\":{\"source\":{\"id\":\"095bd2dc-ba6d-47f6-82c8-4f2b0cdf77fe\",\"type\":\"ColumnDataSource\"}},\"id\":\"9d1c51b3-870d-4395-9c66-d70816124f97\",\"type\":\"CDSView\"},{\"attributes\":{},\"id\":\"d32b5819-ea3c-4020-8592-341407c735f0\",\"type\":\"ResetTool\"},{\"attributes\":{\"callback\":null,\"data\":{\"x\":[\"C3\",\"C3\"],\"y\":[148.5222930908203,153.43756103515625]},\"selected\":{\"id\":\"3f4fa47b-66a9-4956-ac10-7c935673de88\",\"type\":\"Selection\"},\"selection_policy\":{\"id\":\"2361987a-f883-4f88-935a-5bb445cb6f1c\",\"type\":\"UnionRenderers\"}},\"id\":\"bed90394-5185-4849-9c26-5b2de336aabb\",\"type\":\"ColumnDataSource\"},{\"attributes\":{},\"id\":\"9f40997c-fc48-4c11-8663-1e7be378fa48\",\"type\":\"HelpTool\"},{\"attributes\":{\"fill_color\":{\"value\":\"#1f77b4\"},\"height\":{\"units\":\"data\",\"value\":0.001},\"line_color\":{\"value\":\"deepskyblue\"},\"width\":{\"units\":\"data\",\"value\":0.2},\"x\":{\"field\":\"x\"},\"y\":{\"field\":\"y\"}},\"id\":\"a4f92e81-620a-4e74-9c69-1101b856f9e7\",\"type\":\"Rect\"},{\"attributes\":{\"fill_alpha\":{\"value\":0.1},\"fill_color\":{\"value\":\"#1f77b4\"},\"height\":{\"units\":\"data\",\"value\":0.001},\"line_alpha\":{\"value\":0.1},\"line_color\":{\"value\":\"#1f77b4\"},\"width\":{\"units\":\"data\",\"value\":0.2},\"x\":{\"field\":\"x\"},\"y\":{\"field\":\"y\"}},\"id\":\"1f23e5e7-aeb0-4b9a-a444-89d98b82a57c\",\"type\":\"Rect\"},{\"attributes\":{\"data_source\":{\"id\":\"bed90394-5185-4849-9c26-5b2de336aabb\",\"type\":\"ColumnDataSource\"},\"glyph\":{\"id\":\"a4f92e81-620a-4e74-9c69-1101b856f9e7\",\"type\":\"Rect\"},\"hover_glyph\":null,\"muted_glyph\":null,\"name\":\"Whiskers\",\"nonselection_glyph\":{\"id\":\"1f23e5e7-aeb0-4b9a-a444-89d98b82a57c\",\"type\":\"Rect\"},\"selection_glyph\":null,\"view\":{\"id\":\"9a93759a-441f-4777-83ae-7ee6a3904b31\",\"type\":\"CDSView\"}},\"id\":\"5af2c779-7d9b-47da-9107-ee1542237be5\",\"type\":\"GlyphRenderer\"},{\"attributes\":{\"source\":{\"id\":\"bed90394-5185-4849-9c26-5b2de336aabb\",\"type\":\"ColumnDataSource\"}},\"id\":\"9a93759a-441f-4777-83ae-7ee6a3904b31\",\"type\":\"CDSView\"},{\"attributes\":{\"callback\":null,\"data\":{\"x\":[\"C4\",\"C4\"],\"y\":[146.9248046875,153.61607360839844]},\"selected\":{\"id\":\"aab91e64-0ff8-4241-b4a2-9f97842f83cf\",\"type\":\"Selection\"},\"selection_policy\":{\"id\":\"c6837cd1-6d74-400f-bd84-d4015ecea55e\",\"type\":\"UnionRenderers\"}},\"id\":\"d682a41b-6e71-4487-ad6e-177705641a7f\",\"type\":\"ColumnDataSource\"},{\"attributes\":{\"fill_color\":{\"value\":\"#1f77b4\"},\"height\":{\"units\":\"data\",\"value\":0.001},\"line_color\":{\"value\":\"deepskyblue\"},\"width\":{\"units\":\"data\",\"value\":0.2},\"x\":{\"field\":\"x\"},\"y\":{\"field\":\"y\"}},\"id\":\"e5998e59-bd8d-4e7e-a847-837a4abf1375\",\"type\":\"Rect\"},{\"attributes\":{\"fill_alpha\":{\"value\":0.1},\"fill_color\":{\"value\":\"#1f77b4\"},\"height\":{\"units\":\"data\",\"value\":0.001},\"line_alpha\":{\"value\":0.1},\"line_color\":{\"value\":\"#1f77b4\"},\"width\":{\"units\":\"data\",\"value\":0.2},\"x\":{\"field\":\"x\"},\"y\":{\"field\":\"y\"}},\"id\":\"85472ba2-4812-44c0-8299-cf949a562704\",\"type\":\"Rect\"},{\"attributes\":{\"data_source\":{\"id\":\"d682a41b-6e71-4487-ad6e-177705641a7f\",\"type\":\"ColumnDataSource\"},\"glyph\":{\"id\":\"e5998e59-bd8d-4e7e-a847-837a4abf1375\",\"type\":\"Rect\"},\"hover_glyph\":null,\"muted_glyph\":null,\"name\":\"Whiskers\",\"nonselection_glyph\":{\"id\":\"85472ba2-4812-44c0-8299-cf949a562704\",\"type\":\"Rect\"},\"selection_glyph\":null,\"view\":{\"id\":\"38cd08ce-b2ff-4238-b825-885e71dae10b\",\"type\":\"CDSView\"}},\"id\":\"81085472-9a21-4dab-8fe5-97190086f88c\",\"type\":\"GlyphRenderer\"},{\"attributes\":{\"callback\":null,\"data\":{\"x\":[\"A1\",\"A2\",\"A3\",\"A4\",\"A5\",\"A6\",\"C1\",\"C2\",\"C3\",\"C4\",\"C5\",\"C6\",\"D1\",\"D2\",\"E1\",\"E2\",\"F1\",\"F2\",\"F3\",\"H1\",\"I1\",\"J1\",\"M1\",\"M2\",\"P1\",\"Q1\",\"Q2\",\"S1\",\"S2\",\"S3\",\"S4\",\"S5\",\"T1\",\"T2\"],\"y\":[148,149,152,154,148,148,148,153,152,150,152,154,151,148,148,148,146,146,148,148,152,148,154,154,154,148,148,155,148,150,150,160,148,148]},\"selected\":{\"id\":\"9f5d4b46-1a25-41f1-bd59-321c9f3f65b4\",\"type\":\"Selection\"},\"selection_policy\":{\"id\":\"052b035a-d6b4-4958-b694-33841f6b2c11\",\"type\":\"UnionRenderers\"}},\"id\":\"43b1cb5b-efec-4328-94ca-98be22b65657\",\"type\":\"ColumnDataSource\"},{\"attributes\":{\"line_color\":{\"value\":\"deepskyblue\"},\"xs\":{\"field\":\"xs\"},\"ys\":{\"field\":\"ys\"}},\"id\":\"448f6c29-bf01-4078-bf8c-cb1f0e9d4e49\",\"type\":\"MultiLine\"},{\"attributes\":{\"source\":{\"id\":\"d682a41b-6e71-4487-ad6e-177705641a7f\",\"type\":\"ColumnDataSource\"}},\"id\":\"38cd08ce-b2ff-4238-b825-885e71dae10b\",\"type\":\"CDSView\"},{\"attributes\":{\"line_alpha\":{\"value\":0.1},\"line_color\":{\"value\":\"#1f77b4\"},\"xs\":{\"field\":\"xs\"},\"ys\":{\"field\":\"ys\"}},\"id\":\"68d7978c-c3c3-4030-8998-f1b758fc6253\",\"type\":\"MultiLine\"},{\"attributes\":{\"callback\":null,\"data\":{\"x\":[\"C5\",\"C5\"],\"y\":[147.5689239501953,153.4003448486328]},\"selected\":{\"id\":\"ba738e5d-8773-4560-baa4-584daab66495\",\"type\":\"Selection\"},\"selection_policy\":{\"id\":\"85aac2fa-9cf8-47f8-86ce-b6e0b6b7fced\",\"type\":\"UnionRenderers\"}},\"id\":\"7443cd13-f947-4a1d-b0ee-c4c4ff2519ca\",\"type\":\"ColumnDataSource\"},{\"attributes\":{\"data_source\":{\"id\":\"d685fa4f-903b-4949-b611-1f791af85d17\",\"type\":\"ColumnDataSource\"},\"glyph\":{\"id\":\"448f6c29-bf01-4078-bf8c-cb1f0e9d4e49\",\"type\":\"MultiLine\"},\"hover_glyph\":null,\"muted_glyph\":null,\"name\":\"LinePlot\",\"nonselection_glyph\":{\"id\":\"68d7978c-c3c3-4030-8998-f1b758fc6253\",\"type\":\"MultiLine\"},\"selection_glyph\":null,\"view\":{\"id\":\"0a94cc0a-9d15-4924-a3ba-7db35b9ad154\",\"type\":\"CDSView\"}},\"id\":\"9082b366-d2a3-4912-9285-75bdc8417249\",\"type\":\"GlyphRenderer\"},{\"attributes\":{\"fill_color\":{\"value\":\"#1f77b4\"},\"height\":{\"units\":\"data\",\"value\":0.001},\"line_color\":{\"value\":\"deepskyblue\"},\"width\":{\"units\":\"data\",\"value\":0.2},\"x\":{\"field\":\"x\"},\"y\":{\"field\":\"y\"}},\"id\":\"8d34fb85-4588-4a48-898b-00e5758e3b64\",\"type\":\"Rect\"},{\"attributes\":{\"source\":{\"id\":\"d685fa4f-903b-4949-b611-1f791af85d17\",\"type\":\"ColumnDataSource\"}},\"id\":\"0a94cc0a-9d15-4924-a3ba-7db35b9ad154\",\"type\":\"CDSView\"},{\"attributes\":{\"fill_alpha\":{\"value\":0.1},\"fill_color\":{\"value\":\"#1f77b4\"},\"height\":{\"units\":\"data\",\"value\":0.001},\"line_alpha\":{\"value\":0.1},\"line_color\":{\"value\":\"#1f77b4\"},\"width\":{\"units\":\"data\",\"value\":0.2},\"x\":{\"field\":\"x\"},\"y\":{\"field\":\"y\"}},\"id\":\"89526d17-92e5-43fd-a1a9-a48482ee75e0\",\"type\":\"Rect\"},{\"attributes\":{\"data_source\":{\"id\":\"7443cd13-f947-4a1d-b0ee-c4c4ff2519ca\",\"type\":\"ColumnDataSource\"},\"glyph\":{\"id\":\"8d34fb85-4588-4a48-898b-00e5758e3b64\",\"type\":\"Rect\"},\"hover_glyph\":null,\"muted_glyph\":null,\"name\":\"Whiskers\",\"nonselection_glyph\":{\"id\":\"89526d17-92e5-43fd-a1a9-a48482ee75e0\",\"type\":\"Rect\"},\"selection_glyph\":null,\"view\":{\"id\":\"2b75653b-7ee1-481a-8248-59894c9678cb\",\"type\":\"CDSView\"}},\"id\":\"24e10dd6-7fc9-487b-a0a4-11c5b8e24831\",\"type\":\"GlyphRenderer\"},{\"attributes\":{},\"id\":\"42a3740f-7aac-4045-9c6e-1448a78f0ce7\",\"type\":\"Selection\"},{\"attributes\":{\"source\":{\"id\":\"7443cd13-f947-4a1d-b0ee-c4c4ff2519ca\",\"type\":\"ColumnDataSource\"}},\"id\":\"2b75653b-7ee1-481a-8248-59894c9678cb\",\"type\":\"CDSView\"},{\"attributes\":{},\"id\":\"750d70df-3370-46fe-8c42-15eb84d21734\",\"type\":\"UnionRenderers\"},{\"attributes\":{\"label\":{\"value\":\"Mean Prediction +/- Min & Max Value\"},\"renderers\":[{\"id\":\"9082b366-d2a3-4912-9285-75bdc8417249\",\"type\":\"GlyphRenderer\"}]},\"id\":\"c856d978-4456-4252-b286-96df2ef74f03\",\"type\":\"LegendItem\"},{\"attributes\":{\"callback\":null,\"data\":{\"x\":[\"C6\",\"C6\"],\"y\":[148.743896484375,155.74240112304688]},\"selected\":{\"id\":\"c91e99ce-9b31-492e-850c-b7ff3db511d6\",\"type\":\"Selection\"},\"selection_policy\":{\"id\":\"e947e1f0-13fe-4ff7-a8df-630b8872e745\",\"type\":\"UnionRenderers\"}},\"id\":\"f1cb07b2-cdbb-408f-8df8-1a9e91e4646a\",\"type\":\"ColumnDataSource\"},{\"attributes\":{\"fill_color\":{\"value\":\"#1f77b4\"},\"height\":{\"units\":\"data\",\"value\":0.001},\"line_color\":{\"value\":\"deepskyblue\"},\"width\":{\"units\":\"data\",\"value\":0.2},\"x\":{\"field\":\"x\"},\"y\":{\"field\":\"y\"}},\"id\":\"5c8e2065-ec30-4752-9342-bd8dd8366d4b\",\"type\":\"Rect\"},{\"attributes\":{},\"id\":\"3f6a514a-bc7f-432c-a56b-012cf655ca39\",\"type\":\"Selection\"},{\"attributes\":{\"callback\":null,\"data\":{\"x\":[\"A1\",\"A1\"],\"y\":[146.7043914794922,153.34384155273438]},\"selected\":{\"id\":\"ad246fc2-9436-4318-ba66-0a52ad51ae23\",\"type\":\"Selection\"},\"selection_policy\":{\"id\":\"4424de9c-2b74-480e-b2d0-5f7e132e7928\",\"type\":\"UnionRenderers\"}},\"id\":\"fce75f4e-2ec3-49a7-8e50-e811582144d4\",\"type\":\"ColumnDataSource\"},{\"attributes\":{\"fill_alpha\":{\"value\":0.1},\"fill_color\":{\"value\":\"#1f77b4\"},\"height\":{\"units\":\"data\",\"value\":0.001},\"line_alpha\":{\"value\":0.1},\"line_color\":{\"value\":\"#1f77b4\"},\"width\":{\"units\":\"data\",\"value\":0.2},\"x\":{\"field\":\"x\"},\"y\":{\"field\":\"y\"}},\"id\":\"1714ba17-04d2-4a1a-81a2-62c885a9f92b\",\"type\":\"Rect\"},{\"attributes\":{\"data_source\":{\"id\":\"f1cb07b2-cdbb-408f-8df8-1a9e91e4646a\",\"type\":\"ColumnDataSource\"},\"glyph\":{\"id\":\"5c8e2065-ec30-4752-9342-bd8dd8366d4b\",\"type\":\"Rect\"},\"hover_glyph\":null,\"muted_glyph\":null,\"name\":\"Whiskers\",\"nonselection_glyph\":{\"id\":\"1714ba17-04d2-4a1a-81a2-62c885a9f92b\",\"type\":\"Rect\"},\"selection_glyph\":null,\"view\":{\"id\":\"7482d8d8-e9bf-42ce-8c23-68b66b4ef493\",\"type\":\"CDSView\"}},\"id\":\"98aa7642-273f-4511-974a-32b8589dd224\",\"type\":\"GlyphRenderer\"},{\"attributes\":{\"fill_alpha\":{\"value\":0.1},\"fill_color\":{\"value\":\"#1f77b4\"},\"line_alpha\":{\"value\":0.1},\"line_color\":{\"value\":\"#1f77b4\"},\"size\":{\"units\":\"screen\",\"value\":12},\"x\":{\"field\":\"x\"},\"y\":{\"field\":\"y\"}},\"id\":\"281b15c5-87a4-4ef0-a3f5-64d030b75469\",\"type\":\"Diamond\"},{\"attributes\":{\"data_source\":{\"id\":\"43b1cb5b-efec-4328-94ca-98be22b65657\",\"type\":\"ColumnDataSource\"},\"glyph\":{\"id\":\"aac5643e-880f-46a1-8d5e-efe6016c1658\",\"type\":\"Diamond\"},\"hover_glyph\":null,\"muted_glyph\":null,\"name\":\"DiaPoints\",\"nonselection_glyph\":{\"id\":\"281b15c5-87a4-4ef0-a3f5-64d030b75469\",\"type\":\"Diamond\"},\"selection_glyph\":null,\"view\":{\"id\":\"1e88eeea-a738-4984-9b5d-a53c0b775a51\",\"type\":\"CDSView\"}},\"id\":\"e0104001-7058-4953-9ae4-c3c0d82cd0b3\",\"type\":\"GlyphRenderer\"},{\"attributes\":{\"source\":{\"id\":\"f1cb07b2-cdbb-408f-8df8-1a9e91e4646a\",\"type\":\"ColumnDataSource\"}},\"id\":\"7482d8d8-e9bf-42ce-8c23-68b66b4ef493\",\"type\":\"CDSView\"},{\"attributes\":{\"source\":{\"id\":\"43b1cb5b-efec-4328-94ca-98be22b65657\",\"type\":\"ColumnDataSource\"}},\"id\":\"1e88eeea-a738-4984-9b5d-a53c0b775a51\",\"type\":\"CDSView\"},{\"attributes\":{\"callback\":null,\"data\":{\"x\":[\"D1\",\"D1\"],\"y\":[147.69241333007812,153.28895568847656]},\"selected\":{\"id\":\"558f5593-c226-45d8-9fa2-e9a0d457332a\",\"type\":\"Selection\"},\"selection_policy\":{\"id\":\"59f82f37-b3b2-4a03-bacc-4b8318f061a1\",\"type\":\"UnionRenderers\"}},\"id\":\"b5f5ff5c-143e-449c-b562-7cf2d2b0aa6d\",\"type\":\"ColumnDataSource\"},{\"attributes\":{\"fill_color\":{\"value\":\"#1f77b4\"},\"height\":{\"units\":\"data\",\"value\":0.001},\"line_color\":{\"value\":\"deepskyblue\"},\"width\":{\"units\":\"data\",\"value\":0.2},\"x\":{\"field\":\"x\"},\"y\":{\"field\":\"y\"}},\"id\":\"96d18be5-787f-42a9-9e96-896717f540ef\",\"type\":\"Rect\"},{\"attributes\":{},\"id\":\"5fc86bf7-e708-4dcc-be17-78b4a906f4bc\",\"type\":\"Selection\"},{\"attributes\":{\"fill_alpha\":{\"value\":0.1},\"fill_color\":{\"value\":\"#1f77b4\"},\"height\":{\"units\":\"data\",\"value\":0.001},\"line_alpha\":{\"value\":0.1},\"line_color\":{\"value\":\"#1f77b4\"},\"width\":{\"units\":\"data\",\"value\":0.2},\"x\":{\"field\":\"x\"},\"y\":{\"field\":\"y\"}},\"id\":\"fb55522f-b641-4f82-a5ec-45e5d249dd10\",\"type\":\"Rect\"},{\"attributes\":{},\"id\":\"58f3a347-c085-43be-b5e7-ec66dd3cf558\",\"type\":\"UnionRenderers\"},{\"attributes\":{\"data_source\":{\"id\":\"b5f5ff5c-143e-449c-b562-7cf2d2b0aa6d\",\"type\":\"ColumnDataSource\"},\"glyph\":{\"id\":\"96d18be5-787f-42a9-9e96-896717f540ef\",\"type\":\"Rect\"},\"hover_glyph\":null,\"muted_glyph\":null,\"name\":\"Whiskers\",\"nonselection_glyph\":{\"id\":\"fb55522f-b641-4f82-a5ec-45e5d249dd10\",\"type\":\"Rect\"},\"selection_glyph\":null,\"view\":{\"id\":\"47b450b7-5628-41a3-a376-4e57dcbbf14b\",\"type\":\"CDSView\"}},\"id\":\"389b2db8-c24a-47f3-903f-15ffa0ceb7d7\",\"type\":\"GlyphRenderer\"},{\"attributes\":{\"label\":{\"value\":\"True Dia\"},\"renderers\":[{\"id\":\"e0104001-7058-4953-9ae4-c3c0d82cd0b3\",\"type\":\"GlyphRenderer\"}]},\"id\":\"83c91ad4-827d-431a-929c-aa68803a53e5\",\"type\":\"LegendItem\"},{\"attributes\":{\"callback\":null,\"end\":175,\"start\":135},\"id\":\"26a4fa38-5d3d-4f86-bf8e-5f3a2cd988fb\",\"type\":\"Range1d\"},{\"attributes\":{\"source\":{\"id\":\"b5f5ff5c-143e-449c-b562-7cf2d2b0aa6d\",\"type\":\"ColumnDataSource\"}},\"id\":\"47b450b7-5628-41a3-a376-4e57dcbbf14b\",\"type\":\"CDSView\"},{\"attributes\":{\"fill_color\":{\"value\":\"blue\"},\"line_alpha\":{\"value\":0},\"line_color\":{\"value\":\"blue\"},\"size\":{\"units\":\"screen\",\"value\":9},\"x\":{\"field\":\"x\"},\"y\":{\"field\":\"y\"}},\"id\":\"fcbfbfef-593e-4d58-aaea-b844b0143dc2\",\"type\":\"Circle\"},{\"attributes\":{\"callback\":null,\"data\":{\"x\":[\"D2\",\"D2\"],\"y\":[146.84117126464844,153.98341369628906]},\"selected\":{\"id\":\"c245ad21-460c-4468-bc9f-94134e50a9ed\",\"type\":\"Selection\"},\"selection_policy\":{\"id\":\"1ffb9f17-12d6-4e9a-90fe-6606633964d1\",\"type\":\"UnionRenderers\"}},\"id\":\"af4b1735-bb5b-4aec-a99b-8ebd4652226f\",\"type\":\"ColumnDataSource\"},{\"attributes\":{\"fill_alpha\":{\"value\":0.1},\"fill_color\":{\"value\":\"#1f77b4\"},\"line_alpha\":{\"value\":0.1},\"line_color\":{\"value\":\"#1f77b4\"},\"size\":{\"units\":\"screen\",\"value\":9},\"x\":{\"field\":\"x\"},\"y\":{\"field\":\"y\"}},\"id\":\"4ed073a7-97e5-4f95-a625-9849539576b8\",\"type\":\"Circle\"},{\"attributes\":{\"fill_color\":{\"value\":\"#1f77b4\"},\"height\":{\"units\":\"data\",\"value\":0.001},\"line_color\":{\"value\":\"deepskyblue\"},\"width\":{\"units\":\"data\",\"value\":0.2},\"x\":{\"field\":\"x\"},\"y\":{\"field\":\"y\"}},\"id\":\"ea793211-5ce8-4025-9335-07e61ed08c29\",\"type\":\"Rect\"},{\"attributes\":{\"data_source\":{\"id\":\"90b652a8-8b30-4263-b6b8-404f72b7c30b\",\"type\":\"ColumnDataSource\"},\"glyph\":{\"id\":\"fcbfbfef-593e-4d58-aaea-b844b0143dc2\",\"type\":\"Circle\"},\"hover_glyph\":null,\"muted_glyph\":null,\"name\":\"DiaPoints\",\"nonselection_glyph\":{\"id\":\"4ed073a7-97e5-4f95-a625-9849539576b8\",\"type\":\"Circle\"},\"selection_glyph\":null,\"view\":{\"id\":\"ed0fd667-a514-4055-9c10-7c015961854b\",\"type\":\"CDSView\"}},\"id\":\"90b12394-9fa7-4be1-ad9b-7a9f259bdcea\",\"type\":\"GlyphRenderer\"},{\"attributes\":{\"fill_alpha\":{\"value\":0.1},\"fill_color\":{\"value\":\"#1f77b4\"},\"height\":{\"units\":\"data\",\"value\":0.001},\"line_alpha\":{\"value\":0.1},\"line_color\":{\"value\":\"#1f77b4\"},\"width\":{\"units\":\"data\",\"value\":0.2},\"x\":{\"field\":\"x\"},\"y\":{\"field\":\"y\"}},\"id\":\"130f5b87-5ed9-478c-bfb3-184b48d3accd\",\"type\":\"Rect\"},{\"attributes\":{\"data_source\":{\"id\":\"af4b1735-bb5b-4aec-a99b-8ebd4652226f\",\"type\":\"ColumnDataSource\"},\"glyph\":{\"id\":\"ea793211-5ce8-4025-9335-07e61ed08c29\",\"type\":\"Rect\"},\"hover_glyph\":null,\"muted_glyph\":null,\"name\":\"Whiskers\",\"nonselection_glyph\":{\"id\":\"130f5b87-5ed9-478c-bfb3-184b48d3accd\",\"type\":\"Rect\"},\"selection_glyph\":null,\"view\":{\"id\":\"63b04c9b-5548-4a60-adc6-a769604367ba\",\"type\":\"CDSView\"}},\"id\":\"f02d3c7a-8fc6-4e03-9cea-596cf331ae56\",\"type\":\"GlyphRenderer\"},{\"attributes\":{\"source\":{\"id\":\"90b652a8-8b30-4263-b6b8-404f72b7c30b\",\"type\":\"ColumnDataSource\"}},\"id\":\"ed0fd667-a514-4055-9c10-7c015961854b\",\"type\":\"CDSView\"},{\"attributes\":{\"source\":{\"id\":\"af4b1735-bb5b-4aec-a99b-8ebd4652226f\",\"type\":\"ColumnDataSource\"}},\"id\":\"63b04c9b-5548-4a60-adc6-a769604367ba\",\"type\":\"CDSView\"},{\"attributes\":{},\"id\":\"9f5d4b46-1a25-41f1-bd59-321c9f3f65b4\",\"type\":\"Selection\"},{\"attributes\":{},\"id\":\"63c0f74d-277b-4598-a89f-4aee2da7e797\",\"type\":\"Selection\"},{\"attributes\":{\"callback\":null,\"data\":{\"x\":[\"E1\",\"E1\"],\"y\":[146.47373962402344,153.23362731933594]},\"selected\":{\"id\":\"a383df5d-8a23-430a-aa2a-f0093a50fcdd\",\"type\":\"Selection\"},\"selection_policy\":{\"id\":\"448255c6-8dec-4b1e-a33b-719bb4ae4dad\",\"type\":\"UnionRenderers\"}},\"id\":\"924e48a9-df99-44c4-9c19-f4ff874de8f5\",\"type\":\"ColumnDataSource\"},{\"attributes\":{},\"id\":\"052b035a-d6b4-4958-b694-33841f6b2c11\",\"type\":\"UnionRenderers\"},{\"attributes\":{\"label\":{\"value\":\"Predicted Dia (Mean)\"},\"renderers\":[{\"id\":\"90b12394-9fa7-4be1-ad9b-7a9f259bdcea\",\"type\":\"GlyphRenderer\"}]},\"id\":\"b93c171c-b258-4865-a50c-0639d72cc51d\",\"type\":\"LegendItem\"},{\"attributes\":{\"fill_color\":{\"value\":\"#1f77b4\"},\"height\":{\"units\":\"data\",\"value\":0.001},\"line_color\":{\"value\":\"deepskyblue\"},\"width\":{\"units\":\"data\",\"value\":0.2},\"x\":{\"field\":\"x\"},\"y\":{\"field\":\"y\"}},\"id\":\"a659896c-ce18-4621-bdb0-e3f6a8bd9dcd\",\"type\":\"Rect\"},{\"attributes\":{\"source\":{\"id\":\"fce75f4e-2ec3-49a7-8e50-e811582144d4\",\"type\":\"ColumnDataSource\"}},\"id\":\"dbe7a684-91e6-4634-a76b-2bc20c50658a\",\"type\":\"CDSView\"},{\"attributes\":{\"fill_alpha\":{\"value\":0.1},\"fill_color\":{\"value\":\"#1f77b4\"},\"height\":{\"units\":\"data\",\"value\":0.001},\"line_alpha\":{\"value\":0.1},\"line_color\":{\"value\":\"#1f77b4\"},\"width\":{\"units\":\"data\",\"value\":0.2},\"x\":{\"field\":\"x\"},\"y\":{\"field\":\"y\"}},\"id\":\"614f2015-fdd9-4c69-83c2-78bcd7882b77\",\"type\":\"Rect\"},{\"attributes\":{\"data_source\":{\"id\":\"924e48a9-df99-44c4-9c19-f4ff874de8f5\",\"type\":\"ColumnDataSource\"},\"glyph\":{\"id\":\"a659896c-ce18-4621-bdb0-e3f6a8bd9dcd\",\"type\":\"Rect\"},\"hover_glyph\":null,\"muted_glyph\":null,\"name\":\"Whiskers\",\"nonselection_glyph\":{\"id\":\"614f2015-fdd9-4c69-83c2-78bcd7882b77\",\"type\":\"Rect\"},\"selection_glyph\":null,\"view\":{\"id\":\"cded7036-da61-4c74-87ea-37bb84f8ca2c\",\"type\":\"CDSView\"}},\"id\":\"b3f1e87b-71d7-49a3-9313-9f99e59526af\",\"type\":\"GlyphRenderer\"},{\"attributes\":{\"fill_color\":{\"value\":\"#1f77b4\"},\"height\":{\"units\":\"data\",\"value\":0.001},\"line_color\":{\"value\":\"deepskyblue\"},\"width\":{\"units\":\"data\",\"value\":0.2},\"x\":{\"field\":\"x\"},\"y\":{\"field\":\"y\"}},\"id\":\"8a36820c-2f80-44c5-a053-c8f900e39e15\",\"type\":\"Rect\"},{\"attributes\":{\"fill_alpha\":{\"value\":0.1},\"fill_color\":{\"value\":\"#1f77b4\"},\"height\":{\"units\":\"data\",\"value\":0.001},\"line_alpha\":{\"value\":0.1},\"line_color\":{\"value\":\"#1f77b4\"},\"width\":{\"units\":\"data\",\"value\":0.2},\"x\":{\"field\":\"x\"},\"y\":{\"field\":\"y\"}},\"id\":\"ecc56505-ce61-4fd9-84f0-3073b4e4114c\",\"type\":\"Rect\"},{\"attributes\":{\"source\":{\"id\":\"924e48a9-df99-44c4-9c19-f4ff874de8f5\",\"type\":\"ColumnDataSource\"}},\"id\":\"cded7036-da61-4c74-87ea-37bb84f8ca2c\",\"type\":\"CDSView\"},{\"attributes\":{},\"id\":\"607fa909-27c3-4b5d-a15d-f3c91e56d317\",\"type\":\"UnionRenderers\"},{\"attributes\":{\"data_source\":{\"id\":\"fce75f4e-2ec3-49a7-8e50-e811582144d4\",\"type\":\"ColumnDataSource\"},\"glyph\":{\"id\":\"8a36820c-2f80-44c5-a053-c8f900e39e15\",\"type\":\"Rect\"},\"hover_glyph\":null,\"muted_glyph\":null,\"name\":\"Whiskers\",\"nonselection_glyph\":{\"id\":\"ecc56505-ce61-4fd9-84f0-3073b4e4114c\",\"type\":\"Rect\"},\"selection_glyph\":null,\"view\":{\"id\":\"dbe7a684-91e6-4634-a76b-2bc20c50658a\",\"type\":\"CDSView\"}},\"id\":\"fed6e736-4c51-4515-8d6c-3d01ed048c8e\",\"type\":\"GlyphRenderer\"},{\"attributes\":{\"callback\":null,\"data\":{\"x\":[\"E2\",\"E2\"],\"y\":[146.9357452392578,154.3544464111328]},\"selected\":{\"id\":\"1536ccfa-098d-4924-9b8b-20b074f2ea79\",\"type\":\"Selection\"},\"selection_policy\":{\"id\":\"fcd19cd3-0c91-4610-860d-94b7c4d65394\",\"type\":\"UnionRenderers\"}},\"id\":\"9d9f535a-aaa2-429b-9a72-87209f16faf8\",\"type\":\"ColumnDataSource\"},{\"attributes\":{},\"id\":\"34d96835-1bd7-4907-8f7f-1e27b35b7da8\",\"type\":\"UnionRenderers\"},{\"attributes\":{},\"id\":\"c3b83b9c-b0c4-4160-bf94-9d81364acc5f\",\"type\":\"Selection\"},{\"attributes\":{},\"id\":\"bfadda09-dc26-40b3-929e-ea7e169940d7\",\"type\":\"Selection\"},{\"attributes\":{},\"id\":\"99327988-63b2-4bb2-924b-406e2e338520\",\"type\":\"UnionRenderers\"},{\"attributes\":{},\"id\":\"391c9ce6-cbaf-47e3-bf10-88e92546925b\",\"type\":\"Selection\"},{\"attributes\":{},\"id\":\"25e3cbae-524e-4c97-88b6-339bc0f2f515\",\"type\":\"UnionRenderers\"},{\"attributes\":{},\"id\":\"4ceabed8-3ceb-4865-aaae-78e955afe6b8\",\"type\":\"Selection\"},{\"attributes\":{},\"id\":\"0df323ec-5857-4281-9358-c9c13b7d23a1\",\"type\":\"UnionRenderers\"},{\"attributes\":{},\"id\":\"fd246f8b-9b3f-4ec1-8996-ed91e2f54efa\",\"type\":\"Selection\"},{\"attributes\":{},\"id\":\"f68e1b25-605a-4a72-aa03-5a6e4e0b877b\",\"type\":\"UnionRenderers\"},{\"attributes\":{},\"id\":\"780c06b3-5507-4b12-80a6-5b5da02cbf14\",\"type\":\"UnionRenderers\"},{\"attributes\":{},\"id\":\"6b678d23-b4ea-47b4-b293-a7ff1fca48e9\",\"type\":\"BasicTickFormatter\"}],\"root_ids\":[\"7d81963b-40c2-409a-a8fe-c556cd07658f\"]},\"title\":\"Bokeh Application\",\"version\":\"0.13.0\"}};\n",
       "  var render_items = [{\"docid\":\"47808923-52f5-4c73-b4f0-072413f411d9\",\"roots\":{\"7d81963b-40c2-409a-a8fe-c556cd07658f\":\"b20fa985-cf29-49ec-96d9-486bb262e715\"}}];\n",
       "  root.Bokeh.embed.embed_items_notebook(docs_json, render_items);\n",
       "\n",
       "  }\n",
       "  if (root.Bokeh !== undefined) {\n",
       "    embed_document(root);\n",
       "  } else {\n",
       "    var attempts = 0;\n",
       "    var timer = setInterval(function(root) {\n",
       "      if (root.Bokeh !== undefined) {\n",
       "        embed_document(root);\n",
       "        clearInterval(timer);\n",
       "      }\n",
       "      attempts++;\n",
       "      if (attempts > 100) {\n",
       "        console.log(\"Bokeh: ERROR: Unable to run BokehJS code because BokehJS library is missing\")\n",
       "        clearInterval(timer);\n",
       "      }\n",
       "    }, 10, root)\n",
       "  }\n",
       "})(window);"
      ],
      "application/vnd.bokehjs_exec.v0+json": ""
     },
     "metadata": {
      "application/vnd.bokehjs_exec.v0+json": {
       "id": "7d81963b-40c2-409a-a8fe-c556cd07658f"
      }
     },
     "output_type": "display_data"
    }
   ],
   "source": [
    "show(f)"
   ]
  }
 ],
 "metadata": {
  "kernelspec": {
   "display_name": "Python 3",
   "language": "python",
   "name": "python3"
  },
  "language_info": {
   "codemirror_mode": {
    "name": "ipython",
    "version": 3
   },
   "file_extension": ".py",
   "mimetype": "text/x-python",
   "name": "python",
   "nbconvert_exporter": "python",
   "pygments_lexer": "ipython3",
   "version": "3.6.6"
  }
 },
 "nbformat": 4,
 "nbformat_minor": 2
}
